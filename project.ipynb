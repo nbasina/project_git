{
 "cells": [
  {
   "cell_type": "markdown",
   "metadata": {},
   "source": [
    "Ссылка на гит репозиторий https://github.com/nbasina/project_git"
   ]
  },
  {
   "cell_type": "markdown",
   "metadata": {
    "id": "H6cQIZr3ElW1"
   },
   "source": [
    " \n",
    "<h3> Описание проекта <a class=\"tocSkip\"> </h3>\n",
    "\n",
    "Цель: выявить сегмент покупателей, у которых предполагается снижение покупательской активности, чтобы сделать им\n",
    "    персональные предложения.\n",
    "    \n",
    "Цель проекта: Обучить 4 модели. Выбрать лучшую модель с наиболее высокой метрикой качества.\n",
    "    Провести анализ важности признаков лучшей модели и сформировать сегмент пользователей и предложить способы\n",
    "    увеличения покупательской активности для этого сегмента. \n",
    "    \n",
    "План проекта: \n",
    "1. Изучить 4 датасета\n",
    "2. Провести предобработку данных \n",
    "3. Провести исследовательский анализ \n",
    "4. Объединить датасеты\n",
    "5. Проведите корреляционный анализ \n",
    "6. Обучить 4 модели используя pipeline  \n",
    "7. Провести анализ важности признаков\n",
    "8. Провести сегментацию покупателей и предложить решение\n",
    "9. Общие выводы\n"
   ]
  },
  {
   "cell_type": "code",
   "execution_count": 1,
   "metadata": {},
   "outputs": [
    {
     "name": "stdout",
     "output_type": "stream",
     "text": [
      "Collecting shap\n",
      "  Obtaining dependency information for shap from https://files.pythonhosted.org/packages/5f/9e/dce41d5ec9e79add65faf4381d8d4492247b29daaa6cc7d7fd0298abc1e2/shap-0.46.0-cp311-cp311-macosx_11_0_arm64.whl.metadata\n",
      "  Downloading shap-0.46.0-cp311-cp311-macosx_11_0_arm64.whl.metadata (24 kB)\n",
      "Requirement already satisfied: numpy in /Users/nbasina/anaconda3/lib/python3.11/site-packages (from shap) (1.24.3)\n",
      "Requirement already satisfied: scipy in /Users/nbasina/anaconda3/lib/python3.11/site-packages (from shap) (1.11.1)\n",
      "Requirement already satisfied: scikit-learn in /Users/nbasina/anaconda3/lib/python3.11/site-packages (from shap) (1.3.0)\n",
      "Requirement already satisfied: pandas in /Users/nbasina/anaconda3/lib/python3.11/site-packages (from shap) (2.0.3)\n",
      "Requirement already satisfied: tqdm>=4.27.0 in /Users/nbasina/anaconda3/lib/python3.11/site-packages (from shap) (4.65.0)\n",
      "Requirement already satisfied: packaging>20.9 in /Users/nbasina/anaconda3/lib/python3.11/site-packages (from shap) (23.1)\n",
      "Collecting slicer==0.0.8 (from shap)\n",
      "  Obtaining dependency information for slicer==0.0.8 from https://files.pythonhosted.org/packages/63/81/9ef641ff4e12cbcca30e54e72fb0951a2ba195d0cda0ba4100e532d929db/slicer-0.0.8-py3-none-any.whl.metadata\n",
      "  Downloading slicer-0.0.8-py3-none-any.whl.metadata (4.0 kB)\n",
      "Requirement already satisfied: numba in /Users/nbasina/anaconda3/lib/python3.11/site-packages (from shap) (0.57.1)\n",
      "Requirement already satisfied: cloudpickle in /Users/nbasina/anaconda3/lib/python3.11/site-packages (from shap) (2.2.1)\n",
      "Requirement already satisfied: llvmlite<0.41,>=0.40.0dev0 in /Users/nbasina/anaconda3/lib/python3.11/site-packages (from numba->shap) (0.40.0)\n",
      "Requirement already satisfied: python-dateutil>=2.8.2 in /Users/nbasina/anaconda3/lib/python3.11/site-packages (from pandas->shap) (2.8.2)\n",
      "Requirement already satisfied: pytz>=2020.1 in /Users/nbasina/anaconda3/lib/python3.11/site-packages (from pandas->shap) (2023.3.post1)\n",
      "Requirement already satisfied: tzdata>=2022.1 in /Users/nbasina/anaconda3/lib/python3.11/site-packages (from pandas->shap) (2023.3)\n",
      "Requirement already satisfied: joblib>=1.1.1 in /Users/nbasina/anaconda3/lib/python3.11/site-packages (from scikit-learn->shap) (1.2.0)\n",
      "Requirement already satisfied: threadpoolctl>=2.0.0 in /Users/nbasina/anaconda3/lib/python3.11/site-packages (from scikit-learn->shap) (2.2.0)\n",
      "Requirement already satisfied: six>=1.5 in /Users/nbasina/anaconda3/lib/python3.11/site-packages (from python-dateutil>=2.8.2->pandas->shap) (1.16.0)\n",
      "Downloading shap-0.46.0-cp311-cp311-macosx_11_0_arm64.whl (455 kB)\n",
      "\u001b[2K   \u001b[90m━━━━━━━━━━━━━━━━━━━━━━━━━━━━━━━━━━━━━━━\u001b[0m \u001b[32m455.8/455.8 kB\u001b[0m \u001b[31m485.9 kB/s\u001b[0m eta \u001b[36m0:00:00\u001b[0m00:01\u001b[0m00:01\u001b[0m\n",
      "\u001b[?25hDownloading slicer-0.0.8-py3-none-any.whl (15 kB)\n",
      "Installing collected packages: slicer, shap\n",
      "Successfully installed shap-0.46.0 slicer-0.0.8\n",
      "Note: you may need to restart the kernel to use updated packages.\n"
     ]
    }
   ],
   "source": [
    "\n",
    "pip install shap"
   ]
  },
  {
   "cell_type": "code",
   "execution_count": 2,
   "metadata": {},
   "outputs": [
    {
     "name": "stdout",
     "output_type": "stream",
     "text": [
      "Collecting phik\n",
      "  Obtaining dependency information for phik from https://files.pythonhosted.org/packages/b9/69/a42d9320b68b0d43d78db46787669b2287cba5e8db2e83fe0d63c1fd6945/phik-0.12.4-cp311-cp311-macosx_11_0_arm64.whl.metadata\n",
      "  Downloading phik-0.12.4-cp311-cp311-macosx_11_0_arm64.whl.metadata (5.6 kB)\n",
      "Requirement already satisfied: numpy>=1.18.0 in /Users/nbasina/anaconda3/lib/python3.11/site-packages (from phik) (1.24.3)\n",
      "Requirement already satisfied: scipy>=1.5.2 in /Users/nbasina/anaconda3/lib/python3.11/site-packages (from phik) (1.11.1)\n",
      "Requirement already satisfied: pandas>=0.25.1 in /Users/nbasina/anaconda3/lib/python3.11/site-packages (from phik) (2.0.3)\n",
      "Requirement already satisfied: matplotlib>=2.2.3 in /Users/nbasina/anaconda3/lib/python3.11/site-packages (from phik) (3.7.2)\n",
      "Requirement already satisfied: joblib>=0.14.1 in /Users/nbasina/anaconda3/lib/python3.11/site-packages (from phik) (1.2.0)\n",
      "Requirement already satisfied: contourpy>=1.0.1 in /Users/nbasina/anaconda3/lib/python3.11/site-packages (from matplotlib>=2.2.3->phik) (1.0.5)\n",
      "Requirement already satisfied: cycler>=0.10 in /Users/nbasina/anaconda3/lib/python3.11/site-packages (from matplotlib>=2.2.3->phik) (0.11.0)\n",
      "Requirement already satisfied: fonttools>=4.22.0 in /Users/nbasina/anaconda3/lib/python3.11/site-packages (from matplotlib>=2.2.3->phik) (4.25.0)\n",
      "Requirement already satisfied: kiwisolver>=1.0.1 in /Users/nbasina/anaconda3/lib/python3.11/site-packages (from matplotlib>=2.2.3->phik) (1.4.4)\n",
      "Requirement already satisfied: packaging>=20.0 in /Users/nbasina/anaconda3/lib/python3.11/site-packages (from matplotlib>=2.2.3->phik) (23.1)\n",
      "Requirement already satisfied: pillow>=6.2.0 in /Users/nbasina/anaconda3/lib/python3.11/site-packages (from matplotlib>=2.2.3->phik) (9.4.0)\n",
      "Requirement already satisfied: pyparsing<3.1,>=2.3.1 in /Users/nbasina/anaconda3/lib/python3.11/site-packages (from matplotlib>=2.2.3->phik) (3.0.9)\n",
      "Requirement already satisfied: python-dateutil>=2.7 in /Users/nbasina/anaconda3/lib/python3.11/site-packages (from matplotlib>=2.2.3->phik) (2.8.2)\n",
      "Requirement already satisfied: pytz>=2020.1 in /Users/nbasina/anaconda3/lib/python3.11/site-packages (from pandas>=0.25.1->phik) (2023.3.post1)\n",
      "Requirement already satisfied: tzdata>=2022.1 in /Users/nbasina/anaconda3/lib/python3.11/site-packages (from pandas>=0.25.1->phik) (2023.3)\n",
      "Requirement already satisfied: six>=1.5 in /Users/nbasina/anaconda3/lib/python3.11/site-packages (from python-dateutil>=2.7->matplotlib>=2.2.3->phik) (1.16.0)\n",
      "Downloading phik-0.12.4-cp311-cp311-macosx_11_0_arm64.whl (657 kB)\n",
      "\u001b[2K   \u001b[90m━━━━━━━━━━━━━━━━━━━━━━━━━━━━━━━━━━━━━━━\u001b[0m \u001b[32m657.3/657.3 kB\u001b[0m \u001b[31m544.0 kB/s\u001b[0m eta \u001b[36m0:00:00\u001b[0ma \u001b[36m0:00:01\u001b[0m\n",
      "\u001b[?25hInstalling collected packages: phik\n",
      "Successfully installed phik-0.12.4\n",
      "Note: you may need to restart the kernel to use updated packages.\n"
     ]
    }
   ],
   "source": [
    "pip install phik"
   ]
  },
  {
   "cell_type": "code",
   "execution_count": 3,
   "metadata": {},
   "outputs": [
    {
     "name": "stdout",
     "output_type": "stream",
     "text": [
      "Requirement already satisfied: scikit-learn in /Users/nbasina/anaconda3/lib/python3.11/site-packages (1.3.0)\n",
      "Collecting scikit-learn\n",
      "  Obtaining dependency information for scikit-learn from https://files.pythonhosted.org/packages/cd/7a/19fe32c810c5ceddafcfda16276d98df299c8649e24e84d4f00df4a91e01/scikit_learn-1.5.2-cp311-cp311-macosx_12_0_arm64.whl.metadata\n",
      "  Downloading scikit_learn-1.5.2-cp311-cp311-macosx_12_0_arm64.whl.metadata (13 kB)\n",
      "Requirement already satisfied: numpy>=1.19.5 in /Users/nbasina/anaconda3/lib/python3.11/site-packages (from scikit-learn) (1.24.3)\n",
      "Requirement already satisfied: scipy>=1.6.0 in /Users/nbasina/anaconda3/lib/python3.11/site-packages (from scikit-learn) (1.11.1)\n",
      "Requirement already satisfied: joblib>=1.2.0 in /Users/nbasina/anaconda3/lib/python3.11/site-packages (from scikit-learn) (1.2.0)\n",
      "Collecting threadpoolctl>=3.1.0 (from scikit-learn)\n",
      "  Obtaining dependency information for threadpoolctl>=3.1.0 from https://files.pythonhosted.org/packages/4b/2c/ffbf7a134b9ab11a67b0cf0726453cedd9c5043a4fe7a35d1cefa9a1bcfb/threadpoolctl-3.5.0-py3-none-any.whl.metadata\n",
      "  Downloading threadpoolctl-3.5.0-py3-none-any.whl.metadata (13 kB)\n",
      "Downloading scikit_learn-1.5.2-cp311-cp311-macosx_12_0_arm64.whl (11.0 MB)\n",
      "\u001b[2K   \u001b[90m━━━━━━━━━━━━━━━━━━━━━━━━━━━━━━━━━━━━━━━━\u001b[0m \u001b[32m11.0/11.0 MB\u001b[0m \u001b[31m2.9 MB/s\u001b[0m eta \u001b[36m0:00:00\u001b[0m00:01\u001b[0m00:01\u001b[0mm\n",
      "\u001b[?25hDownloading threadpoolctl-3.5.0-py3-none-any.whl (18 kB)\n",
      "Installing collected packages: threadpoolctl, scikit-learn\n",
      "  Attempting uninstall: threadpoolctl\n",
      "    Found existing installation: threadpoolctl 2.2.0\n",
      "    Uninstalling threadpoolctl-2.2.0:\n",
      "      Successfully uninstalled threadpoolctl-2.2.0\n",
      "  Attempting uninstall: scikit-learn\n",
      "    Found existing installation: scikit-learn 1.3.0\n",
      "    Uninstalling scikit-learn-1.3.0:\n",
      "      Successfully uninstalled scikit-learn-1.3.0\n",
      "Successfully installed scikit-learn-1.5.2 threadpoolctl-3.5.0\n"
     ]
    }
   ],
   "source": [
    "!pip install -U scikit-learn  "
   ]
  },
  {
   "cell_type": "code",
   "execution_count": 3,
   "metadata": {},
   "outputs": [],
   "source": [
    "import pandas as pd\n",
    "import matplotlib.pyplot as plt \n",
    "import numpy as np\n",
    "from scipy import stats as st\n",
    "import seaborn as sns\n",
    "from sklearn.metrics import roc_auc_score\n",
    "from sklearn.model_selection import train_test_split,RandomizedSearchCV \n",
    "from sklearn.linear_model import (LinearRegression, LogisticRegression)\n",
    "from sklearn.preprocessing import (OneHotEncoder,StandardScaler,OrdinalEncoder, MinMaxScaler, RobustScaler)\n",
    "import phik\n",
    "from phik import phik_matrix\n",
    "from phik.report import plot_correlation_matrix\n",
    "\n",
    "from sklearn.pipeline import Pipeline\n",
    "from sklearn.compose import ColumnTransformer\n",
    "from sklearn.impute import SimpleImputer\n",
    "\n",
    "from sklearn.neighbors import KNeighborsClassifier\n",
    "from sklearn.tree import DecisionTreeClassifier\n",
    "from sklearn.svm import SVC\n",
    "\n",
    "import shap\n",
    "from sklearn.feature_selection import SelectKBest, f_classif\n",
    "import re\n",
    "from sklearn.metrics import confusion_matrix\n",
    "from sklearn.preprocessing import LabelEncoder\n"
   ]
  },
  {
   "cell_type": "code",
   "execution_count": 4,
   "metadata": {},
   "outputs": [],
   "source": [
    "RANDOM_STATE = 42\n",
    "TEST_SIZE = 0.25"
   ]
  },
  {
   "cell_type": "markdown",
   "metadata": {},
   "source": [
    "## Загрузка данных"
   ]
  },
  {
   "cell_type": "code",
   "execution_count": 5,
   "metadata": {},
   "outputs": [
    {
     "data": {
      "text/html": [
       "<div>\n",
       "<style scoped>\n",
       "    .dataframe tbody tr th:only-of-type {\n",
       "        vertical-align: middle;\n",
       "    }\n",
       "\n",
       "    .dataframe tbody tr th {\n",
       "        vertical-align: top;\n",
       "    }\n",
       "\n",
       "    .dataframe thead th {\n",
       "        text-align: right;\n",
       "    }\n",
       "</style>\n",
       "<table border=\"1\" class=\"dataframe\">\n",
       "  <thead>\n",
       "    <tr style=\"text-align: right;\">\n",
       "      <th></th>\n",
       "      <th>id</th>\n",
       "      <th>Покупательская активность</th>\n",
       "      <th>Тип сервиса</th>\n",
       "      <th>Разрешить сообщать</th>\n",
       "      <th>Маркет_актив_6_мес</th>\n",
       "      <th>Маркет_актив_тек_мес</th>\n",
       "      <th>Длительность</th>\n",
       "      <th>Акционные_покупки</th>\n",
       "      <th>Популярная_категория</th>\n",
       "      <th>Средний_просмотр_категорий_за_визит</th>\n",
       "      <th>Неоплаченные_продукты_штук_квартал</th>\n",
       "      <th>Ошибка_сервиса</th>\n",
       "      <th>Страниц_за_визит</th>\n",
       "    </tr>\n",
       "  </thead>\n",
       "  <tbody>\n",
       "    <tr>\n",
       "      <th>0</th>\n",
       "      <td>215348</td>\n",
       "      <td>Снизилась</td>\n",
       "      <td>премиум</td>\n",
       "      <td>да</td>\n",
       "      <td>3.4</td>\n",
       "      <td>5</td>\n",
       "      <td>121</td>\n",
       "      <td>0.00</td>\n",
       "      <td>Товары для детей</td>\n",
       "      <td>6</td>\n",
       "      <td>2</td>\n",
       "      <td>1</td>\n",
       "      <td>5</td>\n",
       "    </tr>\n",
       "    <tr>\n",
       "      <th>1</th>\n",
       "      <td>215349</td>\n",
       "      <td>Снизилась</td>\n",
       "      <td>премиум</td>\n",
       "      <td>да</td>\n",
       "      <td>4.4</td>\n",
       "      <td>4</td>\n",
       "      <td>819</td>\n",
       "      <td>0.75</td>\n",
       "      <td>Товары для детей</td>\n",
       "      <td>4</td>\n",
       "      <td>4</td>\n",
       "      <td>2</td>\n",
       "      <td>5</td>\n",
       "    </tr>\n",
       "    <tr>\n",
       "      <th>2</th>\n",
       "      <td>215350</td>\n",
       "      <td>Снизилась</td>\n",
       "      <td>стандартт</td>\n",
       "      <td>нет</td>\n",
       "      <td>4.9</td>\n",
       "      <td>3</td>\n",
       "      <td>539</td>\n",
       "      <td>0.14</td>\n",
       "      <td>Домашний текстиль</td>\n",
       "      <td>5</td>\n",
       "      <td>2</td>\n",
       "      <td>1</td>\n",
       "      <td>5</td>\n",
       "    </tr>\n",
       "    <tr>\n",
       "      <th>3</th>\n",
       "      <td>215351</td>\n",
       "      <td>Снизилась</td>\n",
       "      <td>стандартт</td>\n",
       "      <td>да</td>\n",
       "      <td>3.2</td>\n",
       "      <td>5</td>\n",
       "      <td>896</td>\n",
       "      <td>0.99</td>\n",
       "      <td>Товары для детей</td>\n",
       "      <td>5</td>\n",
       "      <td>0</td>\n",
       "      <td>6</td>\n",
       "      <td>4</td>\n",
       "    </tr>\n",
       "    <tr>\n",
       "      <th>4</th>\n",
       "      <td>215352</td>\n",
       "      <td>Снизилась</td>\n",
       "      <td>стандартт</td>\n",
       "      <td>нет</td>\n",
       "      <td>5.1</td>\n",
       "      <td>3</td>\n",
       "      <td>1064</td>\n",
       "      <td>0.94</td>\n",
       "      <td>Товары для детей</td>\n",
       "      <td>3</td>\n",
       "      <td>2</td>\n",
       "      <td>3</td>\n",
       "      <td>2</td>\n",
       "    </tr>\n",
       "  </tbody>\n",
       "</table>\n",
       "</div>"
      ],
      "text/plain": [
       "       id Покупательская активность Тип сервиса Разрешить сообщать  \\\n",
       "0  215348                 Снизилась     премиум                 да   \n",
       "1  215349                 Снизилась     премиум                 да   \n",
       "2  215350                 Снизилась   стандартт                нет   \n",
       "3  215351                 Снизилась   стандартт                 да   \n",
       "4  215352                 Снизилась   стандартт                нет   \n",
       "\n",
       "   Маркет_актив_6_мес  Маркет_актив_тек_мес  Длительность  Акционные_покупки  \\\n",
       "0                 3.4                     5           121               0.00   \n",
       "1                 4.4                     4           819               0.75   \n",
       "2                 4.9                     3           539               0.14   \n",
       "3                 3.2                     5           896               0.99   \n",
       "4                 5.1                     3          1064               0.94   \n",
       "\n",
       "  Популярная_категория  Средний_просмотр_категорий_за_визит  \\\n",
       "0     Товары для детей                                    6   \n",
       "1     Товары для детей                                    4   \n",
       "2    Домашний текстиль                                    5   \n",
       "3     Товары для детей                                    5   \n",
       "4     Товары для детей                                    3   \n",
       "\n",
       "   Неоплаченные_продукты_штук_квартал  Ошибка_сервиса  Страниц_за_визит  \n",
       "0                                   2               1                 5  \n",
       "1                                   4               2                 5  \n",
       "2                                   2               1                 5  \n",
       "3                                   0               6                 4  \n",
       "4                                   2               3                 2  "
      ]
     },
     "metadata": {},
     "output_type": "display_data"
    },
    {
     "name": "stdout",
     "output_type": "stream",
     "text": [
      "<class 'pandas.core.frame.DataFrame'>\n",
      "RangeIndex: 1300 entries, 0 to 1299\n",
      "Data columns (total 13 columns):\n",
      " #   Column                               Non-Null Count  Dtype  \n",
      "---  ------                               --------------  -----  \n",
      " 0   id                                   1300 non-null   int64  \n",
      " 1   Покупательская активность            1300 non-null   object \n",
      " 2   Тип сервиса                          1300 non-null   object \n",
      " 3   Разрешить сообщать                   1300 non-null   object \n",
      " 4   Маркет_актив_6_мес                   1300 non-null   float64\n",
      " 5   Маркет_актив_тек_мес                 1300 non-null   int64  \n",
      " 6   Длительность                         1300 non-null   int64  \n",
      " 7   Акционные_покупки                    1300 non-null   float64\n",
      " 8   Популярная_категория                 1300 non-null   object \n",
      " 9   Средний_просмотр_категорий_за_визит  1300 non-null   int64  \n",
      " 10  Неоплаченные_продукты_штук_квартал   1300 non-null   int64  \n",
      " 11  Ошибка_сервиса                       1300 non-null   int64  \n",
      " 12  Страниц_за_визит                     1300 non-null   int64  \n",
      "dtypes: float64(2), int64(7), object(4)\n",
      "memory usage: 132.2+ KB\n",
      "None\n"
     ]
    }
   ],
   "source": [
    "market_file = pd.read_csv('market_file - market_file.csv')\n",
    "display(market_file.head())\n",
    "print(market_file.info())\n"
   ]
  },
  {
   "cell_type": "markdown",
   "metadata": {},
   "source": [
    "В таблице 1300 строк, без пропусков"
   ]
  },
  {
   "cell_type": "code",
   "execution_count": 6,
   "metadata": {},
   "outputs": [
    {
     "data": {
      "text/html": [
       "<div>\n",
       "<style scoped>\n",
       "    .dataframe tbody tr th:only-of-type {\n",
       "        vertical-align: middle;\n",
       "    }\n",
       "\n",
       "    .dataframe tbody tr th {\n",
       "        vertical-align: top;\n",
       "    }\n",
       "\n",
       "    .dataframe thead th {\n",
       "        text-align: right;\n",
       "    }\n",
       "</style>\n",
       "<table border=\"1\" class=\"dataframe\">\n",
       "  <thead>\n",
       "    <tr style=\"text-align: right;\">\n",
       "      <th></th>\n",
       "      <th>id</th>\n",
       "      <th>Период</th>\n",
       "      <th>Выручка</th>\n",
       "    </tr>\n",
       "  </thead>\n",
       "  <tbody>\n",
       "    <tr>\n",
       "      <th>0</th>\n",
       "      <td>215348</td>\n",
       "      <td>препредыдущий_месяц</td>\n",
       "      <td>0.0</td>\n",
       "    </tr>\n",
       "    <tr>\n",
       "      <th>1</th>\n",
       "      <td>215348</td>\n",
       "      <td>текущий_месяц</td>\n",
       "      <td>3293.1</td>\n",
       "    </tr>\n",
       "    <tr>\n",
       "      <th>2</th>\n",
       "      <td>215348</td>\n",
       "      <td>предыдущий_месяц</td>\n",
       "      <td>0.0</td>\n",
       "    </tr>\n",
       "    <tr>\n",
       "      <th>3</th>\n",
       "      <td>215349</td>\n",
       "      <td>препредыдущий_месяц</td>\n",
       "      <td>4472.0</td>\n",
       "    </tr>\n",
       "    <tr>\n",
       "      <th>4</th>\n",
       "      <td>215349</td>\n",
       "      <td>текущий_месяц</td>\n",
       "      <td>4971.6</td>\n",
       "    </tr>\n",
       "  </tbody>\n",
       "</table>\n",
       "</div>"
      ],
      "text/plain": [
       "       id               Период  Выручка\n",
       "0  215348  препредыдущий_месяц      0.0\n",
       "1  215348        текущий_месяц   3293.1\n",
       "2  215348     предыдущий_месяц      0.0\n",
       "3  215349  препредыдущий_месяц   4472.0\n",
       "4  215349        текущий_месяц   4971.6"
      ]
     },
     "metadata": {},
     "output_type": "display_data"
    },
    {
     "name": "stdout",
     "output_type": "stream",
     "text": [
      "<class 'pandas.core.frame.DataFrame'>\n",
      "RangeIndex: 3900 entries, 0 to 3899\n",
      "Data columns (total 3 columns):\n",
      " #   Column   Non-Null Count  Dtype  \n",
      "---  ------   --------------  -----  \n",
      " 0   id       3900 non-null   int64  \n",
      " 1   Период   3900 non-null   object \n",
      " 2   Выручка  3900 non-null   float64\n",
      "dtypes: float64(1), int64(1), object(1)\n",
      "memory usage: 91.5+ KB\n",
      "None\n"
     ]
    }
   ],
   "source": [
    "market_money = pd.read_csv('market_money - market_money.csv')\n",
    "display(market_money.head())\n",
    "print(market_money.info())"
   ]
  },
  {
   "cell_type": "markdown",
   "metadata": {},
   "source": [
    "В таблице 3900 строк, без пропусков"
   ]
  },
  {
   "cell_type": "code",
   "execution_count": 7,
   "metadata": {},
   "outputs": [
    {
     "data": {
      "text/html": [
       "<div>\n",
       "<style scoped>\n",
       "    .dataframe tbody tr th:only-of-type {\n",
       "        vertical-align: middle;\n",
       "    }\n",
       "\n",
       "    .dataframe tbody tr th {\n",
       "        vertical-align: top;\n",
       "    }\n",
       "\n",
       "    .dataframe thead th {\n",
       "        text-align: right;\n",
       "    }\n",
       "</style>\n",
       "<table border=\"1\" class=\"dataframe\">\n",
       "  <thead>\n",
       "    <tr style=\"text-align: right;\">\n",
       "      <th></th>\n",
       "      <th>id</th>\n",
       "      <th>Период</th>\n",
       "      <th>минут</th>\n",
       "    </tr>\n",
       "  </thead>\n",
       "  <tbody>\n",
       "    <tr>\n",
       "      <th>0</th>\n",
       "      <td>215348</td>\n",
       "      <td>текущий_месяц</td>\n",
       "      <td>14</td>\n",
       "    </tr>\n",
       "    <tr>\n",
       "      <th>1</th>\n",
       "      <td>215348</td>\n",
       "      <td>предыдцщий_месяц</td>\n",
       "      <td>13</td>\n",
       "    </tr>\n",
       "    <tr>\n",
       "      <th>2</th>\n",
       "      <td>215349</td>\n",
       "      <td>текущий_месяц</td>\n",
       "      <td>10</td>\n",
       "    </tr>\n",
       "    <tr>\n",
       "      <th>3</th>\n",
       "      <td>215349</td>\n",
       "      <td>предыдцщий_месяц</td>\n",
       "      <td>12</td>\n",
       "    </tr>\n",
       "    <tr>\n",
       "      <th>4</th>\n",
       "      <td>215350</td>\n",
       "      <td>текущий_месяц</td>\n",
       "      <td>13</td>\n",
       "    </tr>\n",
       "  </tbody>\n",
       "</table>\n",
       "</div>"
      ],
      "text/plain": [
       "       id            Период  минут\n",
       "0  215348     текущий_месяц     14\n",
       "1  215348  предыдцщий_месяц     13\n",
       "2  215349     текущий_месяц     10\n",
       "3  215349  предыдцщий_месяц     12\n",
       "4  215350     текущий_месяц     13"
      ]
     },
     "metadata": {},
     "output_type": "display_data"
    },
    {
     "name": "stdout",
     "output_type": "stream",
     "text": [
      "<class 'pandas.core.frame.DataFrame'>\n",
      "RangeIndex: 2600 entries, 0 to 2599\n",
      "Data columns (total 3 columns):\n",
      " #   Column  Non-Null Count  Dtype \n",
      "---  ------  --------------  ----- \n",
      " 0   id      2600 non-null   int64 \n",
      " 1   Период  2600 non-null   object\n",
      " 2   минут   2600 non-null   int64 \n",
      "dtypes: int64(2), object(1)\n",
      "memory usage: 61.1+ KB\n",
      "None\n"
     ]
    }
   ],
   "source": [
    "market_time = pd.read_csv('market_time - market_time.csv')\n",
    "display(market_time.head())\n",
    "print(market_time.info())"
   ]
  },
  {
   "cell_type": "markdown",
   "metadata": {},
   "source": [
    "В таблице 2600 строк без пропусков "
   ]
  },
  {
   "cell_type": "code",
   "execution_count": 8,
   "metadata": {},
   "outputs": [
    {
     "data": {
      "text/html": [
       "<div>\n",
       "<style scoped>\n",
       "    .dataframe tbody tr th:only-of-type {\n",
       "        vertical-align: middle;\n",
       "    }\n",
       "\n",
       "    .dataframe tbody tr th {\n",
       "        vertical-align: top;\n",
       "    }\n",
       "\n",
       "    .dataframe thead th {\n",
       "        text-align: right;\n",
       "    }\n",
       "</style>\n",
       "<table border=\"1\" class=\"dataframe\">\n",
       "  <thead>\n",
       "    <tr style=\"text-align: right;\">\n",
       "      <th></th>\n",
       "      <th>id,Прибыль</th>\n",
       "    </tr>\n",
       "  </thead>\n",
       "  <tbody>\n",
       "    <tr>\n",
       "      <th>0</th>\n",
       "      <td>215348,\"0,98\"</td>\n",
       "    </tr>\n",
       "    <tr>\n",
       "      <th>1</th>\n",
       "      <td>215349,\"4,16\"</td>\n",
       "    </tr>\n",
       "    <tr>\n",
       "      <th>2</th>\n",
       "      <td>215350,\"3,13\"</td>\n",
       "    </tr>\n",
       "    <tr>\n",
       "      <th>3</th>\n",
       "      <td>215351,\"4,87\"</td>\n",
       "    </tr>\n",
       "    <tr>\n",
       "      <th>4</th>\n",
       "      <td>215352,\"4,21\"</td>\n",
       "    </tr>\n",
       "  </tbody>\n",
       "</table>\n",
       "</div>"
      ],
      "text/plain": [
       "      id,Прибыль\n",
       "0  215348,\"0,98\"\n",
       "1  215349,\"4,16\"\n",
       "2  215350,\"3,13\"\n",
       "3  215351,\"4,87\"\n",
       "4  215352,\"4,21\""
      ]
     },
     "metadata": {},
     "output_type": "display_data"
    },
    {
     "name": "stdout",
     "output_type": "stream",
     "text": [
      "<class 'pandas.core.frame.DataFrame'>\n",
      "RangeIndex: 1300 entries, 0 to 1299\n",
      "Data columns (total 1 columns):\n",
      " #   Column      Non-Null Count  Dtype \n",
      "---  ------      --------------  ----- \n",
      " 0   id,Прибыль  1300 non-null   object\n",
      "dtypes: object(1)\n",
      "memory usage: 10.3+ KB\n",
      "None\n"
     ]
    }
   ],
   "source": [
    "money = pd.read_csv('money - money.csv',sep = ';', decimal = ',')\n",
    "display(money.head())\n",
    "print(money.info())"
   ]
  },
  {
   "cell_type": "markdown",
   "metadata": {},
   "source": [
    "в таблице 1300 строк без пропусков"
   ]
  },
  {
   "cell_type": "markdown",
   "metadata": {},
   "source": [
    "##  Предобработка данных"
   ]
  },
  {
   "cell_type": "code",
   "execution_count": null,
   "metadata": {},
   "outputs": [],
   "source": [
    "#market_file\n",
    "\n",
    "#Проверяем на дубликаты столбец ID \n",
    "market_file['id'].duplicated().sum() # - дубликатов нет \n",
    "\n",
    "#Проверяем текстовые столбы на неявные дубликаты\n",
    "market_file['Покупательская активность'].value_counts() # нет дубликатов \n",
    "market_file['Тип сервиса'].value_counts() # 10 опечаток в слове стандарт \n",
    "market_file['Разрешить сообщать'].value_counts() # нет дубликатов\n",
    "market_file['Популярная_категория'].value_counts() # нет дубликатов\n",
    "\n",
    "#Убираем неявные дубликаты\n",
    "market_file['Тип сервиса'] = market_file['Тип сервиса'].str.replace('стандартт', 'стандарт') #исправляем опечатку\n",
    "market_file['Тип сервиса'].value_counts()\n",
    "\n",
    "#Делаем id индексом\n",
    "market_file = market_file.set_index('id')\n",
    "display(market_file.head())\n",
    "print(market_file.info())"
   ]
  },
  {
   "cell_type": "code",
   "execution_count": null,
   "metadata": {},
   "outputs": [],
   "source": [
    "#market_money\n",
    "\n",
    "#Проверяем текстовые столбы на неявные дубликаты\n",
    "market_money['Период'].value_counts() # нет дубликатов \n",
    "\n",
    "#Делаем id индексом\n",
    "market_money = market_money.set_index('id')\n",
    "display(market_money.head())\n"
   ]
  },
  {
   "cell_type": "code",
   "execution_count": null,
   "metadata": {},
   "outputs": [],
   "source": [
    "#market_time\n",
    "\n",
    "#Проверяем текстовые столбы на неявные дубликаты\n",
    "market_time['Период'].value_counts() # нет дубликатов, но есть опечатки\n",
    "market_time['Период'] = market_time['Период'].str.replace('предыдцщий_месяц', 'предыдущий_месяц') #исправляем опечатку\n",
    "market_time['Период'].value_counts() # \n",
    "\n",
    "\n",
    "#Делаем id индексом\n",
    "market_time = market_time.set_index('id')\n",
    "display(market_time.head())\n",
    "print(market_time.info())"
   ]
  },
  {
   "cell_type": "code",
   "execution_count": null,
   "metadata": {},
   "outputs": [],
   "source": [
    "#money\n",
    "#Проверяем на дубликаты столбец ID \n",
    "money['id'].duplicated().sum() # - дубликатов нет \n",
    "\n",
    "#Делаем id индексом\n",
    "money = money.set_index('id')\n",
    "display(money.head())\n",
    "print(money.info())"
   ]
  },
  {
   "cell_type": "markdown",
   "metadata": {},
   "source": [
    "В ходе предобработки были выявлены неявные дубликаты в таблице market_file, вызыванные опечатками в столбце тип сервиса. \n",
    "Также были выявлены опечатки в таблице market_time в столбце период, хотя это и неповлияло бы на проект, опечатки были исправлены. \n",
    "Данным присвоен корретный тип и в таблицах отсутсвуют пропуски. \n",
    "В данных нет явных дубликатов. \n"
   ]
  },
  {
   "cell_type": "code",
   "execution_count": null,
   "metadata": {},
   "outputs": [],
   "source": [
    "market_file.columns = [re.sub(r'(?<!^)(?=[A-Z])', '_', i).lower() for i in market_file.columns]\n",
    "market_file.columns = market_file.columns.str.replace(' ', '_')\n",
    "market_file"
   ]
  },
  {
   "cell_type": "markdown",
   "metadata": {},
   "source": [
    "## Исследовательский анализ данных"
   ]
  },
  {
   "cell_type": "code",
   "execution_count": null,
   "metadata": {},
   "outputs": [],
   "source": [
    "#market_file\n",
    "display(market_file.head())\n",
    "market_file.hist(figsize=(20, 20));"
   ]
  },
  {
   "cell_type": "code",
   "execution_count": null,
   "metadata": {},
   "outputs": [],
   "source": [
    "display(market_file['покупательская_активность'].value_counts())"
   ]
  },
  {
   "cell_type": "code",
   "execution_count": null,
   "metadata": {},
   "outputs": [],
   "source": [
    "display(market_file.describe())"
   ]
  },
  {
   "cell_type": "code",
   "execution_count": null,
   "metadata": {},
   "outputs": [],
   "source": [
    "fig, axes = plt.subplots(nrows=2, ncols=4, figsize=(15, 15));\n",
    "\n",
    "sns.histplot(data=market_file, x= 'маркет_актив_6_мес', hue='покупательская_активность', multiple='stack', ax=axes[0,0]);\n",
    "sns.histplot(data=market_file, x= 'маркет_актив_тек_мес', hue='покупательская_активность', multiple='stack', ax=axes[0,1]);\n",
    "sns.histplot(data=market_file, x= 'длительность', hue='покупательская_активность', multiple='stack', ax=axes[0,2]);\n",
    "sns.histplot(data=market_file, x= 'акционные_покупки', hue='покупательская_активность', multiple='stack', ax=axes[1,0]);\n",
    "sns.histplot(data=market_file, x= 'средний_просмотр_категорий_за_визит', hue='покупательская_активность', multiple='stack', ax=axes[1,1]);\n",
    "sns.histplot(data=market_file, x= 'неоплаченные_продукты_штук_квартал', hue='покупательская_активность', multiple='stack', ax=axes[1,2]);\n",
    "sns.histplot(data=market_file, x= 'ошибка_сервиса', hue='покупательская_активность', multiple='stack', ax=axes[0,3]);\n",
    "sns.histplot(data=market_file, x= 'страниц_за_визит', hue='покупательская_активность', multiple='stack', ax=axes[1,3]);\n",
    "\n"
   ]
  },
  {
   "cell_type": "markdown",
   "metadata": {},
   "source": [
    "<div class=\"alert alert-info\">\n",
    "Почти все количественные показатели ниже у группы пользователей со сниженность активностью. \n",
    "</div>"
   ]
  },
  {
   "cell_type": "code",
   "execution_count": null,
   "metadata": {},
   "outputs": [],
   "source": [
    "market_file[['маркет_актив_6_мес','маркет_актив_тек_мес','акционные_покупки','средний_просмотр_категорий_за_визит',\n",
    "           'неоплаченные_продукты_штук_квартал','ошибка_сервиса' ,'страниц_за_визит']].boxplot(figsize=(15, 10));\n",
    "plt.title('Ящик с усами для каждого столбца')\n",
    "plt.xticks(rotation=45) \n",
    "plt.show()"
   ]
  },
  {
   "cell_type": "code",
   "execution_count": null,
   "metadata": {},
   "outputs": [],
   "source": [
    "fig, axes = plt.subplots(nrows=2, ncols=2, figsize=(10, 7));\n",
    "#Изучим отдельно данные с выбросами\n",
    "sns.boxplot(data = market_file,y = 'маркет_актив_6_мес',ax=axes[0,0]);\n",
    "sns.boxplot(data = market_file, y = 'длительность',ax=axes[0,1]);\n",
    "sns.boxplot(data = market_file, y = 'акционные_покупки',ax=axes[1,0]);\n",
    "sns.boxplot(data = market_file, y = 'неоплаченные_продукты_штук_квартал',ax=axes[1,1]);\n",
    "\n"
   ]
  },
  {
   "cell_type": "markdown",
   "metadata": {},
   "source": [
    "<div class=\"alert alert-info\">\n",
    "\n",
    "Исправлен вывод гистограмм с разбиенем по таргету, вывод графиков бохплот, в одном месте.\n",
    "Добавлен вывод круговых диаграмм по категориальным признакам\n",
    "\n",
    "</div>"
   ]
  },
  {
   "cell_type": "markdown",
   "metadata": {},
   "source": [
    "market_file.query('маркет_актив_6_мес<2.5')['маркет_актив_6_мес'].count()/len(market_file)*100"
   ]
  },
  {
   "cell_type": "markdown",
   "metadata": {},
   "source": [
    "Примерно 6% данных  по Маркет_актив_6_мес являются сильно меньше медианы. Данные не будут удаляться, так как это реальные данные компании и их стоит "
   ]
  },
  {
   "cell_type": "markdown",
   "metadata": {},
   "source": [
    "Всего 13% данных относятся к группе пользователей, у которых доля акционных покупок больше 50%.\n",
    "Это необходимо учесть при выборе метрик, так как модели будет не хватать данным по таким покупателям. "
   ]
  },
  {
   "cell_type": "code",
   "execution_count": null,
   "metadata": {},
   "outputs": [],
   "source": [
    "market_file.query('неоплаченные_продукты_штук_квартал>8')['неоплаченные_продукты_штук_квартал'].count()/len(market_file)*100"
   ]
  },
  {
   "cell_type": "markdown",
   "metadata": {},
   "source": [
    "Только 1% покупателей имеет в корзине более 8 товаров за три месяца и неоплачивает их"
   ]
  },
  {
   "cell_type": "code",
   "execution_count": null,
   "metadata": {},
   "outputs": [],
   "source": [
    "fig, axes = plt.subplots(nrows=1, ncols=3, figsize=(14, 6));\n",
    "\n",
    "\n",
    "# Создание фигуры и двух подграфиков\n",
    "(market_file['покупательская_активность'].value_counts()\n",
    " .plot(kind='pie', ax=axes[0], legend=False, autopct='%.2f')\n",
    " .set(xlabel='', ylabel='', title='покупательская_активность')\n",
    ");\n",
    "\n",
    "(market_file['тип_сервиса'].value_counts()\n",
    " .plot(kind='pie', ax=axes[1], legend=False, autopct='%.2f')\n",
    " .set(xlabel='', ylabel='', title='тип_сервиса')\n",
    ");\n",
    "(market_file['популярная_категория'].value_counts()\n",
    " .plot(kind='pie', ax=axes[2], legend=False, autopct='%.2f')\n",
    " .set(xlabel='', ylabel='', title='популярная_категория')\n",
    ");\n"
   ]
  },
  {
   "cell_type": "markdown",
   "metadata": {},
   "source": [
    "<div class=\"alert alert-info\">\n",
    "\n",
    "В данных присутсвует дисбаланс классов. Всего 29% премиум клиентов, против 71% стандарт класса. Следует применить \n",
    "стратификацию при разделении выборок. Целевой признак тоже имеет дисбаланс. \n",
    "Среди популярных категорий лидируют товары для детей. \n",
    "</div>"
   ]
  },
  {
   "cell_type": "code",
   "execution_count": null,
   "metadata": {},
   "outputs": [],
   "source": [
    "fig, axes = plt.subplots(nrows=1, ncols=2, figsize=(15, 6));\n",
    "\n",
    "\n",
    "# Создание фигуры и двух подграфиков\n",
    "(market_file.loc[market_file['тип_сервиса']=='стандарт']['популярная_категория'].value_counts()\n",
    " .plot(kind='pie', ax=axes[0], legend=False, autopct='%.2f')\n",
    " .set(xlabel='', ylabel='', title='покупательская_активность')\n",
    ");\n",
    "\n",
    "\n",
    "# Создание фигуры и двух подграфиков\n",
    "(market_file.loc[market_file['тип_сервиса']=='премиум']['популярная_категория'].value_counts()\n",
    " .plot(kind='pie', ax=axes[1], legend=False, autopct='%.2f')\n",
    " .set(xlabel='', ylabel='', title='покупательская_активность')\n",
    ");\n"
   ]
  },
  {
   "cell_type": "markdown",
   "metadata": {},
   "source": [
    "<div class=\"alert alert-info\">\n",
    "\n",
    "нет существенной разницы между категориями для сегментов стандарт и премиум\n",
    "</div>\n"
   ]
  },
  {
   "cell_type": "code",
   "execution_count": null,
   "metadata": {},
   "outputs": [],
   "source": [
    "display(market_money.head())\n",
    "\n",
    "market_money['Период'].value_counts()\n",
    "market_money.pivot_table(index='Период',values='Выручка',aggfunc='sum')"
   ]
  },
  {
   "cell_type": "code",
   "execution_count": null,
   "metadata": {},
   "outputs": [],
   "source": [
    "market_money.isna().sum()\n",
    "market_money.info()"
   ]
  },
  {
   "cell_type": "markdown",
   "metadata": {},
   "source": [
    "Данные по периодам разнесены равномерно"
   ]
  },
  {
   "cell_type": "code",
   "execution_count": null,
   "metadata": {},
   "outputs": [],
   "source": [
    "display(market_money.describe())\n",
    "market_money.boxplot(figsize=(10,5));\n",
    "market_money.query('Выручка>100000')['Выручка'].count()\n",
    "display(market_money.query('Выручка>100000'))"
   ]
  },
  {
   "cell_type": "markdown",
   "metadata": {},
   "source": [
    "В данных присутствует 1 строка с выручкой более 100к за текущий месяц, такую строку лучше удалить, так как она одна - ценности для обучения она не принесет, но может снизить его качество. Удалим эту строку позже."
   ]
  },
  {
   "cell_type": "code",
   "execution_count": null,
   "metadata": {},
   "outputs": [],
   "source": [
    "#продолжение анализа \n",
    "market_money.boxplot(figsize=(10,5));\n",
    "market_money.query('Выручка<1000')['Выручка'].count()\n",
    "display(market_money.query('Выручка<1000'))"
   ]
  },
  {
   "cell_type": "markdown",
   "metadata": {},
   "source": [
    "В данных имеются записи о пользователях, которые ничего не купили за прошлый периоды. Позже их нужно будет удалить.  В данных также присутствует много выбросов, стоит это учитывать при обучении. "
   ]
  },
  {
   "cell_type": "code",
   "execution_count": null,
   "metadata": {},
   "outputs": [],
   "source": [
    "\n",
    "display(market_time.head())\n",
    "market_time['Период'].value_counts()\n",
    "market_time.pivot_table(index='Период',values='минут',aggfunc='sum')"
   ]
  },
  {
   "cell_type": "markdown",
   "metadata": {},
   "source": [
    "Данные распределены равномерно"
   ]
  },
  {
   "cell_type": "code",
   "execution_count": null,
   "metadata": {},
   "outputs": [],
   "source": [
    "market_time.boxplot(figsize=(10,5));"
   ]
  },
  {
   "cell_type": "markdown",
   "metadata": {},
   "source": [
    "Выбросов в данных нет. "
   ]
  },
  {
   "cell_type": "code",
   "execution_count": null,
   "metadata": {},
   "outputs": [],
   "source": [
    "\n",
    "# Построение гистограмм по минутам за текущий и прошлый месяцы\n",
    "fig, axes = plt.subplots(nrows=1, ncols=2, figsize=(14, 6));\n",
    "sns.histplot(market_time.loc[market_time['Период']=='текущий_месяц'], bins=10, kde=True,ax=axes[0]); \n",
    "axes[0].set_xlabel('текущий_месяц')\n",
    "axes[0].set_ylabel('Количество');\n",
    "sns.histplot(market_time.loc[market_time['Период']=='предыдущий_месяц'], bins=10, kde=True,ax=axes[1]);  \n",
    "axes[1].set_xlabel('предыдущий_месяц')\n",
    "axes[1].set_ylabel('Количество');\n",
    "\n"
   ]
  },
  {
   "cell_type": "markdown",
   "metadata": {},
   "source": [
    "<div class=\"alert alert-info\">\n",
    "В текущем месяце распределение времени близко к нормальному, в предыдущем месяце распределение имеет два пика,\n",
    "это может говорить о наличии разных сегментов пользователей\n",
    "\n",
    "</div>\n"
   ]
  },
  {
   "cell_type": "code",
   "execution_count": null,
   "metadata": {},
   "outputs": [],
   "source": [
    "market_money.head()"
   ]
  },
  {
   "cell_type": "code",
   "execution_count": null,
   "metadata": {},
   "outputs": [],
   "source": [
    "# Постороение гистрограмм по выручке за последние три месяца\n",
    "fig, axes = plt.subplots(nrows=1, ncols=3, figsize=(15, 5));\n",
    "sns.histplot(market_money.loc[market_money['Период']=='текущий_месяц'], bins=100,ax=axes[0]); \n",
    "axes[0].set_xlim(0, 10000)\n",
    "axes[0].set_xlabel('текущий_месяц')\n",
    "axes[0].set_ylabel('Количество');\n",
    "sns.histplot(market_money.loc[market_money['Период']=='предыдущий_месяц'], bins=30, kde=True,ax=axes[1]);  \n",
    "axes[1].set_xlabel('предыдущий_месяц')\n",
    "axes[1].set_ylabel('Количество');\n",
    "sns.histplot(market_money.loc[market_money['Период']=='препредыдущий_месяц'], bins=30, kde=True,ax=axes[2]);  \n",
    "axes[2].set_xlabel('препредыдущий_месяц')\n",
    "axes[2].set_ylabel('Количество');\n"
   ]
  },
  {
   "cell_type": "markdown",
   "metadata": {},
   "source": [
    "<div class=\"alert alert-info\">\n",
    "Выручка имеет близкое к нормальному распределение, средние значение выручки на пользователя остается около 5к. \n",
    "</div>"
   ]
  },
  {
   "cell_type": "markdown",
   "metadata": {},
   "source": [
    "<div>\n",
    "<h3>Вывод</h3>\n",
    "    В данных присутсвуют выбросы, это может отразится на качестве обучения модели. Стоит учитывать это при выборе метрики качества. Если качество будет слишком низким, потребуется нивилировать данный дисбаланс. \n",
    "    \n",
    "    \n",
    "- В данных больше пользователей, у которых было более 4 маркетенгкивых активностей и есть группа пользователей, у которых было совсем мало маркт. контакт, менее 2.5\n",
    "- есть дву группы пользователей, первый у которых акционных покупок менее 40% и вторые - у кого таких покупок 80% и более процентов. Первых существенно больше. Стоит учитывать данный дисбаланс. \n",
    "-  Найден пользователь у которого Выручка>100000 за текущий месяц. Возможно это баг и стоит проверить сбор данных, в любом случае, данная строка была удалена из данных, чтобы не ухудшать качество обучения.  \n",
    "    \n",
    "<div>"
   ]
  },
  {
   "cell_type": "markdown",
   "metadata": {},
   "source": []
  },
  {
   "cell_type": "markdown",
   "metadata": {},
   "source": [
    "## Объединение таблиц"
   ]
  },
  {
   "cell_type": "code",
   "execution_count": null,
   "metadata": {},
   "outputs": [],
   "source": [
    "market_money.head()\n",
    "market_money.info()"
   ]
  },
  {
   "cell_type": "code",
   "execution_count": null,
   "metadata": {},
   "outputs": [],
   "source": [
    "display(market_money.head())\n",
    "market_money['выручка_тек']= market_money.query('Период==\"текущий_месяц\"')['Выручка']\n",
    "market_money['выручка_пре'] = market_money.query('Период==\"предыдущий_месяц\"')['Выручка']\n",
    "market_money['выручка_пре_пре'] = market_money.query('Период==\"препредыдущий_месяц\"')['Выручка']\n",
    "\n",
    "display(market_money.head())\n",
    "market_money.info()"
   ]
  },
  {
   "cell_type": "code",
   "execution_count": null,
   "metadata": {},
   "outputs": [],
   "source": [
    "# Удаление дубликатов по индексу, оставляя последнюю встреченную строку\n",
    "market_money = market_money.reset_index()\n",
    "\n",
    "market_money = market_money.drop_duplicates(subset='id',keep = 'first')\n",
    "market_money.set_index('id', inplace=True)\n",
    "display(market_money.head())\n",
    "market_money.info()\n"
   ]
  },
  {
   "cell_type": "code",
   "execution_count": null,
   "metadata": {},
   "outputs": [],
   "source": [
    "\n",
    "market_money = market_money.drop(['Период','Выручка'],axis = 1)\n",
    "market_money.head(5)"
   ]
  },
  {
   "cell_type": "code",
   "execution_count": null,
   "metadata": {},
   "outputs": [],
   "source": [
    "market_money.isna().sum()\n",
    "#удаление выброса \n",
    "market_money = market_money.query('выручка_тек <= 100000')\n",
    "market_money.info()"
   ]
  },
  {
   "cell_type": "code",
   "execution_count": null,
   "metadata": {},
   "outputs": [],
   "source": [
    "market_time.isna().sum()\n",
    "market_time.info()\n",
    "\n",
    "market_time['минут_тек']= market_time.query('Период==\"текущий_месяц\"')['минут']\n",
    "market_time['минут_пре'] = market_time.query('Период==\"предыдущий_месяц\"')['минут']\n",
    "display(market_time.head())\n"
   ]
  },
  {
   "cell_type": "code",
   "execution_count": null,
   "metadata": {},
   "outputs": [],
   "source": [
    "# Удаление дубликатов по индексу, оставляя последнюю встреченную строку\n",
    "market_time = market_time.reset_index()\n",
    "print(market_time.duplicated(subset='id').sum())\n",
    "\n",
    "market_time = market_time.drop_duplicates(subset='id')\n",
    "market_time.info()"
   ]
  },
  {
   "cell_type": "code",
   "execution_count": null,
   "metadata": {},
   "outputs": [],
   "source": [
    "# Вернем индекс обратно\n",
    "market_time.set_index('id', inplace=True)\n",
    "market_time.head()"
   ]
  },
  {
   "cell_type": "code",
   "execution_count": null,
   "metadata": {},
   "outputs": [],
   "source": [
    "market_time = market_time.drop(['Период','минут'],axis = 1)\n",
    "display(market_time.head())"
   ]
  },
  {
   "cell_type": "code",
   "execution_count": null,
   "metadata": {},
   "outputs": [],
   "source": [
    "df = market_file.join(market_time).join(market_money)\n",
    "\n",
    "display(df.head())\n",
    "df.isna().sum()"
   ]
  },
  {
   "cell_type": "code",
   "execution_count": null,
   "metadata": {},
   "outputs": [],
   "source": [
    "df=df.fillna(0)\n",
    "df.isna().sum()"
   ]
  },
  {
   "cell_type": "code",
   "execution_count": null,
   "metadata": {},
   "outputs": [],
   "source": [
    "#удаляем пользователей, у которых покупательская активность меньше 3 месяцев.\n",
    "drop = df.query('(выручка_пре ==0) or (выручка_пре_пре == 0)').index\n",
    "df = df.drop(index=drop)\n",
    "display(df.head())\n",
    "df.info()"
   ]
  },
  {
   "cell_type": "code",
   "execution_count": null,
   "metadata": {},
   "outputs": [],
   "source": [
    "df.isna().sum()"
   ]
  },
  {
   "cell_type": "markdown",
   "metadata": {},
   "source": [
    "В ходе объединения был удален пользователь, у которого выручка за текущий месяц превышает 100к, также были удалены 3 пользователя, у которых покупательская активность менее трех месяцев. Пропусков в таблице нет. "
   ]
  },
  {
   "cell_type": "markdown",
   "metadata": {},
   "source": [
    "## Корреляционный анализ"
   ]
  },
  {
   "cell_type": "code",
   "execution_count": null,
   "metadata": {},
   "outputs": [],
   "source": [
    "phik_overview = phik_matrix(df) "
   ]
  },
  {
   "cell_type": "code",
   "execution_count": null,
   "metadata": {},
   "outputs": [],
   "source": [
    "plot_correlation_matrix(\n",
    "    phik_overview.values,\n",
    "    x_labels=phik_overview.columns,\n",
    "    y_labels=phik_overview.index,\n",
    "    vmin=0, vmax=1, color_map='Blues',\n",
    "    title=r'correlation $\\phi_K$',\n",
    "    fontsize_factor=1.5,\n",
    "    figsize=(20, 15)\n",
    ") \n"
   ]
  },
  {
   "cell_type": "markdown",
   "metadata": {},
   "source": [
    "В данных нет мультиколинераности, так как все коэф. ниже 0.9 "
   ]
  },
  {
   "cell_type": "code",
   "execution_count": null,
   "metadata": {},
   "outputs": [],
   "source": [
    "pd.plotting.scatter_matrix(df, figsize=(20, 20));"
   ]
  },
  {
   "cell_type": "markdown",
   "metadata": {},
   "source": [
    "В данных есть линейные зависомомсти между текущей выручкой и выручкой за прошлый месяца. Есть группы\n",
    "пользователей у которых эта зависимость сильно выражена. "
   ]
  },
  {
   "cell_type": "code",
   "execution_count": null,
   "metadata": {},
   "outputs": [],
   "source": [
    "print(df.info())\n",
    "df.head()\n"
   ]
  },
  {
   "cell_type": "code",
   "execution_count": null,
   "metadata": {},
   "outputs": [],
   "source": [
    "sns.scatterplot(data=df, x='id', y='акционные_покупки', hue='покупательская_активность');"
   ]
  },
  {
   "cell_type": "markdown",
   "metadata": {},
   "source": [
    "<div class=\"alert alert-info\">\n",
    "Есть две группы пользователей, одна группа предпочитает покупать только по акциям,\n",
    "у второй группы доля акционных покупок менее 40% \n",
    "Также стоит отметить, что почти все пользователи c прежним уровнем активности практически не ориентируются на акционные товары; \n",
    "</div>"
   ]
  },
  {
   "cell_type": "markdown",
   "metadata": {},
   "source": [
    "## Использование пайплайнов\n"
   ]
  },
  {
   "cell_type": "code",
   "execution_count": null,
   "metadata": {},
   "outputs": [],
   "source": [
    "target = df['покупательская_активность']\n",
    "label_mapping = {'Снизилась': 1, 'Прежний уровень': 0}\n",
    "label_encoder = LabelEncoder()\n",
    "label_encoder.fit_transform(target.map(label_mapping))"
   ]
  },
  {
   "cell_type": "code",
   "execution_count": null,
   "metadata": {},
   "outputs": [],
   "source": [
    "X_train, X_test, y_train, y_test = train_test_split(\n",
    "    df.drop(['покупательская_активность'], axis=1),\n",
    "    df['покупательская_активность'],\n",
    "    test_size = TEST_SIZE, \n",
    "    random_state = RANDOM_STATE,\n",
    "    stratify = df['покупательская_активность'])\n",
    "\n",
    "X_train.shape, X_test.shape"
   ]
  },
  {
   "cell_type": "code",
   "execution_count": null,
   "metadata": {},
   "outputs": [],
   "source": [
    "# создаём списки с названиями признаков\n",
    "ohe_columns = ['тип_сервиса', 'разрешить_сообщать','популярная_категория']\n",
    "num_columns = ['маркет_актив_6_мес', 'маркет_актив_тек_мес','длительность','акционные_покупки',\n",
    "               'средний_просмотр_категорий_за_визит','неоплаченные_продукты_штук_квартал','ошибка_сервиса',\n",
    "              'страниц_за_визит','минут_тек','минут_пре','выручка_тек','выручка_пре','выручка_пре_пре']\n"
   ]
  },
  {
   "cell_type": "code",
   "execution_count": null,
   "metadata": {},
   "outputs": [],
   "source": [
    "\n",
    "# создаём пайплайн для подготовки признаков из списка ohe_columns: заполнение пропусков и OHE-кодирование\n",
    "# SimpleImputer + OHE\n",
    "ohe_pipe = Pipeline(\n",
    "    [('simpleImputer_ohe', SimpleImputer(missing_values=np.nan, strategy='most_frequent')),\n",
    "     ('ohe', OneHotEncoder(drop='first', sparse_output=False))\n",
    "    ]\n",
    ")\n",
    "\n",
    "# создаём общий пайплайн для подготовки данных\n",
    "data_preprocessor = ColumnTransformer(\n",
    "    [('ohe', ohe_pipe, ohe_columns),\n",
    "     ('num', MinMaxScaler(), num_columns)\n",
    "    ], \n",
    "    #remainder='passthrough'\n",
    ")\n",
    "\n",
    "# создаём итоговый пайплайн: подготовка данных и модель\n",
    "pipe_final = Pipeline([\n",
    "    ('preprocessor', data_preprocessor),\n",
    "    ('models', DecisionTreeClassifier(random_state=RANDOM_STATE))\n",
    "])\n",
    "\n",
    "param_grid = [\n",
    "    # словарь для модели DecisionTreeClassifier()\n",
    "    {\n",
    "        'models': [DecisionTreeClassifier(random_state=RANDOM_STATE)],\n",
    "        'models__max_depth': range(2, 5),\n",
    "        'models__max_features': range(2, 5),\n",
    "        'preprocessor__num': [StandardScaler(), MinMaxScaler(), 'passthrough']\n",
    "    },\n",
    "    \n",
    "    # словарь для модели KNeighborsClassifier()\n",
    "    {\n",
    "        'models': [KNeighborsClassifier()],\n",
    "        'models__n_neighbors': range(2, 5),\n",
    "        'preprocessor__num': [StandardScaler(), MinMaxScaler(), 'passthrough']\n",
    "    },\n",
    "\n",
    "    # словарь для модели LogisticRegression()\n",
    "    {\n",
    "        'models': [\n",
    "            LogisticRegression(\n",
    "                random_state=RANDOM_STATE, \n",
    "                solver='liblinear', \n",
    "                penalty='l2',  # Изменили на 'l2'\n",
    "                max_iter=200   # Добавили параметр max_iter\n",
    "            )\n",
    "        ],\n",
    "        'models__C': range(1, 5),\n",
    "        'preprocessor__num': [StandardScaler(), MinMaxScaler(), 'passthrough']\n",
    "    },\n",
    "    \n",
    "    # словарь для модели SVC()\n",
    "    {\n",
    "        'models': [\n",
    "            SVC(\n",
    "                random_state=RANDOM_STATE,\n",
    "            )\n",
    "        ],\n",
    "        'models__kernel': ['poly', 'rbf'],\n",
    "        'models__degree':range(1,8),\n",
    "        'preprocessor__num': [StandardScaler(), MinMaxScaler(), 'passthrough']\n",
    "    }\n",
    "]\n",
    "\n",
    "randomized_search = RandomizedSearchCV(\n",
    "    pipe_final,\n",
    "    param_grid,\n",
    "    cv=5,\n",
    "    scoring='roc_auc',\n",
    "    random_state=RANDOM_STATE,\n",
    "    n_jobs=-1,\n",
    "    n_iter=10\n",
    ")\n",
    "\n",
    "\n",
    "randomized_search.fit(X_train, y_train)\n",
    "\n",
    "print('Лучшая модель и её параметры:\\n\\n', randomized_search.best_estimator_)\n",
    "print('Метрика лучшей модели по кросс валидационной выборке:', randomized_search.best_score_)\n",
    "\n"
   ]
  },
  {
   "cell_type": "code",
   "execution_count": null,
   "metadata": {},
   "outputs": [],
   "source": [
    "\n",
    "# Предсказание на тестовой выборке\n",
    "y_pred = randomized_search.best_estimator_.predict(X_test)\n",
    "y_pred_proba = randomized_search.best_estimator_.predict_proba(X_test)[:, 1]\n",
    "roc_auc = roc_auc_score(y_test, y_pred_proba)\n",
    "print(f'Метрика ROC-AUC на тестовой выборке: {roc_auc:.2f}')"
   ]
  },
  {
   "cell_type": "markdown",
   "metadata": {},
   "source": [
    "<div class=\"alert alert-info\">\n",
    "Обновила\n",
    "</div>"
   ]
  },
  {
   "cell_type": "code",
   "execution_count": null,
   "metadata": {},
   "outputs": [],
   "source": [
    "\n",
    "\n",
    "# Вычисление матрицы ошибок\n",
    "conf_matrix = confusion_matrix(y_test, y_pred)\n",
    "\n",
    "\n",
    "# Визуализация матрицы ошибок\n",
    "plt.figure(figsize=(10, 7))\n",
    "sns.heatmap(conf_matrix, annot=True, fmt='d', cmap='Blues', xticklabels=['Negative', 'Positive'], yticklabels=['Negative', 'Positive'])\n",
    "plt.xlabel('Predicted')\n",
    "plt.ylabel('Actual')\n",
    "plt.title('Матрица ошибок')\n",
    "plt.show()\n"
   ]
  },
  {
   "cell_type": "code",
   "execution_count": null,
   "metadata": {},
   "outputs": [],
   "source": [
    "best_model= randomized_search.best_estimator_\n",
    "X_train_transformed = pd.DataFrame(best_model.named_steps['preprocessor'].transform(X_train), \n",
    "                                   columns=best_model.named_steps['preprocessor'].get_feature_names_out())\n",
    "X_test_transformed = pd.DataFrame(best_model.named_steps['preprocessor'].transform(X_test), \n",
    "                                   columns=best_model.named_steps['preprocessor'].get_feature_names_out())\n",
    "display(X_test_transformed.head())"
   ]
  },
  {
   "cell_type": "markdown",
   "metadata": {},
   "source": [
    "Для оценки качества была выбрана метрика roc_auc, так как она более устойчива к выбросам в данных и к дисбалансам классов. \n",
    "Модель с наиллучшей оценкой качества оказалась LogisticRegressio и оценкой 0.89"
   ]
  },
  {
   "cell_type": "markdown",
   "metadata": {},
   "source": [
    "<div class=\"alert alert-info\">\n",
    "Обновила\n",
    "</div>"
   ]
  },
  {
   "cell_type": "markdown",
   "metadata": {},
   "source": [
    "## Анализ важности признаков"
   ]
  },
  {
   "cell_type": "code",
   "execution_count": null,
   "metadata": {},
   "outputs": [],
   "source": [
    "best_model = randomized_search.best_estimator_\n",
    "\n",
    "# Создание объяснителя SHAP с указанием имен признаков\n",
    "explainer = shap.LinearExplainer(best_model.named_steps['models'], X_train_transformed, feature_perturbation='interventional')\n",
    "\n",
    "# Получение значений SHAP\n",
    "shap_values = explainer(X_test_transformed)\n",
    "\n",
    "\n",
    "# Построение графика\n",
    "shap.summary_plot(shap_values, X_test_transformed, plot_type='bar', max_display=16, plot_size=(10, 8))\n"
   ]
  },
  {
   "cell_type": "markdown",
   "metadata": {},
   "source": [
    "Самый главный признак для модели это кол-во страниц за визит, чем выше значение, тем больше вероятность покупки\n",
    "и как следствие проставление целевого признака - прежняя покупательская активность. \n",
    "Далее значемые признаки: \n",
    "    \n",
    "    - кол-во минут в текущем месяце (10)\n",
    "    - Неоплаченные_продукты_штук_квартал (7)\n",
    "    - Выручка в тек месяце (12)\n",
    "    - Кол-во минут в прошлом месяце (11)\n",
    "    - Кол-во ошибок сервиса (8)\n",
    "    - Средний_просмотр_категорий_за_визит (6)\n",
    "    - Маркет_актив_тек_мес (3)\n",
    "    \n",
    "Малозначемые признаки: \n",
    "    \n",
    "    - Тип сервиса (0)\n",
    "    - Длительность (4)\n",
    "    - Разрешить сообщать \n"
   ]
  },
  {
   "cell_type": "markdown",
   "metadata": {},
   "source": [
    "<div class=\"alert alert-info\">\n",
    "Самый главный признак для модели это кол-во страниц за визит, чем выше значение, тем больше вероятность покупки и как следствие проставление целевого признака - прежняя покупательская активность. Далее значемые признаки:\n",
    "\n",
    "- кол-во страниц за визит\n",
    "- ср. просмотр категорий за визит\n",
    "- кол-во минут в прошлом месяце\n",
    "\n",
    "Малозначемые признаки:\n",
    "- Разрешить сообщать \n",
    "- Популярная категория Товары для детей\n",
    "- Длительность\n",
    "</div>"
   ]
  },
  {
   "cell_type": "code",
   "execution_count": null,
   "metadata": {},
   "outputs": [],
   "source": [
    "shap.plots.beeswarm(shap_values, max_display=16) "
   ]
  },
  {
   "cell_type": "markdown",
   "metadata": {},
   "source": [
    "- Чем выше кол-во минут проведенных на сайте в текущем месяце, тем больше вероятность, что\n",
    "у пользователя сохраниться прежний статус.\n",
    "- Неоплаченные_продукты_штук_квартал - чем выше кол-во неоплаченных товаров в корзине, тем выше вероятность,что\n",
    "у пользователя сохраниться прежний статус.\n",
    "- Чем чаще пользователь сталкивается с ошибками сервиса, тем выше вероятность снижения активности \n",
    "- Чем больше категорий смотрит пользователь за визит, тем выше вероятность снижения активности \n",
    "- Чем выше маркт активность в текущем месце,тем выше вероятность,что\n",
    "у пользователя сохраниться прежний статус."
   ]
  },
  {
   "cell_type": "markdown",
   "metadata": {},
   "source": [
    "<div class=\"alert alert-info\">\n",
    "    \n",
    "- высокие значения кол-ва посещенных страниц, ср. кол-ва категорий за посещение, минут на сайте, а также маркт активности\n",
    "за 6 месяцев - склоняют модель к таргету 0\n",
    "    \n",
    "- выоские значения в признаках: неоплаченные продукты, акционные покупки, вырчка за прошлый есяц - склоняют модель \n",
    "к таргету 1, то есть к снижению активности.  \n",
    "\n",
    "</div>"
   ]
  },
  {
   "cell_type": "code",
   "execution_count": null,
   "metadata": {},
   "outputs": [],
   "source": [
    "shap.plots.waterfall(shap_values[0]) \n"
   ]
  },
  {
   "cell_type": "markdown",
   "metadata": {},
   "source": [
    "Выводы для бизнеса: \n",
    "\n",
    "    - сократить кол-во ошибок на сайте\n",
    "    - присылать пользователю таргетированный контент, чтобы стимулировать изучение ассортимента на сайте, посещать больше страниц\n",
    "    - вовлекать пользователя маркет активностями пользователей с низким временемна сайте в тек месяце,чем выше время на сайе - тем больше шансов на покупку \n",
    "    - стимулировать покупку, для пользователей с брошенными корзинами \n"
   ]
  },
  {
   "cell_type": "markdown",
   "metadata": {},
   "source": [
    "## Сегментация покупателей\n"
   ]
  },
  {
   "cell_type": "markdown",
   "metadata": {},
   "source": [
    "Варианты сегментов: \n",
    "- пользователи с брошенными корзинами \n",
    "- пользователи у которых наблюдается снижение времени на сайте \n",
    "- пользователи с высоким показателем ошибок на сайте "
   ]
  },
  {
   "cell_type": "code",
   "execution_count": null,
   "metadata": {},
   "outputs": [],
   "source": [
    "df.head()\n",
    "money.head()"
   ]
  },
  {
   "cell_type": "code",
   "execution_count": null,
   "metadata": {},
   "outputs": [],
   "source": [
    "df_money= df.join(money)\n",
    "df_money.info()"
   ]
  },
  {
   "cell_type": "code",
   "execution_count": null,
   "metadata": {},
   "outputs": [],
   "source": [
    "#Отбираем клиентов, которые приносят больше всего прибыли\n",
    "df_money.sort_values(by='Прибыль')\n",
    "df_money['Прибыль'].describe()\n",
    "df_prof = df_money.loc[df_money['Прибыль']>4.6]\n",
    "\n",
    "#Отбираем среди них клиентов, у которых выская доля использования акционных покупок\n",
    "df_money['акционные_покупки'].describe()\n",
    "df_prof =  df_prof.loc[df_money['акционные_покупки']>0.3] #клиенты которые приносят больше всего прибыли, и имеют высокий риск снижения\n",
    "df_new = df_money.loc[df_money['акционные_покупки']<=0.3]#клиенты которые приносят больше всего прибыли, и имеют прежнюю активность \n",
    "\n",
    "\n"
   ]
  },
  {
   "cell_type": "markdown",
   "metadata": {},
   "source": [
    "<div class=\"alert alert-info\">\n",
    "    \n",
    "Согласно анализу модели и диаграммы рассеиния, чем больше клиент покупает по акции, тем сильнее это оказывает в моделе \n",
    "соответсвие снижению активности. Таким образом мы выделели сегмент покупателей, с наибольшей выручкой, которые \n",
    "с выс\n",
    "    \n",
    "\n",
    "</div>"
   ]
  },
  {
   "cell_type": "code",
   "execution_count": null,
   "metadata": {},
   "outputs": [],
   "source": [
    "df_new.head()"
   ]
  },
  {
   "cell_type": "code",
   "execution_count": null,
   "metadata": {},
   "outputs": [],
   "source": [
    "fig, axes = plt.subplots(nrows=2, ncols=4, figsize=(15, 15));\n",
    "\n",
    "sns.histplot(data=df_prof, x= 'маркет_актив_6_мес', multiple='stack', ax=axes[0,0],color='blue',alpha=0.5,label='df_prof');\n",
    "sns.histplot(data=df_new, x= 'маркет_актив_6_мес', multiple='stack', ax=axes[0,0],color= 'red',alpha=0.5,label='df_new');\n",
    "\n",
    "sns.histplot(data=df_prof, x= 'маркет_актив_тек_мес',  multiple='stack', ax=axes[0,1],color='blue',alpha=0.5,label='df_prof');\n",
    "sns.histplot(data=df_new, x= 'маркет_актив_тек_мес', multiple='stack', ax=axes[0,1],color= 'red',alpha=0.5,label='df_new');\n",
    "             \n",
    "sns.histplot(data=df_prof, x= 'длительность', multiple='stack', ax=axes[0,2],color='blue',alpha=0.5,label='df_prof');\n",
    "sns.histplot(data=df_new, x= 'длительность', multiple='stack', ax=axes[0,2],color= 'red',alpha=0.5,label='df_new');             \n",
    "                          \n",
    "             \n",
    "sns.histplot(data=df_prof, x= 'средний_просмотр_категорий_за_визит', multiple='stack', ax=axes[1,0],color='blue',alpha=0.5,label='df_prof');\n",
    "sns.histplot(data=df_new, x= 'средний_просмотр_категорий_за_визит', multiple='stack', ax=axes[1,0],color= 'red',alpha=0.5,label='df_new');             \n",
    "             \n",
    "sns.histplot(data=df_prof, x= 'неоплаченные_продукты_штук_квартал', multiple='stack', ax=axes[1,1],color='blue',alpha=0.5,label='df_prof');\n",
    "sns.histplot(data=df_new, x= 'неоплаченные_продукты_штук_квартал', multiple='stack', ax=axes[1,1],color= 'red',alpha=0.5,label='df_new');             \n",
    "             \n",
    "sns.histplot(data=df_prof, x= 'ошибка_сервиса',  multiple='stack', ax=axes[0,3],color='blue',alpha=0.5,label='df_prof');\n",
    "sns.histplot(data=df_new, x= 'ошибка_сервиса', multiple='stack', ax=axes[0,3],color= 'red',alpha=0.5,label='df_new');             \n",
    "             \n",
    "sns.histplot(data=df_prof, x= 'страниц_за_визит', multiple='stack', ax=axes[1,2],color='blue',alpha=0.5,label='df_prof');\n",
    "sns.histplot(data=df_new, x= 'страниц_за_визит', multiple='stack', ax=axes[1,2],color= 'red',alpha=0.5,label='df_new');\n",
    "\n"
   ]
  },
  {
   "cell_type": "markdown",
   "metadata": {},
   "source": [
    "\n",
    "<div class=\"alert alert-info\">\n",
    "у выбранного сегмента с высоким риском снижения, распределение графика маркет активности за 6 месяцев смещено влево,\n",
    "это значит, что больше пользователей имеет меньше среднего точек касания с маркетингом. \n",
    "Также у категории с риском снижения в среднем меньше кол-ва просмотров категорий страниц за сеанс и \n",
    "кол-во просмотров страниц. \n",
    "\n",
    "</div>\n"
   ]
  },
  {
   "cell_type": "code",
   "execution_count": null,
   "metadata": {},
   "outputs": [],
   "source": [
    "display(df_prof.describe())\n",
    "df_new.describe()"
   ]
  },
  {
   "cell_type": "markdown",
   "metadata": {},
   "source": [
    "\n",
    "\n",
    "<div class=\"alert alert-info\">\n",
    "Также у выбранного сегмента больше неоплаченных товаров в корзине, чем у альтернативного.\n",
    "\n",
    "</div>\n"
   ]
  },
  {
   "cell_type": "code",
   "execution_count": null,
   "metadata": {},
   "outputs": [],
   "source": [
    "fig, axes = plt.subplots(nrows=1, ncols=2, figsize=(10, 6));\n",
    "\n",
    "\n",
    "# Создание фигуры и двух подграфиков\n",
    "\n",
    "(df_new['популярная_категория'].value_counts()\n",
    " .plot(kind='pie', ax=axes[0], legend=False, autopct='%.2f')\n",
    " .set(xlabel='', ylabel='', title='популярная_категория')\n",
    ");\n",
    "(df_prof['популярная_категория'].value_counts()\n",
    " .plot(kind='pie', ax=axes[1], legend=False, autopct='%.2f')\n",
    " .set(xlabel='', ylabel='', title='популярная_категория_снижение')\n",
    ");\n"
   ]
  },
  {
   "cell_type": "markdown",
   "metadata": {},
   "source": [
    "   \n",
    "\n",
    "<div class=\"alert alert-info\">\n",
    "Чтобы активизировать покупательскую активность у выбранного семента можно:\n",
    "    \n",
    "    - прислать письмо и пуш уведомление о брошенных товарах в корзине, предложить скидку на всю корзину при ппокупке в этом месяце. \n",
    "    - при покупке товаров на минимальную сумму в этом месяце, дать промокод со скидкой на покупку в след месяце \n",
    "    по самой популярной категории для данного сегмента - Товары для детей\n",
    " \n",
    "</div>\n"
   ]
  },
  {
   "cell_type": "markdown",
   "metadata": {},
   "source": [
    "\n",
    "<div class=\"alert alert-info\">\n",
    "Чтобы уменьшеть снижение покупательской активности в целом, нужно поднять время провождение на сайте и глубину просмотра. \n",
    "Для этого можно использовать на всех пользователях у которых модель предсказывает снижение активности:  \n",
    "    \n",
    "- рассылки с сезонными подборки (отпуска, учеба, спорт и тд)\n",
    "- настроить блок с рекомендательной полкой - чтобы пользователь мог ходить по разным категориям \n",
    "- напоминание о покупке о товарах первой необходимости исходя из частоты покупок. \n",
    "</div>\n",
    "\n"
   ]
  },
  {
   "cell_type": "markdown",
   "metadata": {},
   "source": [
    "Предлагается взять сегмент, у которых: \n",
    "    \n",
    "- в корзине лежит более 3 неоплаченных товаров за последний квартал\n",
    "- кол-во минут на сайте в текущем месяце менее 13\n",
    "У большинства этих пользователей покупательская активность уже помечена как сниженная, у остальной части она может \n",
    "снижаться в следующих месяцах. \n",
    "Долья прибыли таких пользователей более 30% от общей прибыли. \n",
    "\n",
    "- Для данных пользователей можно сформировать специальное прделожение на товары находящиеся в корзине, а \n",
    "также предложения по товарам в любимой категории. \n",
    "- По данным пользователем можно увеличить кол-во маркет активностей, с целью увеличения времени проведенного сайте\n"
   ]
  },
  {
   "cell_type": "markdown",
   "metadata": {},
   "source": [
    "## Общий вывод"
   ]
  },
  {
   "cell_type": "markdown",
   "metadata": {},
   "source": [
    "\n",
    "<div class=\"alert alert-info\">\n",
    "Вывод обновлен\n",
    "</div>\n"
   ]
  },
  {
   "cell_type": "markdown",
   "metadata": {},
   "source": [
    "Цель: выявить сегмент покупателей, у которых предполагается снижение покупательской активности, \n",
    "    чтобы сделать им персональные предложения.\n",
    "\n",
    "Цель проекта: Обучить 4 модели. Выбрать лучшую модель с наиболее высокой метрикой качества. Провести анализ важности признаков лучшей модели и сформировать сегмент пользователей и предложить способы увеличения покупательской активности для этого сегмента.\n",
    "\n",
    "Результаты проекта: \n",
    "\n",
    "\n",
    "    1. загружены 4 датасета\n",
    "    2. проведена предобработка данных, исправлены опечатки, необходимо перепроверить сбор данных, \n",
    "    возможно это опечатки в системе, то есть баги.\n",
    "    3. Проведено исследовательский анализ, \n",
    "        - удалены 3 пользователя, у которых за последние 3 месяца не было покупок.\n",
    "        - выявлена и удалена одна строка с крайне высоким сверхвыручкой по пользователю за тек период.\n",
    "        Вероятно это ошибка системы, необходимо перероверить даные по пользователю.\n",
    "    4. Объединены 3 датасета\n",
    "    5. Проведен корреляционный анализ,в результате которого не было выявлено мультиколлиниарности и кор-ции\n",
    "     с целевыми признаком. \n",
    "    6. Обучено 4 модели. Для поиска лучшей модели был реализован пайплайн, который использует  кодировщик \n",
    "    и 2 скайлера, также пайплайн использует авматический подбор гиперпараметров с кроссвлидацией из 5 блоков.\n",
    "    Лучшая модель оказалась Модель линейной регрессии. \n",
    "    7.Проведен анализ важности признаков. Наиболее важными оказались признаки: \n",
    "        - кол-во страниц за визит\n",
    "        - Средний_просмотр_категорий_за_визит\n",
    "        - кол-во минут в прошлом месяце и в текущем\n",
    "\n",
    "    Малозначемые признаки:\n",
    "\n",
    "        - Разрешить сообщать \n",
    "        - Длительность\n",
    "        - Популярная категория - Товары для детей\n",
    "           \n",
    "    8. Проведен анализ сегмента. \n",
    "    \n",
    "        - Был выбран сегмент пользователей, который приносит больше всего прибыли компании и по важному для модели\n",
    "        признаку отфлитрованы пользователи с тенденцией к снижению активности. Далее этот сегмент сравнивался с такими же пользователями, но с меньшим риском снижения активности. \n",
    "       Пользователи в выборнном сегменте, проводят меньше времени на сайте и просматривают меньше категорий, а также имеют меньшее соприкосновение с маркетингом за последние 6 месяцев и имеют больше неоплаченных товаров в корзине. \n",
    "       Чтобы повысить их актиновсть предлагается:\n",
    "               \n",
    "    - прислать письмо и пуш уведомление о брошенных товарах в корзине, предложить скидку на всю корзину при ппокупке в этом месяце. \n",
    "    - при покупке товаров на минимальную сумму в этом месяце, дать промокод со скидкой на покупку в след месяце \n",
    "    по самой популярной категории для данного сегмента - Товары для детей\n",
    "       \n"
   ]
  },
  {
   "cell_type": "code",
   "execution_count": null,
   "metadata": {},
   "outputs": [],
   "source": []
  }
 ],
 "metadata": {
  "ExecuteTimeLog": [
   {
    "duration": 60,
    "start_time": "2024-06-26T11:18:15.773Z"
   },
   {
    "duration": 1536,
    "start_time": "2024-06-26T11:18:55.016Z"
   },
   {
    "duration": 3,
    "start_time": "2024-06-26T11:19:10.784Z"
   },
   {
    "duration": 3,
    "start_time": "2024-06-26T11:19:14.050Z"
   },
   {
    "duration": 147,
    "start_time": "2024-06-26T11:20:44.562Z"
   },
   {
    "duration": 151,
    "start_time": "2024-06-26T11:21:00.894Z"
   },
   {
    "duration": 40,
    "start_time": "2024-06-26T11:21:33.200Z"
   },
   {
    "duration": 48,
    "start_time": "2024-06-26T11:22:04.057Z"
   },
   {
    "duration": 141,
    "start_time": "2024-06-26T11:22:59.411Z"
   },
   {
    "duration": 116,
    "start_time": "2024-06-26T11:23:56.226Z"
   },
   {
    "duration": 104,
    "start_time": "2024-06-26T11:24:33.973Z"
   },
   {
    "duration": 49,
    "start_time": "2024-06-26T11:25:14.436Z"
   },
   {
    "duration": 48,
    "start_time": "2024-06-26T11:25:27.895Z"
   },
   {
    "duration": 3,
    "start_time": "2024-06-26T11:27:51.602Z"
   },
   {
    "duration": 48,
    "start_time": "2024-06-26T11:29:24.175Z"
   },
   {
    "duration": 52,
    "start_time": "2024-06-26T11:29:32.413Z"
   },
   {
    "duration": 42,
    "start_time": "2024-06-26T11:30:10.526Z"
   },
   {
    "duration": 55,
    "start_time": "2024-06-26T11:30:31.708Z"
   },
   {
    "duration": 41,
    "start_time": "2024-06-26T11:30:36.935Z"
   },
   {
    "duration": 49,
    "start_time": "2024-06-26T11:30:41.811Z"
   },
   {
    "duration": 46,
    "start_time": "2024-06-26T11:31:08.428Z"
   },
   {
    "duration": 40,
    "start_time": "2024-06-26T11:31:13.470Z"
   },
   {
    "duration": 44,
    "start_time": "2024-06-26T11:31:28.153Z"
   },
   {
    "duration": 11,
    "start_time": "2024-06-26T11:39:57.155Z"
   },
   {
    "duration": 18,
    "start_time": "2024-06-26T11:40:15.481Z"
   },
   {
    "duration": 20,
    "start_time": "2024-06-26T11:40:21.952Z"
   },
   {
    "duration": 21,
    "start_time": "2024-06-26T11:41:27.199Z"
   },
   {
    "duration": 22,
    "start_time": "2024-06-26T11:43:53.203Z"
   },
   {
    "duration": 21,
    "start_time": "2024-06-26T11:43:56.054Z"
   },
   {
    "duration": 24,
    "start_time": "2024-06-26T11:44:48.428Z"
   },
   {
    "duration": 24,
    "start_time": "2024-06-26T11:45:16.057Z"
   },
   {
    "duration": 25,
    "start_time": "2024-06-26T11:46:15.259Z"
   },
   {
    "duration": 23,
    "start_time": "2024-06-26T11:47:03.481Z"
   },
   {
    "duration": 33,
    "start_time": "2024-06-26T11:50:00.485Z"
   },
   {
    "duration": 29,
    "start_time": "2024-06-26T11:50:11.711Z"
   },
   {
    "duration": 15,
    "start_time": "2024-06-26T11:51:08.856Z"
   },
   {
    "duration": 17,
    "start_time": "2024-06-26T11:54:23.915Z"
   },
   {
    "duration": 21,
    "start_time": "2024-06-26T11:54:42.932Z"
   },
   {
    "duration": 27,
    "start_time": "2024-06-26T11:54:48.153Z"
   },
   {
    "duration": 16,
    "start_time": "2024-06-26T11:54:57.406Z"
   },
   {
    "duration": 20,
    "start_time": "2024-06-26T11:55:09.049Z"
   },
   {
    "duration": 14,
    "start_time": "2024-06-26T11:57:18.509Z"
   },
   {
    "duration": 17,
    "start_time": "2024-06-26T11:58:36.278Z"
   },
   {
    "duration": 17,
    "start_time": "2024-06-26T11:59:00.691Z"
   },
   {
    "duration": 21,
    "start_time": "2024-06-26T12:00:53.559Z"
   },
   {
    "duration": 14,
    "start_time": "2024-06-26T12:01:22.501Z"
   },
   {
    "duration": 17,
    "start_time": "2024-06-26T12:03:04.515Z"
   },
   {
    "duration": 1279,
    "start_time": "2024-06-26T12:09:31.254Z"
   },
   {
    "duration": 1233,
    "start_time": "2024-06-26T12:10:58.078Z"
   },
   {
    "duration": 33,
    "start_time": "2024-06-26T12:16:52.720Z"
   },
   {
    "duration": 321,
    "start_time": "2024-06-26T12:18:55.191Z"
   },
   {
    "duration": 223,
    "start_time": "2024-06-26T12:19:40.975Z"
   },
   {
    "duration": 457,
    "start_time": "2024-06-26T12:20:07.172Z"
   },
   {
    "duration": 145,
    "start_time": "2024-06-26T12:20:19.805Z"
   },
   {
    "duration": 152,
    "start_time": "2024-06-26T12:22:54.125Z"
   },
   {
    "duration": 30,
    "start_time": "2024-06-26T12:24:52.147Z"
   },
   {
    "duration": 22,
    "start_time": "2024-06-26T12:25:13.768Z"
   },
   {
    "duration": 20,
    "start_time": "2024-06-26T12:25:22.131Z"
   },
   {
    "duration": 18,
    "start_time": "2024-06-26T12:25:59.583Z"
   },
   {
    "duration": 14,
    "start_time": "2024-06-26T12:26:31.425Z"
   },
   {
    "duration": 1093,
    "start_time": "2024-06-26T12:26:37.433Z"
   },
   {
    "duration": 29,
    "start_time": "2024-06-26T12:26:43.818Z"
   },
   {
    "duration": 215,
    "start_time": "2024-06-26T12:26:48.562Z"
   },
   {
    "duration": 242,
    "start_time": "2024-06-26T12:28:10.313Z"
   },
   {
    "duration": 698,
    "start_time": "2024-06-26T12:29:20.985Z"
   },
   {
    "duration": 1260,
    "start_time": "2024-06-26T12:29:32.080Z"
   },
   {
    "duration": 142,
    "start_time": "2024-06-26T12:29:39.984Z"
   },
   {
    "duration": 11,
    "start_time": "2024-06-26T12:30:02.994Z"
   },
   {
    "duration": 53,
    "start_time": "2024-06-26T12:30:19.335Z"
   },
   {
    "duration": 152,
    "start_time": "2024-06-26T12:30:29.527Z"
   },
   {
    "duration": 394,
    "start_time": "2024-06-26T12:30:36.630Z"
   },
   {
    "duration": 145,
    "start_time": "2024-06-26T12:31:02.154Z"
   },
   {
    "duration": 204,
    "start_time": "2024-06-26T12:31:30.356Z"
   },
   {
    "duration": 28,
    "start_time": "2024-06-26T12:32:54.578Z"
   },
   {
    "duration": 11,
    "start_time": "2024-06-26T12:33:01.907Z"
   },
   {
    "duration": 9,
    "start_time": "2024-06-26T12:33:15.643Z"
   },
   {
    "duration": 10,
    "start_time": "2024-06-26T12:33:29.297Z"
   },
   {
    "duration": 9,
    "start_time": "2024-06-26T12:33:42.082Z"
   },
   {
    "duration": 8,
    "start_time": "2024-06-26T12:33:52.734Z"
   },
   {
    "duration": 8,
    "start_time": "2024-06-26T12:34:18.649Z"
   },
   {
    "duration": 7,
    "start_time": "2024-06-26T12:34:24.078Z"
   },
   {
    "duration": 51,
    "start_time": "2024-06-27T10:40:58.556Z"
   },
   {
    "duration": 1705,
    "start_time": "2024-06-27T10:41:03.644Z"
   },
   {
    "duration": 150,
    "start_time": "2024-06-27T10:41:05.352Z"
   },
   {
    "duration": 95,
    "start_time": "2024-06-27T10:41:05.504Z"
   },
   {
    "duration": 83,
    "start_time": "2024-06-27T10:41:05.601Z"
   },
   {
    "duration": 91,
    "start_time": "2024-06-27T10:41:05.687Z"
   },
   {
    "duration": 28,
    "start_time": "2024-06-27T10:41:05.780Z"
   },
   {
    "duration": 27,
    "start_time": "2024-06-27T10:41:05.810Z"
   },
   {
    "duration": 21,
    "start_time": "2024-06-27T10:41:05.839Z"
   },
   {
    "duration": 16,
    "start_time": "2024-06-27T10:41:05.862Z"
   },
   {
    "duration": 1311,
    "start_time": "2024-06-27T10:41:05.892Z"
   },
   {
    "duration": 32,
    "start_time": "2024-06-27T10:41:07.205Z"
   },
   {
    "duration": 280,
    "start_time": "2024-06-27T10:41:07.239Z"
   },
   {
    "duration": 139,
    "start_time": "2024-06-27T10:41:07.521Z"
   },
   {
    "duration": 8,
    "start_time": "2024-06-27T10:41:07.663Z"
   },
   {
    "duration": 109,
    "start_time": "2024-06-27T10:41:36.215Z"
   },
   {
    "duration": 113,
    "start_time": "2024-06-27T10:42:11.785Z"
   },
   {
    "duration": 7,
    "start_time": "2024-06-27T10:42:46.096Z"
   },
   {
    "duration": 69,
    "start_time": "2024-06-27T10:46:40.567Z"
   },
   {
    "duration": 279,
    "start_time": "2024-06-27T10:47:45.740Z"
   },
   {
    "duration": 289,
    "start_time": "2024-06-27T10:48:31.640Z"
   },
   {
    "duration": 111,
    "start_time": "2024-06-27T10:49:43.867Z"
   },
   {
    "duration": 7,
    "start_time": "2024-06-27T10:50:09.207Z"
   },
   {
    "duration": 11,
    "start_time": "2024-06-27T10:50:18.483Z"
   },
   {
    "duration": 60,
    "start_time": "2024-06-27T10:55:10.922Z"
   },
   {
    "duration": 59,
    "start_time": "2024-06-27T14:47:53.211Z"
   },
   {
    "duration": 1546,
    "start_time": "2024-06-27T14:47:58.194Z"
   },
   {
    "duration": 150,
    "start_time": "2024-06-27T14:47:59.742Z"
   },
   {
    "duration": 106,
    "start_time": "2024-06-27T14:47:59.894Z"
   },
   {
    "duration": 87,
    "start_time": "2024-06-27T14:48:00.001Z"
   },
   {
    "duration": 86,
    "start_time": "2024-06-27T14:48:00.090Z"
   },
   {
    "duration": 26,
    "start_time": "2024-06-27T14:48:00.178Z"
   },
   {
    "duration": 113,
    "start_time": "2024-06-27T14:48:00.205Z"
   },
   {
    "duration": 176,
    "start_time": "2024-06-27T14:48:00.319Z"
   },
   {
    "duration": 100,
    "start_time": "2024-06-27T14:48:00.497Z"
   },
   {
    "duration": 1213,
    "start_time": "2024-06-27T14:48:00.599Z"
   },
   {
    "duration": 32,
    "start_time": "2024-06-27T14:48:01.819Z"
   },
   {
    "duration": 409,
    "start_time": "2024-06-27T14:48:01.852Z"
   },
   {
    "duration": 117,
    "start_time": "2024-06-27T14:48:02.263Z"
   },
   {
    "duration": 8,
    "start_time": "2024-06-27T14:48:02.382Z"
   },
   {
    "duration": 144,
    "start_time": "2024-06-27T14:48:02.392Z"
   },
   {
    "duration": 6,
    "start_time": "2024-06-27T14:48:02.537Z"
   },
   {
    "duration": 143,
    "start_time": "2024-06-27T14:48:02.545Z"
   },
   {
    "duration": 6,
    "start_time": "2024-06-27T14:48:02.690Z"
   },
   {
    "duration": 14,
    "start_time": "2024-06-27T14:48:54.418Z"
   },
   {
    "duration": 115,
    "start_time": "2024-06-27T14:49:24.711Z"
   },
   {
    "duration": 17,
    "start_time": "2024-06-27T14:49:38.068Z"
   },
   {
    "duration": 15,
    "start_time": "2024-06-27T14:49:54.072Z"
   },
   {
    "duration": 13,
    "start_time": "2024-06-27T14:50:13.849Z"
   },
   {
    "duration": 10,
    "start_time": "2024-06-27T14:50:23.387Z"
   },
   {
    "duration": 48,
    "start_time": "2024-06-27T14:50:44.576Z"
   },
   {
    "duration": 737,
    "start_time": "2024-06-27T14:51:25.083Z"
   },
   {
    "duration": 14,
    "start_time": "2024-06-27T14:52:41.827Z"
   },
   {
    "duration": 17,
    "start_time": "2024-06-27T14:52:49.463Z"
   },
   {
    "duration": 7,
    "start_time": "2024-06-27T14:53:44.560Z"
   },
   {
    "duration": 17,
    "start_time": "2024-06-27T14:54:21.536Z"
   },
   {
    "duration": 19,
    "start_time": "2024-06-27T14:54:29.192Z"
   },
   {
    "duration": 127,
    "start_time": "2024-06-27T14:54:39.654Z"
   },
   {
    "duration": 120,
    "start_time": "2024-06-27T14:56:47.176Z"
   },
   {
    "duration": 133,
    "start_time": "2024-06-27T14:56:52.231Z"
   },
   {
    "duration": 113,
    "start_time": "2024-06-27T14:56:59.282Z"
   },
   {
    "duration": 126,
    "start_time": "2024-06-27T14:57:08.308Z"
   },
   {
    "duration": 10,
    "start_time": "2024-06-27T14:57:40.559Z"
   },
   {
    "duration": 101,
    "start_time": "2024-06-27T14:58:09.997Z"
   },
   {
    "duration": 104,
    "start_time": "2024-06-27T14:58:25.112Z"
   },
   {
    "duration": 117,
    "start_time": "2024-06-27T14:59:47.682Z"
   },
   {
    "duration": 105,
    "start_time": "2024-06-27T14:59:59.406Z"
   },
   {
    "duration": 194,
    "start_time": "2024-06-27T15:00:27.826Z"
   },
   {
    "duration": 108,
    "start_time": "2024-06-27T15:00:59.929Z"
   },
   {
    "duration": 110,
    "start_time": "2024-06-27T15:02:00.935Z"
   },
   {
    "duration": 148,
    "start_time": "2024-06-27T15:02:12.824Z"
   },
   {
    "duration": 9,
    "start_time": "2024-06-27T15:04:38.041Z"
   },
   {
    "duration": 1378,
    "start_time": "2024-06-27T15:06:46.774Z"
   },
   {
    "duration": 53,
    "start_time": "2024-06-27T15:06:48.153Z"
   },
   {
    "duration": 31,
    "start_time": "2024-06-27T15:06:48.207Z"
   },
   {
    "duration": 27,
    "start_time": "2024-06-27T15:06:48.240Z"
   },
   {
    "duration": 36,
    "start_time": "2024-06-27T15:06:48.269Z"
   },
   {
    "duration": 35,
    "start_time": "2024-06-27T15:06:48.307Z"
   },
   {
    "duration": 8,
    "start_time": "2024-06-27T15:06:48.344Z"
   },
   {
    "duration": 30,
    "start_time": "2024-06-27T15:06:48.353Z"
   },
   {
    "duration": 36,
    "start_time": "2024-06-27T15:06:48.386Z"
   },
   {
    "duration": 1126,
    "start_time": "2024-06-27T15:06:48.423Z"
   },
   {
    "duration": 31,
    "start_time": "2024-06-27T15:06:49.551Z"
   },
   {
    "duration": 267,
    "start_time": "2024-06-27T15:06:49.584Z"
   },
   {
    "duration": 104,
    "start_time": "2024-06-27T15:06:49.852Z"
   },
   {
    "duration": 8,
    "start_time": "2024-06-27T15:06:49.959Z"
   },
   {
    "duration": 106,
    "start_time": "2024-06-27T15:06:49.968Z"
   },
   {
    "duration": 6,
    "start_time": "2024-06-27T15:06:50.076Z"
   },
   {
    "duration": 111,
    "start_time": "2024-06-27T15:06:50.084Z"
   },
   {
    "duration": 7,
    "start_time": "2024-06-27T15:06:50.196Z"
   },
   {
    "duration": 36,
    "start_time": "2024-06-27T15:06:50.204Z"
   },
   {
    "duration": 119,
    "start_time": "2024-06-27T15:06:50.242Z"
   },
   {
    "duration": 124,
    "start_time": "2024-06-27T15:06:50.363Z"
   },
   {
    "duration": 0,
    "start_time": "2024-06-27T15:06:50.488Z"
   },
   {
    "duration": 15,
    "start_time": "2024-06-27T15:08:12.025Z"
   },
   {
    "duration": 1317,
    "start_time": "2024-06-27T15:09:13.704Z"
   },
   {
    "duration": 52,
    "start_time": "2024-06-27T15:09:15.023Z"
   },
   {
    "duration": 30,
    "start_time": "2024-06-27T15:09:15.076Z"
   },
   {
    "duration": 32,
    "start_time": "2024-06-27T15:09:15.107Z"
   },
   {
    "duration": 36,
    "start_time": "2024-06-27T15:09:15.141Z"
   },
   {
    "duration": 27,
    "start_time": "2024-06-27T15:09:15.179Z"
   },
   {
    "duration": 26,
    "start_time": "2024-06-27T15:09:15.208Z"
   },
   {
    "duration": 35,
    "start_time": "2024-06-27T15:09:15.235Z"
   },
   {
    "duration": 36,
    "start_time": "2024-06-27T15:09:15.272Z"
   },
   {
    "duration": 1182,
    "start_time": "2024-06-27T15:09:15.310Z"
   },
   {
    "duration": 32,
    "start_time": "2024-06-27T15:09:16.493Z"
   },
   {
    "duration": 258,
    "start_time": "2024-06-27T15:09:16.526Z"
   },
   {
    "duration": 106,
    "start_time": "2024-06-27T15:09:16.785Z"
   },
   {
    "duration": 8,
    "start_time": "2024-06-27T15:09:16.893Z"
   },
   {
    "duration": 107,
    "start_time": "2024-06-27T15:09:16.903Z"
   },
   {
    "duration": 12,
    "start_time": "2024-06-27T15:09:17.012Z"
   },
   {
    "duration": 113,
    "start_time": "2024-06-27T15:09:17.025Z"
   },
   {
    "duration": 6,
    "start_time": "2024-06-27T15:09:17.140Z"
   },
   {
    "duration": 27,
    "start_time": "2024-06-27T15:09:17.148Z"
   },
   {
    "duration": 123,
    "start_time": "2024-06-27T15:09:17.176Z"
   },
   {
    "duration": 3,
    "start_time": "2024-06-27T15:09:17.301Z"
   },
   {
    "duration": 33,
    "start_time": "2024-06-27T15:09:17.305Z"
   },
   {
    "duration": 6,
    "start_time": "2024-06-27T15:09:29.649Z"
   },
   {
    "duration": 11,
    "start_time": "2024-06-27T15:11:12.973Z"
   },
   {
    "duration": 11,
    "start_time": "2024-06-27T15:11:23.691Z"
   },
   {
    "duration": 131,
    "start_time": "2024-06-27T15:11:32.231Z"
   },
   {
    "duration": 147,
    "start_time": "2024-06-27T15:12:53.972Z"
   },
   {
    "duration": 115,
    "start_time": "2024-06-27T15:13:21.857Z"
   },
   {
    "duration": 53,
    "start_time": "2024-06-27T15:15:02.900Z"
   },
   {
    "duration": 18,
    "start_time": "2024-06-27T15:16:33.612Z"
   },
   {
    "duration": 58,
    "start_time": "2024-06-27T15:16:43.718Z"
   },
   {
    "duration": 101,
    "start_time": "2024-06-27T15:17:07.905Z"
   },
   {
    "duration": 106,
    "start_time": "2024-06-27T15:17:11.253Z"
   },
   {
    "duration": 77,
    "start_time": "2024-06-27T15:17:16.782Z"
   },
   {
    "duration": 11,
    "start_time": "2024-06-27T15:19:44.390Z"
   },
   {
    "duration": 106,
    "start_time": "2024-06-27T15:20:06.747Z"
   },
   {
    "duration": 91,
    "start_time": "2024-06-27T15:24:01.036Z"
   },
   {
    "duration": 118,
    "start_time": "2024-06-27T15:29:37.176Z"
   },
   {
    "duration": 19,
    "start_time": "2024-06-27T15:30:15.715Z"
   },
   {
    "duration": 22,
    "start_time": "2024-06-27T15:30:23.918Z"
   },
   {
    "duration": 18,
    "start_time": "2024-06-27T15:31:08.137Z"
   },
   {
    "duration": 44,
    "start_time": "2024-06-27T15:33:29.367Z"
   },
   {
    "duration": 16,
    "start_time": "2024-06-27T15:33:44.287Z"
   },
   {
    "duration": 135,
    "start_time": "2024-06-27T15:33:53.052Z"
   },
   {
    "duration": 44,
    "start_time": "2024-06-27T15:34:04.666Z"
   },
   {
    "duration": 139,
    "start_time": "2024-06-27T15:34:07.925Z"
   },
   {
    "duration": 7,
    "start_time": "2024-06-27T15:35:42.866Z"
   },
   {
    "duration": 19,
    "start_time": "2024-06-27T15:36:08.881Z"
   },
   {
    "duration": 14,
    "start_time": "2024-06-27T15:36:41.371Z"
   },
   {
    "duration": 20,
    "start_time": "2024-06-27T15:36:52.767Z"
   },
   {
    "duration": 52,
    "start_time": "2024-06-27T19:59:30.212Z"
   },
   {
    "duration": 1784,
    "start_time": "2024-06-27T19:59:38.021Z"
   },
   {
    "duration": 156,
    "start_time": "2024-06-27T19:59:39.807Z"
   },
   {
    "duration": 110,
    "start_time": "2024-06-27T19:59:39.965Z"
   },
   {
    "duration": 87,
    "start_time": "2024-06-27T19:59:40.077Z"
   },
   {
    "duration": 89,
    "start_time": "2024-06-27T19:59:40.166Z"
   },
   {
    "duration": 30,
    "start_time": "2024-06-27T19:59:40.257Z"
   },
   {
    "duration": 10,
    "start_time": "2024-06-27T19:59:40.289Z"
   },
   {
    "duration": 58,
    "start_time": "2024-06-27T19:59:40.300Z"
   },
   {
    "duration": 17,
    "start_time": "2024-06-27T19:59:40.360Z"
   },
   {
    "duration": 1409,
    "start_time": "2024-06-27T19:59:40.381Z"
   },
   {
    "duration": 34,
    "start_time": "2024-06-27T19:59:41.792Z"
   },
   {
    "duration": 304,
    "start_time": "2024-06-27T19:59:41.828Z"
   },
   {
    "duration": 126,
    "start_time": "2024-06-27T19:59:42.134Z"
   },
   {
    "duration": 10,
    "start_time": "2024-06-27T19:59:42.262Z"
   },
   {
    "duration": 126,
    "start_time": "2024-06-27T19:59:42.273Z"
   },
   {
    "duration": 128,
    "start_time": "2024-06-27T19:59:42.400Z"
   },
   {
    "duration": 7,
    "start_time": "2024-06-27T19:59:42.529Z"
   },
   {
    "duration": 164,
    "start_time": "2024-06-27T19:59:42.537Z"
   },
   {
    "duration": 11,
    "start_time": "2024-06-27T19:59:42.704Z"
   },
   {
    "duration": 27,
    "start_time": "2024-06-27T19:59:42.717Z"
   },
   {
    "duration": 149,
    "start_time": "2024-06-27T19:59:42.755Z"
   },
   {
    "duration": 21,
    "start_time": "2024-06-27T19:59:42.906Z"
   },
   {
    "duration": 159,
    "start_time": "2024-06-27T19:59:42.929Z"
   },
   {
    "duration": 134,
    "start_time": "2024-06-27T19:59:43.090Z"
   },
   {
    "duration": 34,
    "start_time": "2024-06-27T19:59:43.225Z"
   },
   {
    "duration": 128,
    "start_time": "2024-06-27T19:59:43.261Z"
   },
   {
    "duration": 7,
    "start_time": "2024-06-27T19:59:43.391Z"
   },
   {
    "duration": 24,
    "start_time": "2024-06-27T19:59:43.401Z"
   },
   {
    "duration": 150,
    "start_time": "2024-06-27T19:59:43.426Z"
   },
   {
    "duration": 27,
    "start_time": "2024-06-27T20:02:53.559Z"
   },
   {
    "duration": 39,
    "start_time": "2024-06-27T20:04:10.737Z"
   },
   {
    "duration": 13,
    "start_time": "2024-06-27T20:04:23.092Z"
   },
   {
    "duration": 8,
    "start_time": "2024-06-27T20:04:33.095Z"
   },
   {
    "duration": 7,
    "start_time": "2024-06-27T20:04:39.656Z"
   },
   {
    "duration": 7,
    "start_time": "2024-06-27T20:07:59.199Z"
   },
   {
    "duration": 15,
    "start_time": "2024-06-27T20:08:36.693Z"
   },
   {
    "duration": 10,
    "start_time": "2024-06-27T20:08:47.752Z"
   },
   {
    "duration": 10,
    "start_time": "2024-06-27T20:09:59.032Z"
   },
   {
    "duration": 17,
    "start_time": "2024-06-27T20:10:08.174Z"
   },
   {
    "duration": 10,
    "start_time": "2024-06-27T20:11:17.753Z"
   },
   {
    "duration": 26,
    "start_time": "2024-06-27T20:12:03.059Z"
   },
   {
    "duration": 26,
    "start_time": "2024-06-27T20:12:16.666Z"
   },
   {
    "duration": 23,
    "start_time": "2024-06-27T20:12:44.052Z"
   },
   {
    "duration": 34,
    "start_time": "2024-06-27T20:13:22.486Z"
   },
   {
    "duration": 34,
    "start_time": "2024-06-27T20:13:35.301Z"
   },
   {
    "duration": 48,
    "start_time": "2024-06-27T20:16:15.081Z"
   },
   {
    "duration": 34,
    "start_time": "2024-06-27T20:16:35.120Z"
   },
   {
    "duration": 1521,
    "start_time": "2024-06-27T20:17:54.358Z"
   },
   {
    "duration": 60,
    "start_time": "2024-06-27T20:17:55.882Z"
   },
   {
    "duration": 45,
    "start_time": "2024-06-27T20:17:55.944Z"
   },
   {
    "duration": 42,
    "start_time": "2024-06-27T20:17:55.991Z"
   },
   {
    "duration": 49,
    "start_time": "2024-06-27T20:17:56.036Z"
   },
   {
    "duration": 46,
    "start_time": "2024-06-27T20:17:56.087Z"
   },
   {
    "duration": 31,
    "start_time": "2024-06-27T20:17:56.136Z"
   },
   {
    "duration": 24,
    "start_time": "2024-06-27T20:17:56.168Z"
   },
   {
    "duration": 17,
    "start_time": "2024-06-27T20:17:56.194Z"
   },
   {
    "duration": 1379,
    "start_time": "2024-06-27T20:17:56.213Z"
   },
   {
    "duration": 32,
    "start_time": "2024-06-27T20:17:57.594Z"
   },
   {
    "duration": 336,
    "start_time": "2024-06-27T20:17:57.628Z"
   },
   {
    "duration": 121,
    "start_time": "2024-06-27T20:17:57.967Z"
   },
   {
    "duration": 10,
    "start_time": "2024-06-27T20:17:58.091Z"
   },
   {
    "duration": 118,
    "start_time": "2024-06-27T20:17:58.102Z"
   },
   {
    "duration": 120,
    "start_time": "2024-06-27T20:17:58.222Z"
   },
   {
    "duration": 12,
    "start_time": "2024-06-27T20:17:58.344Z"
   },
   {
    "duration": 140,
    "start_time": "2024-06-27T20:17:58.358Z"
   },
   {
    "duration": 7,
    "start_time": "2024-06-27T20:17:58.500Z"
   },
   {
    "duration": 20,
    "start_time": "2024-06-27T20:17:58.508Z"
   },
   {
    "duration": 178,
    "start_time": "2024-06-27T20:17:58.529Z"
   },
   {
    "duration": 14,
    "start_time": "2024-06-27T20:17:58.709Z"
   },
   {
    "duration": 176,
    "start_time": "2024-06-27T20:17:58.725Z"
   },
   {
    "duration": 142,
    "start_time": "2024-06-27T20:17:58.903Z"
   },
   {
    "duration": 29,
    "start_time": "2024-06-27T20:17:59.047Z"
   },
   {
    "duration": 153,
    "start_time": "2024-06-27T20:17:59.079Z"
   },
   {
    "duration": 9,
    "start_time": "2024-06-27T20:17:59.233Z"
   },
   {
    "duration": 32,
    "start_time": "2024-06-27T20:17:59.256Z"
   },
   {
    "duration": 15,
    "start_time": "2024-06-27T20:17:59.290Z"
   },
   {
    "duration": 69,
    "start_time": "2024-06-27T20:17:59.307Z"
   },
   {
    "duration": 47,
    "start_time": "2024-06-27T20:17:59.378Z"
   },
   {
    "duration": 9,
    "start_time": "2024-06-27T20:20:06.270Z"
   },
   {
    "duration": 29,
    "start_time": "2024-06-27T20:22:40.065Z"
   },
   {
    "duration": 25,
    "start_time": "2024-06-27T20:26:53.770Z"
   },
   {
    "duration": 26,
    "start_time": "2024-06-27T20:27:23.362Z"
   },
   {
    "duration": 24,
    "start_time": "2024-06-27T20:29:38.207Z"
   },
   {
    "duration": 25,
    "start_time": "2024-06-27T20:30:09.684Z"
   },
   {
    "duration": 1453,
    "start_time": "2024-06-27T20:30:31.402Z"
   },
   {
    "duration": 58,
    "start_time": "2024-06-27T20:30:32.857Z"
   },
   {
    "duration": 34,
    "start_time": "2024-06-27T20:30:32.917Z"
   },
   {
    "duration": 31,
    "start_time": "2024-06-27T20:30:32.952Z"
   },
   {
    "duration": 38,
    "start_time": "2024-06-27T20:30:32.985Z"
   },
   {
    "duration": 30,
    "start_time": "2024-06-27T20:30:33.025Z"
   },
   {
    "duration": 19,
    "start_time": "2024-06-27T20:30:33.057Z"
   },
   {
    "duration": 43,
    "start_time": "2024-06-27T20:30:33.078Z"
   },
   {
    "duration": 25,
    "start_time": "2024-06-27T20:30:33.123Z"
   },
   {
    "duration": 1386,
    "start_time": "2024-06-27T20:30:33.150Z"
   },
   {
    "duration": 47,
    "start_time": "2024-06-27T20:30:34.537Z"
   },
   {
    "duration": 343,
    "start_time": "2024-06-27T20:30:34.587Z"
   },
   {
    "duration": 123,
    "start_time": "2024-06-27T20:30:34.932Z"
   },
   {
    "duration": 10,
    "start_time": "2024-06-27T20:30:35.058Z"
   },
   {
    "duration": 117,
    "start_time": "2024-06-27T20:30:35.069Z"
   },
   {
    "duration": 125,
    "start_time": "2024-06-27T20:30:35.188Z"
   },
   {
    "duration": 8,
    "start_time": "2024-06-27T20:30:35.315Z"
   },
   {
    "duration": 119,
    "start_time": "2024-06-27T20:30:35.325Z"
   },
   {
    "duration": 16,
    "start_time": "2024-06-27T20:30:35.445Z"
   },
   {
    "duration": 29,
    "start_time": "2024-06-27T20:30:35.463Z"
   },
   {
    "duration": 143,
    "start_time": "2024-06-27T20:30:35.493Z"
   },
   {
    "duration": 29,
    "start_time": "2024-06-27T20:30:35.639Z"
   },
   {
    "duration": 162,
    "start_time": "2024-06-27T20:30:35.670Z"
   },
   {
    "duration": 141,
    "start_time": "2024-06-27T20:30:35.834Z"
   },
   {
    "duration": 18,
    "start_time": "2024-06-27T20:30:35.977Z"
   },
   {
    "duration": 142,
    "start_time": "2024-06-27T20:30:35.998Z"
   },
   {
    "duration": 15,
    "start_time": "2024-06-27T20:30:36.142Z"
   },
   {
    "duration": 59,
    "start_time": "2024-06-27T20:30:36.159Z"
   },
   {
    "duration": 14,
    "start_time": "2024-06-27T20:30:36.220Z"
   },
   {
    "duration": 38,
    "start_time": "2024-06-27T20:30:36.235Z"
   },
   {
    "duration": 83,
    "start_time": "2024-06-27T20:30:36.275Z"
   },
   {
    "duration": 11,
    "start_time": "2024-06-27T20:30:36.359Z"
   },
   {
    "duration": 126,
    "start_time": "2024-06-27T20:30:50.058Z"
   },
   {
    "duration": 25,
    "start_time": "2024-06-27T20:31:05.062Z"
   },
   {
    "duration": 25,
    "start_time": "2024-06-27T20:32:12.323Z"
   },
   {
    "duration": 37,
    "start_time": "2024-06-27T20:34:23.106Z"
   },
   {
    "duration": 39,
    "start_time": "2024-06-27T20:34:30.039Z"
   },
   {
    "duration": 39,
    "start_time": "2024-06-27T20:34:57.232Z"
   },
   {
    "duration": 35,
    "start_time": "2024-06-27T20:35:27.892Z"
   },
   {
    "duration": 34,
    "start_time": "2024-06-27T20:35:44.955Z"
   },
   {
    "duration": 34,
    "start_time": "2024-06-27T20:36:37.098Z"
   },
   {
    "duration": 1466,
    "start_time": "2024-06-27T20:36:47.778Z"
   },
   {
    "duration": 58,
    "start_time": "2024-06-27T20:36:49.247Z"
   },
   {
    "duration": 34,
    "start_time": "2024-06-27T20:36:49.307Z"
   },
   {
    "duration": 30,
    "start_time": "2024-06-27T20:36:49.343Z"
   },
   {
    "duration": 38,
    "start_time": "2024-06-27T20:36:49.376Z"
   },
   {
    "duration": 45,
    "start_time": "2024-06-27T20:36:49.416Z"
   },
   {
    "duration": 15,
    "start_time": "2024-06-27T20:36:49.463Z"
   },
   {
    "duration": 22,
    "start_time": "2024-06-27T20:36:49.480Z"
   },
   {
    "duration": 22,
    "start_time": "2024-06-27T20:36:49.504Z"
   },
   {
    "duration": 1419,
    "start_time": "2024-06-27T20:36:49.528Z"
   },
   {
    "duration": 32,
    "start_time": "2024-06-27T20:36:50.949Z"
   },
   {
    "duration": 303,
    "start_time": "2024-06-27T20:36:50.983Z"
   },
   {
    "duration": 120,
    "start_time": "2024-06-27T20:36:51.288Z"
   },
   {
    "duration": 9,
    "start_time": "2024-06-27T20:36:51.411Z"
   },
   {
    "duration": 127,
    "start_time": "2024-06-27T20:36:51.422Z"
   },
   {
    "duration": 132,
    "start_time": "2024-06-27T20:36:51.556Z"
   },
   {
    "duration": 8,
    "start_time": "2024-06-27T20:36:51.690Z"
   },
   {
    "duration": 132,
    "start_time": "2024-06-27T20:36:51.700Z"
   },
   {
    "duration": 7,
    "start_time": "2024-06-27T20:36:51.833Z"
   },
   {
    "duration": 31,
    "start_time": "2024-06-27T20:36:51.842Z"
   },
   {
    "duration": 143,
    "start_time": "2024-06-27T20:36:51.875Z"
   },
   {
    "duration": 12,
    "start_time": "2024-06-27T20:36:52.020Z"
   },
   {
    "duration": 170,
    "start_time": "2024-06-27T20:36:52.034Z"
   },
   {
    "duration": 137,
    "start_time": "2024-06-27T20:36:52.206Z"
   },
   {
    "duration": 22,
    "start_time": "2024-06-27T20:36:52.345Z"
   },
   {
    "duration": 136,
    "start_time": "2024-06-27T20:36:52.369Z"
   },
   {
    "duration": 10,
    "start_time": "2024-06-27T20:36:52.507Z"
   },
   {
    "duration": 49,
    "start_time": "2024-06-27T20:36:52.519Z"
   },
   {
    "duration": 11,
    "start_time": "2024-06-27T20:36:52.570Z"
   },
   {
    "duration": 76,
    "start_time": "2024-06-27T20:36:52.583Z"
   },
   {
    "duration": 31,
    "start_time": "2024-06-27T20:36:52.661Z"
   },
   {
    "duration": 12,
    "start_time": "2024-06-27T20:36:52.694Z"
   },
   {
    "duration": 1440,
    "start_time": "2024-06-27T20:38:08.692Z"
   },
   {
    "duration": 58,
    "start_time": "2024-06-27T20:38:10.135Z"
   },
   {
    "duration": 36,
    "start_time": "2024-06-27T20:38:10.194Z"
   },
   {
    "duration": 32,
    "start_time": "2024-06-27T20:38:10.232Z"
   },
   {
    "duration": 41,
    "start_time": "2024-06-27T20:38:10.266Z"
   },
   {
    "duration": 31,
    "start_time": "2024-06-27T20:38:10.309Z"
   },
   {
    "duration": 37,
    "start_time": "2024-06-27T20:38:10.342Z"
   },
   {
    "duration": 26,
    "start_time": "2024-06-27T20:38:10.381Z"
   },
   {
    "duration": 21,
    "start_time": "2024-06-27T20:38:10.409Z"
   },
   {
    "duration": 1472,
    "start_time": "2024-06-27T20:38:10.432Z"
   },
   {
    "duration": 33,
    "start_time": "2024-06-27T20:38:11.906Z"
   },
   {
    "duration": 322,
    "start_time": "2024-06-27T20:38:11.941Z"
   },
   {
    "duration": 119,
    "start_time": "2024-06-27T20:38:12.264Z"
   },
   {
    "duration": 10,
    "start_time": "2024-06-27T20:38:12.387Z"
   },
   {
    "duration": 123,
    "start_time": "2024-06-27T20:38:12.400Z"
   },
   {
    "duration": 130,
    "start_time": "2024-06-27T20:38:12.525Z"
   },
   {
    "duration": 8,
    "start_time": "2024-06-27T20:38:12.657Z"
   },
   {
    "duration": 128,
    "start_time": "2024-06-27T20:38:12.667Z"
   },
   {
    "duration": 32,
    "start_time": "2024-06-27T20:38:12.797Z"
   },
   {
    "duration": 30,
    "start_time": "2024-06-27T20:38:12.830Z"
   },
   {
    "duration": 152,
    "start_time": "2024-06-27T20:38:12.862Z"
   },
   {
    "duration": 12,
    "start_time": "2024-06-27T20:38:13.016Z"
   },
   {
    "duration": 142,
    "start_time": "2024-06-27T20:38:13.030Z"
   },
   {
    "duration": 144,
    "start_time": "2024-06-27T20:38:13.176Z"
   },
   {
    "duration": 19,
    "start_time": "2024-06-27T20:38:13.322Z"
   },
   {
    "duration": 126,
    "start_time": "2024-06-27T20:38:13.356Z"
   },
   {
    "duration": 9,
    "start_time": "2024-06-27T20:38:13.484Z"
   },
   {
    "duration": 39,
    "start_time": "2024-06-27T20:38:13.495Z"
   },
   {
    "duration": 28,
    "start_time": "2024-06-27T20:38:13.535Z"
   },
   {
    "duration": 33,
    "start_time": "2024-06-27T20:38:13.565Z"
   },
   {
    "duration": 25,
    "start_time": "2024-06-27T20:38:13.600Z"
   },
   {
    "duration": 29,
    "start_time": "2024-06-27T20:38:13.627Z"
   },
   {
    "duration": 1462,
    "start_time": "2024-06-27T20:39:14.289Z"
   },
   {
    "duration": 57,
    "start_time": "2024-06-27T20:39:15.754Z"
   },
   {
    "duration": 34,
    "start_time": "2024-06-27T20:39:15.813Z"
   },
   {
    "duration": 30,
    "start_time": "2024-06-27T20:39:15.849Z"
   },
   {
    "duration": 48,
    "start_time": "2024-06-27T20:39:15.882Z"
   },
   {
    "duration": 33,
    "start_time": "2024-06-27T20:39:15.932Z"
   },
   {
    "duration": 10,
    "start_time": "2024-06-27T20:39:15.967Z"
   },
   {
    "duration": 34,
    "start_time": "2024-06-27T20:39:15.979Z"
   },
   {
    "duration": 14,
    "start_time": "2024-06-27T20:39:16.015Z"
   },
   {
    "duration": 1389,
    "start_time": "2024-06-27T20:39:16.031Z"
   },
   {
    "duration": 42,
    "start_time": "2024-06-27T20:39:17.422Z"
   },
   {
    "duration": 299,
    "start_time": "2024-06-27T20:39:17.466Z"
   },
   {
    "duration": 112,
    "start_time": "2024-06-27T20:39:17.766Z"
   },
   {
    "duration": 9,
    "start_time": "2024-06-27T20:39:17.881Z"
   },
   {
    "duration": 116,
    "start_time": "2024-06-27T20:39:17.891Z"
   },
   {
    "duration": 130,
    "start_time": "2024-06-27T20:39:18.008Z"
   },
   {
    "duration": 7,
    "start_time": "2024-06-27T20:39:18.140Z"
   },
   {
    "duration": 126,
    "start_time": "2024-06-27T20:39:18.149Z"
   },
   {
    "duration": 7,
    "start_time": "2024-06-27T20:39:18.277Z"
   },
   {
    "duration": 32,
    "start_time": "2024-06-27T20:39:18.286Z"
   },
   {
    "duration": 152,
    "start_time": "2024-06-27T20:39:18.320Z"
   },
   {
    "duration": 21,
    "start_time": "2024-06-27T20:39:18.474Z"
   },
   {
    "duration": 179,
    "start_time": "2024-06-27T20:39:18.497Z"
   },
   {
    "duration": 140,
    "start_time": "2024-06-27T20:39:18.681Z"
   },
   {
    "duration": 33,
    "start_time": "2024-06-27T20:39:18.823Z"
   },
   {
    "duration": 126,
    "start_time": "2024-06-27T20:39:18.858Z"
   },
   {
    "duration": 8,
    "start_time": "2024-06-27T20:39:18.986Z"
   },
   {
    "duration": 32,
    "start_time": "2024-06-27T20:39:18.996Z"
   },
   {
    "duration": 27,
    "start_time": "2024-06-27T20:39:19.030Z"
   },
   {
    "duration": 28,
    "start_time": "2024-06-27T20:39:19.058Z"
   },
   {
    "duration": 27,
    "start_time": "2024-06-27T20:39:19.087Z"
   },
   {
    "duration": 41,
    "start_time": "2024-06-27T20:39:19.115Z"
   },
   {
    "duration": 150,
    "start_time": "2024-06-27T20:39:59.320Z"
   },
   {
    "duration": 1540,
    "start_time": "2024-06-27T20:40:17.423Z"
   },
   {
    "duration": 60,
    "start_time": "2024-06-27T20:40:18.965Z"
   },
   {
    "duration": 34,
    "start_time": "2024-06-27T20:40:19.026Z"
   },
   {
    "duration": 33,
    "start_time": "2024-06-27T20:40:19.062Z"
   },
   {
    "duration": 40,
    "start_time": "2024-06-27T20:40:19.097Z"
   },
   {
    "duration": 32,
    "start_time": "2024-06-27T20:40:19.139Z"
   },
   {
    "duration": 12,
    "start_time": "2024-06-27T20:40:19.172Z"
   },
   {
    "duration": 22,
    "start_time": "2024-06-27T20:40:19.186Z"
   },
   {
    "duration": 16,
    "start_time": "2024-06-27T20:40:19.210Z"
   },
   {
    "duration": 1417,
    "start_time": "2024-06-27T20:40:19.255Z"
   },
   {
    "duration": 45,
    "start_time": "2024-06-27T20:40:20.675Z"
   },
   {
    "duration": 306,
    "start_time": "2024-06-27T20:40:20.722Z"
   },
   {
    "duration": 121,
    "start_time": "2024-06-27T20:40:21.029Z"
   },
   {
    "duration": 9,
    "start_time": "2024-06-27T20:40:21.156Z"
   },
   {
    "duration": 134,
    "start_time": "2024-06-27T20:40:21.167Z"
   },
   {
    "duration": 157,
    "start_time": "2024-06-27T20:40:21.304Z"
   },
   {
    "duration": 9,
    "start_time": "2024-06-27T20:40:21.464Z"
   },
   {
    "duration": 152,
    "start_time": "2024-06-27T20:40:21.476Z"
   },
   {
    "duration": 8,
    "start_time": "2024-06-27T20:40:21.630Z"
   },
   {
    "duration": 32,
    "start_time": "2024-06-27T20:40:21.640Z"
   },
   {
    "duration": 165,
    "start_time": "2024-06-27T20:40:21.674Z"
   },
   {
    "duration": 22,
    "start_time": "2024-06-27T20:40:21.841Z"
   },
   {
    "duration": 152,
    "start_time": "2024-06-27T20:40:21.865Z"
   },
   {
    "duration": 143,
    "start_time": "2024-06-27T20:40:22.019Z"
   },
   {
    "duration": 18,
    "start_time": "2024-06-27T20:40:22.163Z"
   },
   {
    "duration": 141,
    "start_time": "2024-06-27T20:40:22.182Z"
   },
   {
    "duration": 8,
    "start_time": "2024-06-27T20:40:22.325Z"
   },
   {
    "duration": 99,
    "start_time": "2024-06-27T20:40:22.335Z"
   },
   {
    "duration": 9,
    "start_time": "2024-06-27T20:40:22.436Z"
   },
   {
    "duration": 129,
    "start_time": "2024-06-27T20:40:22.447Z"
   },
   {
    "duration": 0,
    "start_time": "2024-06-27T20:40:22.578Z"
   },
   {
    "duration": 1,
    "start_time": "2024-06-27T20:40:22.579Z"
   },
   {
    "duration": 27,
    "start_time": "2024-06-27T20:40:32.105Z"
   },
   {
    "duration": 28,
    "start_time": "2024-06-27T20:40:43.588Z"
   },
   {
    "duration": 32,
    "start_time": "2024-06-27T20:41:07.230Z"
   },
   {
    "duration": 36,
    "start_time": "2024-06-27T20:41:10.940Z"
   },
   {
    "duration": 48,
    "start_time": "2024-06-27T20:43:50.160Z"
   },
   {
    "duration": 1549,
    "start_time": "2024-06-27T20:43:57.532Z"
   },
   {
    "duration": 57,
    "start_time": "2024-06-27T20:43:59.083Z"
   },
   {
    "duration": 33,
    "start_time": "2024-06-27T20:43:59.142Z"
   },
   {
    "duration": 30,
    "start_time": "2024-06-27T20:43:59.177Z"
   },
   {
    "duration": 40,
    "start_time": "2024-06-27T20:43:59.210Z"
   },
   {
    "duration": 33,
    "start_time": "2024-06-27T20:43:59.252Z"
   },
   {
    "duration": 16,
    "start_time": "2024-06-27T20:43:59.286Z"
   },
   {
    "duration": 26,
    "start_time": "2024-06-27T20:43:59.304Z"
   },
   {
    "duration": 34,
    "start_time": "2024-06-27T20:43:59.331Z"
   },
   {
    "duration": 1422,
    "start_time": "2024-06-27T20:43:59.366Z"
   },
   {
    "duration": 33,
    "start_time": "2024-06-27T20:44:00.790Z"
   },
   {
    "duration": 337,
    "start_time": "2024-06-27T20:44:00.824Z"
   },
   {
    "duration": 160,
    "start_time": "2024-06-27T20:44:01.163Z"
   },
   {
    "duration": 18,
    "start_time": "2024-06-27T20:44:01.326Z"
   },
   {
    "duration": 132,
    "start_time": "2024-06-27T20:44:01.347Z"
   },
   {
    "duration": 125,
    "start_time": "2024-06-27T20:44:01.480Z"
   },
   {
    "duration": 8,
    "start_time": "2024-06-27T20:44:01.607Z"
   },
   {
    "duration": 182,
    "start_time": "2024-06-27T20:44:01.617Z"
   },
   {
    "duration": 8,
    "start_time": "2024-06-27T20:44:01.801Z"
   },
   {
    "duration": 47,
    "start_time": "2024-06-27T20:44:01.811Z"
   },
   {
    "duration": 197,
    "start_time": "2024-06-27T20:44:01.860Z"
   },
   {
    "duration": 13,
    "start_time": "2024-06-27T20:44:02.059Z"
   },
   {
    "duration": 177,
    "start_time": "2024-06-27T20:44:02.074Z"
   },
   {
    "duration": 141,
    "start_time": "2024-06-27T20:44:02.253Z"
   },
   {
    "duration": 0,
    "start_time": "2024-06-27T20:44:02.396Z"
   },
   {
    "duration": 0,
    "start_time": "2024-06-27T20:44:02.398Z"
   },
   {
    "duration": 0,
    "start_time": "2024-06-27T20:44:02.400Z"
   },
   {
    "duration": 0,
    "start_time": "2024-06-27T20:44:02.402Z"
   },
   {
    "duration": 0,
    "start_time": "2024-06-27T20:44:02.404Z"
   },
   {
    "duration": 0,
    "start_time": "2024-06-27T20:44:02.405Z"
   },
   {
    "duration": 0,
    "start_time": "2024-06-27T20:44:02.406Z"
   },
   {
    "duration": 0,
    "start_time": "2024-06-27T20:44:02.407Z"
   },
   {
    "duration": 122,
    "start_time": "2024-06-27T20:44:31.564Z"
   },
   {
    "duration": 1518,
    "start_time": "2024-06-27T20:45:16.215Z"
   },
   {
    "duration": 59,
    "start_time": "2024-06-27T20:45:17.735Z"
   },
   {
    "duration": 32,
    "start_time": "2024-06-27T20:45:17.796Z"
   },
   {
    "duration": 30,
    "start_time": "2024-06-27T20:45:17.830Z"
   },
   {
    "duration": 43,
    "start_time": "2024-06-27T20:45:17.862Z"
   },
   {
    "duration": 47,
    "start_time": "2024-06-27T20:45:17.907Z"
   },
   {
    "duration": 13,
    "start_time": "2024-06-27T20:45:17.956Z"
   },
   {
    "duration": 35,
    "start_time": "2024-06-27T20:45:17.972Z"
   },
   {
    "duration": 48,
    "start_time": "2024-06-27T20:45:18.009Z"
   },
   {
    "duration": 1407,
    "start_time": "2024-06-27T20:45:18.058Z"
   },
   {
    "duration": 32,
    "start_time": "2024-06-27T20:45:19.467Z"
   },
   {
    "duration": 361,
    "start_time": "2024-06-27T20:45:19.501Z"
   },
   {
    "duration": 121,
    "start_time": "2024-06-27T20:45:19.864Z"
   },
   {
    "duration": 13,
    "start_time": "2024-06-27T20:45:19.990Z"
   },
   {
    "duration": 140,
    "start_time": "2024-06-27T20:45:20.005Z"
   },
   {
    "duration": 134,
    "start_time": "2024-06-27T20:45:20.146Z"
   },
   {
    "duration": 9,
    "start_time": "2024-06-27T20:45:20.282Z"
   },
   {
    "duration": 187,
    "start_time": "2024-06-27T20:45:20.293Z"
   },
   {
    "duration": 8,
    "start_time": "2024-06-27T20:45:20.482Z"
   },
   {
    "duration": 24,
    "start_time": "2024-06-27T20:45:20.492Z"
   },
   {
    "duration": 179,
    "start_time": "2024-06-27T20:45:20.518Z"
   },
   {
    "duration": 12,
    "start_time": "2024-06-27T20:45:20.699Z"
   },
   {
    "duration": 161,
    "start_time": "2024-06-27T20:45:20.713Z"
   },
   {
    "duration": 153,
    "start_time": "2024-06-27T20:45:20.876Z"
   },
   {
    "duration": 31,
    "start_time": "2024-06-27T20:45:21.031Z"
   },
   {
    "duration": 126,
    "start_time": "2024-06-27T20:45:21.065Z"
   },
   {
    "duration": 9,
    "start_time": "2024-06-27T20:45:21.193Z"
   },
   {
    "duration": 64,
    "start_time": "2024-06-27T20:45:21.204Z"
   },
   {
    "duration": 12,
    "start_time": "2024-06-27T20:45:21.269Z"
   },
   {
    "duration": 42,
    "start_time": "2024-06-27T20:45:21.283Z"
   },
   {
    "duration": 57,
    "start_time": "2024-06-27T20:45:21.327Z"
   },
   {
    "duration": 9,
    "start_time": "2024-06-27T20:45:21.386Z"
   },
   {
    "duration": 984,
    "start_time": "2024-06-27T20:46:26.405Z"
   },
   {
    "duration": 697,
    "start_time": "2024-06-27T20:46:40.381Z"
   },
   {
    "duration": 1480,
    "start_time": "2024-06-27T20:46:47.378Z"
   },
   {
    "duration": 60,
    "start_time": "2024-06-27T20:46:48.861Z"
   },
   {
    "duration": 34,
    "start_time": "2024-06-27T20:46:48.922Z"
   },
   {
    "duration": 31,
    "start_time": "2024-06-27T20:46:48.957Z"
   },
   {
    "duration": 39,
    "start_time": "2024-06-27T20:46:48.991Z"
   },
   {
    "duration": 32,
    "start_time": "2024-06-27T20:46:49.032Z"
   },
   {
    "duration": 12,
    "start_time": "2024-06-27T20:46:49.067Z"
   },
   {
    "duration": 24,
    "start_time": "2024-06-27T20:46:49.081Z"
   },
   {
    "duration": 16,
    "start_time": "2024-06-27T20:46:49.107Z"
   },
   {
    "duration": 1436,
    "start_time": "2024-06-27T20:46:49.154Z"
   },
   {
    "duration": 34,
    "start_time": "2024-06-27T20:46:50.592Z"
   },
   {
    "duration": 322,
    "start_time": "2024-06-27T20:46:50.628Z"
   },
   {
    "duration": 118,
    "start_time": "2024-06-27T20:46:50.956Z"
   },
   {
    "duration": 9,
    "start_time": "2024-06-27T20:46:51.078Z"
   },
   {
    "duration": 120,
    "start_time": "2024-06-27T20:46:51.089Z"
   },
   {
    "duration": 119,
    "start_time": "2024-06-27T20:46:51.211Z"
   },
   {
    "duration": 7,
    "start_time": "2024-06-27T20:46:51.332Z"
   },
   {
    "duration": 130,
    "start_time": "2024-06-27T20:46:51.340Z"
   },
   {
    "duration": 7,
    "start_time": "2024-06-27T20:46:51.472Z"
   },
   {
    "duration": 27,
    "start_time": "2024-06-27T20:46:51.481Z"
   },
   {
    "duration": 176,
    "start_time": "2024-06-27T20:46:51.510Z"
   },
   {
    "duration": 14,
    "start_time": "2024-06-27T20:46:51.688Z"
   },
   {
    "duration": 166,
    "start_time": "2024-06-27T20:46:51.704Z"
   },
   {
    "duration": 157,
    "start_time": "2024-06-27T20:46:51.872Z"
   },
   {
    "duration": 32,
    "start_time": "2024-06-27T20:46:52.032Z"
   },
   {
    "duration": 139,
    "start_time": "2024-06-27T20:46:52.066Z"
   },
   {
    "duration": 9,
    "start_time": "2024-06-27T20:46:52.207Z"
   },
   {
    "duration": 51,
    "start_time": "2024-06-27T20:46:52.217Z"
   },
   {
    "duration": 11,
    "start_time": "2024-06-27T20:46:52.270Z"
   },
   {
    "duration": 34,
    "start_time": "2024-06-27T20:46:52.282Z"
   },
   {
    "duration": 53,
    "start_time": "2024-06-27T20:46:52.318Z"
   },
   {
    "duration": 7,
    "start_time": "2024-06-27T20:46:52.373Z"
   },
   {
    "duration": 135,
    "start_time": "2024-06-27T20:47:37.168Z"
   },
   {
    "duration": 695,
    "start_time": "2024-06-27T20:47:42.308Z"
   },
   {
    "duration": 1556,
    "start_time": "2024-06-27T20:47:47.024Z"
   },
   {
    "duration": 58,
    "start_time": "2024-06-27T20:47:48.582Z"
   },
   {
    "duration": 35,
    "start_time": "2024-06-27T20:47:48.642Z"
   },
   {
    "duration": 32,
    "start_time": "2024-06-27T20:47:48.679Z"
   },
   {
    "duration": 46,
    "start_time": "2024-06-27T20:47:48.713Z"
   },
   {
    "duration": 35,
    "start_time": "2024-06-27T20:47:48.761Z"
   },
   {
    "duration": 52,
    "start_time": "2024-06-27T20:47:48.797Z"
   },
   {
    "duration": 23,
    "start_time": "2024-06-27T20:47:48.851Z"
   },
   {
    "duration": 23,
    "start_time": "2024-06-27T20:47:48.876Z"
   },
   {
    "duration": 1396,
    "start_time": "2024-06-27T20:47:48.903Z"
   },
   {
    "duration": 32,
    "start_time": "2024-06-27T20:47:50.300Z"
   },
   {
    "duration": 330,
    "start_time": "2024-06-27T20:47:50.334Z"
   },
   {
    "duration": 128,
    "start_time": "2024-06-27T20:47:50.666Z"
   },
   {
    "duration": 10,
    "start_time": "2024-06-27T20:47:50.796Z"
   },
   {
    "duration": 134,
    "start_time": "2024-06-27T20:47:50.808Z"
   },
   {
    "duration": 119,
    "start_time": "2024-06-27T20:47:50.944Z"
   },
   {
    "duration": 7,
    "start_time": "2024-06-27T20:47:51.065Z"
   },
   {
    "duration": 128,
    "start_time": "2024-06-27T20:47:51.074Z"
   },
   {
    "duration": 7,
    "start_time": "2024-06-27T20:47:51.204Z"
   },
   {
    "duration": 27,
    "start_time": "2024-06-27T20:47:51.212Z"
   },
   {
    "duration": 153,
    "start_time": "2024-06-27T20:47:51.241Z"
   },
   {
    "duration": 14,
    "start_time": "2024-06-27T20:47:51.395Z"
   },
   {
    "duration": 156,
    "start_time": "2024-06-27T20:47:51.411Z"
   },
   {
    "duration": 153,
    "start_time": "2024-06-27T20:47:51.569Z"
   },
   {
    "duration": 18,
    "start_time": "2024-06-27T20:47:51.723Z"
   },
   {
    "duration": 139,
    "start_time": "2024-06-27T20:47:51.754Z"
   },
   {
    "duration": 9,
    "start_time": "2024-06-27T20:47:51.895Z"
   },
   {
    "duration": 69,
    "start_time": "2024-06-27T20:47:51.908Z"
   },
   {
    "duration": 12,
    "start_time": "2024-06-27T20:47:51.980Z"
   },
   {
    "duration": 73,
    "start_time": "2024-06-27T20:47:51.994Z"
   },
   {
    "duration": 46,
    "start_time": "2024-06-27T20:47:52.070Z"
   },
   {
    "duration": 37,
    "start_time": "2024-06-27T20:47:52.119Z"
   },
   {
    "duration": 1692,
    "start_time": "2024-06-28T08:34:54.871Z"
   },
   {
    "duration": 150,
    "start_time": "2024-06-28T08:34:56.565Z"
   },
   {
    "duration": 105,
    "start_time": "2024-06-28T08:34:56.716Z"
   },
   {
    "duration": 82,
    "start_time": "2024-06-28T08:34:56.823Z"
   },
   {
    "duration": 85,
    "start_time": "2024-06-28T08:34:56.907Z"
   },
   {
    "duration": 27,
    "start_time": "2024-06-28T08:34:56.993Z"
   },
   {
    "duration": 9,
    "start_time": "2024-06-28T08:34:57.022Z"
   },
   {
    "duration": 60,
    "start_time": "2024-06-28T08:34:57.033Z"
   },
   {
    "duration": 39,
    "start_time": "2024-06-28T08:34:57.095Z"
   },
   {
    "duration": 1136,
    "start_time": "2024-06-28T08:34:57.136Z"
   },
   {
    "duration": 26,
    "start_time": "2024-06-28T08:34:58.274Z"
   },
   {
    "duration": 298,
    "start_time": "2024-06-28T08:34:58.302Z"
   },
   {
    "duration": 100,
    "start_time": "2024-06-28T08:34:58.601Z"
   },
   {
    "duration": 16,
    "start_time": "2024-06-28T08:34:58.704Z"
   },
   {
    "duration": 109,
    "start_time": "2024-06-28T08:34:58.722Z"
   },
   {
    "duration": 94,
    "start_time": "2024-06-28T08:34:58.833Z"
   },
   {
    "duration": 6,
    "start_time": "2024-06-28T08:34:58.929Z"
   },
   {
    "duration": 104,
    "start_time": "2024-06-28T08:34:58.936Z"
   },
   {
    "duration": 6,
    "start_time": "2024-06-28T08:34:59.042Z"
   },
   {
    "duration": 23,
    "start_time": "2024-06-28T08:34:59.049Z"
   },
   {
    "duration": 123,
    "start_time": "2024-06-28T08:34:59.074Z"
   },
   {
    "duration": 22,
    "start_time": "2024-06-28T08:34:59.199Z"
   },
   {
    "duration": 123,
    "start_time": "2024-06-28T08:34:59.222Z"
   },
   {
    "duration": 121,
    "start_time": "2024-06-28T08:34:59.347Z"
   },
   {
    "duration": 16,
    "start_time": "2024-06-28T08:34:59.470Z"
   },
   {
    "duration": 158,
    "start_time": "2024-06-28T08:34:59.487Z"
   },
   {
    "duration": 7,
    "start_time": "2024-06-28T08:34:59.647Z"
   },
   {
    "duration": 54,
    "start_time": "2024-06-28T08:34:59.656Z"
   },
   {
    "duration": 9,
    "start_time": "2024-06-28T08:34:59.711Z"
   },
   {
    "duration": 27,
    "start_time": "2024-06-28T08:34:59.721Z"
   },
   {
    "duration": 23,
    "start_time": "2024-06-28T08:34:59.750Z"
   },
   {
    "duration": 7,
    "start_time": "2024-06-28T08:34:59.775Z"
   },
   {
    "duration": 1152,
    "start_time": "2024-06-28T08:35:44.888Z"
   },
   {
    "duration": 1304,
    "start_time": "2024-06-28T08:36:02.261Z"
   },
   {
    "duration": 51,
    "start_time": "2024-06-28T08:36:03.567Z"
   },
   {
    "duration": 61,
    "start_time": "2024-06-28T08:36:03.619Z"
   },
   {
    "duration": 28,
    "start_time": "2024-06-28T08:36:03.681Z"
   },
   {
    "duration": 36,
    "start_time": "2024-06-28T08:36:03.711Z"
   },
   {
    "duration": 24,
    "start_time": "2024-06-28T08:36:03.748Z"
   },
   {
    "duration": 7,
    "start_time": "2024-06-28T08:36:03.774Z"
   },
   {
    "duration": 17,
    "start_time": "2024-06-28T08:36:03.783Z"
   },
   {
    "duration": 32,
    "start_time": "2024-06-28T08:36:03.802Z"
   },
   {
    "duration": 1122,
    "start_time": "2024-06-28T08:36:03.836Z"
   },
   {
    "duration": 26,
    "start_time": "2024-06-28T08:36:04.959Z"
   },
   {
    "duration": 269,
    "start_time": "2024-06-28T08:36:04.987Z"
   },
   {
    "duration": 101,
    "start_time": "2024-06-28T08:36:05.257Z"
   },
   {
    "duration": 8,
    "start_time": "2024-06-28T08:36:05.361Z"
   },
   {
    "duration": 133,
    "start_time": "2024-06-28T08:36:05.370Z"
   },
   {
    "duration": 101,
    "start_time": "2024-06-28T08:36:05.505Z"
   },
   {
    "duration": 14,
    "start_time": "2024-06-28T08:36:05.607Z"
   },
   {
    "duration": 103,
    "start_time": "2024-06-28T08:36:05.623Z"
   },
   {
    "duration": 6,
    "start_time": "2024-06-28T08:36:05.727Z"
   },
   {
    "duration": 18,
    "start_time": "2024-06-28T08:36:05.734Z"
   },
   {
    "duration": 144,
    "start_time": "2024-06-28T08:36:05.753Z"
   },
   {
    "duration": 11,
    "start_time": "2024-06-28T08:36:05.898Z"
   },
   {
    "duration": 137,
    "start_time": "2024-06-28T08:36:05.920Z"
   },
   {
    "duration": 119,
    "start_time": "2024-06-28T08:36:06.059Z"
   },
   {
    "duration": 13,
    "start_time": "2024-06-28T08:36:06.180Z"
   },
   {
    "duration": 143,
    "start_time": "2024-06-28T08:36:06.195Z"
   },
   {
    "duration": 7,
    "start_time": "2024-06-28T08:36:06.339Z"
   },
   {
    "duration": 40,
    "start_time": "2024-06-28T08:36:06.348Z"
   },
   {
    "duration": 18,
    "start_time": "2024-06-28T08:36:06.390Z"
   },
   {
    "duration": 51,
    "start_time": "2024-06-28T08:36:06.410Z"
   },
   {
    "duration": 23,
    "start_time": "2024-06-28T08:36:06.463Z"
   },
   {
    "duration": 7,
    "start_time": "2024-06-28T08:36:06.488Z"
   },
   {
    "duration": 1274,
    "start_time": "2024-06-28T08:36:45.171Z"
   },
   {
    "duration": 51,
    "start_time": "2024-06-28T08:36:46.447Z"
   },
   {
    "duration": 29,
    "start_time": "2024-06-28T08:36:46.500Z"
   },
   {
    "duration": 27,
    "start_time": "2024-06-28T08:36:46.531Z"
   },
   {
    "duration": 35,
    "start_time": "2024-06-28T08:36:46.560Z"
   },
   {
    "duration": 25,
    "start_time": "2024-06-28T08:36:46.597Z"
   },
   {
    "duration": 11,
    "start_time": "2024-06-28T08:36:46.623Z"
   },
   {
    "duration": 31,
    "start_time": "2024-06-28T08:36:46.635Z"
   },
   {
    "duration": 34,
    "start_time": "2024-06-28T08:36:46.667Z"
   },
   {
    "duration": 1109,
    "start_time": "2024-06-28T08:36:46.702Z"
   },
   {
    "duration": 37,
    "start_time": "2024-06-28T08:36:47.812Z"
   },
   {
    "duration": 268,
    "start_time": "2024-06-28T08:36:47.851Z"
   },
   {
    "duration": 104,
    "start_time": "2024-06-28T08:36:48.120Z"
   },
   {
    "duration": 8,
    "start_time": "2024-06-28T08:36:48.228Z"
   },
   {
    "duration": 110,
    "start_time": "2024-06-28T08:36:48.237Z"
   },
   {
    "duration": 106,
    "start_time": "2024-06-28T08:36:48.349Z"
   },
   {
    "duration": 6,
    "start_time": "2024-06-28T08:36:48.456Z"
   },
   {
    "duration": 115,
    "start_time": "2024-06-28T08:36:48.464Z"
   },
   {
    "duration": 6,
    "start_time": "2024-06-28T08:36:48.581Z"
   },
   {
    "duration": 73,
    "start_time": "2024-06-28T08:36:48.588Z"
   },
   {
    "duration": 134,
    "start_time": "2024-06-28T08:36:48.663Z"
   },
   {
    "duration": 12,
    "start_time": "2024-06-28T08:36:48.798Z"
   },
   {
    "duration": 125,
    "start_time": "2024-06-28T08:36:48.820Z"
   },
   {
    "duration": 118,
    "start_time": "2024-06-28T08:36:48.947Z"
   },
   {
    "duration": 14,
    "start_time": "2024-06-28T08:36:49.066Z"
   },
   {
    "duration": 136,
    "start_time": "2024-06-28T08:36:49.082Z"
   },
   {
    "duration": 7,
    "start_time": "2024-06-28T08:36:49.219Z"
   },
   {
    "duration": 47,
    "start_time": "2024-06-28T08:36:49.227Z"
   },
   {
    "duration": 14,
    "start_time": "2024-06-28T08:36:49.275Z"
   },
   {
    "duration": 30,
    "start_time": "2024-06-28T08:36:49.291Z"
   },
   {
    "duration": 24,
    "start_time": "2024-06-28T08:36:49.323Z"
   },
   {
    "duration": 8,
    "start_time": "2024-06-28T08:36:49.349Z"
   },
   {
    "duration": 1100,
    "start_time": "2024-06-28T08:37:27.172Z"
   },
   {
    "duration": 1383,
    "start_time": "2024-06-28T08:37:40.199Z"
   },
   {
    "duration": 52,
    "start_time": "2024-06-28T08:37:41.584Z"
   },
   {
    "duration": 30,
    "start_time": "2024-06-28T08:37:41.637Z"
   },
   {
    "duration": 27,
    "start_time": "2024-06-28T08:37:41.669Z"
   },
   {
    "duration": 37,
    "start_time": "2024-06-28T08:37:41.698Z"
   },
   {
    "duration": 25,
    "start_time": "2024-06-28T08:37:41.736Z"
   },
   {
    "duration": 28,
    "start_time": "2024-06-28T08:37:41.763Z"
   },
   {
    "duration": 17,
    "start_time": "2024-06-28T08:37:41.792Z"
   },
   {
    "duration": 16,
    "start_time": "2024-06-28T08:37:41.811Z"
   },
   {
    "duration": 1128,
    "start_time": "2024-06-28T08:37:41.828Z"
   },
   {
    "duration": 26,
    "start_time": "2024-06-28T08:37:42.958Z"
   },
   {
    "duration": 279,
    "start_time": "2024-06-28T08:37:42.986Z"
   },
   {
    "duration": 97,
    "start_time": "2024-06-28T08:37:43.266Z"
   },
   {
    "duration": 8,
    "start_time": "2024-06-28T08:37:43.365Z"
   },
   {
    "duration": 101,
    "start_time": "2024-06-28T08:37:43.374Z"
   },
   {
    "duration": 101,
    "start_time": "2024-06-28T08:37:43.476Z"
   },
   {
    "duration": 6,
    "start_time": "2024-06-28T08:37:43.578Z"
   },
   {
    "duration": 108,
    "start_time": "2024-06-28T08:37:43.585Z"
   },
   {
    "duration": 6,
    "start_time": "2024-06-28T08:37:43.694Z"
   },
   {
    "duration": 26,
    "start_time": "2024-06-28T08:37:43.701Z"
   },
   {
    "duration": 122,
    "start_time": "2024-06-28T08:37:43.728Z"
   },
   {
    "duration": 11,
    "start_time": "2024-06-28T08:37:43.852Z"
   },
   {
    "duration": 121,
    "start_time": "2024-06-28T08:37:43.864Z"
   },
   {
    "duration": 121,
    "start_time": "2024-06-28T08:37:43.986Z"
   },
   {
    "duration": 26,
    "start_time": "2024-06-28T08:37:44.108Z"
   },
   {
    "duration": 110,
    "start_time": "2024-06-28T08:37:44.135Z"
   },
   {
    "duration": 7,
    "start_time": "2024-06-28T08:37:44.246Z"
   },
   {
    "duration": 35,
    "start_time": "2024-06-28T08:37:44.254Z"
   },
   {
    "duration": 9,
    "start_time": "2024-06-28T08:37:44.290Z"
   },
   {
    "duration": 34,
    "start_time": "2024-06-28T08:37:44.320Z"
   },
   {
    "duration": 25,
    "start_time": "2024-06-28T08:37:44.356Z"
   },
   {
    "duration": 9,
    "start_time": "2024-06-28T08:37:44.382Z"
   },
   {
    "duration": 1322,
    "start_time": "2024-06-28T08:38:06.946Z"
   },
   {
    "duration": 52,
    "start_time": "2024-06-28T08:38:08.270Z"
   },
   {
    "duration": 30,
    "start_time": "2024-06-28T08:38:08.324Z"
   },
   {
    "duration": 33,
    "start_time": "2024-06-28T08:38:08.355Z"
   },
   {
    "duration": 36,
    "start_time": "2024-06-28T08:38:08.391Z"
   },
   {
    "duration": 24,
    "start_time": "2024-06-28T08:38:08.429Z"
   },
   {
    "duration": 15,
    "start_time": "2024-06-28T08:38:08.455Z"
   },
   {
    "duration": 32,
    "start_time": "2024-06-28T08:38:08.472Z"
   },
   {
    "duration": 20,
    "start_time": "2024-06-28T08:38:08.506Z"
   },
   {
    "duration": 1116,
    "start_time": "2024-06-28T08:38:08.528Z"
   },
   {
    "duration": 30,
    "start_time": "2024-06-28T08:38:09.646Z"
   },
   {
    "duration": 281,
    "start_time": "2024-06-28T08:38:09.678Z"
   },
   {
    "duration": 99,
    "start_time": "2024-06-28T08:38:09.961Z"
   },
   {
    "duration": 7,
    "start_time": "2024-06-28T08:38:10.063Z"
   },
   {
    "duration": 101,
    "start_time": "2024-06-28T08:38:10.071Z"
   },
   {
    "duration": 114,
    "start_time": "2024-06-28T08:38:10.174Z"
   },
   {
    "duration": 6,
    "start_time": "2024-06-28T08:38:10.290Z"
   },
   {
    "duration": 106,
    "start_time": "2024-06-28T08:38:10.298Z"
   },
   {
    "duration": 7,
    "start_time": "2024-06-28T08:38:10.406Z"
   },
   {
    "duration": 16,
    "start_time": "2024-06-28T08:38:10.420Z"
   },
   {
    "duration": 124,
    "start_time": "2024-06-28T08:38:10.438Z"
   },
   {
    "duration": 10,
    "start_time": "2024-06-28T08:38:10.564Z"
   },
   {
    "duration": 125,
    "start_time": "2024-06-28T08:38:10.576Z"
   },
   {
    "duration": 126,
    "start_time": "2024-06-28T08:38:10.703Z"
   },
   {
    "duration": 118,
    "start_time": "2024-06-28T08:38:10.830Z"
   },
   {
    "duration": 0,
    "start_time": "2024-06-28T08:38:10.949Z"
   },
   {
    "duration": 0,
    "start_time": "2024-06-28T08:38:10.950Z"
   },
   {
    "duration": 0,
    "start_time": "2024-06-28T08:38:10.951Z"
   },
   {
    "duration": 0,
    "start_time": "2024-06-28T08:38:10.953Z"
   },
   {
    "duration": 0,
    "start_time": "2024-06-28T08:38:10.953Z"
   },
   {
    "duration": 0,
    "start_time": "2024-06-28T08:38:10.954Z"
   },
   {
    "duration": 0,
    "start_time": "2024-06-28T08:38:10.955Z"
   },
   {
    "duration": 113,
    "start_time": "2024-06-28T08:38:17.186Z"
   },
   {
    "duration": 5,
    "start_time": "2024-06-28T08:38:26.158Z"
   },
   {
    "duration": 55,
    "start_time": "2024-06-28T08:39:29.092Z"
   },
   {
    "duration": 4,
    "start_time": "2024-06-28T08:39:32.258Z"
   },
   {
    "duration": 119,
    "start_time": "2024-06-28T08:39:45.154Z"
   },
   {
    "duration": 105,
    "start_time": "2024-06-28T08:40:09.053Z"
   },
   {
    "duration": 12,
    "start_time": "2024-06-28T08:42:30.877Z"
   },
   {
    "duration": 1323,
    "start_time": "2024-06-28T08:42:37.125Z"
   },
   {
    "duration": 53,
    "start_time": "2024-06-28T08:42:38.449Z"
   },
   {
    "duration": 29,
    "start_time": "2024-06-28T08:42:38.503Z"
   },
   {
    "duration": 27,
    "start_time": "2024-06-28T08:42:38.533Z"
   },
   {
    "duration": 35,
    "start_time": "2024-06-28T08:42:38.562Z"
   },
   {
    "duration": 23,
    "start_time": "2024-06-28T08:42:38.599Z"
   },
   {
    "duration": 9,
    "start_time": "2024-06-28T08:42:38.624Z"
   },
   {
    "duration": 28,
    "start_time": "2024-06-28T08:42:38.634Z"
   },
   {
    "duration": 22,
    "start_time": "2024-06-28T08:42:38.664Z"
   },
   {
    "duration": 1093,
    "start_time": "2024-06-28T08:42:38.687Z"
   },
   {
    "duration": 26,
    "start_time": "2024-06-28T08:42:39.781Z"
   },
   {
    "duration": 281,
    "start_time": "2024-06-28T08:42:39.808Z"
   },
   {
    "duration": 106,
    "start_time": "2024-06-28T08:42:40.090Z"
   },
   {
    "duration": 9,
    "start_time": "2024-06-28T08:42:40.199Z"
   },
   {
    "duration": 103,
    "start_time": "2024-06-28T08:42:40.209Z"
   },
   {
    "duration": 112,
    "start_time": "2024-06-28T08:42:40.320Z"
   },
   {
    "duration": 6,
    "start_time": "2024-06-28T08:42:40.433Z"
   },
   {
    "duration": 104,
    "start_time": "2024-06-28T08:42:40.441Z"
   },
   {
    "duration": 6,
    "start_time": "2024-06-28T08:42:40.546Z"
   },
   {
    "duration": 19,
    "start_time": "2024-06-28T08:42:40.554Z"
   },
   {
    "duration": 125,
    "start_time": "2024-06-28T08:42:40.574Z"
   },
   {
    "duration": 20,
    "start_time": "2024-06-28T08:42:40.700Z"
   },
   {
    "duration": 123,
    "start_time": "2024-06-28T08:42:40.721Z"
   },
   {
    "duration": 111,
    "start_time": "2024-06-28T08:42:40.846Z"
   },
   {
    "duration": 0,
    "start_time": "2024-06-28T08:42:40.958Z"
   },
   {
    "duration": 0,
    "start_time": "2024-06-28T08:42:40.959Z"
   },
   {
    "duration": 0,
    "start_time": "2024-06-28T08:42:40.960Z"
   },
   {
    "duration": 0,
    "start_time": "2024-06-28T08:42:40.960Z"
   },
   {
    "duration": 0,
    "start_time": "2024-06-28T08:42:40.961Z"
   },
   {
    "duration": 0,
    "start_time": "2024-06-28T08:42:40.962Z"
   },
   {
    "duration": 0,
    "start_time": "2024-06-28T08:42:40.963Z"
   },
   {
    "duration": 0,
    "start_time": "2024-06-28T08:42:40.964Z"
   },
   {
    "duration": 4,
    "start_time": "2024-06-28T08:43:10.944Z"
   },
   {
    "duration": 10,
    "start_time": "2024-06-28T08:43:50.507Z"
   },
   {
    "duration": 16,
    "start_time": "2024-06-28T08:44:39.719Z"
   },
   {
    "duration": 25,
    "start_time": "2024-06-28T08:44:50.486Z"
   },
   {
    "duration": 34,
    "start_time": "2024-06-28T08:45:06.585Z"
   },
   {
    "duration": 50,
    "start_time": "2024-06-28T08:45:18.297Z"
   },
   {
    "duration": 20,
    "start_time": "2024-06-28T08:45:24.659Z"
   },
   {
    "duration": 18,
    "start_time": "2024-06-28T08:45:38.142Z"
   },
   {
    "duration": 55,
    "start_time": "2024-06-28T08:45:43.460Z"
   },
   {
    "duration": 17,
    "start_time": "2024-06-28T08:45:47.788Z"
   },
   {
    "duration": 18,
    "start_time": "2024-06-28T08:48:33.135Z"
   },
   {
    "duration": 15,
    "start_time": "2024-06-28T08:51:49.772Z"
   },
   {
    "duration": 101,
    "start_time": "2024-06-28T08:51:52.785Z"
   },
   {
    "duration": 8,
    "start_time": "2024-06-28T08:52:00.014Z"
   },
   {
    "duration": 29,
    "start_time": "2024-06-28T08:52:10.055Z"
   },
   {
    "duration": 9,
    "start_time": "2024-06-28T08:52:22.756Z"
   },
   {
    "duration": 24,
    "start_time": "2024-06-28T08:52:40.649Z"
   },
   {
    "duration": 9,
    "start_time": "2024-06-28T08:54:05.408Z"
   },
   {
    "duration": 8,
    "start_time": "2024-06-28T08:54:27.777Z"
   },
   {
    "duration": 9,
    "start_time": "2024-06-28T08:54:33.196Z"
   },
   {
    "duration": 23,
    "start_time": "2024-06-28T08:55:55.601Z"
   },
   {
    "duration": 6,
    "start_time": "2024-06-28T08:56:01.507Z"
   },
   {
    "duration": 23,
    "start_time": "2024-06-28T08:56:20.421Z"
   },
   {
    "duration": 2347,
    "start_time": "2024-06-28T09:01:49.455Z"
   },
   {
    "duration": 52,
    "start_time": "2024-06-28T09:01:51.804Z"
   },
   {
    "duration": 29,
    "start_time": "2024-06-28T09:01:51.857Z"
   },
   {
    "duration": 37,
    "start_time": "2024-06-28T09:01:51.887Z"
   },
   {
    "duration": 36,
    "start_time": "2024-06-28T09:01:51.925Z"
   },
   {
    "duration": 25,
    "start_time": "2024-06-28T09:01:51.963Z"
   },
   {
    "duration": 21,
    "start_time": "2024-06-28T09:01:51.989Z"
   },
   {
    "duration": 63,
    "start_time": "2024-06-28T09:01:52.012Z"
   },
   {
    "duration": 60,
    "start_time": "2024-06-28T09:01:52.076Z"
   },
   {
    "duration": 1120,
    "start_time": "2024-06-28T09:01:52.137Z"
   },
   {
    "duration": 25,
    "start_time": "2024-06-28T09:01:53.258Z"
   },
   {
    "duration": 259,
    "start_time": "2024-06-28T09:01:53.284Z"
   },
   {
    "duration": 97,
    "start_time": "2024-06-28T09:01:53.544Z"
   },
   {
    "duration": 7,
    "start_time": "2024-06-28T09:01:53.644Z"
   },
   {
    "duration": 103,
    "start_time": "2024-06-28T09:01:53.652Z"
   },
   {
    "duration": 110,
    "start_time": "2024-06-28T09:01:53.757Z"
   },
   {
    "duration": 7,
    "start_time": "2024-06-28T09:01:53.868Z"
   },
   {
    "duration": 125,
    "start_time": "2024-06-28T09:01:53.876Z"
   },
   {
    "duration": 6,
    "start_time": "2024-06-28T09:01:54.002Z"
   },
   {
    "duration": 27,
    "start_time": "2024-06-28T09:01:54.010Z"
   },
   {
    "duration": 123,
    "start_time": "2024-06-28T09:01:54.038Z"
   },
   {
    "duration": 11,
    "start_time": "2024-06-28T09:01:54.163Z"
   },
   {
    "duration": 133,
    "start_time": "2024-06-28T09:01:54.175Z"
   },
   {
    "duration": 18,
    "start_time": "2024-06-28T09:01:54.309Z"
   },
   {
    "duration": 106,
    "start_time": "2024-06-28T09:01:54.328Z"
   },
   {
    "duration": 6,
    "start_time": "2024-06-28T09:01:54.436Z"
   },
   {
    "duration": 42,
    "start_time": "2024-06-28T09:01:54.443Z"
   },
   {
    "duration": 53,
    "start_time": "2024-06-28T09:01:54.486Z"
   },
   {
    "duration": 30,
    "start_time": "2024-06-28T09:01:54.540Z"
   },
   {
    "duration": 8,
    "start_time": "2024-06-28T09:01:54.571Z"
   },
   {
    "duration": 30,
    "start_time": "2024-06-28T09:01:54.580Z"
   },
   {
    "duration": 132,
    "start_time": "2024-06-28T09:01:54.612Z"
   },
   {
    "duration": 18,
    "start_time": "2024-06-28T09:04:02.813Z"
   },
   {
    "duration": 18,
    "start_time": "2024-06-28T09:04:38.175Z"
   },
   {
    "duration": 29,
    "start_time": "2024-06-28T09:06:32.559Z"
   },
   {
    "duration": 847,
    "start_time": "2024-06-28T09:07:29.281Z"
   },
   {
    "duration": 45,
    "start_time": "2024-06-28T09:13:16.954Z"
   },
   {
    "duration": 21,
    "start_time": "2024-06-28T09:13:22.724Z"
   },
   {
    "duration": 18,
    "start_time": "2024-06-28T09:13:48.335Z"
   },
   {
    "duration": 777,
    "start_time": "2024-06-28T09:13:57.373Z"
   },
   {
    "duration": 7,
    "start_time": "2024-06-28T09:15:33.991Z"
   },
   {
    "duration": 10,
    "start_time": "2024-06-28T09:15:45.244Z"
   },
   {
    "duration": 772,
    "start_time": "2024-06-28T09:15:50.997Z"
   },
   {
    "duration": 13,
    "start_time": "2024-06-28T09:16:34.326Z"
   },
   {
    "duration": 6,
    "start_time": "2024-06-28T09:16:46.311Z"
   },
   {
    "duration": 6,
    "start_time": "2024-06-28T09:17:15.612Z"
   },
   {
    "duration": 5,
    "start_time": "2024-06-28T09:17:34.180Z"
   },
   {
    "duration": 8,
    "start_time": "2024-06-28T09:18:03.365Z"
   },
   {
    "duration": 11,
    "start_time": "2024-06-28T09:18:11.243Z"
   },
   {
    "duration": 21,
    "start_time": "2024-06-28T09:18:17.796Z"
   },
   {
    "duration": 1288,
    "start_time": "2024-06-28T09:18:24.748Z"
   },
   {
    "duration": 51,
    "start_time": "2024-06-28T09:18:26.037Z"
   },
   {
    "duration": 29,
    "start_time": "2024-06-28T09:18:26.090Z"
   },
   {
    "duration": 27,
    "start_time": "2024-06-28T09:18:26.120Z"
   },
   {
    "duration": 36,
    "start_time": "2024-06-28T09:18:26.149Z"
   },
   {
    "duration": 25,
    "start_time": "2024-06-28T09:18:26.186Z"
   },
   {
    "duration": 8,
    "start_time": "2024-06-28T09:18:26.213Z"
   },
   {
    "duration": 26,
    "start_time": "2024-06-28T09:18:26.223Z"
   },
   {
    "duration": 12,
    "start_time": "2024-06-28T09:18:26.250Z"
   },
   {
    "duration": 1114,
    "start_time": "2024-06-28T09:18:26.264Z"
   },
   {
    "duration": 26,
    "start_time": "2024-06-28T09:18:27.379Z"
   },
   {
    "duration": 269,
    "start_time": "2024-06-28T09:18:27.407Z"
   },
   {
    "duration": 103,
    "start_time": "2024-06-28T09:18:27.677Z"
   },
   {
    "duration": 7,
    "start_time": "2024-06-28T09:18:27.782Z"
   },
   {
    "duration": 104,
    "start_time": "2024-06-28T09:18:27.791Z"
   },
   {
    "duration": 105,
    "start_time": "2024-06-28T09:18:27.897Z"
   },
   {
    "duration": 6,
    "start_time": "2024-06-28T09:18:28.003Z"
   },
   {
    "duration": 110,
    "start_time": "2024-06-28T09:18:28.020Z"
   },
   {
    "duration": 6,
    "start_time": "2024-06-28T09:18:28.131Z"
   },
   {
    "duration": 18,
    "start_time": "2024-06-28T09:18:28.139Z"
   },
   {
    "duration": 139,
    "start_time": "2024-06-28T09:18:28.158Z"
   },
   {
    "duration": 10,
    "start_time": "2024-06-28T09:18:28.299Z"
   },
   {
    "duration": 142,
    "start_time": "2024-06-28T09:18:28.322Z"
   },
   {
    "duration": 14,
    "start_time": "2024-06-28T09:18:28.465Z"
   },
   {
    "duration": 112,
    "start_time": "2024-06-28T09:18:28.480Z"
   },
   {
    "duration": 7,
    "start_time": "2024-06-28T09:18:28.593Z"
   },
   {
    "duration": 37,
    "start_time": "2024-06-28T09:18:28.601Z"
   },
   {
    "duration": 22,
    "start_time": "2024-06-28T09:18:28.639Z"
   },
   {
    "duration": 19,
    "start_time": "2024-06-28T09:18:28.662Z"
   },
   {
    "duration": 6,
    "start_time": "2024-06-28T09:18:28.683Z"
   },
   {
    "duration": 33,
    "start_time": "2024-06-28T09:18:28.690Z"
   },
   {
    "duration": 5,
    "start_time": "2024-06-28T09:18:28.725Z"
   },
   {
    "duration": 120,
    "start_time": "2024-06-28T09:18:28.731Z"
   },
   {
    "duration": 5,
    "start_time": "2024-06-28T09:19:41.963Z"
   },
   {
    "duration": 1046,
    "start_time": "2024-06-28T09:20:15.959Z"
   },
   {
    "duration": 9,
    "start_time": "2024-06-28T09:21:02.443Z"
   },
   {
    "duration": 538,
    "start_time": "2024-06-28T09:21:37.507Z"
   },
   {
    "duration": 573,
    "start_time": "2024-06-28T09:21:52.553Z"
   },
   {
    "duration": 2221,
    "start_time": "2024-06-28T09:22:01.842Z"
   },
   {
    "duration": 5,
    "start_time": "2024-06-28T09:22:10.801Z"
   },
   {
    "duration": 5,
    "start_time": "2024-06-28T09:22:28.023Z"
   },
   {
    "duration": 803,
    "start_time": "2024-06-28T09:23:28.550Z"
   },
   {
    "duration": 6,
    "start_time": "2024-06-28T09:23:45.002Z"
   },
   {
    "duration": 1319,
    "start_time": "2024-06-28T09:24:21.912Z"
   },
   {
    "duration": 50,
    "start_time": "2024-06-28T09:24:23.233Z"
   },
   {
    "duration": 29,
    "start_time": "2024-06-28T09:24:23.284Z"
   },
   {
    "duration": 27,
    "start_time": "2024-06-28T09:24:23.315Z"
   },
   {
    "duration": 36,
    "start_time": "2024-06-28T09:24:23.345Z"
   },
   {
    "duration": 25,
    "start_time": "2024-06-28T09:24:23.382Z"
   },
   {
    "duration": 7,
    "start_time": "2024-06-28T09:24:23.408Z"
   },
   {
    "duration": 16,
    "start_time": "2024-06-28T09:24:23.417Z"
   },
   {
    "duration": 18,
    "start_time": "2024-06-28T09:24:23.434Z"
   },
   {
    "duration": 1178,
    "start_time": "2024-06-28T09:24:23.454Z"
   },
   {
    "duration": 30,
    "start_time": "2024-06-28T09:24:24.633Z"
   },
   {
    "duration": 270,
    "start_time": "2024-06-28T09:24:24.665Z"
   },
   {
    "duration": 100,
    "start_time": "2024-06-28T09:24:24.937Z"
   },
   {
    "duration": 7,
    "start_time": "2024-06-28T09:24:25.040Z"
   },
   {
    "duration": 102,
    "start_time": "2024-06-28T09:24:25.048Z"
   },
   {
    "duration": 104,
    "start_time": "2024-06-28T09:24:25.152Z"
   },
   {
    "duration": 6,
    "start_time": "2024-06-28T09:24:25.257Z"
   },
   {
    "duration": 110,
    "start_time": "2024-06-28T09:24:25.264Z"
   },
   {
    "duration": 6,
    "start_time": "2024-06-28T09:24:25.376Z"
   },
   {
    "duration": 22,
    "start_time": "2024-06-28T09:24:25.383Z"
   },
   {
    "duration": 53,
    "start_time": "2024-06-28T09:24:25.407Z"
   },
   {
    "duration": 0,
    "start_time": "2024-06-28T09:24:25.461Z"
   },
   {
    "duration": 0,
    "start_time": "2024-06-28T09:24:25.462Z"
   },
   {
    "duration": 0,
    "start_time": "2024-06-28T09:24:25.463Z"
   },
   {
    "duration": 0,
    "start_time": "2024-06-28T09:24:25.464Z"
   },
   {
    "duration": 0,
    "start_time": "2024-06-28T09:24:25.465Z"
   },
   {
    "duration": 0,
    "start_time": "2024-06-28T09:24:25.466Z"
   },
   {
    "duration": 0,
    "start_time": "2024-06-28T09:24:25.467Z"
   },
   {
    "duration": 0,
    "start_time": "2024-06-28T09:24:25.468Z"
   },
   {
    "duration": 0,
    "start_time": "2024-06-28T09:24:25.469Z"
   },
   {
    "duration": 0,
    "start_time": "2024-06-28T09:24:25.470Z"
   },
   {
    "duration": 0,
    "start_time": "2024-06-28T09:24:25.471Z"
   },
   {
    "duration": 0,
    "start_time": "2024-06-28T09:24:25.472Z"
   },
   {
    "duration": 0,
    "start_time": "2024-06-28T09:24:25.473Z"
   },
   {
    "duration": 0,
    "start_time": "2024-06-28T09:24:25.473Z"
   },
   {
    "duration": 6,
    "start_time": "2024-06-28T09:24:43.406Z"
   },
   {
    "duration": 12,
    "start_time": "2024-06-28T09:25:40.373Z"
   },
   {
    "duration": 11,
    "start_time": "2024-06-28T09:26:58.866Z"
   },
   {
    "duration": 138,
    "start_time": "2024-06-28T09:27:07.895Z"
   },
   {
    "duration": 15,
    "start_time": "2024-06-28T09:27:28.210Z"
   },
   {
    "duration": 30,
    "start_time": "2024-06-28T09:27:44.284Z"
   },
   {
    "duration": 4,
    "start_time": "2024-06-28T09:27:48.683Z"
   },
   {
    "duration": 9,
    "start_time": "2024-06-28T09:27:51.754Z"
   },
   {
    "duration": 6,
    "start_time": "2024-06-28T09:28:00.861Z"
   },
   {
    "duration": 1352,
    "start_time": "2024-06-28T09:29:22.109Z"
   },
   {
    "duration": 53,
    "start_time": "2024-06-28T09:29:23.463Z"
   },
   {
    "duration": 30,
    "start_time": "2024-06-28T09:29:23.517Z"
   },
   {
    "duration": 37,
    "start_time": "2024-06-28T09:29:23.549Z"
   },
   {
    "duration": 36,
    "start_time": "2024-06-28T09:29:23.588Z"
   },
   {
    "duration": 23,
    "start_time": "2024-06-28T09:29:23.626Z"
   },
   {
    "duration": 10,
    "start_time": "2024-06-28T09:29:23.651Z"
   },
   {
    "duration": 65,
    "start_time": "2024-06-28T09:29:23.662Z"
   },
   {
    "duration": 13,
    "start_time": "2024-06-28T09:29:23.729Z"
   },
   {
    "duration": 1121,
    "start_time": "2024-06-28T09:29:23.745Z"
   },
   {
    "duration": 26,
    "start_time": "2024-06-28T09:29:24.867Z"
   },
   {
    "duration": 260,
    "start_time": "2024-06-28T09:29:24.895Z"
   },
   {
    "duration": 105,
    "start_time": "2024-06-28T09:29:25.156Z"
   },
   {
    "duration": 7,
    "start_time": "2024-06-28T09:29:25.263Z"
   },
   {
    "duration": 97,
    "start_time": "2024-06-28T09:29:25.271Z"
   },
   {
    "duration": 107,
    "start_time": "2024-06-28T09:29:25.370Z"
   },
   {
    "duration": 6,
    "start_time": "2024-06-28T09:29:25.478Z"
   },
   {
    "duration": 106,
    "start_time": "2024-06-28T09:29:25.485Z"
   },
   {
    "duration": 6,
    "start_time": "2024-06-28T09:29:25.592Z"
   },
   {
    "duration": 49,
    "start_time": "2024-06-28T09:29:25.599Z"
   },
   {
    "duration": 20,
    "start_time": "2024-06-28T09:29:25.649Z"
   },
   {
    "duration": 112,
    "start_time": "2024-06-28T09:29:25.671Z"
   },
   {
    "duration": 104,
    "start_time": "2024-06-28T09:29:25.784Z"
   },
   {
    "duration": 14,
    "start_time": "2024-06-28T09:29:25.889Z"
   },
   {
    "duration": 116,
    "start_time": "2024-06-28T09:29:25.904Z"
   },
   {
    "duration": 7,
    "start_time": "2024-06-28T09:29:26.021Z"
   },
   {
    "duration": 45,
    "start_time": "2024-06-28T09:29:26.029Z"
   },
   {
    "duration": 52,
    "start_time": "2024-06-28T09:29:26.077Z"
   },
   {
    "duration": 0,
    "start_time": "2024-06-28T09:29:26.130Z"
   },
   {
    "duration": 0,
    "start_time": "2024-06-28T09:29:26.131Z"
   },
   {
    "duration": 0,
    "start_time": "2024-06-28T09:29:26.132Z"
   },
   {
    "duration": 0,
    "start_time": "2024-06-28T09:29:26.133Z"
   },
   {
    "duration": 0,
    "start_time": "2024-06-28T09:29:26.134Z"
   },
   {
    "duration": 0,
    "start_time": "2024-06-28T09:29:26.135Z"
   },
   {
    "duration": 5,
    "start_time": "2024-06-28T09:30:26.712Z"
   },
   {
    "duration": 11,
    "start_time": "2024-06-28T09:30:30.758Z"
   },
   {
    "duration": 11,
    "start_time": "2024-06-28T09:30:42.244Z"
   },
   {
    "duration": 11,
    "start_time": "2024-06-28T09:30:46.216Z"
   },
   {
    "duration": 5,
    "start_time": "2024-06-28T09:30:55.894Z"
   },
   {
    "duration": 10,
    "start_time": "2024-06-28T09:31:09.037Z"
   },
   {
    "duration": 26,
    "start_time": "2024-06-28T09:31:23.945Z"
   },
   {
    "duration": 51,
    "start_time": "2024-06-28T09:32:20.244Z"
   },
   {
    "duration": 1351,
    "start_time": "2024-06-28T09:32:23.531Z"
   },
   {
    "duration": 53,
    "start_time": "2024-06-28T09:32:24.884Z"
   },
   {
    "duration": 56,
    "start_time": "2024-06-28T09:32:24.938Z"
   },
   {
    "duration": 33,
    "start_time": "2024-06-28T09:32:24.995Z"
   },
   {
    "duration": 36,
    "start_time": "2024-06-28T09:32:25.030Z"
   },
   {
    "duration": 61,
    "start_time": "2024-06-28T09:32:25.067Z"
   },
   {
    "duration": 59,
    "start_time": "2024-06-28T09:32:25.129Z"
   },
   {
    "duration": 45,
    "start_time": "2024-06-28T09:32:25.189Z"
   },
   {
    "duration": 91,
    "start_time": "2024-06-28T09:32:25.235Z"
   },
   {
    "duration": 1135,
    "start_time": "2024-06-28T09:32:25.327Z"
   },
   {
    "duration": 26,
    "start_time": "2024-06-28T09:32:26.464Z"
   },
   {
    "duration": 261,
    "start_time": "2024-06-28T09:32:26.491Z"
   },
   {
    "duration": 103,
    "start_time": "2024-06-28T09:32:26.753Z"
   },
   {
    "duration": 7,
    "start_time": "2024-06-28T09:32:26.859Z"
   },
   {
    "duration": 112,
    "start_time": "2024-06-28T09:32:26.868Z"
   },
   {
    "duration": 104,
    "start_time": "2024-06-28T09:32:26.982Z"
   },
   {
    "duration": 6,
    "start_time": "2024-06-28T09:32:27.088Z"
   },
   {
    "duration": 175,
    "start_time": "2024-06-28T09:32:27.095Z"
   },
   {
    "duration": 5,
    "start_time": "2024-06-28T09:32:27.272Z"
   },
   {
    "duration": 24,
    "start_time": "2024-06-28T09:32:27.279Z"
   },
   {
    "duration": 23,
    "start_time": "2024-06-28T09:32:27.304Z"
   },
   {
    "duration": 128,
    "start_time": "2024-06-28T09:32:27.328Z"
   },
   {
    "duration": 113,
    "start_time": "2024-06-28T09:32:27.457Z"
   },
   {
    "duration": 14,
    "start_time": "2024-06-28T09:32:27.572Z"
   },
   {
    "duration": 111,
    "start_time": "2024-06-28T09:32:27.587Z"
   },
   {
    "duration": 7,
    "start_time": "2024-06-28T09:32:27.699Z"
   },
   {
    "duration": 78,
    "start_time": "2024-06-28T09:32:27.708Z"
   },
   {
    "duration": 19,
    "start_time": "2024-06-28T09:32:27.788Z"
   },
   {
    "duration": 49,
    "start_time": "2024-06-28T09:32:27.809Z"
   },
   {
    "duration": 51,
    "start_time": "2024-06-28T09:32:27.859Z"
   },
   {
    "duration": 0,
    "start_time": "2024-06-28T09:32:27.911Z"
   },
   {
    "duration": 0,
    "start_time": "2024-06-28T09:32:27.912Z"
   },
   {
    "duration": 0,
    "start_time": "2024-06-28T09:32:27.913Z"
   },
   {
    "duration": 0,
    "start_time": "2024-06-28T09:32:27.913Z"
   },
   {
    "duration": 0,
    "start_time": "2024-06-28T09:32:27.914Z"
   },
   {
    "duration": 18,
    "start_time": "2024-06-28T09:33:20.807Z"
   },
   {
    "duration": 21,
    "start_time": "2024-06-28T09:33:31.018Z"
   },
   {
    "duration": 17,
    "start_time": "2024-06-28T09:34:19.223Z"
   },
   {
    "duration": 856,
    "start_time": "2024-06-28T09:36:04.854Z"
   },
   {
    "duration": 572,
    "start_time": "2024-06-28T09:36:18.493Z"
   },
   {
    "duration": 608,
    "start_time": "2024-06-28T09:36:28.414Z"
   },
   {
    "duration": 671,
    "start_time": "2024-06-28T09:38:07.469Z"
   },
   {
    "duration": 578,
    "start_time": "2024-06-28T09:38:35.023Z"
   },
   {
    "duration": 566,
    "start_time": "2024-06-28T09:39:24.724Z"
   },
   {
    "duration": 14,
    "start_time": "2024-06-28T09:41:30.392Z"
   },
   {
    "duration": 6,
    "start_time": "2024-06-28T09:41:46.428Z"
   },
   {
    "duration": 13,
    "start_time": "2024-06-28T09:42:10.493Z"
   },
   {
    "duration": 11,
    "start_time": "2024-06-28T09:42:24.383Z"
   },
   {
    "duration": 11,
    "start_time": "2024-06-28T09:42:36.934Z"
   },
   {
    "duration": 8,
    "start_time": "2024-06-28T09:42:42.033Z"
   },
   {
    "duration": 1349,
    "start_time": "2024-06-28T09:42:57.211Z"
   },
   {
    "duration": 52,
    "start_time": "2024-06-28T09:42:58.561Z"
   },
   {
    "duration": 32,
    "start_time": "2024-06-28T09:42:58.615Z"
   },
   {
    "duration": 28,
    "start_time": "2024-06-28T09:42:58.648Z"
   },
   {
    "duration": 35,
    "start_time": "2024-06-28T09:42:58.678Z"
   },
   {
    "duration": 25,
    "start_time": "2024-06-28T09:42:58.714Z"
   },
   {
    "duration": 35,
    "start_time": "2024-06-28T09:42:58.741Z"
   },
   {
    "duration": 20,
    "start_time": "2024-06-28T09:42:58.777Z"
   },
   {
    "duration": 25,
    "start_time": "2024-06-28T09:42:58.799Z"
   },
   {
    "duration": 1109,
    "start_time": "2024-06-28T09:42:58.825Z"
   },
   {
    "duration": 26,
    "start_time": "2024-06-28T09:42:59.935Z"
   },
   {
    "duration": 269,
    "start_time": "2024-06-28T09:42:59.963Z"
   },
   {
    "duration": 115,
    "start_time": "2024-06-28T09:43:00.234Z"
   },
   {
    "duration": 7,
    "start_time": "2024-06-28T09:43:00.352Z"
   },
   {
    "duration": 213,
    "start_time": "2024-06-28T09:43:00.361Z"
   },
   {
    "duration": 102,
    "start_time": "2024-06-28T09:43:00.576Z"
   },
   {
    "duration": 6,
    "start_time": "2024-06-28T09:43:00.679Z"
   },
   {
    "duration": 189,
    "start_time": "2024-06-28T09:43:00.687Z"
   },
   {
    "duration": 6,
    "start_time": "2024-06-28T09:43:00.878Z"
   },
   {
    "duration": 118,
    "start_time": "2024-06-28T09:43:00.885Z"
   },
   {
    "duration": 65,
    "start_time": "2024-06-28T09:43:01.005Z"
   },
   {
    "duration": 207,
    "start_time": "2024-06-28T09:43:01.072Z"
   },
   {
    "duration": 197,
    "start_time": "2024-06-28T09:43:01.281Z"
   },
   {
    "duration": 16,
    "start_time": "2024-06-28T09:43:01.480Z"
   },
   {
    "duration": 214,
    "start_time": "2024-06-28T09:43:01.497Z"
   },
   {
    "duration": 30,
    "start_time": "2024-06-28T09:43:01.713Z"
   },
   {
    "duration": 74,
    "start_time": "2024-06-28T09:43:01.745Z"
   },
   {
    "duration": 60,
    "start_time": "2024-06-28T09:43:01.820Z"
   },
   {
    "duration": 30,
    "start_time": "2024-06-28T09:43:01.881Z"
   },
   {
    "duration": 30,
    "start_time": "2024-06-28T09:43:01.913Z"
   },
   {
    "duration": 51,
    "start_time": "2024-06-28T09:43:01.944Z"
   },
   {
    "duration": 0,
    "start_time": "2024-06-28T09:43:01.997Z"
   },
   {
    "duration": 0,
    "start_time": "2024-06-28T09:43:01.998Z"
   },
   {
    "duration": 0,
    "start_time": "2024-06-28T09:43:01.999Z"
   },
   {
    "duration": 0,
    "start_time": "2024-06-28T09:43:02.000Z"
   },
   {
    "duration": 0,
    "start_time": "2024-06-28T09:43:02.001Z"
   },
   {
    "duration": 0,
    "start_time": "2024-06-28T09:43:02.002Z"
   },
   {
    "duration": 7,
    "start_time": "2024-06-28T09:43:55.743Z"
   },
   {
    "duration": 11,
    "start_time": "2024-06-28T09:44:32.324Z"
   },
   {
    "duration": 7,
    "start_time": "2024-06-28T09:44:55.555Z"
   },
   {
    "duration": 20,
    "start_time": "2024-06-28T09:45:09.272Z"
   },
   {
    "duration": 10,
    "start_time": "2024-06-28T09:46:38.895Z"
   },
   {
    "duration": 1331,
    "start_time": "2024-06-28T09:48:32.535Z"
   },
   {
    "duration": 52,
    "start_time": "2024-06-28T09:48:33.868Z"
   },
   {
    "duration": 30,
    "start_time": "2024-06-28T09:48:33.921Z"
   },
   {
    "duration": 28,
    "start_time": "2024-06-28T09:48:33.952Z"
   },
   {
    "duration": 36,
    "start_time": "2024-06-28T09:48:33.982Z"
   },
   {
    "duration": 25,
    "start_time": "2024-06-28T09:48:34.019Z"
   },
   {
    "duration": 8,
    "start_time": "2024-06-28T09:48:34.045Z"
   },
   {
    "duration": 23,
    "start_time": "2024-06-28T09:48:34.055Z"
   },
   {
    "duration": 42,
    "start_time": "2024-06-28T09:48:34.079Z"
   },
   {
    "duration": 1121,
    "start_time": "2024-06-28T09:48:34.122Z"
   },
   {
    "duration": 26,
    "start_time": "2024-06-28T09:48:35.244Z"
   },
   {
    "duration": 276,
    "start_time": "2024-06-28T09:48:35.271Z"
   },
   {
    "duration": 100,
    "start_time": "2024-06-28T09:48:35.548Z"
   },
   {
    "duration": 8,
    "start_time": "2024-06-28T09:48:35.651Z"
   },
   {
    "duration": 126,
    "start_time": "2024-06-28T09:48:35.661Z"
   },
   {
    "duration": 101,
    "start_time": "2024-06-28T09:48:35.788Z"
   },
   {
    "duration": 7,
    "start_time": "2024-06-28T09:48:35.890Z"
   },
   {
    "duration": 129,
    "start_time": "2024-06-28T09:48:35.898Z"
   },
   {
    "duration": 6,
    "start_time": "2024-06-28T09:48:36.029Z"
   },
   {
    "duration": 48,
    "start_time": "2024-06-28T09:48:36.036Z"
   },
   {
    "duration": 17,
    "start_time": "2024-06-28T09:48:36.085Z"
   },
   {
    "duration": 121,
    "start_time": "2024-06-28T09:48:36.104Z"
   },
   {
    "duration": 115,
    "start_time": "2024-06-28T09:48:36.227Z"
   },
   {
    "duration": 14,
    "start_time": "2024-06-28T09:48:36.344Z"
   },
   {
    "duration": 111,
    "start_time": "2024-06-28T09:48:36.359Z"
   },
   {
    "duration": 9,
    "start_time": "2024-06-28T09:48:36.472Z"
   },
   {
    "duration": 57,
    "start_time": "2024-06-28T09:48:36.482Z"
   },
   {
    "duration": 0,
    "start_time": "2024-06-28T09:48:36.541Z"
   },
   {
    "duration": 0,
    "start_time": "2024-06-28T09:48:36.542Z"
   },
   {
    "duration": 0,
    "start_time": "2024-06-28T09:48:36.542Z"
   },
   {
    "duration": 0,
    "start_time": "2024-06-28T09:48:36.544Z"
   },
   {
    "duration": 0,
    "start_time": "2024-06-28T09:48:36.545Z"
   },
   {
    "duration": 0,
    "start_time": "2024-06-28T09:48:36.546Z"
   },
   {
    "duration": 0,
    "start_time": "2024-06-28T09:48:36.548Z"
   },
   {
    "duration": 0,
    "start_time": "2024-06-28T09:48:36.549Z"
   },
   {
    "duration": 0,
    "start_time": "2024-06-28T09:48:36.550Z"
   },
   {
    "duration": 0,
    "start_time": "2024-06-28T09:48:36.551Z"
   },
   {
    "duration": 27,
    "start_time": "2024-06-28T09:54:37.750Z"
   },
   {
    "duration": 30,
    "start_time": "2024-06-28T09:54:45.156Z"
   },
   {
    "duration": 6,
    "start_time": "2024-06-28T09:56:06.756Z"
   },
   {
    "duration": 12,
    "start_time": "2024-06-28T09:57:28.593Z"
   },
   {
    "duration": 117,
    "start_time": "2024-06-28T09:58:06.350Z"
   },
   {
    "duration": 1388,
    "start_time": "2024-06-28T09:58:22.502Z"
   },
   {
    "duration": 52,
    "start_time": "2024-06-28T09:58:23.892Z"
   },
   {
    "duration": 31,
    "start_time": "2024-06-28T09:58:23.945Z"
   },
   {
    "duration": 27,
    "start_time": "2024-06-28T09:58:23.978Z"
   },
   {
    "duration": 54,
    "start_time": "2024-06-28T09:58:24.007Z"
   },
   {
    "duration": 26,
    "start_time": "2024-06-28T09:58:24.062Z"
   },
   {
    "duration": 8,
    "start_time": "2024-06-28T09:58:24.090Z"
   },
   {
    "duration": 20,
    "start_time": "2024-06-28T09:58:24.100Z"
   },
   {
    "duration": 13,
    "start_time": "2024-06-28T09:58:24.122Z"
   },
   {
    "duration": 1293,
    "start_time": "2024-06-28T09:58:24.136Z"
   },
   {
    "duration": 28,
    "start_time": "2024-06-28T09:58:25.431Z"
   },
   {
    "duration": 270,
    "start_time": "2024-06-28T09:58:25.460Z"
   },
   {
    "duration": 102,
    "start_time": "2024-06-28T09:58:25.731Z"
   },
   {
    "duration": 8,
    "start_time": "2024-06-28T09:58:25.836Z"
   },
   {
    "duration": 111,
    "start_time": "2024-06-28T09:58:25.845Z"
   },
   {
    "duration": 101,
    "start_time": "2024-06-28T09:58:25.957Z"
   },
   {
    "duration": 6,
    "start_time": "2024-06-28T09:58:26.059Z"
   },
   {
    "duration": 121,
    "start_time": "2024-06-28T09:58:26.067Z"
   },
   {
    "duration": 6,
    "start_time": "2024-06-28T09:58:26.189Z"
   },
   {
    "duration": 32,
    "start_time": "2024-06-28T09:58:26.196Z"
   },
   {
    "duration": 10,
    "start_time": "2024-06-28T09:58:26.229Z"
   },
   {
    "duration": 145,
    "start_time": "2024-06-28T09:58:26.240Z"
   },
   {
    "duration": 122,
    "start_time": "2024-06-28T09:58:26.387Z"
   },
   {
    "duration": 22,
    "start_time": "2024-06-28T09:58:26.510Z"
   },
   {
    "duration": 133,
    "start_time": "2024-06-28T09:58:26.533Z"
   },
   {
    "duration": 9,
    "start_time": "2024-06-28T09:58:26.668Z"
   },
   {
    "duration": 41,
    "start_time": "2024-06-28T09:58:26.679Z"
   },
   {
    "duration": 13,
    "start_time": "2024-06-28T09:58:26.722Z"
   },
   {
    "duration": 134,
    "start_time": "2024-06-28T09:58:26.736Z"
   },
   {
    "duration": 0,
    "start_time": "2024-06-28T09:58:26.871Z"
   },
   {
    "duration": 0,
    "start_time": "2024-06-28T09:58:26.872Z"
   },
   {
    "duration": 0,
    "start_time": "2024-06-28T09:58:26.873Z"
   },
   {
    "duration": 0,
    "start_time": "2024-06-28T09:58:26.874Z"
   },
   {
    "duration": 0,
    "start_time": "2024-06-28T09:58:26.875Z"
   },
   {
    "duration": 0,
    "start_time": "2024-06-28T09:58:26.876Z"
   },
   {
    "duration": 0,
    "start_time": "2024-06-28T09:58:26.876Z"
   },
   {
    "duration": 0,
    "start_time": "2024-06-28T09:58:26.877Z"
   },
   {
    "duration": 0,
    "start_time": "2024-06-28T09:58:26.878Z"
   },
   {
    "duration": 0,
    "start_time": "2024-06-28T09:58:26.879Z"
   },
   {
    "duration": 1353,
    "start_time": "2024-06-28T09:59:57.134Z"
   },
   {
    "duration": 52,
    "start_time": "2024-06-28T09:59:58.489Z"
   },
   {
    "duration": 29,
    "start_time": "2024-06-28T09:59:58.543Z"
   },
   {
    "duration": 28,
    "start_time": "2024-06-28T09:59:58.574Z"
   },
   {
    "duration": 41,
    "start_time": "2024-06-28T09:59:58.605Z"
   },
   {
    "duration": 30,
    "start_time": "2024-06-28T09:59:58.648Z"
   },
   {
    "duration": 8,
    "start_time": "2024-06-28T09:59:58.680Z"
   },
   {
    "duration": 30,
    "start_time": "2024-06-28T09:59:58.690Z"
   },
   {
    "duration": 13,
    "start_time": "2024-06-28T09:59:58.722Z"
   },
   {
    "duration": 1127,
    "start_time": "2024-06-28T09:59:58.737Z"
   },
   {
    "duration": 26,
    "start_time": "2024-06-28T09:59:59.866Z"
   },
   {
    "duration": 276,
    "start_time": "2024-06-28T09:59:59.893Z"
   },
   {
    "duration": 106,
    "start_time": "2024-06-28T10:00:00.171Z"
   },
   {
    "duration": 8,
    "start_time": "2024-06-28T10:00:00.281Z"
   },
   {
    "duration": 189,
    "start_time": "2024-06-28T10:00:00.291Z"
   },
   {
    "duration": 117,
    "start_time": "2024-06-28T10:00:00.482Z"
   },
   {
    "duration": 56,
    "start_time": "2024-06-28T10:00:00.601Z"
   },
   {
    "duration": 156,
    "start_time": "2024-06-28T10:00:00.659Z"
   },
   {
    "duration": 247,
    "start_time": "2024-06-28T10:00:00.816Z"
   },
   {
    "duration": 155,
    "start_time": "2024-06-28T10:00:01.065Z"
   },
   {
    "duration": 137,
    "start_time": "2024-06-28T10:00:01.222Z"
   },
   {
    "duration": 189,
    "start_time": "2024-06-28T10:00:01.360Z"
   },
   {
    "duration": 119,
    "start_time": "2024-06-28T10:00:01.551Z"
   },
   {
    "duration": 174,
    "start_time": "2024-06-28T10:00:01.671Z"
   },
   {
    "duration": 327,
    "start_time": "2024-06-28T10:00:01.846Z"
   },
   {
    "duration": 10,
    "start_time": "2024-06-28T10:00:02.174Z"
   },
   {
    "duration": 76,
    "start_time": "2024-06-28T10:00:02.185Z"
   },
   {
    "duration": 17,
    "start_time": "2024-06-28T10:00:02.263Z"
   },
   {
    "duration": 154,
    "start_time": "2024-06-28T10:00:02.282Z"
   },
   {
    "duration": 0,
    "start_time": "2024-06-28T10:00:02.438Z"
   },
   {
    "duration": 0,
    "start_time": "2024-06-28T10:00:02.439Z"
   },
   {
    "duration": 0,
    "start_time": "2024-06-28T10:00:02.440Z"
   },
   {
    "duration": 0,
    "start_time": "2024-06-28T10:00:02.441Z"
   },
   {
    "duration": 0,
    "start_time": "2024-06-28T10:00:02.442Z"
   },
   {
    "duration": 0,
    "start_time": "2024-06-28T10:00:02.443Z"
   },
   {
    "duration": 0,
    "start_time": "2024-06-28T10:00:02.443Z"
   },
   {
    "duration": 0,
    "start_time": "2024-06-28T10:00:02.444Z"
   },
   {
    "duration": 0,
    "start_time": "2024-06-28T10:00:02.445Z"
   },
   {
    "duration": 0,
    "start_time": "2024-06-28T10:00:02.446Z"
   },
   {
    "duration": 9,
    "start_time": "2024-06-28T10:01:02.812Z"
   },
   {
    "duration": 1313,
    "start_time": "2024-06-28T10:01:15.208Z"
   },
   {
    "duration": 52,
    "start_time": "2024-06-28T10:01:16.523Z"
   },
   {
    "duration": 30,
    "start_time": "2024-06-28T10:01:16.576Z"
   },
   {
    "duration": 28,
    "start_time": "2024-06-28T10:01:16.607Z"
   },
   {
    "duration": 36,
    "start_time": "2024-06-28T10:01:16.636Z"
   },
   {
    "duration": 25,
    "start_time": "2024-06-28T10:01:16.673Z"
   },
   {
    "duration": 9,
    "start_time": "2024-06-28T10:01:16.699Z"
   },
   {
    "duration": 67,
    "start_time": "2024-06-28T10:01:16.709Z"
   },
   {
    "duration": 27,
    "start_time": "2024-06-28T10:01:16.777Z"
   },
   {
    "duration": 1128,
    "start_time": "2024-06-28T10:01:16.805Z"
   },
   {
    "duration": 24,
    "start_time": "2024-06-28T10:01:17.935Z"
   },
   {
    "duration": 261,
    "start_time": "2024-06-28T10:01:17.960Z"
   },
   {
    "duration": 99,
    "start_time": "2024-06-28T10:01:18.223Z"
   },
   {
    "duration": 8,
    "start_time": "2024-06-28T10:01:18.324Z"
   },
   {
    "duration": 119,
    "start_time": "2024-06-28T10:01:18.334Z"
   },
   {
    "duration": 104,
    "start_time": "2024-06-28T10:01:18.455Z"
   },
   {
    "duration": 7,
    "start_time": "2024-06-28T10:01:18.560Z"
   },
   {
    "duration": 111,
    "start_time": "2024-06-28T10:01:18.568Z"
   },
   {
    "duration": 7,
    "start_time": "2024-06-28T10:01:18.681Z"
   },
   {
    "duration": 46,
    "start_time": "2024-06-28T10:01:18.690Z"
   },
   {
    "duration": 9,
    "start_time": "2024-06-28T10:01:18.738Z"
   },
   {
    "duration": 129,
    "start_time": "2024-06-28T10:01:18.749Z"
   },
   {
    "duration": 114,
    "start_time": "2024-06-28T10:01:18.879Z"
   },
   {
    "duration": 26,
    "start_time": "2024-06-28T10:01:18.994Z"
   },
   {
    "duration": 105,
    "start_time": "2024-06-28T10:01:19.021Z"
   },
   {
    "duration": 9,
    "start_time": "2024-06-28T10:01:19.127Z"
   },
   {
    "duration": 55,
    "start_time": "2024-06-28T10:01:19.137Z"
   },
   {
    "duration": 16,
    "start_time": "2024-06-28T10:01:19.194Z"
   },
   {
    "duration": 117,
    "start_time": "2024-06-28T10:01:19.212Z"
   },
   {
    "duration": 0,
    "start_time": "2024-06-28T10:01:19.331Z"
   },
   {
    "duration": 0,
    "start_time": "2024-06-28T10:01:19.332Z"
   },
   {
    "duration": 0,
    "start_time": "2024-06-28T10:01:19.333Z"
   },
   {
    "duration": 0,
    "start_time": "2024-06-28T10:01:19.334Z"
   },
   {
    "duration": 0,
    "start_time": "2024-06-28T10:01:19.335Z"
   },
   {
    "duration": 0,
    "start_time": "2024-06-28T10:01:19.336Z"
   },
   {
    "duration": 0,
    "start_time": "2024-06-28T10:01:19.337Z"
   },
   {
    "duration": 0,
    "start_time": "2024-06-28T10:01:19.337Z"
   },
   {
    "duration": 0,
    "start_time": "2024-06-28T10:01:19.339Z"
   },
   {
    "duration": 0,
    "start_time": "2024-06-28T10:01:19.339Z"
   },
   {
    "duration": 0,
    "start_time": "2024-06-28T10:03:18.053Z"
   },
   {
    "duration": 0,
    "start_time": "2024-06-28T10:03:18.054Z"
   },
   {
    "duration": 0,
    "start_time": "2024-06-28T10:03:18.055Z"
   },
   {
    "duration": 0,
    "start_time": "2024-06-28T10:03:18.055Z"
   },
   {
    "duration": 0,
    "start_time": "2024-06-28T10:03:18.056Z"
   },
   {
    "duration": 0,
    "start_time": "2024-06-28T10:03:18.057Z"
   },
   {
    "duration": 0,
    "start_time": "2024-06-28T10:03:18.120Z"
   },
   {
    "duration": 0,
    "start_time": "2024-06-28T10:03:18.121Z"
   },
   {
    "duration": 0,
    "start_time": "2024-06-28T10:03:18.123Z"
   },
   {
    "duration": 0,
    "start_time": "2024-06-28T10:03:18.123Z"
   },
   {
    "duration": 0,
    "start_time": "2024-06-28T10:03:18.124Z"
   },
   {
    "duration": 0,
    "start_time": "2024-06-28T10:03:18.125Z"
   },
   {
    "duration": 0,
    "start_time": "2024-06-28T10:03:18.126Z"
   },
   {
    "duration": 0,
    "start_time": "2024-06-28T10:03:18.127Z"
   },
   {
    "duration": 0,
    "start_time": "2024-06-28T10:03:18.128Z"
   },
   {
    "duration": 0,
    "start_time": "2024-06-28T10:03:18.129Z"
   },
   {
    "duration": 0,
    "start_time": "2024-06-28T10:03:18.130Z"
   },
   {
    "duration": 0,
    "start_time": "2024-06-28T10:03:18.131Z"
   },
   {
    "duration": 0,
    "start_time": "2024-06-28T10:03:18.132Z"
   },
   {
    "duration": 0,
    "start_time": "2024-06-28T10:03:18.133Z"
   },
   {
    "duration": 0,
    "start_time": "2024-06-28T10:03:18.135Z"
   },
   {
    "duration": 0,
    "start_time": "2024-06-28T10:03:18.136Z"
   },
   {
    "duration": 0,
    "start_time": "2024-06-28T10:03:18.137Z"
   },
   {
    "duration": 0,
    "start_time": "2024-06-28T10:03:18.138Z"
   },
   {
    "duration": 0,
    "start_time": "2024-06-28T10:03:18.140Z"
   },
   {
    "duration": 0,
    "start_time": "2024-06-28T10:03:18.141Z"
   },
   {
    "duration": 0,
    "start_time": "2024-06-28T10:03:18.142Z"
   },
   {
    "duration": 0,
    "start_time": "2024-06-28T10:03:18.143Z"
   },
   {
    "duration": 0,
    "start_time": "2024-06-28T10:03:18.145Z"
   },
   {
    "duration": 0,
    "start_time": "2024-06-28T10:03:18.146Z"
   },
   {
    "duration": 0,
    "start_time": "2024-06-28T10:03:18.147Z"
   },
   {
    "duration": 0,
    "start_time": "2024-06-28T10:03:18.149Z"
   },
   {
    "duration": 0,
    "start_time": "2024-06-28T10:03:18.150Z"
   },
   {
    "duration": 0,
    "start_time": "2024-06-28T10:03:18.151Z"
   },
   {
    "duration": 0,
    "start_time": "2024-06-28T10:03:18.152Z"
   },
   {
    "duration": 0,
    "start_time": "2024-06-28T10:03:18.154Z"
   },
   {
    "duration": 0,
    "start_time": "2024-06-28T10:03:18.155Z"
   },
   {
    "duration": 0,
    "start_time": "2024-06-28T10:03:18.156Z"
   },
   {
    "duration": 0,
    "start_time": "2024-06-28T10:03:18.157Z"
   },
   {
    "duration": 1658,
    "start_time": "2024-06-28T10:03:30.731Z"
   },
   {
    "duration": 62,
    "start_time": "2024-06-28T10:03:32.391Z"
   },
   {
    "duration": 31,
    "start_time": "2024-06-28T10:03:32.455Z"
   },
   {
    "duration": 29,
    "start_time": "2024-06-28T10:03:32.488Z"
   },
   {
    "duration": 39,
    "start_time": "2024-06-28T10:03:32.518Z"
   },
   {
    "duration": 53,
    "start_time": "2024-06-28T10:03:32.559Z"
   },
   {
    "duration": 63,
    "start_time": "2024-06-28T10:03:32.613Z"
   },
   {
    "duration": 60,
    "start_time": "2024-06-28T10:03:32.678Z"
   },
   {
    "duration": 13,
    "start_time": "2024-06-28T10:03:32.740Z"
   },
   {
    "duration": 1154,
    "start_time": "2024-06-28T10:03:32.756Z"
   },
   {
    "duration": 31,
    "start_time": "2024-06-28T10:03:33.911Z"
   },
   {
    "duration": 269,
    "start_time": "2024-06-28T10:03:33.944Z"
   },
   {
    "duration": 118,
    "start_time": "2024-06-28T10:03:34.215Z"
   },
   {
    "duration": 8,
    "start_time": "2024-06-28T10:03:34.335Z"
   },
   {
    "duration": 101,
    "start_time": "2024-06-28T10:03:34.344Z"
   },
   {
    "duration": 107,
    "start_time": "2024-06-28T10:03:34.447Z"
   },
   {
    "duration": 7,
    "start_time": "2024-06-28T10:03:34.556Z"
   },
   {
    "duration": 110,
    "start_time": "2024-06-28T10:03:34.564Z"
   },
   {
    "duration": 7,
    "start_time": "2024-06-28T10:03:34.675Z"
   },
   {
    "duration": 20,
    "start_time": "2024-06-28T10:03:34.683Z"
   },
   {
    "duration": 25,
    "start_time": "2024-06-28T10:03:34.704Z"
   },
   {
    "duration": 135,
    "start_time": "2024-06-28T10:03:34.730Z"
   },
   {
    "duration": 116,
    "start_time": "2024-06-28T10:03:34.867Z"
   },
   {
    "duration": 15,
    "start_time": "2024-06-28T10:03:34.984Z"
   },
   {
    "duration": 136,
    "start_time": "2024-06-28T10:03:35.001Z"
   },
   {
    "duration": 9,
    "start_time": "2024-06-28T10:03:35.139Z"
   },
   {
    "duration": 45,
    "start_time": "2024-06-28T10:03:35.150Z"
   },
   {
    "duration": 114,
    "start_time": "2024-06-28T10:03:35.198Z"
   },
   {
    "duration": 0,
    "start_time": "2024-06-28T10:03:35.313Z"
   },
   {
    "duration": 0,
    "start_time": "2024-06-28T10:03:35.314Z"
   },
   {
    "duration": 0,
    "start_time": "2024-06-28T10:03:35.316Z"
   },
   {
    "duration": 0,
    "start_time": "2024-06-28T10:03:35.320Z"
   },
   {
    "duration": 0,
    "start_time": "2024-06-28T10:03:35.321Z"
   },
   {
    "duration": 0,
    "start_time": "2024-06-28T10:03:35.322Z"
   },
   {
    "duration": 0,
    "start_time": "2024-06-28T10:03:35.323Z"
   },
   {
    "duration": 0,
    "start_time": "2024-06-28T10:03:35.324Z"
   },
   {
    "duration": 0,
    "start_time": "2024-06-28T10:03:35.324Z"
   },
   {
    "duration": 0,
    "start_time": "2024-06-28T10:03:35.325Z"
   },
   {
    "duration": 0,
    "start_time": "2024-06-28T10:03:35.327Z"
   },
   {
    "duration": 19,
    "start_time": "2024-06-28T10:05:45.370Z"
   },
   {
    "duration": 9,
    "start_time": "2024-06-28T10:05:51.745Z"
   },
   {
    "duration": 50,
    "start_time": "2024-06-28T10:05:59.868Z"
   },
   {
    "duration": 12,
    "start_time": "2024-06-28T10:06:05.595Z"
   },
   {
    "duration": 21,
    "start_time": "2024-06-28T10:06:14.641Z"
   },
   {
    "duration": 19,
    "start_time": "2024-06-28T10:06:23.929Z"
   },
   {
    "duration": 13,
    "start_time": "2024-06-28T10:06:30.534Z"
   },
   {
    "duration": 8,
    "start_time": "2024-06-28T10:06:34.496Z"
   },
   {
    "duration": 6,
    "start_time": "2024-06-28T10:06:45.029Z"
   },
   {
    "duration": 21,
    "start_time": "2024-06-28T10:06:48.053Z"
   },
   {
    "duration": 20,
    "start_time": "2024-06-28T10:07:08.666Z"
   },
   {
    "duration": 7,
    "start_time": "2024-06-28T10:08:16.864Z"
   },
   {
    "duration": 8,
    "start_time": "2024-06-28T10:08:21.620Z"
   },
   {
    "duration": 17,
    "start_time": "2024-06-28T10:08:45.088Z"
   },
   {
    "duration": 25,
    "start_time": "2024-06-28T10:08:51.015Z"
   },
   {
    "duration": 24,
    "start_time": "2024-06-28T10:09:42.484Z"
   },
   {
    "duration": 25,
    "start_time": "2024-06-28T10:11:18.181Z"
   },
   {
    "duration": 6,
    "start_time": "2024-06-28T10:11:29.695Z"
   },
   {
    "duration": 8,
    "start_time": "2024-06-28T10:57:53.157Z"
   },
   {
    "duration": 8,
    "start_time": "2024-06-28T10:58:48.228Z"
   },
   {
    "duration": 4609,
    "start_time": "2024-06-28T10:58:59.655Z"
   },
   {
    "duration": 41,
    "start_time": "2024-06-28T10:59:04.266Z"
   },
   {
    "duration": 3,
    "start_time": "2024-06-28T10:59:10.591Z"
   },
   {
    "duration": 2187,
    "start_time": "2024-06-28T11:01:43.741Z"
   },
   {
    "duration": 8,
    "start_time": "2024-06-28T11:02:48.771Z"
   },
   {
    "duration": 6,
    "start_time": "2024-06-28T11:03:10.519Z"
   },
   {
    "duration": 9,
    "start_time": "2024-06-28T11:03:14.849Z"
   },
   {
    "duration": 763,
    "start_time": "2024-06-28T11:03:23.952Z"
   },
   {
    "duration": 3,
    "start_time": "2024-06-28T11:04:10.485Z"
   },
   {
    "duration": 8,
    "start_time": "2024-06-28T11:04:15.665Z"
   },
   {
    "duration": 9,
    "start_time": "2024-06-28T11:04:35.451Z"
   },
   {
    "duration": 756,
    "start_time": "2024-06-28T11:05:04.356Z"
   },
   {
    "duration": 9,
    "start_time": "2024-06-28T11:05:10.462Z"
   },
   {
    "duration": 10,
    "start_time": "2024-06-28T11:05:34.012Z"
   },
   {
    "duration": 2361,
    "start_time": "2024-06-28T11:06:11.050Z"
   },
   {
    "duration": 2141,
    "start_time": "2024-06-28T11:08:04.225Z"
   },
   {
    "duration": 9,
    "start_time": "2024-06-28T11:08:15.650Z"
   },
   {
    "duration": 9,
    "start_time": "2024-06-28T11:08:17.746Z"
   },
   {
    "duration": 2177,
    "start_time": "2024-06-28T11:08:23.590Z"
   },
   {
    "duration": 49,
    "start_time": "2024-06-28T11:10:16.236Z"
   },
   {
    "duration": 7213,
    "start_time": "2024-06-28T11:10:29.511Z"
   },
   {
    "duration": 196,
    "start_time": "2024-06-28T11:13:47.335Z"
   },
   {
    "duration": 190,
    "start_time": "2024-06-28T11:13:56.880Z"
   },
   {
    "duration": 2484,
    "start_time": "2024-06-28T11:14:06.383Z"
   },
   {
    "duration": 386,
    "start_time": "2024-06-28T11:14:49.450Z"
   },
   {
    "duration": 1162,
    "start_time": "2024-06-28T11:15:14.770Z"
   },
   {
    "duration": 100,
    "start_time": "2024-06-28T11:15:29.780Z"
   },
   {
    "duration": 1186,
    "start_time": "2024-06-28T11:15:54.783Z"
   },
   {
    "duration": 7129,
    "start_time": "2024-06-28T11:16:35.908Z"
   },
   {
    "duration": 7447,
    "start_time": "2024-06-28T11:17:43.216Z"
   },
   {
    "duration": 26,
    "start_time": "2024-06-28T11:22:17.019Z"
   },
   {
    "duration": 10,
    "start_time": "2024-06-28T11:22:36.674Z"
   },
   {
    "duration": 5,
    "start_time": "2024-06-28T11:26:38.180Z"
   },
   {
    "duration": 2733,
    "start_time": "2024-06-28T11:44:05.782Z"
   },
   {
    "duration": 1402,
    "start_time": "2024-06-28T11:44:08.517Z"
   },
   {
    "duration": 52,
    "start_time": "2024-06-28T11:44:09.920Z"
   },
   {
    "duration": 30,
    "start_time": "2024-06-28T11:44:09.973Z"
   },
   {
    "duration": 28,
    "start_time": "2024-06-28T11:44:10.004Z"
   },
   {
    "duration": 36,
    "start_time": "2024-06-28T11:44:10.033Z"
   },
   {
    "duration": 32,
    "start_time": "2024-06-28T11:44:10.071Z"
   },
   {
    "duration": 19,
    "start_time": "2024-06-28T11:44:10.105Z"
   },
   {
    "duration": 28,
    "start_time": "2024-06-28T11:44:10.125Z"
   },
   {
    "duration": 77,
    "start_time": "2024-06-28T11:44:10.154Z"
   },
   {
    "duration": 1156,
    "start_time": "2024-06-28T11:44:10.232Z"
   },
   {
    "duration": 34,
    "start_time": "2024-06-28T11:44:11.390Z"
   },
   {
    "duration": 270,
    "start_time": "2024-06-28T11:44:11.425Z"
   },
   {
    "duration": 102,
    "start_time": "2024-06-28T11:44:11.697Z"
   },
   {
    "duration": 20,
    "start_time": "2024-06-28T11:44:11.801Z"
   },
   {
    "duration": 100,
    "start_time": "2024-06-28T11:44:11.823Z"
   },
   {
    "duration": 109,
    "start_time": "2024-06-28T11:44:11.924Z"
   },
   {
    "duration": 6,
    "start_time": "2024-06-28T11:44:12.035Z"
   },
   {
    "duration": 109,
    "start_time": "2024-06-28T11:44:12.043Z"
   },
   {
    "duration": 6,
    "start_time": "2024-06-28T11:44:12.154Z"
   },
   {
    "duration": 71,
    "start_time": "2024-06-28T11:44:12.162Z"
   },
   {
    "duration": 10,
    "start_time": "2024-06-28T11:44:12.234Z"
   },
   {
    "duration": 135,
    "start_time": "2024-06-28T11:44:12.245Z"
   },
   {
    "duration": 115,
    "start_time": "2024-06-28T11:44:12.382Z"
   },
   {
    "duration": 24,
    "start_time": "2024-06-28T11:44:12.499Z"
   },
   {
    "duration": 129,
    "start_time": "2024-06-28T11:44:12.524Z"
   },
   {
    "duration": 11,
    "start_time": "2024-06-28T11:44:12.654Z"
   },
   {
    "duration": 63,
    "start_time": "2024-06-28T11:44:12.667Z"
   },
   {
    "duration": 67,
    "start_time": "2024-06-28T11:44:12.731Z"
   },
   {
    "duration": 74,
    "start_time": "2024-06-28T11:44:12.800Z"
   },
   {
    "duration": 77,
    "start_time": "2024-06-28T11:44:12.875Z"
   },
   {
    "duration": 48,
    "start_time": "2024-06-28T11:44:12.954Z"
   },
   {
    "duration": 31,
    "start_time": "2024-06-28T11:44:13.003Z"
   },
   {
    "duration": 19,
    "start_time": "2024-06-28T11:44:13.036Z"
   },
   {
    "duration": 36,
    "start_time": "2024-06-28T11:44:13.057Z"
   },
   {
    "duration": 38,
    "start_time": "2024-06-28T11:44:13.095Z"
   },
   {
    "duration": 22,
    "start_time": "2024-06-28T11:44:13.135Z"
   },
   {
    "duration": 41,
    "start_time": "2024-06-28T11:44:13.158Z"
   },
   {
    "duration": 6,
    "start_time": "2024-06-28T11:44:13.200Z"
   },
   {
    "duration": 743,
    "start_time": "2024-06-28T11:44:13.208Z"
   },
   {
    "duration": 2346,
    "start_time": "2024-06-28T11:44:13.954Z"
   },
   {
    "duration": 6958,
    "start_time": "2024-06-28T11:44:16.301Z"
   },
   {
    "duration": 15,
    "start_time": "2024-06-28T11:44:23.261Z"
   },
   {
    "duration": 68,
    "start_time": "2024-06-28T11:44:23.277Z"
   },
   {
    "duration": 2786,
    "start_time": "2024-06-28T13:39:46.402Z"
   },
   {
    "duration": 1417,
    "start_time": "2024-06-28T13:39:49.191Z"
   },
   {
    "duration": 56,
    "start_time": "2024-06-28T13:39:50.610Z"
   },
   {
    "duration": 30,
    "start_time": "2024-06-28T13:39:50.668Z"
   },
   {
    "duration": 28,
    "start_time": "2024-06-28T13:39:50.700Z"
   },
   {
    "duration": 41,
    "start_time": "2024-06-28T13:39:50.729Z"
   },
   {
    "duration": 27,
    "start_time": "2024-06-28T13:39:50.772Z"
   },
   {
    "duration": 27,
    "start_time": "2024-06-28T13:39:50.801Z"
   },
   {
    "duration": 32,
    "start_time": "2024-06-28T13:39:50.830Z"
   },
   {
    "duration": 14,
    "start_time": "2024-06-28T13:39:50.863Z"
   },
   {
    "duration": 1160,
    "start_time": "2024-06-28T13:39:50.878Z"
   },
   {
    "duration": 38,
    "start_time": "2024-06-28T13:39:52.039Z"
   },
   {
    "duration": 298,
    "start_time": "2024-06-28T13:39:52.079Z"
   },
   {
    "duration": 109,
    "start_time": "2024-06-28T13:39:52.380Z"
   },
   {
    "duration": 8,
    "start_time": "2024-06-28T13:39:52.491Z"
   },
   {
    "duration": 109,
    "start_time": "2024-06-28T13:39:52.501Z"
   },
   {
    "duration": 110,
    "start_time": "2024-06-28T13:39:52.612Z"
   },
   {
    "duration": 7,
    "start_time": "2024-06-28T13:39:52.723Z"
   },
   {
    "duration": 130,
    "start_time": "2024-06-28T13:39:52.731Z"
   },
   {
    "duration": 6,
    "start_time": "2024-06-28T13:39:52.862Z"
   },
   {
    "duration": 102,
    "start_time": "2024-06-28T13:39:52.870Z"
   },
   {
    "duration": 23,
    "start_time": "2024-06-28T13:39:52.973Z"
   },
   {
    "duration": 151,
    "start_time": "2024-06-28T13:39:52.998Z"
   },
   {
    "duration": 114,
    "start_time": "2024-06-28T13:39:53.151Z"
   },
   {
    "duration": 15,
    "start_time": "2024-06-28T13:39:53.267Z"
   },
   {
    "duration": 124,
    "start_time": "2024-06-28T13:39:53.283Z"
   },
   {
    "duration": 15,
    "start_time": "2024-06-28T13:39:53.409Z"
   },
   {
    "duration": 60,
    "start_time": "2024-06-28T13:39:53.426Z"
   },
   {
    "duration": 22,
    "start_time": "2024-06-28T13:39:53.488Z"
   },
   {
    "duration": 65,
    "start_time": "2024-06-28T13:39:53.511Z"
   },
   {
    "duration": 52,
    "start_time": "2024-06-28T13:39:53.578Z"
   },
   {
    "duration": 42,
    "start_time": "2024-06-28T13:39:53.631Z"
   },
   {
    "duration": 13,
    "start_time": "2024-06-28T13:39:53.675Z"
   },
   {
    "duration": 25,
    "start_time": "2024-06-28T13:39:53.689Z"
   },
   {
    "duration": 39,
    "start_time": "2024-06-28T13:39:53.715Z"
   },
   {
    "duration": 59,
    "start_time": "2024-06-28T13:39:53.756Z"
   },
   {
    "duration": 27,
    "start_time": "2024-06-28T13:39:53.817Z"
   },
   {
    "duration": 40,
    "start_time": "2024-06-28T13:39:53.846Z"
   },
   {
    "duration": 26,
    "start_time": "2024-06-28T13:39:53.888Z"
   },
   {
    "duration": 797,
    "start_time": "2024-06-28T13:39:53.916Z"
   },
   {
    "duration": 2432,
    "start_time": "2024-06-28T13:39:54.719Z"
   },
   {
    "duration": 7250,
    "start_time": "2024-06-28T13:39:57.153Z"
   },
   {
    "duration": 21,
    "start_time": "2024-06-28T13:40:04.405Z"
   },
   {
    "duration": 153,
    "start_time": "2024-06-28T13:40:04.428Z"
   },
   {
    "duration": 385,
    "start_time": "2024-06-28T13:40:27.990Z"
   },
   {
    "duration": 2718,
    "start_time": "2024-06-28T14:40:03.621Z"
   },
   {
    "duration": 1328,
    "start_time": "2024-06-28T14:40:06.341Z"
   },
   {
    "duration": 52,
    "start_time": "2024-06-28T14:40:07.670Z"
   },
   {
    "duration": 31,
    "start_time": "2024-06-28T14:40:07.724Z"
   },
   {
    "duration": 28,
    "start_time": "2024-06-28T14:40:07.757Z"
   },
   {
    "duration": 36,
    "start_time": "2024-06-28T14:40:07.786Z"
   },
   {
    "duration": 24,
    "start_time": "2024-06-28T14:40:07.823Z"
   },
   {
    "duration": 8,
    "start_time": "2024-06-28T14:40:07.849Z"
   },
   {
    "duration": 50,
    "start_time": "2024-06-28T14:40:07.859Z"
   },
   {
    "duration": 13,
    "start_time": "2024-06-28T14:40:07.911Z"
   },
   {
    "duration": 1086,
    "start_time": "2024-06-28T14:40:07.926Z"
   },
   {
    "duration": 27,
    "start_time": "2024-06-28T14:40:09.014Z"
   },
   {
    "duration": 273,
    "start_time": "2024-06-28T14:40:09.042Z"
   },
   {
    "duration": 92,
    "start_time": "2024-06-28T14:40:09.319Z"
   },
   {
    "duration": 8,
    "start_time": "2024-06-28T14:40:09.419Z"
   },
   {
    "duration": 100,
    "start_time": "2024-06-28T14:40:09.428Z"
   },
   {
    "duration": 101,
    "start_time": "2024-06-28T14:40:09.529Z"
   },
   {
    "duration": 5,
    "start_time": "2024-06-28T14:40:09.632Z"
   },
   {
    "duration": 112,
    "start_time": "2024-06-28T14:40:09.639Z"
   },
   {
    "duration": 6,
    "start_time": "2024-06-28T14:40:09.752Z"
   },
   {
    "duration": 19,
    "start_time": "2024-06-28T14:40:09.760Z"
   },
   {
    "duration": 36,
    "start_time": "2024-06-28T14:40:09.781Z"
   },
   {
    "duration": 119,
    "start_time": "2024-06-28T14:40:09.819Z"
   },
   {
    "duration": 113,
    "start_time": "2024-06-28T14:40:09.940Z"
   },
   {
    "duration": 15,
    "start_time": "2024-06-28T14:40:10.055Z"
   },
   {
    "duration": 112,
    "start_time": "2024-06-28T14:40:10.071Z"
   },
   {
    "duration": 10,
    "start_time": "2024-06-28T14:40:10.184Z"
   },
   {
    "duration": 45,
    "start_time": "2024-06-28T14:40:10.195Z"
   },
   {
    "duration": 19,
    "start_time": "2024-06-28T14:40:10.241Z"
   },
   {
    "duration": 8,
    "start_time": "2024-06-28T14:40:10.261Z"
   },
   {
    "duration": 24,
    "start_time": "2024-06-28T14:40:10.271Z"
   },
   {
    "duration": 46,
    "start_time": "2024-06-28T14:40:10.297Z"
   },
   {
    "duration": 14,
    "start_time": "2024-06-28T14:40:10.345Z"
   },
   {
    "duration": 7,
    "start_time": "2024-06-28T14:40:10.361Z"
   },
   {
    "duration": 7,
    "start_time": "2024-06-28T14:40:10.370Z"
   },
   {
    "duration": 63,
    "start_time": "2024-06-28T14:40:10.379Z"
   },
   {
    "duration": 8,
    "start_time": "2024-06-28T14:40:10.444Z"
   },
   {
    "duration": 26,
    "start_time": "2024-06-28T14:40:10.453Z"
   },
   {
    "duration": 6,
    "start_time": "2024-06-28T14:40:10.480Z"
   },
   {
    "duration": 741,
    "start_time": "2024-06-28T14:40:10.487Z"
   },
   {
    "duration": 2375,
    "start_time": "2024-06-28T14:40:11.232Z"
   },
   {
    "duration": 6837,
    "start_time": "2024-06-28T14:40:13.609Z"
   },
   {
    "duration": 23,
    "start_time": "2024-06-28T14:40:20.448Z"
   },
   {
    "duration": 511,
    "start_time": "2024-06-28T14:40:20.472Z"
   },
   {
    "duration": 356,
    "start_time": "2024-06-28T14:42:55.375Z"
   },
   {
    "duration": 362,
    "start_time": "2024-06-28T14:43:11.744Z"
   },
   {
    "duration": 355,
    "start_time": "2024-06-28T14:43:20.489Z"
   },
   {
    "duration": 2692,
    "start_time": "2024-06-28T14:43:31.602Z"
   },
   {
    "duration": 1391,
    "start_time": "2024-06-28T14:43:34.297Z"
   },
   {
    "duration": 52,
    "start_time": "2024-06-28T14:43:35.689Z"
   },
   {
    "duration": 30,
    "start_time": "2024-06-28T14:43:35.742Z"
   },
   {
    "duration": 27,
    "start_time": "2024-06-28T14:43:35.774Z"
   },
   {
    "duration": 35,
    "start_time": "2024-06-28T14:43:35.802Z"
   },
   {
    "duration": 24,
    "start_time": "2024-06-28T14:43:35.838Z"
   },
   {
    "duration": 12,
    "start_time": "2024-06-28T14:43:35.863Z"
   },
   {
    "duration": 36,
    "start_time": "2024-06-28T14:43:35.877Z"
   },
   {
    "duration": 12,
    "start_time": "2024-06-28T14:43:35.915Z"
   },
   {
    "duration": 1109,
    "start_time": "2024-06-28T14:43:35.928Z"
   },
   {
    "duration": 24,
    "start_time": "2024-06-28T14:43:37.038Z"
   },
   {
    "duration": 259,
    "start_time": "2024-06-28T14:43:37.064Z"
   },
   {
    "duration": 108,
    "start_time": "2024-06-28T14:43:37.325Z"
   },
   {
    "duration": 7,
    "start_time": "2024-06-28T14:43:37.435Z"
   },
   {
    "duration": 100,
    "start_time": "2024-06-28T14:43:37.443Z"
   },
   {
    "duration": 104,
    "start_time": "2024-06-28T14:43:37.544Z"
   },
   {
    "duration": 6,
    "start_time": "2024-06-28T14:43:37.650Z"
   },
   {
    "duration": 114,
    "start_time": "2024-06-28T14:43:37.657Z"
   },
   {
    "duration": 6,
    "start_time": "2024-06-28T14:43:37.772Z"
   },
   {
    "duration": 21,
    "start_time": "2024-06-28T14:43:37.780Z"
   },
   {
    "duration": 24,
    "start_time": "2024-06-28T14:43:37.802Z"
   },
   {
    "duration": 131,
    "start_time": "2024-06-28T14:43:37.827Z"
   },
   {
    "duration": 119,
    "start_time": "2024-06-28T14:43:37.960Z"
   },
   {
    "duration": 14,
    "start_time": "2024-06-28T14:43:38.081Z"
   },
   {
    "duration": 128,
    "start_time": "2024-06-28T14:43:38.096Z"
   },
   {
    "duration": 9,
    "start_time": "2024-06-28T14:43:38.226Z"
   },
   {
    "duration": 36,
    "start_time": "2024-06-28T14:43:38.237Z"
   },
   {
    "duration": 18,
    "start_time": "2024-06-28T14:43:38.274Z"
   },
   {
    "duration": 31,
    "start_time": "2024-06-28T14:43:38.294Z"
   },
   {
    "duration": 12,
    "start_time": "2024-06-28T14:43:38.326Z"
   },
   {
    "duration": 34,
    "start_time": "2024-06-28T14:43:38.340Z"
   },
   {
    "duration": 12,
    "start_time": "2024-06-28T14:43:38.375Z"
   },
   {
    "duration": 7,
    "start_time": "2024-06-28T14:43:38.389Z"
   },
   {
    "duration": 24,
    "start_time": "2024-06-28T14:43:38.397Z"
   },
   {
    "duration": 20,
    "start_time": "2024-06-28T14:43:38.422Z"
   },
   {
    "duration": 7,
    "start_time": "2024-06-28T14:43:38.443Z"
   },
   {
    "duration": 26,
    "start_time": "2024-06-28T14:43:38.451Z"
   },
   {
    "duration": 5,
    "start_time": "2024-06-28T14:43:38.478Z"
   },
   {
    "duration": 749,
    "start_time": "2024-06-28T14:43:38.484Z"
   },
   {
    "duration": 2315,
    "start_time": "2024-06-28T14:43:39.237Z"
   },
   {
    "duration": 6817,
    "start_time": "2024-06-28T14:43:41.553Z"
   },
   {
    "duration": 49,
    "start_time": "2024-06-28T14:43:48.372Z"
   },
   {
    "duration": 487,
    "start_time": "2024-06-28T14:43:48.423Z"
   },
   {
    "duration": 0,
    "start_time": "2024-06-28T14:43:48.911Z"
   },
   {
    "duration": 2061,
    "start_time": "2024-06-28T14:46:35.176Z"
   },
   {
    "duration": 2677,
    "start_time": "2024-06-28T14:54:06.403Z"
   },
   {
    "duration": 52,
    "start_time": "2024-06-28T15:02:01.213Z"
   },
   {
    "duration": 18,
    "start_time": "2024-06-28T15:02:56.584Z"
   },
   {
    "duration": 2607,
    "start_time": "2024-06-28T15:03:08.133Z"
   },
   {
    "duration": 1619,
    "start_time": "2024-06-28T15:06:13.224Z"
   },
   {
    "duration": 13,
    "start_time": "2024-06-28T15:13:39.554Z"
   },
   {
    "duration": 11,
    "start_time": "2024-06-28T15:14:09.094Z"
   },
   {
    "duration": 71,
    "start_time": "2024-06-28T15:14:13.775Z"
   },
   {
    "duration": 4216,
    "start_time": "2024-06-28T15:14:19.576Z"
   },
   {
    "duration": 352,
    "start_time": "2024-06-28T15:14:29.413Z"
   },
   {
    "duration": 53,
    "start_time": "2024-06-28T15:17:36.351Z"
   },
   {
    "duration": 17,
    "start_time": "2024-06-28T15:19:02.323Z"
   },
   {
    "duration": 3,
    "start_time": "2024-06-28T15:20:57.841Z"
   },
   {
    "duration": 14,
    "start_time": "2024-06-28T15:20:59.777Z"
   },
   {
    "duration": 23,
    "start_time": "2024-06-28T15:21:37.810Z"
   },
   {
    "duration": 23,
    "start_time": "2024-06-28T15:24:51.608Z"
   },
   {
    "duration": 24,
    "start_time": "2024-06-28T15:25:59.634Z"
   },
   {
    "duration": 17,
    "start_time": "2024-06-28T15:30:39.437Z"
   },
   {
    "duration": 5,
    "start_time": "2024-06-28T15:30:40.865Z"
   },
   {
    "duration": 7,
    "start_time": "2024-06-28T15:31:11.941Z"
   },
   {
    "duration": 17,
    "start_time": "2024-06-28T15:31:54.560Z"
   },
   {
    "duration": 7,
    "start_time": "2024-06-28T15:31:58.536Z"
   },
   {
    "duration": 8,
    "start_time": "2024-06-28T15:40:25.467Z"
   },
   {
    "duration": 12,
    "start_time": "2024-06-28T15:43:11.545Z"
   },
   {
    "duration": 17,
    "start_time": "2024-06-28T15:43:22.505Z"
   },
   {
    "duration": 15,
    "start_time": "2024-06-28T15:43:24.283Z"
   },
   {
    "duration": 24,
    "start_time": "2024-06-28T15:44:00.438Z"
   },
   {
    "duration": 11,
    "start_time": "2024-06-28T15:46:08.910Z"
   },
   {
    "duration": 11,
    "start_time": "2024-06-28T15:49:29.904Z"
   },
   {
    "duration": 11,
    "start_time": "2024-06-28T15:49:59.278Z"
   },
   {
    "duration": 2724,
    "start_time": "2024-06-28T15:51:18.426Z"
   },
   {
    "duration": 1723,
    "start_time": "2024-06-28T15:51:21.152Z"
   },
   {
    "duration": 57,
    "start_time": "2024-06-28T15:51:22.877Z"
   },
   {
    "duration": 29,
    "start_time": "2024-06-28T15:51:22.935Z"
   },
   {
    "duration": 26,
    "start_time": "2024-06-28T15:51:22.966Z"
   },
   {
    "duration": 37,
    "start_time": "2024-06-28T15:51:22.993Z"
   },
   {
    "duration": 24,
    "start_time": "2024-06-28T15:51:23.031Z"
   },
   {
    "duration": 33,
    "start_time": "2024-06-28T15:51:23.057Z"
   },
   {
    "duration": 22,
    "start_time": "2024-06-28T15:51:23.091Z"
   },
   {
    "duration": 13,
    "start_time": "2024-06-28T15:51:23.114Z"
   },
   {
    "duration": 1037,
    "start_time": "2024-06-28T15:51:23.128Z"
   },
   {
    "duration": 27,
    "start_time": "2024-06-28T15:51:24.167Z"
   },
   {
    "duration": 364,
    "start_time": "2024-06-28T15:51:24.196Z"
   },
   {
    "duration": 101,
    "start_time": "2024-06-28T15:51:24.562Z"
   },
   {
    "duration": 7,
    "start_time": "2024-06-28T15:51:24.664Z"
   },
   {
    "duration": 96,
    "start_time": "2024-06-28T15:51:24.672Z"
   },
   {
    "duration": 104,
    "start_time": "2024-06-28T15:51:24.769Z"
   },
   {
    "duration": 6,
    "start_time": "2024-06-28T15:51:24.874Z"
   },
   {
    "duration": 106,
    "start_time": "2024-06-28T15:51:24.881Z"
   },
   {
    "duration": 6,
    "start_time": "2024-06-28T15:51:24.988Z"
   },
   {
    "duration": 30,
    "start_time": "2024-06-28T15:51:24.996Z"
   },
   {
    "duration": 10,
    "start_time": "2024-06-28T15:51:25.027Z"
   },
   {
    "duration": 124,
    "start_time": "2024-06-28T15:51:25.038Z"
   },
   {
    "duration": 118,
    "start_time": "2024-06-28T15:51:25.163Z"
   },
   {
    "duration": 14,
    "start_time": "2024-06-28T15:51:25.283Z"
   },
   {
    "duration": 108,
    "start_time": "2024-06-28T15:51:25.299Z"
   },
   {
    "duration": 20,
    "start_time": "2024-06-28T15:51:25.408Z"
   },
   {
    "duration": 39,
    "start_time": "2024-06-28T15:51:25.429Z"
   },
   {
    "duration": 18,
    "start_time": "2024-06-28T15:51:25.470Z"
   },
   {
    "duration": 28,
    "start_time": "2024-06-28T15:51:25.490Z"
   },
   {
    "duration": 12,
    "start_time": "2024-06-28T15:51:25.519Z"
   },
   {
    "duration": 19,
    "start_time": "2024-06-28T15:51:25.533Z"
   },
   {
    "duration": 13,
    "start_time": "2024-06-28T15:51:25.554Z"
   },
   {
    "duration": 8,
    "start_time": "2024-06-28T15:51:25.568Z"
   },
   {
    "duration": 11,
    "start_time": "2024-06-28T15:51:25.577Z"
   },
   {
    "duration": 49,
    "start_time": "2024-06-28T15:51:25.590Z"
   },
   {
    "duration": 7,
    "start_time": "2024-06-28T15:51:25.641Z"
   },
   {
    "duration": 29,
    "start_time": "2024-06-28T15:51:25.650Z"
   },
   {
    "duration": 7,
    "start_time": "2024-06-28T15:51:25.681Z"
   },
   {
    "duration": 755,
    "start_time": "2024-06-28T15:51:25.689Z"
   },
   {
    "duration": 2268,
    "start_time": "2024-06-28T15:51:26.448Z"
   },
   {
    "duration": 6951,
    "start_time": "2024-06-28T15:51:28.718Z"
   },
   {
    "duration": 53,
    "start_time": "2024-06-28T15:51:35.671Z"
   },
   {
    "duration": 1787,
    "start_time": "2024-06-28T15:51:35.725Z"
   },
   {
    "duration": 7,
    "start_time": "2024-06-28T15:51:37.514Z"
   },
   {
    "duration": 161,
    "start_time": "2024-06-28T15:51:37.522Z"
   },
   {
    "duration": 0,
    "start_time": "2024-06-28T15:51:37.684Z"
   },
   {
    "duration": 0,
    "start_time": "2024-06-28T15:51:37.685Z"
   },
   {
    "duration": 0,
    "start_time": "2024-06-28T15:51:37.686Z"
   },
   {
    "duration": 3,
    "start_time": "2024-06-28T15:51:46.753Z"
   },
   {
    "duration": 12,
    "start_time": "2024-06-28T15:51:49.275Z"
   },
   {
    "duration": 8,
    "start_time": "2024-06-28T15:54:47.290Z"
   },
   {
    "duration": 12,
    "start_time": "2024-06-28T15:55:57.476Z"
   },
   {
    "duration": 20,
    "start_time": "2024-06-28T15:56:23.529Z"
   },
   {
    "duration": 10,
    "start_time": "2024-06-28T15:56:55.210Z"
   },
   {
    "duration": 16,
    "start_time": "2024-06-28T15:57:00.751Z"
   },
   {
    "duration": 18,
    "start_time": "2024-06-28T15:57:23.323Z"
   },
   {
    "duration": 14,
    "start_time": "2024-06-28T15:57:36.039Z"
   },
   {
    "duration": 18,
    "start_time": "2024-06-28T15:57:51.646Z"
   },
   {
    "duration": 26,
    "start_time": "2024-06-28T15:58:03.394Z"
   },
   {
    "duration": 35,
    "start_time": "2024-06-28T15:58:10.587Z"
   },
   {
    "duration": 34,
    "start_time": "2024-06-28T15:58:17.490Z"
   },
   {
    "duration": 4365,
    "start_time": "2024-06-28T17:24:00.482Z"
   },
   {
    "duration": 1606,
    "start_time": "2024-06-28T17:24:04.850Z"
   },
   {
    "duration": 0,
    "start_time": "2024-06-28T17:24:06.460Z"
   },
   {
    "duration": 0,
    "start_time": "2024-06-28T17:24:06.461Z"
   },
   {
    "duration": 0,
    "start_time": "2024-06-28T17:24:06.462Z"
   },
   {
    "duration": 0,
    "start_time": "2024-06-28T17:24:06.463Z"
   },
   {
    "duration": 0,
    "start_time": "2024-06-28T17:24:06.464Z"
   },
   {
    "duration": 0,
    "start_time": "2024-06-28T17:24:06.466Z"
   },
   {
    "duration": 0,
    "start_time": "2024-06-28T17:24:06.467Z"
   },
   {
    "duration": 0,
    "start_time": "2024-06-28T17:24:06.468Z"
   },
   {
    "duration": 0,
    "start_time": "2024-06-28T17:24:06.469Z"
   },
   {
    "duration": 0,
    "start_time": "2024-06-28T17:24:06.470Z"
   },
   {
    "duration": 0,
    "start_time": "2024-06-28T17:24:06.471Z"
   },
   {
    "duration": 0,
    "start_time": "2024-06-28T17:24:06.472Z"
   },
   {
    "duration": 0,
    "start_time": "2024-06-28T17:24:06.489Z"
   },
   {
    "duration": 0,
    "start_time": "2024-06-28T17:24:06.490Z"
   },
   {
    "duration": 0,
    "start_time": "2024-06-28T17:24:06.491Z"
   },
   {
    "duration": 0,
    "start_time": "2024-06-28T17:24:06.492Z"
   },
   {
    "duration": 0,
    "start_time": "2024-06-28T17:24:06.493Z"
   },
   {
    "duration": 0,
    "start_time": "2024-06-28T17:24:06.494Z"
   },
   {
    "duration": 0,
    "start_time": "2024-06-28T17:24:06.495Z"
   },
   {
    "duration": 0,
    "start_time": "2024-06-28T17:24:06.496Z"
   },
   {
    "duration": 0,
    "start_time": "2024-06-28T17:24:06.497Z"
   },
   {
    "duration": 0,
    "start_time": "2024-06-28T17:24:06.497Z"
   },
   {
    "duration": 0,
    "start_time": "2024-06-28T17:24:06.498Z"
   },
   {
    "duration": 0,
    "start_time": "2024-06-28T17:24:06.499Z"
   },
   {
    "duration": 0,
    "start_time": "2024-06-28T17:24:06.500Z"
   },
   {
    "duration": 0,
    "start_time": "2024-06-28T17:24:06.501Z"
   },
   {
    "duration": 0,
    "start_time": "2024-06-28T17:24:06.502Z"
   },
   {
    "duration": 0,
    "start_time": "2024-06-28T17:24:06.503Z"
   },
   {
    "duration": 0,
    "start_time": "2024-06-28T17:24:06.504Z"
   },
   {
    "duration": 0,
    "start_time": "2024-06-28T17:24:06.505Z"
   },
   {
    "duration": 0,
    "start_time": "2024-06-28T17:24:06.506Z"
   },
   {
    "duration": 0,
    "start_time": "2024-06-28T17:24:06.507Z"
   },
   {
    "duration": 0,
    "start_time": "2024-06-28T17:24:06.508Z"
   },
   {
    "duration": 0,
    "start_time": "2024-06-28T17:24:06.509Z"
   },
   {
    "duration": 0,
    "start_time": "2024-06-28T17:24:06.511Z"
   },
   {
    "duration": 0,
    "start_time": "2024-06-28T17:24:06.512Z"
   },
   {
    "duration": 0,
    "start_time": "2024-06-28T17:24:06.513Z"
   },
   {
    "duration": 0,
    "start_time": "2024-06-28T17:24:06.514Z"
   },
   {
    "duration": 1,
    "start_time": "2024-06-28T17:24:06.514Z"
   },
   {
    "duration": 0,
    "start_time": "2024-06-28T17:24:06.516Z"
   },
   {
    "duration": 0,
    "start_time": "2024-06-28T17:24:06.517Z"
   },
   {
    "duration": 0,
    "start_time": "2024-06-28T17:24:06.518Z"
   },
   {
    "duration": 0,
    "start_time": "2024-06-28T17:24:06.518Z"
   },
   {
    "duration": 0,
    "start_time": "2024-06-28T17:24:06.519Z"
   },
   {
    "duration": 0,
    "start_time": "2024-06-28T17:24:06.520Z"
   },
   {
    "duration": 0,
    "start_time": "2024-06-28T17:24:06.521Z"
   },
   {
    "duration": 0,
    "start_time": "2024-06-28T17:24:06.522Z"
   },
   {
    "duration": 0,
    "start_time": "2024-06-28T17:24:06.589Z"
   },
   {
    "duration": 2815,
    "start_time": "2024-06-28T17:24:39.180Z"
   },
   {
    "duration": 3625,
    "start_time": "2024-06-28T17:24:55.995Z"
   },
   {
    "duration": 469,
    "start_time": "2024-06-28T17:25:01.293Z"
   },
   {
    "duration": 2843,
    "start_time": "2024-06-28T17:29:24.501Z"
   },
   {
    "duration": 2798,
    "start_time": "2024-06-28T17:29:27.346Z"
   },
   {
    "duration": 1766,
    "start_time": "2024-06-28T17:29:30.146Z"
   },
   {
    "duration": 49,
    "start_time": "2024-06-28T17:29:31.914Z"
   },
   {
    "duration": 28,
    "start_time": "2024-06-28T17:29:31.965Z"
   },
   {
    "duration": 48,
    "start_time": "2024-06-28T17:29:31.994Z"
   },
   {
    "duration": 76,
    "start_time": "2024-06-28T17:29:32.043Z"
   },
   {
    "duration": 28,
    "start_time": "2024-06-28T17:29:32.121Z"
   },
   {
    "duration": 239,
    "start_time": "2024-06-28T17:29:32.150Z"
   },
   {
    "duration": 25,
    "start_time": "2024-06-28T17:29:32.393Z"
   },
   {
    "duration": 14,
    "start_time": "2024-06-28T17:29:32.420Z"
   },
   {
    "duration": 1125,
    "start_time": "2024-06-28T17:29:32.435Z"
   },
   {
    "duration": 233,
    "start_time": "2024-06-28T17:29:33.590Z"
   },
   {
    "duration": 575,
    "start_time": "2024-06-28T17:29:33.825Z"
   },
   {
    "duration": 209,
    "start_time": "2024-06-28T17:29:34.402Z"
   },
   {
    "duration": 8,
    "start_time": "2024-06-28T17:29:34.612Z"
   },
   {
    "duration": 206,
    "start_time": "2024-06-28T17:29:34.621Z"
   },
   {
    "duration": 223,
    "start_time": "2024-06-28T17:29:34.828Z"
   },
   {
    "duration": 7,
    "start_time": "2024-06-28T17:29:35.052Z"
   },
   {
    "duration": 115,
    "start_time": "2024-06-28T17:29:35.089Z"
   },
   {
    "duration": 8,
    "start_time": "2024-06-28T17:29:35.206Z"
   },
   {
    "duration": 27,
    "start_time": "2024-06-28T17:29:35.216Z"
   },
   {
    "duration": 12,
    "start_time": "2024-06-28T17:29:35.245Z"
   },
   {
    "duration": 145,
    "start_time": "2024-06-28T17:29:35.259Z"
   },
   {
    "duration": 136,
    "start_time": "2024-06-28T17:29:35.405Z"
   },
   {
    "duration": 16,
    "start_time": "2024-06-28T17:29:35.543Z"
   },
   {
    "duration": 117,
    "start_time": "2024-06-28T17:29:35.560Z"
   },
   {
    "duration": 15,
    "start_time": "2024-06-28T17:29:35.680Z"
   },
   {
    "duration": 130,
    "start_time": "2024-06-28T17:29:35.696Z"
   },
   {
    "duration": 20,
    "start_time": "2024-06-28T17:29:35.827Z"
   },
   {
    "duration": 9,
    "start_time": "2024-06-28T17:29:35.848Z"
   },
   {
    "duration": 12,
    "start_time": "2024-06-28T17:29:35.859Z"
   },
   {
    "duration": 21,
    "start_time": "2024-06-28T17:29:35.889Z"
   },
   {
    "duration": 28,
    "start_time": "2024-06-28T17:29:35.912Z"
   },
   {
    "duration": 8,
    "start_time": "2024-06-28T17:29:35.941Z"
   },
   {
    "duration": 16,
    "start_time": "2024-06-28T17:29:35.951Z"
   },
   {
    "duration": 27,
    "start_time": "2024-06-28T17:29:35.968Z"
   },
   {
    "duration": 7,
    "start_time": "2024-06-28T17:29:35.997Z"
   },
   {
    "duration": 30,
    "start_time": "2024-06-28T17:29:36.005Z"
   },
   {
    "duration": 6,
    "start_time": "2024-06-28T17:29:36.036Z"
   },
   {
    "duration": 803,
    "start_time": "2024-06-28T17:29:36.043Z"
   },
   {
    "duration": 2326,
    "start_time": "2024-06-28T17:29:36.848Z"
   },
   {
    "duration": 7222,
    "start_time": "2024-06-28T17:29:39.175Z"
   },
   {
    "duration": 28,
    "start_time": "2024-06-28T17:29:46.399Z"
   },
   {
    "duration": 1773,
    "start_time": "2024-06-28T17:29:46.429Z"
   },
   {
    "duration": 142,
    "start_time": "2024-06-28T17:29:48.203Z"
   },
   {
    "duration": 0,
    "start_time": "2024-06-28T17:29:48.347Z"
   },
   {
    "duration": 0,
    "start_time": "2024-06-28T17:29:48.348Z"
   },
   {
    "duration": 0,
    "start_time": "2024-06-28T17:29:48.349Z"
   },
   {
    "duration": 0,
    "start_time": "2024-06-28T17:29:48.350Z"
   },
   {
    "duration": 0,
    "start_time": "2024-06-28T17:29:48.351Z"
   },
   {
    "duration": 9,
    "start_time": "2024-06-28T17:30:21.332Z"
   },
   {
    "duration": 9,
    "start_time": "2024-06-28T17:30:30.375Z"
   },
   {
    "duration": 19,
    "start_time": "2024-06-28T17:30:47.906Z"
   },
   {
    "duration": 17,
    "start_time": "2024-06-28T17:30:49.823Z"
   },
   {
    "duration": 4,
    "start_time": "2024-06-28T17:31:19.900Z"
   },
   {
    "duration": 10,
    "start_time": "2024-06-28T17:31:28.368Z"
   },
   {
    "duration": 3,
    "start_time": "2024-06-28T17:31:43.864Z"
   },
   {
    "duration": 10,
    "start_time": "2024-06-28T17:31:56.760Z"
   },
   {
    "duration": 4,
    "start_time": "2024-06-28T17:32:05.799Z"
   },
   {
    "duration": 4,
    "start_time": "2024-06-28T17:34:39.444Z"
   },
   {
    "duration": 14,
    "start_time": "2024-06-28T17:35:11.570Z"
   },
   {
    "duration": 3,
    "start_time": "2024-06-28T17:36:18.397Z"
   },
   {
    "duration": 3,
    "start_time": "2024-06-28T17:36:27.661Z"
   },
   {
    "duration": 9,
    "start_time": "2024-06-28T17:36:33.232Z"
   },
   {
    "duration": 13,
    "start_time": "2024-06-28T17:36:59.275Z"
   },
   {
    "duration": 13,
    "start_time": "2024-06-28T17:39:58.504Z"
   },
   {
    "duration": 23,
    "start_time": "2024-06-28T17:42:56.999Z"
   },
   {
    "duration": 18,
    "start_time": "2024-06-28T17:44:09.023Z"
   },
   {
    "duration": 14,
    "start_time": "2024-06-28T17:44:39.743Z"
   },
   {
    "duration": 22,
    "start_time": "2024-06-28T17:44:56.394Z"
   },
   {
    "duration": 15,
    "start_time": "2024-06-28T17:44:58.885Z"
   },
   {
    "duration": 10,
    "start_time": "2024-06-28T17:48:28.971Z"
   },
   {
    "duration": 1726,
    "start_time": "2024-06-28T17:51:44.071Z"
   },
   {
    "duration": 31,
    "start_time": "2024-06-28T17:52:18.086Z"
   },
   {
    "duration": 1768,
    "start_time": "2024-06-28T17:52:32.107Z"
   },
   {
    "duration": 18,
    "start_time": "2024-06-28T17:52:37.711Z"
   },
   {
    "duration": 32,
    "start_time": "2024-06-28T17:52:39.518Z"
   },
   {
    "duration": 67,
    "start_time": "2024-06-28T17:53:59.971Z"
   },
   {
    "duration": 1607,
    "start_time": "2024-06-28T17:55:08.497Z"
   },
   {
    "duration": 19,
    "start_time": "2024-06-28T17:55:17.110Z"
   },
   {
    "duration": 36,
    "start_time": "2024-06-28T17:55:19.659Z"
   },
   {
    "duration": 36,
    "start_time": "2024-06-28T17:56:11.040Z"
   },
   {
    "duration": 8,
    "start_time": "2024-06-28T17:56:56.291Z"
   },
   {
    "duration": 10,
    "start_time": "2024-06-28T17:57:13.778Z"
   },
   {
    "duration": 12,
    "start_time": "2024-06-28T17:57:53.774Z"
   },
   {
    "duration": 10,
    "start_time": "2024-06-28T17:58:11.834Z"
   },
   {
    "duration": 11,
    "start_time": "2024-06-28T17:58:26.968Z"
   },
   {
    "duration": 35,
    "start_time": "2024-06-28T18:01:04.609Z"
   },
   {
    "duration": 38,
    "start_time": "2024-06-28T18:02:37.069Z"
   },
   {
    "duration": 36,
    "start_time": "2024-06-28T18:03:06.123Z"
   },
   {
    "duration": 3038,
    "start_time": "2024-06-28T19:58:54.166Z"
   },
   {
    "duration": 3038,
    "start_time": "2024-06-28T19:58:57.207Z"
   },
   {
    "duration": 1857,
    "start_time": "2024-06-28T19:59:00.247Z"
   },
   {
    "duration": 52,
    "start_time": "2024-06-28T19:59:02.106Z"
   },
   {
    "duration": 231,
    "start_time": "2024-06-28T19:59:02.160Z"
   },
   {
    "duration": 34,
    "start_time": "2024-06-28T19:59:02.393Z"
   },
   {
    "duration": 39,
    "start_time": "2024-06-28T19:59:02.429Z"
   },
   {
    "duration": 36,
    "start_time": "2024-06-28T19:59:02.470Z"
   },
   {
    "duration": 12,
    "start_time": "2024-06-28T19:59:02.508Z"
   },
   {
    "duration": 28,
    "start_time": "2024-06-28T19:59:02.521Z"
   },
   {
    "duration": 14,
    "start_time": "2024-06-28T19:59:02.551Z"
   },
   {
    "duration": 1200,
    "start_time": "2024-06-28T19:59:02.589Z"
   },
   {
    "duration": 28,
    "start_time": "2024-06-28T19:59:03.791Z"
   },
   {
    "duration": 367,
    "start_time": "2024-06-28T19:59:03.822Z"
   },
   {
    "duration": 114,
    "start_time": "2024-06-28T19:59:04.191Z"
   },
   {
    "duration": 9,
    "start_time": "2024-06-28T19:59:04.307Z"
   },
   {
    "duration": 148,
    "start_time": "2024-06-28T19:59:04.318Z"
   },
   {
    "duration": 141,
    "start_time": "2024-06-28T19:59:04.468Z"
   },
   {
    "duration": 9,
    "start_time": "2024-06-28T19:59:04.611Z"
   },
   {
    "duration": 118,
    "start_time": "2024-06-28T19:59:04.621Z"
   },
   {
    "duration": 7,
    "start_time": "2024-06-28T19:59:04.740Z"
   },
   {
    "duration": 32,
    "start_time": "2024-06-28T19:59:04.749Z"
   },
   {
    "duration": 21,
    "start_time": "2024-06-28T19:59:04.782Z"
   },
   {
    "duration": 141,
    "start_time": "2024-06-28T19:59:04.807Z"
   },
   {
    "duration": 115,
    "start_time": "2024-06-28T19:59:04.949Z"
   },
   {
    "duration": 30,
    "start_time": "2024-06-28T19:59:05.066Z"
   },
   {
    "duration": 127,
    "start_time": "2024-06-28T19:59:05.097Z"
   },
   {
    "duration": 9,
    "start_time": "2024-06-28T19:59:05.226Z"
   },
   {
    "duration": 29,
    "start_time": "2024-06-28T19:59:05.237Z"
   },
   {
    "duration": 20,
    "start_time": "2024-06-28T19:59:05.294Z"
   },
   {
    "duration": 9,
    "start_time": "2024-06-28T19:59:05.315Z"
   },
   {
    "duration": 11,
    "start_time": "2024-06-28T19:59:05.325Z"
   },
   {
    "duration": 20,
    "start_time": "2024-06-28T19:59:05.338Z"
   },
   {
    "duration": 40,
    "start_time": "2024-06-28T19:59:05.359Z"
   },
   {
    "duration": 13,
    "start_time": "2024-06-28T19:59:05.401Z"
   },
   {
    "duration": 20,
    "start_time": "2024-06-28T19:59:05.415Z"
   },
   {
    "duration": 23,
    "start_time": "2024-06-28T19:59:05.436Z"
   },
   {
    "duration": 8,
    "start_time": "2024-06-28T19:59:05.460Z"
   },
   {
    "duration": 48,
    "start_time": "2024-06-28T19:59:05.470Z"
   },
   {
    "duration": 6,
    "start_time": "2024-06-28T19:59:05.520Z"
   },
   {
    "duration": 842,
    "start_time": "2024-06-28T19:59:05.530Z"
   },
   {
    "duration": 2617,
    "start_time": "2024-06-28T19:59:06.373Z"
   },
   {
    "duration": 7607,
    "start_time": "2024-06-28T19:59:08.992Z"
   },
   {
    "duration": 24,
    "start_time": "2024-06-28T19:59:16.602Z"
   },
   {
    "duration": 1754,
    "start_time": "2024-06-28T19:59:16.628Z"
   },
   {
    "duration": 201,
    "start_time": "2024-06-28T19:59:18.384Z"
   },
   {
    "duration": 0,
    "start_time": "2024-06-28T19:59:18.590Z"
   },
   {
    "duration": 0,
    "start_time": "2024-06-28T19:59:18.592Z"
   },
   {
    "duration": 0,
    "start_time": "2024-06-28T19:59:18.596Z"
   },
   {
    "duration": 0,
    "start_time": "2024-06-28T19:59:18.598Z"
   },
   {
    "duration": 0,
    "start_time": "2024-06-28T19:59:18.601Z"
   },
   {
    "duration": 0,
    "start_time": "2024-06-28T19:59:18.603Z"
   },
   {
    "duration": 19,
    "start_time": "2024-06-28T19:59:34.754Z"
   },
   {
    "duration": 11,
    "start_time": "2024-06-28T19:59:37.535Z"
   },
   {
    "duration": 10,
    "start_time": "2024-06-28T20:12:47.358Z"
   },
   {
    "duration": 12,
    "start_time": "2024-06-28T20:12:50.364Z"
   },
   {
    "duration": 22,
    "start_time": "2024-06-28T20:14:03.090Z"
   },
   {
    "duration": 21,
    "start_time": "2024-06-28T20:19:31.066Z"
   },
   {
    "duration": 2935,
    "start_time": "2024-06-28T20:19:39.382Z"
   },
   {
    "duration": 2872,
    "start_time": "2024-06-28T20:19:42.319Z"
   },
   {
    "duration": 1857,
    "start_time": "2024-06-28T20:19:45.193Z"
   },
   {
    "duration": 50,
    "start_time": "2024-06-28T20:19:47.052Z"
   },
   {
    "duration": 29,
    "start_time": "2024-06-28T20:19:47.105Z"
   },
   {
    "duration": 26,
    "start_time": "2024-06-28T20:19:47.135Z"
   },
   {
    "duration": 40,
    "start_time": "2024-06-28T20:19:47.163Z"
   },
   {
    "duration": 26,
    "start_time": "2024-06-28T20:19:47.204Z"
   },
   {
    "duration": 10,
    "start_time": "2024-06-28T20:19:47.231Z"
   },
   {
    "duration": 18,
    "start_time": "2024-06-28T20:19:47.242Z"
   },
   {
    "duration": 35,
    "start_time": "2024-06-28T20:19:47.261Z"
   },
   {
    "duration": 1184,
    "start_time": "2024-06-28T20:19:47.298Z"
   },
   {
    "duration": 32,
    "start_time": "2024-06-28T20:19:48.484Z"
   },
   {
    "duration": 359,
    "start_time": "2024-06-28T20:19:48.520Z"
   },
   {
    "duration": 110,
    "start_time": "2024-06-28T20:19:48.881Z"
   },
   {
    "duration": 16,
    "start_time": "2024-06-28T20:19:48.993Z"
   },
   {
    "duration": 100,
    "start_time": "2024-06-28T20:19:49.011Z"
   },
   {
    "duration": 116,
    "start_time": "2024-06-28T20:19:49.112Z"
   },
   {
    "duration": 7,
    "start_time": "2024-06-28T20:19:49.229Z"
   },
   {
    "duration": 110,
    "start_time": "2024-06-28T20:19:49.237Z"
   },
   {
    "duration": 7,
    "start_time": "2024-06-28T20:19:49.348Z"
   },
   {
    "duration": 19,
    "start_time": "2024-06-28T20:19:49.356Z"
   },
   {
    "duration": 12,
    "start_time": "2024-06-28T20:19:49.393Z"
   },
   {
    "duration": 127,
    "start_time": "2024-06-28T20:19:49.406Z"
   },
   {
    "duration": 118,
    "start_time": "2024-06-28T20:19:49.535Z"
   },
   {
    "duration": 20,
    "start_time": "2024-06-28T20:19:49.654Z"
   },
   {
    "duration": 126,
    "start_time": "2024-06-28T20:19:49.694Z"
   },
   {
    "duration": 12,
    "start_time": "2024-06-28T20:19:49.822Z"
   },
   {
    "duration": 46,
    "start_time": "2024-06-28T20:19:49.836Z"
   },
   {
    "duration": 22,
    "start_time": "2024-06-28T20:19:49.889Z"
   },
   {
    "duration": 9,
    "start_time": "2024-06-28T20:19:49.913Z"
   },
   {
    "duration": 29,
    "start_time": "2024-06-28T20:19:49.923Z"
   },
   {
    "duration": 40,
    "start_time": "2024-06-28T20:19:49.953Z"
   },
   {
    "duration": 21,
    "start_time": "2024-06-28T20:19:49.995Z"
   },
   {
    "duration": 27,
    "start_time": "2024-06-28T20:19:50.025Z"
   },
   {
    "duration": 13,
    "start_time": "2024-06-28T20:19:50.054Z"
   },
   {
    "duration": 46,
    "start_time": "2024-06-28T20:19:50.068Z"
   },
   {
    "duration": 9,
    "start_time": "2024-06-28T20:19:50.115Z"
   },
   {
    "duration": 108,
    "start_time": "2024-06-28T20:19:50.125Z"
   },
   {
    "duration": 6,
    "start_time": "2024-06-28T20:19:50.235Z"
   },
   {
    "duration": 816,
    "start_time": "2024-06-28T20:19:50.245Z"
   },
   {
    "duration": 2484,
    "start_time": "2024-06-28T20:19:51.062Z"
   },
   {
    "duration": 7345,
    "start_time": "2024-06-28T20:19:53.548Z"
   },
   {
    "duration": 24,
    "start_time": "2024-06-28T20:20:00.894Z"
   },
   {
    "duration": 280,
    "start_time": "2024-06-28T20:20:00.920Z"
   },
   {
    "duration": 0,
    "start_time": "2024-06-28T20:20:01.202Z"
   },
   {
    "duration": 0,
    "start_time": "2024-06-28T20:20:01.203Z"
   },
   {
    "duration": 0,
    "start_time": "2024-06-28T20:20:01.204Z"
   },
   {
    "duration": 0,
    "start_time": "2024-06-28T20:20:01.205Z"
   },
   {
    "duration": 0,
    "start_time": "2024-06-28T20:20:01.207Z"
   },
   {
    "duration": 0,
    "start_time": "2024-06-28T20:20:01.208Z"
   },
   {
    "duration": 1,
    "start_time": "2024-06-28T20:20:01.209Z"
   },
   {
    "duration": 1604,
    "start_time": "2024-06-28T20:20:22.031Z"
   },
   {
    "duration": 38,
    "start_time": "2024-06-28T20:20:33.031Z"
   },
   {
    "duration": 18,
    "start_time": "2024-06-28T20:20:38.465Z"
   },
   {
    "duration": 20,
    "start_time": "2024-06-28T20:20:40.573Z"
   },
   {
    "duration": 20,
    "start_time": "2024-06-28T20:20:49.662Z"
   },
   {
    "duration": 21,
    "start_time": "2024-06-28T20:21:24.009Z"
   },
   {
    "duration": 28,
    "start_time": "2024-06-28T20:21:58.105Z"
   },
   {
    "duration": 14,
    "start_time": "2024-06-28T20:24:06.454Z"
   },
   {
    "duration": 3,
    "start_time": "2024-06-28T20:24:16.116Z"
   },
   {
    "duration": 11,
    "start_time": "2024-06-28T20:24:20.244Z"
   },
   {
    "duration": 22,
    "start_time": "2024-06-28T20:25:00.314Z"
   },
   {
    "duration": 37,
    "start_time": "2024-06-28T20:25:50.884Z"
   },
   {
    "duration": 25,
    "start_time": "2024-06-28T20:26:21.919Z"
   },
   {
    "duration": 52,
    "start_time": "2024-06-28T20:26:28.000Z"
   },
   {
    "duration": 48,
    "start_time": "2024-06-28T20:29:30.670Z"
   },
   {
    "duration": 26,
    "start_time": "2024-06-28T20:29:44.176Z"
   },
   {
    "duration": 59,
    "start_time": "2024-06-28T20:29:52.142Z"
   },
   {
    "duration": 19,
    "start_time": "2024-06-28T20:32:12.097Z"
   },
   {
    "duration": 9,
    "start_time": "2024-06-28T20:32:13.890Z"
   },
   {
    "duration": 34,
    "start_time": "2024-06-28T20:32:21.602Z"
   },
   {
    "duration": 2856,
    "start_time": "2024-06-28T20:32:44.885Z"
   },
   {
    "duration": 19,
    "start_time": "2024-06-28T20:33:15.027Z"
   },
   {
    "duration": 279,
    "start_time": "2024-06-28T20:33:43.198Z"
   },
   {
    "duration": 21,
    "start_time": "2024-06-28T20:33:55.151Z"
   },
   {
    "duration": 26,
    "start_time": "2024-06-28T20:34:25.162Z"
   },
   {
    "duration": 25,
    "start_time": "2024-06-28T20:34:32.663Z"
   },
   {
    "duration": 48,
    "start_time": "2024-06-28T20:34:52.655Z"
   },
   {
    "duration": 20,
    "start_time": "2024-06-28T20:34:58.226Z"
   },
   {
    "duration": 4,
    "start_time": "2024-06-28T20:36:01.462Z"
   },
   {
    "duration": 41,
    "start_time": "2024-06-28T20:36:05.046Z"
   },
   {
    "duration": 19,
    "start_time": "2024-06-28T20:37:33.949Z"
   },
   {
    "duration": 20,
    "start_time": "2024-06-28T20:37:43.944Z"
   },
   {
    "duration": 17,
    "start_time": "2024-06-28T20:39:15.879Z"
   },
   {
    "duration": 23,
    "start_time": "2024-06-28T20:39:31.915Z"
   },
   {
    "duration": 163,
    "start_time": "2024-06-28T20:40:01.807Z"
   },
   {
    "duration": 131,
    "start_time": "2024-06-28T20:40:39.577Z"
   },
   {
    "duration": 173,
    "start_time": "2024-06-28T20:40:49.027Z"
   },
   {
    "duration": 156,
    "start_time": "2024-06-28T20:40:57.199Z"
   },
   {
    "duration": 21,
    "start_time": "2024-06-28T20:41:18.237Z"
   },
   {
    "duration": 158,
    "start_time": "2024-06-28T20:41:38.840Z"
   },
   {
    "duration": 155,
    "start_time": "2024-06-28T20:42:48.851Z"
   },
   {
    "duration": 607,
    "start_time": "2024-06-28T20:43:23.561Z"
   },
   {
    "duration": 100,
    "start_time": "2024-06-28T20:46:25.432Z"
   },
   {
    "duration": 171,
    "start_time": "2024-06-28T20:46:32.873Z"
   },
   {
    "duration": 182,
    "start_time": "2024-06-28T20:46:52.689Z"
   },
   {
    "duration": 9,
    "start_time": "2024-06-28T20:47:11.827Z"
   },
   {
    "duration": 10,
    "start_time": "2024-06-28T20:47:21.522Z"
   },
   {
    "duration": 48,
    "start_time": "2024-06-28T20:47:25.004Z"
   },
   {
    "duration": 4,
    "start_time": "2024-06-28T20:47:29.901Z"
   },
   {
    "duration": 8,
    "start_time": "2024-06-28T20:48:12.982Z"
   },
   {
    "duration": 2823,
    "start_time": "2024-06-28T21:29:32.161Z"
   },
   {
    "duration": 2791,
    "start_time": "2024-06-28T21:29:34.986Z"
   },
   {
    "duration": 1762,
    "start_time": "2024-06-28T21:29:37.778Z"
   },
   {
    "duration": 50,
    "start_time": "2024-06-28T21:29:39.542Z"
   },
   {
    "duration": 28,
    "start_time": "2024-06-28T21:29:39.594Z"
   },
   {
    "duration": 28,
    "start_time": "2024-06-28T21:29:39.624Z"
   },
   {
    "duration": 35,
    "start_time": "2024-06-28T21:29:39.654Z"
   },
   {
    "duration": 26,
    "start_time": "2024-06-28T21:29:39.691Z"
   },
   {
    "duration": 9,
    "start_time": "2024-06-28T21:29:39.719Z"
   },
   {
    "duration": 18,
    "start_time": "2024-06-28T21:29:39.730Z"
   },
   {
    "duration": 44,
    "start_time": "2024-06-28T21:29:39.750Z"
   },
   {
    "duration": 1120,
    "start_time": "2024-06-28T21:29:39.796Z"
   },
   {
    "duration": 115,
    "start_time": "2024-06-28T21:29:40.918Z"
   },
   {
    "duration": 280,
    "start_time": "2024-06-28T21:29:41.036Z"
   },
   {
    "duration": 106,
    "start_time": "2024-06-28T21:29:41.318Z"
   },
   {
    "duration": 7,
    "start_time": "2024-06-28T21:29:41.426Z"
   },
   {
    "duration": 109,
    "start_time": "2024-06-28T21:29:41.435Z"
   },
   {
    "duration": 114,
    "start_time": "2024-06-28T21:29:41.546Z"
   },
   {
    "duration": 6,
    "start_time": "2024-06-28T21:29:41.662Z"
   },
   {
    "duration": 115,
    "start_time": "2024-06-28T21:29:41.669Z"
   },
   {
    "duration": 6,
    "start_time": "2024-06-28T21:29:41.786Z"
   },
   {
    "duration": 25,
    "start_time": "2024-06-28T21:29:41.793Z"
   },
   {
    "duration": 22,
    "start_time": "2024-06-28T21:29:41.820Z"
   },
   {
    "duration": 120,
    "start_time": "2024-06-28T21:29:41.843Z"
   },
   {
    "duration": 113,
    "start_time": "2024-06-28T21:29:41.965Z"
   },
   {
    "duration": 19,
    "start_time": "2024-06-28T21:29:42.080Z"
   },
   {
    "duration": 150,
    "start_time": "2024-06-28T21:29:42.101Z"
   },
   {
    "duration": 10,
    "start_time": "2024-06-28T21:29:42.253Z"
   },
   {
    "duration": 49,
    "start_time": "2024-06-28T21:29:42.264Z"
   },
   {
    "duration": 18,
    "start_time": "2024-06-28T21:29:42.315Z"
   },
   {
    "duration": 77,
    "start_time": "2024-06-28T21:29:42.334Z"
   },
   {
    "duration": 12,
    "start_time": "2024-06-28T21:29:42.413Z"
   },
   {
    "duration": 20,
    "start_time": "2024-06-28T21:29:42.427Z"
   },
   {
    "duration": 14,
    "start_time": "2024-06-28T21:29:42.449Z"
   },
   {
    "duration": 8,
    "start_time": "2024-06-28T21:29:42.464Z"
   },
   {
    "duration": 19,
    "start_time": "2024-06-28T21:29:42.490Z"
   },
   {
    "duration": 25,
    "start_time": "2024-06-28T21:29:42.510Z"
   },
   {
    "duration": 6,
    "start_time": "2024-06-28T21:29:42.537Z"
   },
   {
    "duration": 30,
    "start_time": "2024-06-28T21:29:42.544Z"
   },
   {
    "duration": 15,
    "start_time": "2024-06-28T21:29:42.575Z"
   },
   {
    "duration": 815,
    "start_time": "2024-06-28T21:29:42.593Z"
   },
   {
    "duration": 2301,
    "start_time": "2024-06-28T21:29:43.409Z"
   },
   {
    "duration": 7080,
    "start_time": "2024-06-28T21:29:45.712Z"
   },
   {
    "duration": 21,
    "start_time": "2024-06-28T21:29:52.794Z"
   },
   {
    "duration": 1674,
    "start_time": "2024-06-28T21:29:52.817Z"
   },
   {
    "duration": 21,
    "start_time": "2024-06-28T21:29:54.492Z"
   },
   {
    "duration": 313,
    "start_time": "2024-06-28T21:29:54.514Z"
   },
   {
    "duration": 0,
    "start_time": "2024-06-28T21:29:54.829Z"
   },
   {
    "duration": 0,
    "start_time": "2024-06-28T21:29:54.830Z"
   },
   {
    "duration": 617,
    "start_time": "2024-06-28T21:30:03.249Z"
   },
   {
    "duration": 5,
    "start_time": "2024-06-28T21:30:07.881Z"
   },
   {
    "duration": 21,
    "start_time": "2024-06-28T21:30:14.626Z"
   },
   {
    "duration": 5,
    "start_time": "2024-06-28T21:32:11.551Z"
   },
   {
    "duration": 137,
    "start_time": "2024-06-28T21:33:20.610Z"
   },
   {
    "duration": 171,
    "start_time": "2024-06-28T21:33:40.095Z"
   },
   {
    "duration": 20,
    "start_time": "2024-06-28T21:34:38.223Z"
   },
   {
    "duration": 49,
    "start_time": "2024-06-28T21:38:44.765Z"
   },
   {
    "duration": 11,
    "start_time": "2024-06-28T21:38:53.207Z"
   },
   {
    "duration": 3,
    "start_time": "2024-06-28T21:39:39.897Z"
   },
   {
    "duration": 17,
    "start_time": "2024-06-28T21:39:52.976Z"
   },
   {
    "duration": 23,
    "start_time": "2024-06-28T21:44:22.677Z"
   },
   {
    "duration": 428,
    "start_time": "2024-06-28T21:44:38.509Z"
   },
   {
    "duration": 21,
    "start_time": "2024-06-28T21:45:03.640Z"
   },
   {
    "duration": 28,
    "start_time": "2024-06-28T21:46:42.604Z"
   },
   {
    "duration": 411,
    "start_time": "2024-06-28T21:46:53.788Z"
   },
   {
    "duration": 460,
    "start_time": "2024-06-28T21:48:01.014Z"
   },
   {
    "duration": 10,
    "start_time": "2024-06-28T21:51:24.808Z"
   },
   {
    "duration": 11,
    "start_time": "2024-06-28T21:53:08.509Z"
   },
   {
    "duration": 11,
    "start_time": "2024-06-28T21:54:37.800Z"
   },
   {
    "duration": 46,
    "start_time": "2024-06-28T22:03:17.067Z"
   },
   {
    "duration": 48,
    "start_time": "2024-06-28T22:03:22.781Z"
   },
   {
    "duration": 55,
    "start_time": "2024-06-28T22:03:28.821Z"
   },
   {
    "duration": 45,
    "start_time": "2024-06-28T22:03:58.416Z"
   },
   {
    "duration": 1187,
    "start_time": "2024-06-28T22:04:27.979Z"
   },
   {
    "duration": 19,
    "start_time": "2024-06-28T22:04:47.797Z"
   },
   {
    "duration": 16,
    "start_time": "2024-06-28T22:05:02.028Z"
   },
   {
    "duration": 2812,
    "start_time": "2024-06-28T22:05:17.879Z"
   },
   {
    "duration": 2805,
    "start_time": "2024-06-28T22:05:20.693Z"
   },
   {
    "duration": 1766,
    "start_time": "2024-06-28T22:05:23.500Z"
   },
   {
    "duration": 49,
    "start_time": "2024-06-28T22:05:25.267Z"
   },
   {
    "duration": 28,
    "start_time": "2024-06-28T22:05:25.318Z"
   },
   {
    "duration": 26,
    "start_time": "2024-06-28T22:05:25.347Z"
   },
   {
    "duration": 35,
    "start_time": "2024-06-28T22:05:25.375Z"
   },
   {
    "duration": 26,
    "start_time": "2024-06-28T22:05:25.411Z"
   },
   {
    "duration": 8,
    "start_time": "2024-06-28T22:05:25.439Z"
   },
   {
    "duration": 26,
    "start_time": "2024-06-28T22:05:25.448Z"
   },
   {
    "duration": 22,
    "start_time": "2024-06-28T22:05:25.475Z"
   },
   {
    "duration": 1841,
    "start_time": "2024-06-28T22:05:25.498Z"
   },
   {
    "duration": 16,
    "start_time": "2024-06-28T22:05:27.390Z"
   },
   {
    "duration": 208,
    "start_time": "2024-06-28T22:05:27.409Z"
   },
   {
    "duration": 509,
    "start_time": "2024-06-28T22:05:27.618Z"
   },
   {
    "duration": 195,
    "start_time": "2024-06-28T22:05:28.128Z"
   },
   {
    "duration": 8,
    "start_time": "2024-06-28T22:05:28.325Z"
   },
   {
    "duration": 201,
    "start_time": "2024-06-28T22:05:28.390Z"
   },
   {
    "duration": 199,
    "start_time": "2024-06-28T22:05:28.592Z"
   },
   {
    "duration": 6,
    "start_time": "2024-06-28T22:05:28.793Z"
   },
   {
    "duration": 152,
    "start_time": "2024-06-28T22:05:28.800Z"
   },
   {
    "duration": 6,
    "start_time": "2024-06-28T22:05:28.954Z"
   },
   {
    "duration": 64,
    "start_time": "2024-06-28T22:05:28.961Z"
   },
   {
    "duration": 10,
    "start_time": "2024-06-28T22:05:29.026Z"
   },
   {
    "duration": 273,
    "start_time": "2024-06-28T22:05:29.037Z"
   },
   {
    "duration": 218,
    "start_time": "2024-06-28T22:05:29.312Z"
   },
   {
    "duration": 66,
    "start_time": "2024-06-28T22:05:29.531Z"
   },
   {
    "duration": 205,
    "start_time": "2024-06-28T22:05:29.598Z"
   },
   {
    "duration": 9,
    "start_time": "2024-06-28T22:05:29.805Z"
   },
   {
    "duration": 95,
    "start_time": "2024-06-28T22:05:29.816Z"
   },
   {
    "duration": 77,
    "start_time": "2024-06-28T22:05:29.913Z"
   },
   {
    "duration": 9,
    "start_time": "2024-06-28T22:05:29.992Z"
   },
   {
    "duration": 107,
    "start_time": "2024-06-28T22:05:30.003Z"
   },
   {
    "duration": 295,
    "start_time": "2024-06-28T22:05:30.112Z"
   },
   {
    "duration": 185,
    "start_time": "2024-06-28T22:05:30.408Z"
   },
   {
    "duration": 36,
    "start_time": "2024-06-28T22:05:30.594Z"
   },
   {
    "duration": 84,
    "start_time": "2024-06-28T22:05:30.632Z"
   },
   {
    "duration": 59,
    "start_time": "2024-06-28T22:05:30.718Z"
   },
   {
    "duration": 27,
    "start_time": "2024-06-28T22:05:30.778Z"
   },
   {
    "duration": 53,
    "start_time": "2024-06-28T22:05:30.806Z"
   },
   {
    "duration": 14,
    "start_time": "2024-06-28T22:05:30.863Z"
   },
   {
    "duration": 794,
    "start_time": "2024-06-28T22:05:30.879Z"
   },
   {
    "duration": 2320,
    "start_time": "2024-06-28T22:05:31.674Z"
   },
   {
    "duration": 7080,
    "start_time": "2024-06-28T22:05:33.995Z"
   },
   {
    "duration": 32,
    "start_time": "2024-06-28T22:05:41.077Z"
   },
   {
    "duration": 1730,
    "start_time": "2024-06-28T22:05:41.111Z"
   },
   {
    "duration": 149,
    "start_time": "2024-06-28T22:05:42.843Z"
   },
   {
    "duration": 0,
    "start_time": "2024-06-28T22:05:42.994Z"
   },
   {
    "duration": 0,
    "start_time": "2024-06-28T22:05:42.996Z"
   },
   {
    "duration": 0,
    "start_time": "2024-06-28T22:05:42.997Z"
   },
   {
    "duration": 0,
    "start_time": "2024-06-28T22:05:42.998Z"
   },
   {
    "duration": 5,
    "start_time": "2024-06-28T22:06:01.203Z"
   },
   {
    "duration": 44,
    "start_time": "2024-06-28T22:08:05.472Z"
   },
   {
    "duration": 11,
    "start_time": "2024-06-28T22:08:45.261Z"
   },
   {
    "duration": 4441,
    "start_time": "2024-06-30T13:02:17.328Z"
   },
   {
    "duration": 3162,
    "start_time": "2024-06-30T13:02:21.771Z"
   },
   {
    "duration": 2077,
    "start_time": "2024-06-30T13:02:24.935Z"
   },
   {
    "duration": 151,
    "start_time": "2024-06-30T13:02:27.014Z"
   },
   {
    "duration": 115,
    "start_time": "2024-06-30T13:02:27.167Z"
   },
   {
    "duration": 84,
    "start_time": "2024-06-30T13:02:27.284Z"
   },
   {
    "duration": 87,
    "start_time": "2024-06-30T13:02:27.370Z"
   },
   {
    "duration": 36,
    "start_time": "2024-06-30T13:02:27.459Z"
   },
   {
    "duration": 14,
    "start_time": "2024-06-30T13:02:27.497Z"
   },
   {
    "duration": 42,
    "start_time": "2024-06-30T13:02:27.513Z"
   },
   {
    "duration": 15,
    "start_time": "2024-06-30T13:02:27.557Z"
   },
   {
    "duration": 1165,
    "start_time": "2024-06-30T13:02:27.573Z"
   },
   {
    "duration": 5,
    "start_time": "2024-06-30T13:02:28.740Z"
   },
   {
    "duration": 133,
    "start_time": "2024-06-30T13:02:28.755Z"
   },
   {
    "duration": 287,
    "start_time": "2024-06-30T13:02:28.889Z"
   },
   {
    "duration": 128,
    "start_time": "2024-06-30T13:02:29.178Z"
   },
   {
    "duration": 11,
    "start_time": "2024-06-30T13:02:29.308Z"
   },
   {
    "duration": 110,
    "start_time": "2024-06-30T13:02:29.320Z"
   },
   {
    "duration": 105,
    "start_time": "2024-06-30T13:02:29.432Z"
   },
   {
    "duration": 7,
    "start_time": "2024-06-30T13:02:29.538Z"
   },
   {
    "duration": 116,
    "start_time": "2024-06-30T13:02:29.546Z"
   },
   {
    "duration": 7,
    "start_time": "2024-06-30T13:02:29.665Z"
   },
   {
    "duration": 26,
    "start_time": "2024-06-30T13:02:29.673Z"
   },
   {
    "duration": 10,
    "start_time": "2024-06-30T13:02:29.700Z"
   },
   {
    "duration": 136,
    "start_time": "2024-06-30T13:02:29.712Z"
   },
   {
    "duration": 124,
    "start_time": "2024-06-30T13:02:29.849Z"
   },
   {
    "duration": 16,
    "start_time": "2024-06-30T13:02:29.974Z"
   },
   {
    "duration": 125,
    "start_time": "2024-06-30T13:02:29.993Z"
   },
   {
    "duration": 14,
    "start_time": "2024-06-30T13:02:30.120Z"
   },
   {
    "duration": 69,
    "start_time": "2024-06-30T13:02:30.136Z"
   },
   {
    "duration": 79,
    "start_time": "2024-06-30T13:02:30.207Z"
   },
   {
    "duration": 66,
    "start_time": "2024-06-30T13:02:30.288Z"
   },
   {
    "duration": 42,
    "start_time": "2024-06-30T13:02:30.356Z"
   },
   {
    "duration": 82,
    "start_time": "2024-06-30T13:02:30.400Z"
   },
   {
    "duration": 77,
    "start_time": "2024-06-30T13:02:30.485Z"
   },
   {
    "duration": 58,
    "start_time": "2024-06-30T13:02:30.564Z"
   },
   {
    "duration": 45,
    "start_time": "2024-06-30T13:02:30.624Z"
   },
   {
    "duration": 64,
    "start_time": "2024-06-30T13:02:30.672Z"
   },
   {
    "duration": 52,
    "start_time": "2024-06-30T13:02:30.737Z"
   },
   {
    "duration": 80,
    "start_time": "2024-06-30T13:02:30.791Z"
   },
   {
    "duration": 190,
    "start_time": "2024-06-30T13:02:30.873Z"
   },
   {
    "duration": 1071,
    "start_time": "2024-06-30T13:02:31.065Z"
   },
   {
    "duration": 2670,
    "start_time": "2024-06-30T13:02:32.137Z"
   },
   {
    "duration": 7664,
    "start_time": "2024-06-30T13:02:34.809Z"
   },
   {
    "duration": 23,
    "start_time": "2024-06-30T13:02:42.475Z"
   },
   {
    "duration": 1725,
    "start_time": "2024-06-30T13:02:42.499Z"
   },
   {
    "duration": 55,
    "start_time": "2024-06-30T13:02:44.225Z"
   },
   {
    "duration": 0,
    "start_time": "2024-06-30T13:02:44.281Z"
   },
   {
    "duration": 0,
    "start_time": "2024-06-30T13:02:44.282Z"
   },
   {
    "duration": 0,
    "start_time": "2024-06-30T13:02:44.283Z"
   },
   {
    "duration": 0,
    "start_time": "2024-06-30T13:02:44.285Z"
   },
   {
    "duration": 0,
    "start_time": "2024-06-30T13:02:44.286Z"
   },
   {
    "duration": 542,
    "start_time": "2024-06-30T13:03:31.722Z"
   },
   {
    "duration": 172,
    "start_time": "2024-06-30T13:03:39.970Z"
   },
   {
    "duration": 14,
    "start_time": "2024-06-30T13:03:54.640Z"
   },
   {
    "duration": 11,
    "start_time": "2024-06-30T13:05:45.141Z"
   },
   {
    "duration": 10,
    "start_time": "2024-06-30T13:06:10.052Z"
   },
   {
    "duration": 438,
    "start_time": "2024-06-30T13:07:10.896Z"
   },
   {
    "duration": 11,
    "start_time": "2024-06-30T13:07:15.149Z"
   },
   {
    "duration": 11,
    "start_time": "2024-06-30T13:07:17.688Z"
   },
   {
    "duration": 39,
    "start_time": "2024-06-30T13:08:20.742Z"
   },
   {
    "duration": 11,
    "start_time": "2024-06-30T13:09:39.130Z"
   },
   {
    "duration": 12,
    "start_time": "2024-06-30T13:09:51.859Z"
   },
   {
    "duration": 14,
    "start_time": "2024-06-30T13:09:58.331Z"
   },
   {
    "duration": 11,
    "start_time": "2024-06-30T13:11:27.037Z"
   },
   {
    "duration": 12,
    "start_time": "2024-06-30T13:15:16.725Z"
   },
   {
    "duration": 481,
    "start_time": "2024-06-30T13:15:50.535Z"
   },
   {
    "duration": 11,
    "start_time": "2024-06-30T13:16:14.465Z"
   },
   {
    "duration": 478,
    "start_time": "2024-06-30T13:17:06.477Z"
   },
   {
    "duration": 1163,
    "start_time": "2024-06-30T13:17:11.283Z"
   },
   {
    "duration": 11,
    "start_time": "2024-06-30T13:17:23.255Z"
   },
   {
    "duration": 1029,
    "start_time": "2024-06-30T13:17:47.126Z"
   },
   {
    "duration": 11,
    "start_time": "2024-06-30T13:21:59.832Z"
   },
   {
    "duration": 12,
    "start_time": "2024-06-30T13:22:04.209Z"
   },
   {
    "duration": 12,
    "start_time": "2024-06-30T13:22:50.990Z"
   },
   {
    "duration": 25,
    "start_time": "2024-06-30T13:24:54.387Z"
   },
   {
    "duration": 21,
    "start_time": "2024-06-30T13:25:27.636Z"
   },
   {
    "duration": 25,
    "start_time": "2024-06-30T13:25:33.356Z"
   },
   {
    "duration": 756,
    "start_time": "2024-06-30T13:28:53.264Z"
   },
   {
    "duration": 5,
    "start_time": "2024-06-30T13:29:26.194Z"
   },
   {
    "duration": 271,
    "start_time": "2024-06-30T13:29:35.515Z"
   },
   {
    "duration": 74,
    "start_time": "2024-06-30T13:30:10.530Z"
   },
   {
    "duration": 533,
    "start_time": "2024-06-30T13:30:16.758Z"
   },
   {
    "duration": 4,
    "start_time": "2024-06-30T13:30:50.348Z"
   },
   {
    "duration": 5,
    "start_time": "2024-06-30T13:30:54.594Z"
   },
   {
    "duration": 792,
    "start_time": "2024-06-30T13:31:01.975Z"
   },
   {
    "duration": 845,
    "start_time": "2024-06-30T13:31:11.642Z"
   },
   {
    "duration": 20,
    "start_time": "2024-06-30T13:31:14.974Z"
   },
   {
    "duration": 15,
    "start_time": "2024-06-30T13:31:39.855Z"
   },
   {
    "duration": 746,
    "start_time": "2024-06-30T13:32:13.316Z"
   },
   {
    "duration": 34,
    "start_time": "2024-06-30T13:32:40.513Z"
   },
   {
    "duration": 24,
    "start_time": "2024-06-30T13:32:55.520Z"
   },
   {
    "duration": 28,
    "start_time": "2024-06-30T13:33:21.125Z"
   },
   {
    "duration": 871,
    "start_time": "2024-06-30T13:33:49.013Z"
   },
   {
    "duration": 1128,
    "start_time": "2024-06-30T13:34:11.751Z"
   },
   {
    "duration": 894,
    "start_time": "2024-06-30T13:34:21.189Z"
   },
   {
    "duration": 918,
    "start_time": "2024-06-30T13:34:33.266Z"
   },
   {
    "duration": 482,
    "start_time": "2024-06-30T13:34:52.773Z"
   },
   {
    "duration": 52,
    "start_time": "2024-06-30T13:42:40.086Z"
   },
   {
    "duration": 30,
    "start_time": "2024-06-30T13:42:42.606Z"
   },
   {
    "duration": 11,
    "start_time": "2024-06-30T13:56:01.522Z"
   },
   {
    "duration": 1872,
    "start_time": "2024-06-30T13:56:55.182Z"
   },
   {
    "duration": 995,
    "start_time": "2024-06-30T13:57:07.462Z"
   },
   {
    "duration": 974,
    "start_time": "2024-06-30T13:57:22.181Z"
   },
   {
    "duration": 1734,
    "start_time": "2024-06-30T13:57:34.973Z"
   },
   {
    "duration": 1483,
    "start_time": "2024-06-30T13:57:56.629Z"
   },
   {
    "duration": 1189,
    "start_time": "2024-06-30T13:58:14.176Z"
   },
   {
    "duration": 1145,
    "start_time": "2024-06-30T13:59:04.627Z"
   },
   {
    "duration": 14,
    "start_time": "2024-06-30T14:00:29.342Z"
   },
   {
    "duration": 14,
    "start_time": "2024-06-30T14:00:51.349Z"
   },
   {
    "duration": 14,
    "start_time": "2024-06-30T14:01:56.652Z"
   },
   {
    "duration": 57,
    "start_time": "2024-06-30T14:09:38.500Z"
   },
   {
    "duration": 22,
    "start_time": "2024-06-30T14:16:19.170Z"
   },
   {
    "duration": 7,
    "start_time": "2024-06-30T14:16:51.475Z"
   },
   {
    "duration": 5,
    "start_time": "2024-06-30T14:17:30.906Z"
   },
   {
    "duration": 24,
    "start_time": "2024-06-30T14:17:33.662Z"
   },
   {
    "duration": 15,
    "start_time": "2024-06-30T14:18:27.201Z"
   },
   {
    "duration": 9,
    "start_time": "2024-06-30T14:22:02.282Z"
   },
   {
    "duration": 27,
    "start_time": "2024-06-30T14:24:01.761Z"
   },
   {
    "duration": 17,
    "start_time": "2024-06-30T14:25:28.514Z"
   },
   {
    "duration": 13,
    "start_time": "2024-06-30T14:25:30.942Z"
   },
   {
    "duration": 732,
    "start_time": "2024-06-30T14:28:10.308Z"
   },
   {
    "duration": 9,
    "start_time": "2024-06-30T14:28:43.246Z"
   },
   {
    "duration": 14,
    "start_time": "2024-06-30T14:29:20.291Z"
   },
   {
    "duration": 4,
    "start_time": "2024-06-30T14:29:36.068Z"
   },
   {
    "duration": 18,
    "start_time": "2024-06-30T14:29:53.896Z"
   },
   {
    "duration": 9,
    "start_time": "2024-06-30T14:30:24.602Z"
   },
   {
    "duration": 29,
    "start_time": "2024-06-30T14:30:32.240Z"
   },
   {
    "duration": 10,
    "start_time": "2024-06-30T14:30:38.952Z"
   },
   {
    "duration": 17,
    "start_time": "2024-06-30T14:32:42.749Z"
   },
   {
    "duration": 20,
    "start_time": "2024-06-30T14:32:48.500Z"
   },
   {
    "duration": 9,
    "start_time": "2024-06-30T14:33:29.200Z"
   },
   {
    "duration": 9,
    "start_time": "2024-06-30T14:34:28.518Z"
   },
   {
    "duration": 10,
    "start_time": "2024-06-30T14:34:32.043Z"
   },
   {
    "duration": 9,
    "start_time": "2024-06-30T14:37:09.144Z"
   },
   {
    "duration": 44,
    "start_time": "2024-06-30T14:37:23.744Z"
   },
   {
    "duration": 54,
    "start_time": "2024-06-30T14:38:00.336Z"
   },
   {
    "duration": 81,
    "start_time": "2024-06-30T14:38:05.196Z"
   },
   {
    "duration": 51,
    "start_time": "2024-06-30T14:40:55.738Z"
   },
   {
    "duration": 4,
    "start_time": "2024-06-30T14:42:31.379Z"
   },
   {
    "duration": 4,
    "start_time": "2024-06-30T14:42:42.445Z"
   },
   {
    "duration": 36,
    "start_time": "2024-06-30T14:42:48.628Z"
   },
   {
    "duration": 10,
    "start_time": "2024-06-30T14:42:52.655Z"
   },
   {
    "duration": 14,
    "start_time": "2024-06-30T14:43:35.285Z"
   },
   {
    "duration": 9,
    "start_time": "2024-06-30T14:43:42.990Z"
   },
   {
    "duration": 4,
    "start_time": "2024-06-30T14:44:53.169Z"
   },
   {
    "duration": 12,
    "start_time": "2024-06-30T14:45:05.025Z"
   },
   {
    "duration": 9,
    "start_time": "2024-06-30T14:45:16.840Z"
   },
   {
    "duration": 7,
    "start_time": "2024-06-30T14:47:00.208Z"
   },
   {
    "duration": 3,
    "start_time": "2024-06-30T14:47:41.010Z"
   },
   {
    "duration": 8,
    "start_time": "2024-06-30T14:47:47.237Z"
   },
   {
    "duration": 25,
    "start_time": "2024-06-30T14:47:51.054Z"
   },
   {
    "duration": 17,
    "start_time": "2024-06-30T14:50:15.148Z"
   },
   {
    "duration": 20,
    "start_time": "2024-06-30T14:50:19.204Z"
   },
   {
    "duration": 4,
    "start_time": "2024-06-30T14:51:28.530Z"
   },
   {
    "duration": 24,
    "start_time": "2024-06-30T14:51:33.240Z"
   },
   {
    "duration": 7,
    "start_time": "2024-06-30T14:51:41.051Z"
   },
   {
    "duration": 4,
    "start_time": "2024-06-30T14:52:59.507Z"
   },
   {
    "duration": 5,
    "start_time": "2024-06-30T14:53:35.684Z"
   },
   {
    "duration": 6,
    "start_time": "2024-06-30T14:53:39.625Z"
   },
   {
    "duration": 2592,
    "start_time": "2024-06-30T15:11:59.825Z"
   },
   {
    "duration": 3208,
    "start_time": "2024-06-30T15:12:02.420Z"
   },
   {
    "duration": 1927,
    "start_time": "2024-06-30T15:12:05.630Z"
   },
   {
    "duration": 53,
    "start_time": "2024-06-30T15:12:07.558Z"
   },
   {
    "duration": 30,
    "start_time": "2024-06-30T15:12:07.613Z"
   },
   {
    "duration": 29,
    "start_time": "2024-06-30T15:12:07.644Z"
   },
   {
    "duration": 37,
    "start_time": "2024-06-30T15:12:07.674Z"
   },
   {
    "duration": 20,
    "start_time": "2024-06-30T15:12:07.713Z"
   },
   {
    "duration": 51,
    "start_time": "2024-06-30T15:12:07.735Z"
   },
   {
    "duration": 9,
    "start_time": "2024-06-30T15:12:07.788Z"
   },
   {
    "duration": 21,
    "start_time": "2024-06-30T15:12:07.799Z"
   },
   {
    "duration": 13,
    "start_time": "2024-06-30T15:12:07.821Z"
   },
   {
    "duration": 1175,
    "start_time": "2024-06-30T15:12:07.855Z"
   },
   {
    "duration": 5,
    "start_time": "2024-06-30T15:12:09.033Z"
   },
   {
    "duration": 131,
    "start_time": "2024-06-30T15:12:09.039Z"
   },
   {
    "duration": 295,
    "start_time": "2024-06-30T15:12:09.172Z"
   },
   {
    "duration": 108,
    "start_time": "2024-06-30T15:12:09.469Z"
   },
   {
    "duration": 8,
    "start_time": "2024-06-30T15:12:09.579Z"
   },
   {
    "duration": 108,
    "start_time": "2024-06-30T15:12:09.588Z"
   },
   {
    "duration": 103,
    "start_time": "2024-06-30T15:12:09.698Z"
   },
   {
    "duration": 6,
    "start_time": "2024-06-30T15:12:09.803Z"
   },
   {
    "duration": 124,
    "start_time": "2024-06-30T15:12:09.811Z"
   },
   {
    "duration": 7,
    "start_time": "2024-06-30T15:12:09.936Z"
   },
   {
    "duration": 26,
    "start_time": "2024-06-30T15:12:09.944Z"
   },
   {
    "duration": 20,
    "start_time": "2024-06-30T15:12:09.972Z"
   },
   {
    "duration": 208,
    "start_time": "2024-06-30T15:12:09.994Z"
   },
   {
    "duration": 115,
    "start_time": "2024-06-30T15:12:10.204Z"
   },
   {
    "duration": 16,
    "start_time": "2024-06-30T15:12:10.321Z"
   },
   {
    "duration": 121,
    "start_time": "2024-06-30T15:12:10.338Z"
   },
   {
    "duration": 9,
    "start_time": "2024-06-30T15:12:10.461Z"
   },
   {
    "duration": 29,
    "start_time": "2024-06-30T15:12:10.471Z"
   },
   {
    "duration": 19,
    "start_time": "2024-06-30T15:12:10.502Z"
   },
   {
    "duration": 32,
    "start_time": "2024-06-30T15:12:10.523Z"
   },
   {
    "duration": 13,
    "start_time": "2024-06-30T15:12:10.557Z"
   },
   {
    "duration": 23,
    "start_time": "2024-06-30T15:12:10.572Z"
   },
   {
    "duration": 24,
    "start_time": "2024-06-30T15:12:10.597Z"
   },
   {
    "duration": 8,
    "start_time": "2024-06-30T15:12:10.622Z"
   },
   {
    "duration": 8,
    "start_time": "2024-06-30T15:12:10.656Z"
   },
   {
    "duration": 30,
    "start_time": "2024-06-30T15:12:10.666Z"
   },
   {
    "duration": 9,
    "start_time": "2024-06-30T15:12:10.698Z"
   },
   {
    "duration": 52,
    "start_time": "2024-06-30T15:12:10.710Z"
   },
   {
    "duration": 6,
    "start_time": "2024-06-30T15:12:10.763Z"
   },
   {
    "duration": 828,
    "start_time": "2024-06-30T15:12:10.770Z"
   },
   {
    "duration": 2620,
    "start_time": "2024-06-30T15:12:11.600Z"
   },
   {
    "duration": 7761,
    "start_time": "2024-06-30T15:12:14.221Z"
   },
   {
    "duration": 23,
    "start_time": "2024-06-30T15:12:21.984Z"
   },
   {
    "duration": 1765,
    "start_time": "2024-06-30T15:12:22.008Z"
   },
   {
    "duration": 467,
    "start_time": "2024-06-30T15:12:23.774Z"
   },
   {
    "duration": 36,
    "start_time": "2024-06-30T15:12:24.243Z"
   },
   {
    "duration": 773,
    "start_time": "2024-06-30T15:12:24.281Z"
   },
   {
    "duration": 1402,
    "start_time": "2024-06-30T15:12:25.056Z"
   },
   {
    "duration": 7,
    "start_time": "2024-06-30T15:12:26.460Z"
   },
   {
    "duration": 14,
    "start_time": "2024-06-30T15:12:26.469Z"
   },
   {
    "duration": 9,
    "start_time": "2024-06-30T15:12:26.485Z"
   },
   {
    "duration": 115,
    "start_time": "2024-06-30T15:12:26.496Z"
   },
   {
    "duration": 6,
    "start_time": "2024-06-30T15:12:26.613Z"
   },
   {
    "duration": 24,
    "start_time": "2024-06-30T15:12:26.622Z"
   },
   {
    "duration": 4543,
    "start_time": "2024-06-30T15:53:02.374Z"
   },
   {
    "duration": 3633,
    "start_time": "2024-06-30T15:53:06.920Z"
   },
   {
    "duration": 4142,
    "start_time": "2024-06-30T15:53:10.555Z"
   },
   {
    "duration": 96,
    "start_time": "2024-06-30T15:53:14.700Z"
   },
   {
    "duration": 75,
    "start_time": "2024-06-30T15:53:14.797Z"
   },
   {
    "duration": 70,
    "start_time": "2024-06-30T15:53:14.874Z"
   },
   {
    "duration": 79,
    "start_time": "2024-06-30T15:53:14.945Z"
   },
   {
    "duration": 27,
    "start_time": "2024-06-30T15:53:15.025Z"
   },
   {
    "duration": 47,
    "start_time": "2024-06-30T15:53:15.054Z"
   },
   {
    "duration": 54,
    "start_time": "2024-06-30T15:53:15.103Z"
   },
   {
    "duration": 20,
    "start_time": "2024-06-30T15:53:15.159Z"
   },
   {
    "duration": 1345,
    "start_time": "2024-06-30T15:53:15.181Z"
   },
   {
    "duration": 6,
    "start_time": "2024-06-30T15:53:16.528Z"
   },
   {
    "duration": 85,
    "start_time": "2024-06-30T15:53:16.535Z"
   },
   {
    "duration": 277,
    "start_time": "2024-06-30T15:53:16.622Z"
   },
   {
    "duration": 116,
    "start_time": "2024-06-30T15:53:16.902Z"
   },
   {
    "duration": 9,
    "start_time": "2024-06-30T15:53:17.020Z"
   },
   {
    "duration": 113,
    "start_time": "2024-06-30T15:53:17.031Z"
   },
   {
    "duration": 113,
    "start_time": "2024-06-30T15:53:17.146Z"
   },
   {
    "duration": 7,
    "start_time": "2024-06-30T15:53:17.261Z"
   },
   {
    "duration": 127,
    "start_time": "2024-06-30T15:53:17.270Z"
   },
   {
    "duration": 7,
    "start_time": "2024-06-30T15:53:17.400Z"
   },
   {
    "duration": 29,
    "start_time": "2024-06-30T15:53:17.408Z"
   },
   {
    "duration": 16,
    "start_time": "2024-06-30T15:53:17.439Z"
   },
   {
    "duration": 184,
    "start_time": "2024-06-30T15:53:17.457Z"
   },
   {
    "duration": 133,
    "start_time": "2024-06-30T15:53:17.643Z"
   },
   {
    "duration": 22,
    "start_time": "2024-06-30T15:53:17.783Z"
   },
   {
    "duration": 159,
    "start_time": "2024-06-30T15:53:17.811Z"
   },
   {
    "duration": 17,
    "start_time": "2024-06-30T15:53:17.972Z"
   },
   {
    "duration": 53,
    "start_time": "2024-06-30T15:53:17.991Z"
   },
   {
    "duration": 22,
    "start_time": "2024-06-30T15:53:18.046Z"
   },
   {
    "duration": 13,
    "start_time": "2024-06-30T15:53:18.070Z"
   },
   {
    "duration": 27,
    "start_time": "2024-06-30T15:53:18.084Z"
   },
   {
    "duration": 26,
    "start_time": "2024-06-30T15:53:18.113Z"
   },
   {
    "duration": 14,
    "start_time": "2024-06-30T15:53:18.141Z"
   },
   {
    "duration": 32,
    "start_time": "2024-06-30T15:53:18.157Z"
   },
   {
    "duration": 10,
    "start_time": "2024-06-30T15:53:18.190Z"
   },
   {
    "duration": 25,
    "start_time": "2024-06-30T15:53:18.202Z"
   },
   {
    "duration": 9,
    "start_time": "2024-06-30T15:53:18.228Z"
   },
   {
    "duration": 75,
    "start_time": "2024-06-30T15:53:18.239Z"
   },
   {
    "duration": 6,
    "start_time": "2024-06-30T15:53:18.316Z"
   },
   {
    "duration": 826,
    "start_time": "2024-06-30T15:53:18.323Z"
   },
   {
    "duration": 2775,
    "start_time": "2024-06-30T15:53:19.151Z"
   },
   {
    "duration": 7990,
    "start_time": "2024-06-30T15:53:21.927Z"
   },
   {
    "duration": 69,
    "start_time": "2024-06-30T15:53:29.920Z"
   },
   {
    "duration": 1790,
    "start_time": "2024-06-30T15:53:29.991Z"
   },
   {
    "duration": 500,
    "start_time": "2024-06-30T15:53:31.784Z"
   },
   {
    "duration": 29,
    "start_time": "2024-06-30T15:53:32.286Z"
   },
   {
    "duration": 813,
    "start_time": "2024-06-30T15:53:32.317Z"
   },
   {
    "duration": 1280,
    "start_time": "2024-06-30T15:53:33.132Z"
   },
   {
    "duration": 7,
    "start_time": "2024-06-30T15:53:34.483Z"
   },
   {
    "duration": 24,
    "start_time": "2024-06-30T15:53:34.492Z"
   },
   {
    "duration": 10,
    "start_time": "2024-06-30T15:53:34.517Z"
   },
   {
    "duration": 97,
    "start_time": "2024-06-30T15:53:34.528Z"
   },
   {
    "duration": 6,
    "start_time": "2024-06-30T15:53:34.627Z"
   },
   {
    "duration": 43,
    "start_time": "2024-07-01T14:57:53.778Z"
   },
   {
    "duration": 5247,
    "start_time": "2024-07-01T14:57:58.763Z"
   },
   {
    "duration": 2879,
    "start_time": "2024-07-01T14:58:04.012Z"
   },
   {
    "duration": 2015,
    "start_time": "2024-07-01T14:58:06.893Z"
   },
   {
    "duration": 91,
    "start_time": "2024-07-01T14:58:08.910Z"
   },
   {
    "duration": 69,
    "start_time": "2024-07-01T14:58:09.003Z"
   },
   {
    "duration": 69,
    "start_time": "2024-07-01T14:58:09.074Z"
   },
   {
    "duration": 75,
    "start_time": "2024-07-01T14:58:09.144Z"
   },
   {
    "duration": 24,
    "start_time": "2024-07-01T14:58:09.221Z"
   },
   {
    "duration": 8,
    "start_time": "2024-07-01T14:58:09.247Z"
   },
   {
    "duration": 17,
    "start_time": "2024-07-01T14:58:09.256Z"
   },
   {
    "duration": 22,
    "start_time": "2024-07-01T14:58:09.275Z"
   },
   {
    "duration": 146,
    "start_time": "2024-07-01T14:58:09.298Z"
   },
   {
    "duration": 0,
    "start_time": "2024-07-01T14:58:09.447Z"
   },
   {
    "duration": 0,
    "start_time": "2024-07-01T14:58:09.449Z"
   },
   {
    "duration": 0,
    "start_time": "2024-07-01T14:58:09.451Z"
   },
   {
    "duration": 0,
    "start_time": "2024-07-01T14:58:09.452Z"
   },
   {
    "duration": 0,
    "start_time": "2024-07-01T14:58:09.453Z"
   },
   {
    "duration": 0,
    "start_time": "2024-07-01T14:58:09.454Z"
   },
   {
    "duration": 0,
    "start_time": "2024-07-01T14:58:09.455Z"
   },
   {
    "duration": 0,
    "start_time": "2024-07-01T14:58:09.457Z"
   },
   {
    "duration": 0,
    "start_time": "2024-07-01T14:58:09.458Z"
   },
   {
    "duration": 0,
    "start_time": "2024-07-01T14:58:09.460Z"
   },
   {
    "duration": 0,
    "start_time": "2024-07-01T14:58:09.461Z"
   },
   {
    "duration": 0,
    "start_time": "2024-07-01T14:58:09.462Z"
   },
   {
    "duration": 0,
    "start_time": "2024-07-01T14:58:09.463Z"
   },
   {
    "duration": 0,
    "start_time": "2024-07-01T14:58:09.465Z"
   },
   {
    "duration": 0,
    "start_time": "2024-07-01T14:58:09.466Z"
   },
   {
    "duration": 0,
    "start_time": "2024-07-01T14:58:09.467Z"
   },
   {
    "duration": 0,
    "start_time": "2024-07-01T14:58:09.469Z"
   },
   {
    "duration": 0,
    "start_time": "2024-07-01T14:58:09.470Z"
   },
   {
    "duration": 0,
    "start_time": "2024-07-01T14:58:09.471Z"
   },
   {
    "duration": 0,
    "start_time": "2024-07-01T14:58:09.472Z"
   },
   {
    "duration": 0,
    "start_time": "2024-07-01T14:58:09.473Z"
   },
   {
    "duration": 0,
    "start_time": "2024-07-01T14:58:09.475Z"
   },
   {
    "duration": 0,
    "start_time": "2024-07-01T14:58:09.476Z"
   },
   {
    "duration": 0,
    "start_time": "2024-07-01T14:58:09.477Z"
   },
   {
    "duration": 0,
    "start_time": "2024-07-01T14:58:09.478Z"
   },
   {
    "duration": 0,
    "start_time": "2024-07-01T14:58:09.480Z"
   },
   {
    "duration": 0,
    "start_time": "2024-07-01T14:58:09.481Z"
   },
   {
    "duration": 0,
    "start_time": "2024-07-01T14:58:09.537Z"
   },
   {
    "duration": 0,
    "start_time": "2024-07-01T14:58:09.538Z"
   },
   {
    "duration": 0,
    "start_time": "2024-07-01T14:58:09.540Z"
   },
   {
    "duration": 0,
    "start_time": "2024-07-01T14:58:09.541Z"
   },
   {
    "duration": 0,
    "start_time": "2024-07-01T14:58:09.542Z"
   },
   {
    "duration": 0,
    "start_time": "2024-07-01T14:58:09.544Z"
   },
   {
    "duration": 0,
    "start_time": "2024-07-01T14:58:09.545Z"
   },
   {
    "duration": 0,
    "start_time": "2024-07-01T14:58:09.546Z"
   },
   {
    "duration": 0,
    "start_time": "2024-07-01T14:58:09.547Z"
   },
   {
    "duration": 0,
    "start_time": "2024-07-01T14:58:09.548Z"
   },
   {
    "duration": 0,
    "start_time": "2024-07-01T14:58:09.550Z"
   },
   {
    "duration": 0,
    "start_time": "2024-07-01T14:58:09.551Z"
   },
   {
    "duration": 0,
    "start_time": "2024-07-01T14:58:09.552Z"
   },
   {
    "duration": 0,
    "start_time": "2024-07-01T14:58:09.553Z"
   },
   {
    "duration": 0,
    "start_time": "2024-07-01T14:58:09.554Z"
   },
   {
    "duration": 0,
    "start_time": "2024-07-01T14:58:09.555Z"
   },
   {
    "duration": 0,
    "start_time": "2024-07-01T14:58:09.556Z"
   },
   {
    "duration": 4,
    "start_time": "2024-07-01T14:59:31.946Z"
   },
   {
    "duration": 22,
    "start_time": "2024-07-01T14:59:43.530Z"
   },
   {
    "duration": 1147,
    "start_time": "2024-07-01T15:00:11.146Z"
   },
   {
    "duration": 246,
    "start_time": "2024-07-01T15:01:07.235Z"
   },
   {
    "duration": 4294,
    "start_time": "2024-07-02T14:57:50.038Z"
   },
   {
    "duration": 3261,
    "start_time": "2024-07-02T14:57:54.334Z"
   },
   {
    "duration": 2265,
    "start_time": "2024-07-02T14:57:57.597Z"
   },
   {
    "duration": 102,
    "start_time": "2024-07-02T14:57:59.866Z"
   },
   {
    "duration": 76,
    "start_time": "2024-07-02T14:57:59.970Z"
   },
   {
    "duration": 73,
    "start_time": "2024-07-02T14:58:00.047Z"
   },
   {
    "duration": 81,
    "start_time": "2024-07-02T14:58:00.122Z"
   },
   {
    "duration": 56,
    "start_time": "2024-07-02T14:58:00.204Z"
   },
   {
    "duration": 74,
    "start_time": "2024-07-02T14:58:00.262Z"
   },
   {
    "duration": 90,
    "start_time": "2024-07-02T14:58:00.338Z"
   },
   {
    "duration": 74,
    "start_time": "2024-07-02T14:58:00.429Z"
   },
   {
    "duration": 69,
    "start_time": "2024-07-02T14:58:00.505Z"
   },
   {
    "duration": 1425,
    "start_time": "2024-07-02T14:58:00.576Z"
   },
   {
    "duration": 7,
    "start_time": "2024-07-02T14:58:02.003Z"
   },
   {
    "duration": 50,
    "start_time": "2024-07-02T14:58:02.012Z"
   },
   {
    "duration": 324,
    "start_time": "2024-07-02T14:58:02.064Z"
   },
   {
    "duration": 311,
    "start_time": "2024-07-02T14:58:02.390Z"
   },
   {
    "duration": 0,
    "start_time": "2024-07-02T14:58:02.704Z"
   },
   {
    "duration": 0,
    "start_time": "2024-07-02T14:58:02.705Z"
   },
   {
    "duration": 0,
    "start_time": "2024-07-02T14:58:02.706Z"
   },
   {
    "duration": 0,
    "start_time": "2024-07-02T14:58:02.707Z"
   },
   {
    "duration": 1,
    "start_time": "2024-07-02T14:58:02.708Z"
   },
   {
    "duration": 0,
    "start_time": "2024-07-02T14:58:02.710Z"
   },
   {
    "duration": 0,
    "start_time": "2024-07-02T14:58:02.711Z"
   },
   {
    "duration": 0,
    "start_time": "2024-07-02T14:58:02.712Z"
   },
   {
    "duration": 0,
    "start_time": "2024-07-02T14:58:02.713Z"
   },
   {
    "duration": 0,
    "start_time": "2024-07-02T14:58:02.714Z"
   },
   {
    "duration": 0,
    "start_time": "2024-07-02T14:58:02.715Z"
   },
   {
    "duration": 0,
    "start_time": "2024-07-02T14:58:02.717Z"
   },
   {
    "duration": 0,
    "start_time": "2024-07-02T14:58:02.718Z"
   },
   {
    "duration": 0,
    "start_time": "2024-07-02T14:58:02.719Z"
   },
   {
    "duration": 0,
    "start_time": "2024-07-02T14:58:02.720Z"
   },
   {
    "duration": 0,
    "start_time": "2024-07-02T14:58:02.721Z"
   },
   {
    "duration": 0,
    "start_time": "2024-07-02T14:58:02.722Z"
   },
   {
    "duration": 1,
    "start_time": "2024-07-02T14:58:02.755Z"
   },
   {
    "duration": 0,
    "start_time": "2024-07-02T14:58:02.758Z"
   },
   {
    "duration": 0,
    "start_time": "2024-07-02T14:58:02.760Z"
   },
   {
    "duration": 0,
    "start_time": "2024-07-02T14:58:02.762Z"
   },
   {
    "duration": 0,
    "start_time": "2024-07-02T14:58:02.763Z"
   },
   {
    "duration": 0,
    "start_time": "2024-07-02T14:58:02.765Z"
   },
   {
    "duration": 0,
    "start_time": "2024-07-02T14:58:02.766Z"
   },
   {
    "duration": 0,
    "start_time": "2024-07-02T14:58:02.767Z"
   },
   {
    "duration": 0,
    "start_time": "2024-07-02T14:58:02.768Z"
   },
   {
    "duration": 0,
    "start_time": "2024-07-02T14:58:02.769Z"
   },
   {
    "duration": 0,
    "start_time": "2024-07-02T14:58:02.770Z"
   },
   {
    "duration": 0,
    "start_time": "2024-07-02T14:58:02.771Z"
   },
   {
    "duration": 0,
    "start_time": "2024-07-02T14:58:02.773Z"
   },
   {
    "duration": 0,
    "start_time": "2024-07-02T14:58:02.775Z"
   },
   {
    "duration": 0,
    "start_time": "2024-07-02T14:58:02.776Z"
   },
   {
    "duration": 0,
    "start_time": "2024-07-02T14:58:02.777Z"
   },
   {
    "duration": 0,
    "start_time": "2024-07-02T14:58:02.779Z"
   },
   {
    "duration": 0,
    "start_time": "2024-07-02T14:58:02.780Z"
   },
   {
    "duration": 0,
    "start_time": "2024-07-02T14:58:02.781Z"
   },
   {
    "duration": 0,
    "start_time": "2024-07-02T14:58:02.783Z"
   },
   {
    "duration": 0,
    "start_time": "2024-07-02T14:58:02.784Z"
   },
   {
    "duration": 0,
    "start_time": "2024-07-02T14:58:02.785Z"
   },
   {
    "duration": 104,
    "start_time": "2024-07-02T14:58:46.006Z"
   },
   {
    "duration": 1044,
    "start_time": "2024-07-02T14:58:48.607Z"
   },
   {
    "duration": 6,
    "start_time": "2024-07-02T14:58:52.692Z"
   },
   {
    "duration": 97,
    "start_time": "2024-07-02T14:58:55.910Z"
   },
   {
    "duration": 121,
    "start_time": "2024-07-02T14:58:58.844Z"
   },
   {
    "duration": 6,
    "start_time": "2024-07-02T14:59:03.395Z"
   },
   {
    "duration": 124,
    "start_time": "2024-07-02T14:59:06.608Z"
   },
   {
    "duration": 7,
    "start_time": "2024-07-02T14:59:11.816Z"
   },
   {
    "duration": 1010,
    "start_time": "2024-07-02T14:59:18.758Z"
   },
   {
    "duration": 27,
    "start_time": "2024-07-02T15:00:05.460Z"
   },
   {
    "duration": 134,
    "start_time": "2024-07-02T15:00:11.090Z"
   },
   {
    "duration": 125,
    "start_time": "2024-07-02T15:00:14.705Z"
   },
   {
    "duration": 15,
    "start_time": "2024-07-02T15:00:17.491Z"
   },
   {
    "duration": 111,
    "start_time": "2024-07-02T15:00:20.926Z"
   },
   {
    "duration": 9,
    "start_time": "2024-07-02T15:00:26.700Z"
   },
   {
    "duration": 36,
    "start_time": "2024-07-02T15:00:34.060Z"
   },
   {
    "duration": 11,
    "start_time": "2024-07-02T15:00:40.529Z"
   },
   {
    "duration": 20,
    "start_time": "2024-07-02T15:00:44.962Z"
   },
   {
    "duration": 24,
    "start_time": "2024-07-02T15:00:50.815Z"
   },
   {
    "duration": 16,
    "start_time": "2024-07-02T15:00:54.473Z"
   },
   {
    "duration": 16,
    "start_time": "2024-07-02T15:00:56.350Z"
   },
   {
    "duration": 7,
    "start_time": "2024-07-02T15:00:58.825Z"
   },
   {
    "duration": 11,
    "start_time": "2024-07-02T15:01:11.595Z"
   },
   {
    "duration": 18,
    "start_time": "2024-07-02T15:01:19.355Z"
   },
   {
    "duration": 28,
    "start_time": "2024-07-02T15:01:21.028Z"
   },
   {
    "duration": 9,
    "start_time": "2024-07-02T15:01:23.180Z"
   },
   {
    "duration": 30,
    "start_time": "2024-07-02T15:01:25.416Z"
   },
   {
    "duration": 7,
    "start_time": "2024-07-02T15:01:28.191Z"
   },
   {
    "duration": 973,
    "start_time": "2024-07-02T15:01:32.326Z"
   },
   {
    "duration": 2930,
    "start_time": "2024-07-02T15:01:33.750Z"
   },
   {
    "duration": 9929,
    "start_time": "2024-07-02T15:02:03.649Z"
   },
   {
    "duration": 39,
    "start_time": "2024-07-02T15:04:17.447Z"
   },
   {
    "duration": 24,
    "start_time": "2024-07-02T15:05:27.214Z"
   },
   {
    "duration": 7721,
    "start_time": "2024-07-02T15:05:49.145Z"
   },
   {
    "duration": 6107,
    "start_time": "2024-07-02T15:06:06.258Z"
   },
   {
    "duration": 8043,
    "start_time": "2024-07-02T15:06:19.177Z"
   },
   {
    "duration": 5802,
    "start_time": "2024-07-02T15:06:38.177Z"
   },
   {
    "duration": 31,
    "start_time": "2024-07-02T15:14:31.907Z"
   },
   {
    "duration": 5655,
    "start_time": "2024-07-02T15:15:25.484Z"
   },
   {
    "duration": 32,
    "start_time": "2024-07-02T15:15:45.695Z"
   },
   {
    "duration": 2579,
    "start_time": "2024-07-02T15:16:29.668Z"
   },
   {
    "duration": 6664,
    "start_time": "2024-07-02T15:16:32.250Z"
   },
   {
    "duration": 51,
    "start_time": "2024-07-02T15:20:22.329Z"
   },
   {
    "duration": 6002,
    "start_time": "2024-07-02T15:24:46.486Z"
   },
   {
    "duration": 47,
    "start_time": "2024-07-02T15:25:32.080Z"
   },
   {
    "duration": 5,
    "start_time": "2024-07-02T15:25:44.030Z"
   },
   {
    "duration": 56,
    "start_time": "2024-07-02T15:25:56.893Z"
   },
   {
    "duration": 46,
    "start_time": "2024-07-02T15:26:44.303Z"
   },
   {
    "duration": 244,
    "start_time": "2024-07-02T15:30:01.112Z"
   },
   {
    "duration": 218,
    "start_time": "2024-07-02T15:31:03.285Z"
   },
   {
    "duration": 250,
    "start_time": "2024-07-02T15:31:14.369Z"
   },
   {
    "duration": 239,
    "start_time": "2024-07-02T15:36:01.075Z"
   },
   {
    "duration": 21,
    "start_time": "2024-07-02T15:36:04.092Z"
   },
   {
    "duration": 2848,
    "start_time": "2024-07-02T15:36:42.457Z"
   },
   {
    "duration": 2890,
    "start_time": "2024-07-02T15:36:45.307Z"
   },
   {
    "duration": 3296,
    "start_time": "2024-07-02T15:36:48.199Z"
   },
   {
    "duration": 2026,
    "start_time": "2024-07-02T15:36:51.497Z"
   },
   {
    "duration": 67,
    "start_time": "2024-07-02T15:36:53.526Z"
   },
   {
    "duration": 31,
    "start_time": "2024-07-02T15:36:53.595Z"
   },
   {
    "duration": 35,
    "start_time": "2024-07-02T15:36:53.627Z"
   },
   {
    "duration": 37,
    "start_time": "2024-07-02T15:36:53.664Z"
   },
   {
    "duration": 28,
    "start_time": "2024-07-02T15:36:53.703Z"
   },
   {
    "duration": 21,
    "start_time": "2024-07-02T15:36:53.733Z"
   },
   {
    "duration": 26,
    "start_time": "2024-07-02T15:36:53.756Z"
   },
   {
    "duration": 15,
    "start_time": "2024-07-02T15:36:53.784Z"
   },
   {
    "duration": 71,
    "start_time": "2024-07-02T15:36:53.801Z"
   },
   {
    "duration": 1357,
    "start_time": "2024-07-02T15:36:53.876Z"
   },
   {
    "duration": 6,
    "start_time": "2024-07-02T15:36:55.235Z"
   },
   {
    "duration": 145,
    "start_time": "2024-07-02T15:36:55.243Z"
   },
   {
    "duration": 321,
    "start_time": "2024-07-02T15:36:55.389Z"
   },
   {
    "duration": 117,
    "start_time": "2024-07-02T15:36:55.711Z"
   },
   {
    "duration": 9,
    "start_time": "2024-07-02T15:36:55.829Z"
   },
   {
    "duration": 124,
    "start_time": "2024-07-02T15:36:55.839Z"
   },
   {
    "duration": 123,
    "start_time": "2024-07-02T15:36:55.965Z"
   },
   {
    "duration": 7,
    "start_time": "2024-07-02T15:36:56.090Z"
   },
   {
    "duration": 125,
    "start_time": "2024-07-02T15:36:56.098Z"
   },
   {
    "duration": 7,
    "start_time": "2024-07-02T15:36:56.224Z"
   },
   {
    "duration": 33,
    "start_time": "2024-07-02T15:36:56.233Z"
   },
   {
    "duration": 24,
    "start_time": "2024-07-02T15:36:56.273Z"
   },
   {
    "duration": 147,
    "start_time": "2024-07-02T15:36:56.299Z"
   },
   {
    "duration": 151,
    "start_time": "2024-07-02T15:36:56.453Z"
   },
   {
    "duration": 19,
    "start_time": "2024-07-02T15:36:56.606Z"
   },
   {
    "duration": 143,
    "start_time": "2024-07-02T15:36:56.627Z"
   },
   {
    "duration": 13,
    "start_time": "2024-07-02T15:36:56.772Z"
   },
   {
    "duration": 35,
    "start_time": "2024-07-02T15:36:56.786Z"
   },
   {
    "duration": 47,
    "start_time": "2024-07-02T15:36:56.822Z"
   },
   {
    "duration": 13,
    "start_time": "2024-07-02T15:36:56.872Z"
   },
   {
    "duration": 26,
    "start_time": "2024-07-02T15:36:56.887Z"
   },
   {
    "duration": 21,
    "start_time": "2024-07-02T15:36:56.916Z"
   },
   {
    "duration": 17,
    "start_time": "2024-07-02T15:36:56.952Z"
   },
   {
    "duration": 10,
    "start_time": "2024-07-02T15:36:56.971Z"
   },
   {
    "duration": 8,
    "start_time": "2024-07-02T15:36:56.984Z"
   },
   {
    "duration": 68,
    "start_time": "2024-07-02T15:36:56.994Z"
   },
   {
    "duration": 11,
    "start_time": "2024-07-02T15:36:57.066Z"
   },
   {
    "duration": 34,
    "start_time": "2024-07-02T15:36:57.079Z"
   },
   {
    "duration": 7,
    "start_time": "2024-07-02T15:36:57.115Z"
   },
   {
    "duration": 920,
    "start_time": "2024-07-02T15:36:57.154Z"
   },
   {
    "duration": 2844,
    "start_time": "2024-07-02T15:36:58.076Z"
   },
   {
    "duration": 10282,
    "start_time": "2024-07-02T15:37:00.922Z"
   },
   {
    "duration": 53,
    "start_time": "2024-07-02T15:37:11.206Z"
   },
   {
    "duration": 231,
    "start_time": "2024-07-02T15:37:11.261Z"
   },
   {
    "duration": 0,
    "start_time": "2024-07-02T15:37:11.493Z"
   },
   {
    "duration": 0,
    "start_time": "2024-07-02T15:37:11.495Z"
   },
   {
    "duration": 0,
    "start_time": "2024-07-02T15:37:11.496Z"
   },
   {
    "duration": 0,
    "start_time": "2024-07-02T15:37:11.497Z"
   },
   {
    "duration": 0,
    "start_time": "2024-07-02T15:37:11.498Z"
   },
   {
    "duration": 0,
    "start_time": "2024-07-02T15:37:11.500Z"
   },
   {
    "duration": 1,
    "start_time": "2024-07-02T15:37:11.501Z"
   },
   {
    "duration": 0,
    "start_time": "2024-07-02T15:37:11.503Z"
   },
   {
    "duration": 0,
    "start_time": "2024-07-02T15:37:11.504Z"
   },
   {
    "duration": 0,
    "start_time": "2024-07-02T15:37:11.506Z"
   },
   {
    "duration": 0,
    "start_time": "2024-07-02T15:37:11.507Z"
   },
   {
    "duration": 2150,
    "start_time": "2024-07-02T15:37:43.887Z"
   },
   {
    "duration": 246,
    "start_time": "2024-07-02T15:37:52.850Z"
   },
   {
    "duration": 17,
    "start_time": "2024-07-02T15:37:56.563Z"
   },
   {
    "duration": 535,
    "start_time": "2024-07-02T15:38:58.523Z"
   },
   {
    "duration": 22,
    "start_time": "2024-07-02T15:40:02.604Z"
   },
   {
    "duration": 27,
    "start_time": "2024-07-02T15:40:14.979Z"
   },
   {
    "duration": 41,
    "start_time": "2024-07-02T15:40:44.253Z"
   },
   {
    "duration": 480,
    "start_time": "2024-07-02T15:41:42.082Z"
   },
   {
    "duration": 27,
    "start_time": "2024-07-02T15:41:48.205Z"
   },
   {
    "duration": 463,
    "start_time": "2024-07-02T15:41:54.010Z"
   },
   {
    "duration": 2719,
    "start_time": "2024-07-02T15:42:00.098Z"
   },
   {
    "duration": 2615,
    "start_time": "2024-07-02T15:42:02.820Z"
   },
   {
    "duration": 3143,
    "start_time": "2024-07-02T15:42:05.437Z"
   },
   {
    "duration": 1978,
    "start_time": "2024-07-02T15:42:08.582Z"
   },
   {
    "duration": 54,
    "start_time": "2024-07-02T15:42:10.563Z"
   },
   {
    "duration": 29,
    "start_time": "2024-07-02T15:42:10.619Z"
   },
   {
    "duration": 29,
    "start_time": "2024-07-02T15:42:10.650Z"
   },
   {
    "duration": 37,
    "start_time": "2024-07-02T15:42:10.681Z"
   },
   {
    "duration": 27,
    "start_time": "2024-07-02T15:42:10.720Z"
   },
   {
    "duration": 15,
    "start_time": "2024-07-02T15:42:10.748Z"
   },
   {
    "duration": 25,
    "start_time": "2024-07-02T15:42:10.766Z"
   },
   {
    "duration": 16,
    "start_time": "2024-07-02T15:42:10.792Z"
   },
   {
    "duration": 49,
    "start_time": "2024-07-02T15:42:10.810Z"
   },
   {
    "duration": 1381,
    "start_time": "2024-07-02T15:42:10.865Z"
   },
   {
    "duration": 10,
    "start_time": "2024-07-02T15:42:12.247Z"
   },
   {
    "duration": 158,
    "start_time": "2024-07-02T15:42:12.260Z"
   },
   {
    "duration": 321,
    "start_time": "2024-07-02T15:42:12.420Z"
   },
   {
    "duration": 145,
    "start_time": "2024-07-02T15:42:12.742Z"
   },
   {
    "duration": 9,
    "start_time": "2024-07-02T15:42:12.889Z"
   },
   {
    "duration": 125,
    "start_time": "2024-07-02T15:42:12.900Z"
   },
   {
    "duration": 129,
    "start_time": "2024-07-02T15:42:13.026Z"
   },
   {
    "duration": 10,
    "start_time": "2024-07-02T15:42:13.158Z"
   },
   {
    "duration": 141,
    "start_time": "2024-07-02T15:42:13.170Z"
   },
   {
    "duration": 8,
    "start_time": "2024-07-02T15:42:13.313Z"
   },
   {
    "duration": 34,
    "start_time": "2024-07-02T15:42:13.323Z"
   },
   {
    "duration": 16,
    "start_time": "2024-07-02T15:42:13.359Z"
   },
   {
    "duration": 150,
    "start_time": "2024-07-02T15:42:13.377Z"
   },
   {
    "duration": 138,
    "start_time": "2024-07-02T15:42:13.529Z"
   },
   {
    "duration": 21,
    "start_time": "2024-07-02T15:42:13.669Z"
   },
   {
    "duration": 148,
    "start_time": "2024-07-02T15:42:13.691Z"
   },
   {
    "duration": 13,
    "start_time": "2024-07-02T15:42:13.840Z"
   },
   {
    "duration": 41,
    "start_time": "2024-07-02T15:42:13.855Z"
   },
   {
    "duration": 21,
    "start_time": "2024-07-02T15:42:13.897Z"
   },
   {
    "duration": 37,
    "start_time": "2024-07-02T15:42:13.919Z"
   },
   {
    "duration": 22,
    "start_time": "2024-07-02T15:42:13.960Z"
   },
   {
    "duration": 28,
    "start_time": "2024-07-02T15:42:13.984Z"
   },
   {
    "duration": 13,
    "start_time": "2024-07-02T15:42:14.014Z"
   },
   {
    "duration": 14,
    "start_time": "2024-07-02T15:42:14.054Z"
   },
   {
    "duration": 13,
    "start_time": "2024-07-02T15:42:14.071Z"
   },
   {
    "duration": 24,
    "start_time": "2024-07-02T15:42:14.085Z"
   },
   {
    "duration": 8,
    "start_time": "2024-07-02T15:42:14.113Z"
   },
   {
    "duration": 40,
    "start_time": "2024-07-02T15:42:14.154Z"
   },
   {
    "duration": 6,
    "start_time": "2024-07-02T15:42:14.196Z"
   },
   {
    "duration": 981,
    "start_time": "2024-07-02T15:42:14.204Z"
   },
   {
    "duration": 2990,
    "start_time": "2024-07-02T15:42:15.186Z"
   },
   {
    "duration": 8135,
    "start_time": "2024-07-02T15:42:18.179Z"
   },
   {
    "duration": 60,
    "start_time": "2024-07-02T15:42:26.317Z"
   },
   {
    "duration": 2039,
    "start_time": "2024-07-02T15:42:26.379Z"
   },
   {
    "duration": 201,
    "start_time": "2024-07-02T15:42:28.420Z"
   },
   {
    "duration": 38,
    "start_time": "2024-07-02T15:42:28.623Z"
   },
   {
    "duration": 168,
    "start_time": "2024-07-02T15:42:28.663Z"
   },
   {
    "duration": 0,
    "start_time": "2024-07-02T15:42:28.833Z"
   },
   {
    "duration": 0,
    "start_time": "2024-07-02T15:42:28.834Z"
   },
   {
    "duration": 1,
    "start_time": "2024-07-02T15:42:28.835Z"
   },
   {
    "duration": 0,
    "start_time": "2024-07-02T15:42:28.836Z"
   },
   {
    "duration": 0,
    "start_time": "2024-07-02T15:42:28.837Z"
   },
   {
    "duration": 0,
    "start_time": "2024-07-02T15:42:28.838Z"
   },
   {
    "duration": 0,
    "start_time": "2024-07-02T15:42:28.840Z"
   },
   {
    "duration": 0,
    "start_time": "2024-07-02T15:42:28.840Z"
   },
   {
    "duration": 12,
    "start_time": "2024-07-02T15:43:15.442Z"
   },
   {
    "duration": 12,
    "start_time": "2024-07-02T15:43:38.391Z"
   },
   {
    "duration": 52,
    "start_time": "2024-07-02T15:43:44.854Z"
   },
   {
    "duration": 583,
    "start_time": "2024-07-02T15:43:56.398Z"
   },
   {
    "duration": 37,
    "start_time": "2024-07-02T15:46:08.048Z"
   },
   {
    "duration": 553,
    "start_time": "2024-07-02T15:46:28.950Z"
   },
   {
    "duration": 581,
    "start_time": "2024-07-02T15:46:57.716Z"
   },
   {
    "duration": 14,
    "start_time": "2024-07-02T15:56:54.891Z"
   },
   {
    "duration": 11,
    "start_time": "2024-07-02T15:57:27.613Z"
   },
   {
    "duration": 13,
    "start_time": "2024-07-02T15:57:48.177Z"
   },
   {
    "duration": 1127,
    "start_time": "2024-07-02T15:58:04.738Z"
   },
   {
    "duration": 2525,
    "start_time": "2024-07-02T15:58:20.109Z"
   },
   {
    "duration": 2473,
    "start_time": "2024-07-02T15:58:22.637Z"
   },
   {
    "duration": 3047,
    "start_time": "2024-07-02T15:58:25.112Z"
   },
   {
    "duration": 1861,
    "start_time": "2024-07-02T15:58:28.161Z"
   },
   {
    "duration": 53,
    "start_time": "2024-07-02T15:58:30.024Z"
   },
   {
    "duration": 51,
    "start_time": "2024-07-02T15:58:30.079Z"
   },
   {
    "duration": 64,
    "start_time": "2024-07-02T15:58:30.131Z"
   },
   {
    "duration": 66,
    "start_time": "2024-07-02T15:58:30.197Z"
   },
   {
    "duration": 43,
    "start_time": "2024-07-02T15:58:30.264Z"
   },
   {
    "duration": 122,
    "start_time": "2024-07-02T15:58:30.309Z"
   },
   {
    "duration": 113,
    "start_time": "2024-07-02T15:58:30.433Z"
   },
   {
    "duration": 76,
    "start_time": "2024-07-02T15:58:30.548Z"
   },
   {
    "duration": 125,
    "start_time": "2024-07-02T15:58:30.626Z"
   },
   {
    "duration": 1213,
    "start_time": "2024-07-02T15:58:30.754Z"
   },
   {
    "duration": 5,
    "start_time": "2024-07-02T15:58:31.969Z"
   },
   {
    "duration": 178,
    "start_time": "2024-07-02T15:58:31.975Z"
   },
   {
    "duration": 276,
    "start_time": "2024-07-02T15:58:32.154Z"
   },
   {
    "duration": 106,
    "start_time": "2024-07-02T15:58:32.431Z"
   },
   {
    "duration": 16,
    "start_time": "2024-07-02T15:58:32.538Z"
   },
   {
    "duration": 116,
    "start_time": "2024-07-02T15:58:32.555Z"
   },
   {
    "duration": 113,
    "start_time": "2024-07-02T15:58:32.673Z"
   },
   {
    "duration": 7,
    "start_time": "2024-07-02T15:58:32.787Z"
   },
   {
    "duration": 115,
    "start_time": "2024-07-02T15:58:32.795Z"
   },
   {
    "duration": 6,
    "start_time": "2024-07-02T15:58:32.912Z"
   },
   {
    "duration": 28,
    "start_time": "2024-07-02T15:58:32.920Z"
   },
   {
    "duration": 11,
    "start_time": "2024-07-02T15:58:32.953Z"
   },
   {
    "duration": 137,
    "start_time": "2024-07-02T15:58:32.965Z"
   },
   {
    "duration": 127,
    "start_time": "2024-07-02T15:58:33.103Z"
   },
   {
    "duration": 30,
    "start_time": "2024-07-02T15:58:33.232Z"
   },
   {
    "duration": 141,
    "start_time": "2024-07-02T15:58:33.264Z"
   },
   {
    "duration": 157,
    "start_time": "2024-07-02T15:58:33.406Z"
   },
   {
    "duration": 0,
    "start_time": "2024-07-02T15:58:33.567Z"
   },
   {
    "duration": 0,
    "start_time": "2024-07-02T15:58:33.568Z"
   },
   {
    "duration": 0,
    "start_time": "2024-07-02T15:58:33.569Z"
   },
   {
    "duration": 0,
    "start_time": "2024-07-02T15:58:33.570Z"
   },
   {
    "duration": 0,
    "start_time": "2024-07-02T15:58:33.571Z"
   },
   {
    "duration": 0,
    "start_time": "2024-07-02T15:58:33.572Z"
   },
   {
    "duration": 0,
    "start_time": "2024-07-02T15:58:33.573Z"
   },
   {
    "duration": 0,
    "start_time": "2024-07-02T15:58:33.575Z"
   },
   {
    "duration": 0,
    "start_time": "2024-07-02T15:58:33.576Z"
   },
   {
    "duration": 0,
    "start_time": "2024-07-02T15:58:33.578Z"
   },
   {
    "duration": 0,
    "start_time": "2024-07-02T15:58:33.580Z"
   },
   {
    "duration": 0,
    "start_time": "2024-07-02T15:58:33.581Z"
   },
   {
    "duration": 0,
    "start_time": "2024-07-02T15:58:33.582Z"
   },
   {
    "duration": 0,
    "start_time": "2024-07-02T15:58:33.584Z"
   },
   {
    "duration": 0,
    "start_time": "2024-07-02T15:58:33.584Z"
   },
   {
    "duration": 0,
    "start_time": "2024-07-02T15:58:33.586Z"
   },
   {
    "duration": 0,
    "start_time": "2024-07-02T15:58:33.587Z"
   },
   {
    "duration": 0,
    "start_time": "2024-07-02T15:58:33.588Z"
   },
   {
    "duration": 0,
    "start_time": "2024-07-02T15:58:33.589Z"
   },
   {
    "duration": 0,
    "start_time": "2024-07-02T15:58:33.591Z"
   },
   {
    "duration": 0,
    "start_time": "2024-07-02T15:58:33.592Z"
   },
   {
    "duration": 0,
    "start_time": "2024-07-02T15:58:33.593Z"
   },
   {
    "duration": 0,
    "start_time": "2024-07-02T15:58:33.595Z"
   },
   {
    "duration": 0,
    "start_time": "2024-07-02T15:58:33.595Z"
   },
   {
    "duration": 1,
    "start_time": "2024-07-02T15:58:33.596Z"
   },
   {
    "duration": 0,
    "start_time": "2024-07-02T15:58:33.597Z"
   },
   {
    "duration": 0,
    "start_time": "2024-07-02T15:58:33.599Z"
   },
   {
    "duration": 0,
    "start_time": "2024-07-02T15:58:33.600Z"
   },
   {
    "duration": 0,
    "start_time": "2024-07-02T15:58:33.602Z"
   },
   {
    "duration": 5,
    "start_time": "2024-07-02T15:58:55.294Z"
   },
   {
    "duration": 153,
    "start_time": "2024-07-02T15:59:38.264Z"
   },
   {
    "duration": 140,
    "start_time": "2024-07-02T15:59:45.339Z"
   },
   {
    "duration": 17,
    "start_time": "2024-07-02T15:59:59.960Z"
   },
   {
    "duration": 16,
    "start_time": "2024-07-02T16:01:52.076Z"
   },
   {
    "duration": 21,
    "start_time": "2024-07-02T16:02:36.370Z"
   },
   {
    "duration": 21,
    "start_time": "2024-07-02T16:03:07.775Z"
   },
   {
    "duration": 142,
    "start_time": "2024-07-02T16:04:11.990Z"
   },
   {
    "duration": 12,
    "start_time": "2024-07-02T16:04:37.208Z"
   },
   {
    "duration": 157,
    "start_time": "2024-07-02T16:09:30.168Z"
   },
   {
    "duration": 1164,
    "start_time": "2024-07-02T16:11:42.419Z"
   },
   {
    "duration": 1035,
    "start_time": "2024-07-02T16:11:59.686Z"
   },
   {
    "duration": 1201,
    "start_time": "2024-07-02T16:12:18.377Z"
   },
   {
    "duration": 207,
    "start_time": "2024-07-02T16:12:25.602Z"
   },
   {
    "duration": 315,
    "start_time": "2024-07-02T16:14:28.374Z"
   },
   {
    "duration": 200,
    "start_time": "2024-07-02T16:14:38.591Z"
   },
   {
    "duration": 144,
    "start_time": "2024-07-02T16:14:47.253Z"
   },
   {
    "duration": 131,
    "start_time": "2024-07-02T16:14:54.323Z"
   },
   {
    "duration": 142,
    "start_time": "2024-07-02T16:15:02.685Z"
   },
   {
    "duration": 10,
    "start_time": "2024-07-02T16:15:57.006Z"
   },
   {
    "duration": 19,
    "start_time": "2024-07-02T16:16:00.683Z"
   },
   {
    "duration": 148,
    "start_time": "2024-07-02T16:16:09.349Z"
   },
   {
    "duration": 111,
    "start_time": "2024-07-02T16:17:13.595Z"
   },
   {
    "duration": 222,
    "start_time": "2024-07-02T16:17:21.699Z"
   },
   {
    "duration": 288,
    "start_time": "2024-07-02T16:18:00.020Z"
   },
   {
    "duration": 273,
    "start_time": "2024-07-02T16:18:20.222Z"
   },
   {
    "duration": 288,
    "start_time": "2024-07-02T16:18:30.188Z"
   },
   {
    "duration": 394,
    "start_time": "2024-07-02T16:19:31.565Z"
   },
   {
    "duration": 519,
    "start_time": "2024-07-02T16:19:39.470Z"
   },
   {
    "duration": 36,
    "start_time": "2024-07-02T16:20:28.379Z"
   },
   {
    "duration": 4352,
    "start_time": "2024-07-02T19:31:15.420Z"
   },
   {
    "duration": 3240,
    "start_time": "2024-07-02T19:31:19.774Z"
   },
   {
    "duration": 6792,
    "start_time": "2024-07-02T19:31:23.016Z"
   },
   {
    "duration": 2003,
    "start_time": "2024-07-02T19:31:29.811Z"
   },
   {
    "duration": 148,
    "start_time": "2024-07-02T19:31:31.816Z"
   },
   {
    "duration": 91,
    "start_time": "2024-07-02T19:31:31.965Z"
   },
   {
    "duration": 80,
    "start_time": "2024-07-02T19:31:32.058Z"
   },
   {
    "duration": 85,
    "start_time": "2024-07-02T19:31:32.139Z"
   },
   {
    "duration": 27,
    "start_time": "2024-07-02T19:31:32.226Z"
   },
   {
    "duration": 9,
    "start_time": "2024-07-02T19:31:32.255Z"
   },
   {
    "duration": 18,
    "start_time": "2024-07-02T19:31:32.266Z"
   },
   {
    "duration": 25,
    "start_time": "2024-07-02T19:31:32.286Z"
   },
   {
    "duration": 55,
    "start_time": "2024-07-02T19:31:32.313Z"
   },
   {
    "duration": 1159,
    "start_time": "2024-07-02T19:31:32.370Z"
   },
   {
    "duration": 6,
    "start_time": "2024-07-02T19:31:33.531Z"
   },
   {
    "duration": 141,
    "start_time": "2024-07-02T19:31:33.539Z"
   },
   {
    "duration": 279,
    "start_time": "2024-07-02T19:31:33.682Z"
   },
   {
    "duration": 111,
    "start_time": "2024-07-02T19:31:33.963Z"
   },
   {
    "duration": 9,
    "start_time": "2024-07-02T19:31:34.075Z"
   },
   {
    "duration": 114,
    "start_time": "2024-07-02T19:31:34.085Z"
   },
   {
    "duration": 104,
    "start_time": "2024-07-02T19:31:34.201Z"
   },
   {
    "duration": 6,
    "start_time": "2024-07-02T19:31:34.307Z"
   },
   {
    "duration": 131,
    "start_time": "2024-07-02T19:31:34.315Z"
   },
   {
    "duration": 7,
    "start_time": "2024-07-02T19:31:34.448Z"
   },
   {
    "duration": 19,
    "start_time": "2024-07-02T19:31:34.456Z"
   },
   {
    "duration": 28,
    "start_time": "2024-07-02T19:31:34.476Z"
   },
   {
    "duration": 123,
    "start_time": "2024-07-02T19:31:34.505Z"
   },
   {
    "duration": 121,
    "start_time": "2024-07-02T19:31:34.631Z"
   },
   {
    "duration": 15,
    "start_time": "2024-07-02T19:31:34.754Z"
   },
   {
    "duration": 120,
    "start_time": "2024-07-02T19:31:34.770Z"
   },
   {
    "duration": 381,
    "start_time": "2024-07-02T19:31:34.899Z"
   },
   {
    "duration": 10,
    "start_time": "2024-07-02T19:31:35.282Z"
   },
   {
    "duration": 33,
    "start_time": "2024-07-02T19:31:35.293Z"
   },
   {
    "duration": 47,
    "start_time": "2024-07-02T19:31:35.328Z"
   },
   {
    "duration": 9,
    "start_time": "2024-07-02T19:31:35.377Z"
   },
   {
    "duration": 13,
    "start_time": "2024-07-02T19:31:35.387Z"
   },
   {
    "duration": 19,
    "start_time": "2024-07-02T19:31:35.401Z"
   },
   {
    "duration": 14,
    "start_time": "2024-07-02T19:31:35.422Z"
   },
   {
    "duration": 9,
    "start_time": "2024-07-02T19:31:35.438Z"
   },
   {
    "duration": 12,
    "start_time": "2024-07-02T19:31:35.448Z"
   },
   {
    "duration": 51,
    "start_time": "2024-07-02T19:31:35.461Z"
   },
   {
    "duration": 8,
    "start_time": "2024-07-02T19:31:35.514Z"
   },
   {
    "duration": 32,
    "start_time": "2024-07-02T19:31:35.523Z"
   },
   {
    "duration": 18,
    "start_time": "2024-07-02T19:31:35.557Z"
   },
   {
    "duration": 820,
    "start_time": "2024-07-02T19:31:35.577Z"
   },
   {
    "duration": 2749,
    "start_time": "2024-07-02T19:31:36.398Z"
   },
   {
    "duration": 8299,
    "start_time": "2024-07-02T19:31:39.149Z"
   },
   {
    "duration": 53,
    "start_time": "2024-07-02T19:31:47.450Z"
   },
   {
    "duration": 2971,
    "start_time": "2024-07-02T19:31:47.505Z"
   },
   {
    "duration": 199,
    "start_time": "2024-07-02T19:31:50.478Z"
   },
   {
    "duration": 46,
    "start_time": "2024-07-02T19:31:50.678Z"
   },
   {
    "duration": 482,
    "start_time": "2024-07-02T19:31:50.725Z"
   },
   {
    "duration": 25,
    "start_time": "2024-07-02T19:31:51.209Z"
   },
   {
    "duration": 821,
    "start_time": "2024-07-02T19:31:51.236Z"
   },
   {
    "duration": 1053,
    "start_time": "2024-07-02T19:31:52.059Z"
   },
   {
    "duration": 7,
    "start_time": "2024-07-02T19:31:53.113Z"
   },
   {
    "duration": 16,
    "start_time": "2024-07-02T19:31:53.122Z"
   },
   {
    "duration": 938,
    "start_time": "2024-07-02T19:31:53.140Z"
   },
   {
    "duration": 0,
    "start_time": "2024-07-02T19:31:54.079Z"
   },
   {
    "duration": 0,
    "start_time": "2024-07-02T19:31:54.080Z"
   },
   {
    "duration": 15,
    "start_time": "2024-07-02T19:32:54.679Z"
   },
   {
    "duration": 2454,
    "start_time": "2024-07-02T19:33:06.269Z"
   },
   {
    "duration": 2415,
    "start_time": "2024-07-02T19:33:08.726Z"
   },
   {
    "duration": 2925,
    "start_time": "2024-07-02T19:33:11.143Z"
   },
   {
    "duration": 1934,
    "start_time": "2024-07-02T19:33:14.070Z"
   },
   {
    "duration": 51,
    "start_time": "2024-07-02T19:33:16.007Z"
   },
   {
    "duration": 28,
    "start_time": "2024-07-02T19:33:16.060Z"
   },
   {
    "duration": 27,
    "start_time": "2024-07-02T19:33:16.089Z"
   },
   {
    "duration": 34,
    "start_time": "2024-07-02T19:33:16.117Z"
   },
   {
    "duration": 26,
    "start_time": "2024-07-02T19:33:16.153Z"
   },
   {
    "duration": 9,
    "start_time": "2024-07-02T19:33:16.181Z"
   },
   {
    "duration": 19,
    "start_time": "2024-07-02T19:33:16.191Z"
   },
   {
    "duration": 15,
    "start_time": "2024-07-02T19:33:16.211Z"
   },
   {
    "duration": 17,
    "start_time": "2024-07-02T19:33:16.228Z"
   },
   {
    "duration": 1150,
    "start_time": "2024-07-02T19:33:16.249Z"
   },
   {
    "duration": 6,
    "start_time": "2024-07-02T19:33:17.401Z"
   },
   {
    "duration": 144,
    "start_time": "2024-07-02T19:33:17.409Z"
   },
   {
    "duration": 258,
    "start_time": "2024-07-02T19:33:17.555Z"
   },
   {
    "duration": 100,
    "start_time": "2024-07-02T19:33:17.815Z"
   },
   {
    "duration": 10,
    "start_time": "2024-07-02T19:33:17.917Z"
   },
   {
    "duration": 113,
    "start_time": "2024-07-02T19:33:17.929Z"
   },
   {
    "duration": 109,
    "start_time": "2024-07-02T19:33:18.044Z"
   },
   {
    "duration": 7,
    "start_time": "2024-07-02T19:33:18.155Z"
   },
   {
    "duration": 116,
    "start_time": "2024-07-02T19:33:18.164Z"
   },
   {
    "duration": 7,
    "start_time": "2024-07-02T19:33:18.282Z"
   },
   {
    "duration": 18,
    "start_time": "2024-07-02T19:33:18.300Z"
   },
   {
    "duration": 35,
    "start_time": "2024-07-02T19:33:18.320Z"
   },
   {
    "duration": 118,
    "start_time": "2024-07-02T19:33:18.357Z"
   },
   {
    "duration": 129,
    "start_time": "2024-07-02T19:33:18.477Z"
   },
   {
    "duration": 15,
    "start_time": "2024-07-02T19:33:18.608Z"
   },
   {
    "duration": 137,
    "start_time": "2024-07-02T19:33:18.624Z"
   },
   {
    "duration": 450,
    "start_time": "2024-07-02T19:33:18.762Z"
   },
   {
    "duration": 10,
    "start_time": "2024-07-02T19:33:19.214Z"
   },
   {
    "duration": 57,
    "start_time": "2024-07-02T19:33:19.225Z"
   },
   {
    "duration": 21,
    "start_time": "2024-07-02T19:33:19.284Z"
   },
   {
    "duration": 9,
    "start_time": "2024-07-02T19:33:19.307Z"
   },
   {
    "duration": 54,
    "start_time": "2024-07-02T19:33:19.317Z"
   },
   {
    "duration": 20,
    "start_time": "2024-07-02T19:33:19.372Z"
   },
   {
    "duration": 14,
    "start_time": "2024-07-02T19:33:19.393Z"
   },
   {
    "duration": 8,
    "start_time": "2024-07-02T19:33:19.408Z"
   },
   {
    "duration": 7,
    "start_time": "2024-07-02T19:33:19.417Z"
   },
   {
    "duration": 21,
    "start_time": "2024-07-02T19:33:19.428Z"
   },
   {
    "duration": 8,
    "start_time": "2024-07-02T19:33:19.450Z"
   },
   {
    "duration": 54,
    "start_time": "2024-07-02T19:33:19.459Z"
   },
   {
    "duration": 6,
    "start_time": "2024-07-02T19:33:19.515Z"
   },
   {
    "duration": 804,
    "start_time": "2024-07-02T19:33:19.523Z"
   },
   {
    "duration": 2639,
    "start_time": "2024-07-02T19:33:20.328Z"
   },
   {
    "duration": 7352,
    "start_time": "2024-07-02T19:33:22.969Z"
   },
   {
    "duration": 25,
    "start_time": "2024-07-02T19:33:30.323Z"
   },
   {
    "duration": 2011,
    "start_time": "2024-07-02T19:33:30.349Z"
   },
   {
    "duration": 229,
    "start_time": "2024-07-02T19:33:32.362Z"
   },
   {
    "duration": 40,
    "start_time": "2024-07-02T19:33:32.593Z"
   },
   {
    "duration": 474,
    "start_time": "2024-07-02T19:33:32.636Z"
   },
   {
    "duration": 27,
    "start_time": "2024-07-02T19:33:33.112Z"
   },
   {
    "duration": 1167,
    "start_time": "2024-07-02T19:33:33.141Z"
   },
   {
    "duration": 998,
    "start_time": "2024-07-02T19:33:34.310Z"
   },
   {
    "duration": 6,
    "start_time": "2024-07-02T19:33:35.310Z"
   },
   {
    "duration": 51,
    "start_time": "2024-07-02T19:33:35.317Z"
   },
   {
    "duration": 872,
    "start_time": "2024-07-02T19:33:35.369Z"
   },
   {
    "duration": 0,
    "start_time": "2024-07-02T19:33:36.243Z"
   },
   {
    "duration": 0,
    "start_time": "2024-07-02T19:33:36.244Z"
   },
   {
    "duration": 22,
    "start_time": "2024-07-02T19:50:29.804Z"
   },
   {
    "duration": 16,
    "start_time": "2024-07-02T19:50:36.351Z"
   },
   {
    "duration": 2578,
    "start_time": "2024-07-02T19:50:51.499Z"
   },
   {
    "duration": 2531,
    "start_time": "2024-07-02T19:50:54.080Z"
   },
   {
    "duration": 2985,
    "start_time": "2024-07-02T19:50:56.613Z"
   },
   {
    "duration": 1941,
    "start_time": "2024-07-02T19:50:59.601Z"
   },
   {
    "duration": 55,
    "start_time": "2024-07-02T19:51:01.544Z"
   },
   {
    "duration": 31,
    "start_time": "2024-07-02T19:51:01.601Z"
   },
   {
    "duration": 49,
    "start_time": "2024-07-02T19:51:01.634Z"
   },
   {
    "duration": 50,
    "start_time": "2024-07-02T19:51:01.685Z"
   },
   {
    "duration": 28,
    "start_time": "2024-07-02T19:51:01.737Z"
   },
   {
    "duration": 30,
    "start_time": "2024-07-02T19:51:01.768Z"
   },
   {
    "duration": 50,
    "start_time": "2024-07-02T19:51:01.800Z"
   },
   {
    "duration": 72,
    "start_time": "2024-07-02T19:51:01.851Z"
   },
   {
    "duration": 62,
    "start_time": "2024-07-02T19:51:01.925Z"
   },
   {
    "duration": 1256,
    "start_time": "2024-07-02T19:51:01.989Z"
   },
   {
    "duration": 6,
    "start_time": "2024-07-02T19:51:03.247Z"
   },
   {
    "duration": 192,
    "start_time": "2024-07-02T19:51:03.254Z"
   },
   {
    "duration": 260,
    "start_time": "2024-07-02T19:51:03.448Z"
   },
   {
    "duration": 106,
    "start_time": "2024-07-02T19:51:03.710Z"
   },
   {
    "duration": 8,
    "start_time": "2024-07-02T19:51:03.818Z"
   },
   {
    "duration": 107,
    "start_time": "2024-07-02T19:51:03.827Z"
   },
   {
    "duration": 105,
    "start_time": "2024-07-02T19:51:03.935Z"
   },
   {
    "duration": 7,
    "start_time": "2024-07-02T19:51:04.042Z"
   },
   {
    "duration": 118,
    "start_time": "2024-07-02T19:51:04.050Z"
   },
   {
    "duration": 7,
    "start_time": "2024-07-02T19:51:04.169Z"
   },
   {
    "duration": 75,
    "start_time": "2024-07-02T19:51:04.177Z"
   },
   {
    "duration": 13,
    "start_time": "2024-07-02T19:51:04.255Z"
   },
   {
    "duration": 141,
    "start_time": "2024-07-02T19:51:04.270Z"
   },
   {
    "duration": 124,
    "start_time": "2024-07-02T19:51:04.417Z"
   },
   {
    "duration": 17,
    "start_time": "2024-07-02T19:51:04.543Z"
   },
   {
    "duration": 131,
    "start_time": "2024-07-02T19:51:04.561Z"
   },
   {
    "duration": 295,
    "start_time": "2024-07-02T19:51:04.694Z"
   },
   {
    "duration": 0,
    "start_time": "2024-07-02T19:51:04.991Z"
   },
   {
    "duration": 0,
    "start_time": "2024-07-02T19:51:04.999Z"
   },
   {
    "duration": 0,
    "start_time": "2024-07-02T19:51:05.001Z"
   },
   {
    "duration": 0,
    "start_time": "2024-07-02T19:51:05.002Z"
   },
   {
    "duration": 0,
    "start_time": "2024-07-02T19:51:05.003Z"
   },
   {
    "duration": 0,
    "start_time": "2024-07-02T19:51:05.004Z"
   },
   {
    "duration": 0,
    "start_time": "2024-07-02T19:51:05.005Z"
   },
   {
    "duration": 0,
    "start_time": "2024-07-02T19:51:05.006Z"
   },
   {
    "duration": 0,
    "start_time": "2024-07-02T19:51:05.007Z"
   },
   {
    "duration": 0,
    "start_time": "2024-07-02T19:51:05.008Z"
   },
   {
    "duration": 0,
    "start_time": "2024-07-02T19:51:05.009Z"
   },
   {
    "duration": 0,
    "start_time": "2024-07-02T19:51:05.010Z"
   },
   {
    "duration": 0,
    "start_time": "2024-07-02T19:51:05.011Z"
   },
   {
    "duration": 0,
    "start_time": "2024-07-02T19:51:05.013Z"
   },
   {
    "duration": 0,
    "start_time": "2024-07-02T19:51:05.014Z"
   },
   {
    "duration": 0,
    "start_time": "2024-07-02T19:51:05.015Z"
   },
   {
    "duration": 0,
    "start_time": "2024-07-02T19:51:05.017Z"
   },
   {
    "duration": 0,
    "start_time": "2024-07-02T19:51:05.020Z"
   },
   {
    "duration": 0,
    "start_time": "2024-07-02T19:51:05.021Z"
   },
   {
    "duration": 0,
    "start_time": "2024-07-02T19:51:05.022Z"
   },
   {
    "duration": 0,
    "start_time": "2024-07-02T19:51:05.024Z"
   },
   {
    "duration": 0,
    "start_time": "2024-07-02T19:51:05.025Z"
   },
   {
    "duration": 1,
    "start_time": "2024-07-02T19:51:05.026Z"
   },
   {
    "duration": 0,
    "start_time": "2024-07-02T19:51:05.028Z"
   },
   {
    "duration": 0,
    "start_time": "2024-07-02T19:51:05.030Z"
   },
   {
    "duration": 0,
    "start_time": "2024-07-02T19:51:05.031Z"
   },
   {
    "duration": 0,
    "start_time": "2024-07-02T19:51:05.033Z"
   },
   {
    "duration": 0,
    "start_time": "2024-07-02T19:51:05.035Z"
   },
   {
    "duration": 0,
    "start_time": "2024-07-02T19:51:05.036Z"
   },
   {
    "duration": 464,
    "start_time": "2024-07-02T19:51:24.171Z"
   },
   {
    "duration": 208,
    "start_time": "2024-07-02T19:51:41.323Z"
   },
   {
    "duration": 217,
    "start_time": "2024-07-02T19:51:54.802Z"
   },
   {
    "duration": 565,
    "start_time": "2024-07-02T19:52:10.259Z"
   },
   {
    "duration": 203,
    "start_time": "2024-07-02T19:53:17.958Z"
   },
   {
    "duration": 34,
    "start_time": "2024-07-02T19:53:37.404Z"
   },
   {
    "duration": 33,
    "start_time": "2024-07-02T19:53:50.068Z"
   },
   {
    "duration": 237,
    "start_time": "2024-07-02T19:53:55.908Z"
   },
   {
    "duration": 583,
    "start_time": "2024-07-02T19:54:06.951Z"
   },
   {
    "duration": 33,
    "start_time": "2024-07-02T19:54:17.913Z"
   },
   {
    "duration": 33,
    "start_time": "2024-07-02T19:54:29.597Z"
   },
   {
    "duration": 157,
    "start_time": "2024-07-02T19:54:37.786Z"
   },
   {
    "duration": 836,
    "start_time": "2024-07-02T19:54:58.163Z"
   },
   {
    "duration": 203,
    "start_time": "2024-07-02T19:55:05.201Z"
   },
   {
    "duration": 196,
    "start_time": "2024-07-02T19:55:27.965Z"
   },
   {
    "duration": 193,
    "start_time": "2024-07-02T19:55:51.014Z"
   },
   {
    "duration": 201,
    "start_time": "2024-07-02T19:56:16.821Z"
   },
   {
    "duration": 198,
    "start_time": "2024-07-02T19:56:39.514Z"
   },
   {
    "duration": 205,
    "start_time": "2024-07-02T19:58:07.662Z"
   },
   {
    "duration": 204,
    "start_time": "2024-07-02T19:58:26.027Z"
   },
   {
    "duration": 703,
    "start_time": "2024-07-02T19:58:46.899Z"
   },
   {
    "duration": 752,
    "start_time": "2024-07-02T19:59:33.608Z"
   },
   {
    "duration": 470,
    "start_time": "2024-07-02T19:59:55.443Z"
   },
   {
    "duration": 208,
    "start_time": "2024-07-02T20:00:04.451Z"
   },
   {
    "duration": 208,
    "start_time": "2024-07-02T20:00:38.293Z"
   },
   {
    "duration": 638,
    "start_time": "2024-07-02T20:00:46.766Z"
   },
   {
    "duration": 487,
    "start_time": "2024-07-02T20:00:54.889Z"
   },
   {
    "duration": 611,
    "start_time": "2024-07-02T20:01:04.331Z"
   },
   {
    "duration": 472,
    "start_time": "2024-07-02T20:01:13.238Z"
   },
   {
    "duration": 453,
    "start_time": "2024-07-02T20:01:27.560Z"
   },
   {
    "duration": 192,
    "start_time": "2024-07-02T20:01:50.832Z"
   },
   {
    "duration": 454,
    "start_time": "2024-07-02T20:01:57.243Z"
   },
   {
    "duration": 184,
    "start_time": "2024-07-02T20:01:59.327Z"
   },
   {
    "duration": 456,
    "start_time": "2024-07-02T20:02:10.869Z"
   },
   {
    "duration": 617,
    "start_time": "2024-07-02T20:02:57.600Z"
   },
   {
    "duration": 355,
    "start_time": "2024-07-02T20:04:13.811Z"
   },
   {
    "duration": 373,
    "start_time": "2024-07-02T20:04:48.835Z"
   },
   {
    "duration": 405,
    "start_time": "2024-07-02T20:05:02.176Z"
   },
   {
    "duration": 393,
    "start_time": "2024-07-02T20:05:04.927Z"
   },
   {
    "duration": 57,
    "start_time": "2024-07-02T20:09:06.507Z"
   },
   {
    "duration": 342,
    "start_time": "2024-07-02T20:09:33.684Z"
   },
   {
    "duration": 270,
    "start_time": "2024-07-02T20:10:28.383Z"
   },
   {
    "duration": 8,
    "start_time": "2024-07-02T20:10:42.899Z"
   },
   {
    "duration": 7,
    "start_time": "2024-07-02T20:11:39.916Z"
   },
   {
    "duration": 8,
    "start_time": "2024-07-02T20:11:48.970Z"
   },
   {
    "duration": 415,
    "start_time": "2024-07-02T20:12:09.970Z"
   },
   {
    "duration": 490,
    "start_time": "2024-07-02T20:12:40.137Z"
   },
   {
    "duration": 469,
    "start_time": "2024-07-02T20:12:58.484Z"
   },
   {
    "duration": 488,
    "start_time": "2024-07-02T20:13:03.621Z"
   },
   {
    "duration": 574,
    "start_time": "2024-07-02T20:13:17.850Z"
   },
   {
    "duration": 495,
    "start_time": "2024-07-02T20:13:25.177Z"
   },
   {
    "duration": 683,
    "start_time": "2024-07-02T20:13:31.895Z"
   },
   {
    "duration": 487,
    "start_time": "2024-07-02T20:13:41.692Z"
   },
   {
    "duration": 472,
    "start_time": "2024-07-02T20:13:47.715Z"
   },
   {
    "duration": 472,
    "start_time": "2024-07-02T20:13:56.515Z"
   },
   {
    "duration": 447,
    "start_time": "2024-07-02T20:14:03.786Z"
   },
   {
    "duration": 719,
    "start_time": "2024-07-02T20:14:10.008Z"
   },
   {
    "duration": 453,
    "start_time": "2024-07-02T20:14:23.495Z"
   },
   {
    "duration": 517,
    "start_time": "2024-07-02T20:14:34.895Z"
   },
   {
    "duration": 550,
    "start_time": "2024-07-02T20:15:14.286Z"
   },
   {
    "duration": 501,
    "start_time": "2024-07-02T20:15:22.164Z"
   },
   {
    "duration": 699,
    "start_time": "2024-07-02T20:15:31.586Z"
   },
   {
    "duration": 578,
    "start_time": "2024-07-02T20:15:49.335Z"
   },
   {
    "duration": 597,
    "start_time": "2024-07-02T20:15:54.921Z"
   },
   {
    "duration": 572,
    "start_time": "2024-07-02T20:19:49.298Z"
   },
   {
    "duration": 752,
    "start_time": "2024-07-02T20:20:02.851Z"
   },
   {
    "duration": 563,
    "start_time": "2024-07-02T20:20:10.261Z"
   },
   {
    "duration": 627,
    "start_time": "2024-07-02T20:20:15.861Z"
   },
   {
    "duration": 693,
    "start_time": "2024-07-02T20:20:24.448Z"
   },
   {
    "duration": 813,
    "start_time": "2024-07-02T20:21:04.681Z"
   },
   {
    "duration": 651,
    "start_time": "2024-07-02T20:21:16.035Z"
   },
   {
    "duration": 593,
    "start_time": "2024-07-02T20:21:29.825Z"
   },
   {
    "duration": 841,
    "start_time": "2024-07-02T20:21:34.901Z"
   },
   {
    "duration": 660,
    "start_time": "2024-07-02T20:21:39.127Z"
   },
   {
    "duration": 54,
    "start_time": "2024-07-02T20:23:40.260Z"
   },
   {
    "duration": 8,
    "start_time": "2024-07-02T20:24:10.639Z"
   },
   {
    "duration": 12,
    "start_time": "2024-07-02T20:24:21.854Z"
   },
   {
    "duration": 10,
    "start_time": "2024-07-02T20:27:16.095Z"
   },
   {
    "duration": 12,
    "start_time": "2024-07-02T20:27:34.558Z"
   },
   {
    "duration": 78,
    "start_time": "2024-07-02T20:30:04.361Z"
   },
   {
    "duration": 52,
    "start_time": "2024-07-02T20:30:09.420Z"
   },
   {
    "duration": 53,
    "start_time": "2024-07-02T20:30:35.256Z"
   },
   {
    "duration": 121,
    "start_time": "2024-07-02T20:31:30.047Z"
   },
   {
    "duration": 143,
    "start_time": "2024-07-02T20:33:04.033Z"
   },
   {
    "duration": 200,
    "start_time": "2024-07-02T20:34:06.946Z"
   },
   {
    "duration": 197,
    "start_time": "2024-07-02T20:34:31.353Z"
   },
   {
    "duration": 187,
    "start_time": "2024-07-02T20:35:17.829Z"
   },
   {
    "duration": 209,
    "start_time": "2024-07-02T20:36:39.336Z"
   },
   {
    "duration": 291,
    "start_time": "2024-07-02T20:36:48.180Z"
   },
   {
    "duration": 202,
    "start_time": "2024-07-02T20:37:13.123Z"
   },
   {
    "duration": 179,
    "start_time": "2024-07-02T20:38:59.243Z"
   },
   {
    "duration": 191,
    "start_time": "2024-07-02T20:39:16.133Z"
   },
   {
    "duration": 207,
    "start_time": "2024-07-02T20:41:33.822Z"
   },
   {
    "duration": 163,
    "start_time": "2024-07-02T20:41:38.349Z"
   },
   {
    "duration": 345,
    "start_time": "2024-07-02T20:42:18.245Z"
   },
   {
    "duration": 263,
    "start_time": "2024-07-02T20:42:24.153Z"
   },
   {
    "duration": 264,
    "start_time": "2024-07-02T20:42:40.164Z"
   },
   {
    "duration": 321,
    "start_time": "2024-07-02T20:43:22.595Z"
   },
   {
    "duration": 322,
    "start_time": "2024-07-02T20:43:31.990Z"
   },
   {
    "duration": 403,
    "start_time": "2024-07-02T20:43:42.174Z"
   },
   {
    "duration": 50,
    "start_time": "2024-07-02T20:46:57.196Z"
   },
   {
    "duration": 291,
    "start_time": "2024-07-02T20:48:58.486Z"
   },
   {
    "duration": 247,
    "start_time": "2024-07-02T20:49:46.171Z"
   },
   {
    "duration": 219,
    "start_time": "2024-07-02T20:50:00.533Z"
   },
   {
    "duration": 242,
    "start_time": "2024-07-02T20:50:06.296Z"
   },
   {
    "duration": 291,
    "start_time": "2024-07-02T20:50:15.788Z"
   },
   {
    "duration": 4726,
    "start_time": "2024-07-03T11:27:34.207Z"
   },
   {
    "duration": 3375,
    "start_time": "2024-07-03T11:27:38.935Z"
   },
   {
    "duration": 7203,
    "start_time": "2024-07-03T11:27:42.312Z"
   },
   {
    "duration": 1921,
    "start_time": "2024-07-03T11:27:49.517Z"
   },
   {
    "duration": 154,
    "start_time": "2024-07-03T11:27:51.439Z"
   },
   {
    "duration": 102,
    "start_time": "2024-07-03T11:27:51.594Z"
   },
   {
    "duration": 80,
    "start_time": "2024-07-03T11:27:51.698Z"
   },
   {
    "duration": 95,
    "start_time": "2024-07-03T11:27:51.780Z"
   },
   {
    "duration": 25,
    "start_time": "2024-07-03T11:27:51.877Z"
   },
   {
    "duration": 9,
    "start_time": "2024-07-03T11:27:51.905Z"
   },
   {
    "duration": 34,
    "start_time": "2024-07-03T11:27:51.916Z"
   },
   {
    "duration": 13,
    "start_time": "2024-07-03T11:27:51.952Z"
   },
   {
    "duration": 75,
    "start_time": "2024-07-03T11:27:51.967Z"
   },
   {
    "duration": 1063,
    "start_time": "2024-07-03T11:27:52.044Z"
   },
   {
    "duration": 4,
    "start_time": "2024-07-03T11:27:53.109Z"
   },
   {
    "duration": 121,
    "start_time": "2024-07-03T11:27:53.115Z"
   },
   {
    "duration": 251,
    "start_time": "2024-07-03T11:27:53.237Z"
   },
   {
    "duration": 102,
    "start_time": "2024-07-03T11:27:53.490Z"
   },
   {
    "duration": 9,
    "start_time": "2024-07-03T11:27:53.594Z"
   },
   {
    "duration": 108,
    "start_time": "2024-07-03T11:27:53.604Z"
   },
   {
    "duration": 94,
    "start_time": "2024-07-03T11:27:53.714Z"
   },
   {
    "duration": 13,
    "start_time": "2024-07-03T11:27:53.809Z"
   },
   {
    "duration": 98,
    "start_time": "2024-07-03T11:27:53.823Z"
   },
   {
    "duration": 6,
    "start_time": "2024-07-03T11:27:53.923Z"
   },
   {
    "duration": 253,
    "start_time": "2024-07-03T11:27:53.930Z"
   },
   {
    "duration": 271,
    "start_time": "2024-07-03T11:27:54.185Z"
   },
   {
    "duration": 16,
    "start_time": "2024-07-03T11:27:54.458Z"
   },
   {
    "duration": 23,
    "start_time": "2024-07-03T11:27:54.478Z"
   },
   {
    "duration": 120,
    "start_time": "2024-07-03T11:27:54.502Z"
   },
   {
    "duration": 111,
    "start_time": "2024-07-03T11:27:54.623Z"
   },
   {
    "duration": 14,
    "start_time": "2024-07-03T11:27:54.736Z"
   },
   {
    "duration": 117,
    "start_time": "2024-07-03T11:27:54.752Z"
   },
   {
    "duration": 436,
    "start_time": "2024-07-03T11:27:54.870Z"
   },
   {
    "duration": 7,
    "start_time": "2024-07-03T11:27:55.307Z"
   },
   {
    "duration": 606,
    "start_time": "2024-07-03T11:27:55.320Z"
   },
   {
    "duration": 48,
    "start_time": "2024-07-03T11:27:55.927Z"
   },
   {
    "duration": 0,
    "start_time": "2024-07-03T11:27:55.976Z"
   },
   {
    "duration": 0,
    "start_time": "2024-07-03T11:27:55.977Z"
   },
   {
    "duration": 0,
    "start_time": "2024-07-03T11:27:55.978Z"
   },
   {
    "duration": 0,
    "start_time": "2024-07-03T11:27:55.979Z"
   },
   {
    "duration": 0,
    "start_time": "2024-07-03T11:27:55.980Z"
   },
   {
    "duration": 0,
    "start_time": "2024-07-03T11:27:55.981Z"
   },
   {
    "duration": 0,
    "start_time": "2024-07-03T11:27:55.982Z"
   },
   {
    "duration": 0,
    "start_time": "2024-07-03T11:27:55.983Z"
   },
   {
    "duration": 0,
    "start_time": "2024-07-03T11:27:55.984Z"
   },
   {
    "duration": 0,
    "start_time": "2024-07-03T11:27:55.985Z"
   },
   {
    "duration": 0,
    "start_time": "2024-07-03T11:27:55.986Z"
   },
   {
    "duration": 0,
    "start_time": "2024-07-03T11:27:55.987Z"
   },
   {
    "duration": 0,
    "start_time": "2024-07-03T11:27:55.988Z"
   },
   {
    "duration": 0,
    "start_time": "2024-07-03T11:27:55.988Z"
   },
   {
    "duration": 0,
    "start_time": "2024-07-03T11:27:55.989Z"
   },
   {
    "duration": 0,
    "start_time": "2024-07-03T11:27:55.990Z"
   },
   {
    "duration": 0,
    "start_time": "2024-07-03T11:27:55.991Z"
   },
   {
    "duration": 0,
    "start_time": "2024-07-03T11:27:55.992Z"
   },
   {
    "duration": 0,
    "start_time": "2024-07-03T11:27:55.993Z"
   },
   {
    "duration": 0,
    "start_time": "2024-07-03T11:27:55.994Z"
   },
   {
    "duration": 0,
    "start_time": "2024-07-03T11:27:55.995Z"
   },
   {
    "duration": 0,
    "start_time": "2024-07-03T11:27:55.996Z"
   },
   {
    "duration": 0,
    "start_time": "2024-07-03T11:27:55.997Z"
   },
   {
    "duration": 0,
    "start_time": "2024-07-03T11:27:55.998Z"
   },
   {
    "duration": 0,
    "start_time": "2024-07-03T11:27:55.999Z"
   },
   {
    "duration": 0,
    "start_time": "2024-07-03T11:27:56.000Z"
   },
   {
    "duration": 0,
    "start_time": "2024-07-03T11:27:56.001Z"
   },
   {
    "duration": 0,
    "start_time": "2024-07-03T11:27:56.002Z"
   },
   {
    "duration": 65,
    "start_time": "2024-07-03T11:30:11.684Z"
   },
   {
    "duration": 244,
    "start_time": "2024-07-03T11:30:51.229Z"
   },
   {
    "duration": 242,
    "start_time": "2024-07-03T11:31:12.131Z"
   },
   {
    "duration": 225,
    "start_time": "2024-07-03T11:31:46.081Z"
   },
   {
    "duration": 244,
    "start_time": "2024-07-03T11:32:10.414Z"
   },
   {
    "duration": 30,
    "start_time": "2024-07-03T11:34:54.012Z"
   },
   {
    "duration": 541,
    "start_time": "2024-07-03T11:53:14.338Z"
   },
   {
    "duration": 488,
    "start_time": "2024-07-03T11:53:28.123Z"
   },
   {
    "duration": 123,
    "start_time": "2024-07-03T11:54:49.757Z"
   },
   {
    "duration": 182,
    "start_time": "2024-07-03T11:54:58.604Z"
   },
   {
    "duration": 129,
    "start_time": "2024-07-03T11:55:07.083Z"
   },
   {
    "duration": 120,
    "start_time": "2024-07-03T11:56:24.089Z"
   },
   {
    "duration": 128,
    "start_time": "2024-07-03T11:56:48.281Z"
   },
   {
    "duration": 117,
    "start_time": "2024-07-03T11:56:57.876Z"
   },
   {
    "duration": 119,
    "start_time": "2024-07-03T11:57:18.359Z"
   },
   {
    "duration": 361,
    "start_time": "2024-07-03T11:57:24.940Z"
   },
   {
    "duration": 487,
    "start_time": "2024-07-03T11:58:22.319Z"
   },
   {
    "duration": 349,
    "start_time": "2024-07-03T11:58:33.333Z"
   },
   {
    "duration": 323,
    "start_time": "2024-07-03T11:59:09.275Z"
   },
   {
    "duration": 347,
    "start_time": "2024-07-03T11:59:13.891Z"
   },
   {
    "duration": 387,
    "start_time": "2024-07-03T11:59:20.222Z"
   },
   {
    "duration": 343,
    "start_time": "2024-07-03T11:59:37.232Z"
   },
   {
    "duration": 50,
    "start_time": "2024-07-03T11:59:52.835Z"
   },
   {
    "duration": 460,
    "start_time": "2024-07-03T12:00:12.480Z"
   },
   {
    "duration": 426,
    "start_time": "2024-07-03T12:00:47.069Z"
   },
   {
    "duration": 373,
    "start_time": "2024-07-03T12:01:09.163Z"
   },
   {
    "duration": 242,
    "start_time": "2024-07-03T12:01:09.666Z"
   },
   {
    "duration": 667,
    "start_time": "2024-07-03T12:01:25.655Z"
   },
   {
    "duration": 733,
    "start_time": "2024-07-03T12:02:32.561Z"
   },
   {
    "duration": 705,
    "start_time": "2024-07-03T12:02:43.445Z"
   },
   {
    "duration": 803,
    "start_time": "2024-07-03T12:02:57.947Z"
   },
   {
    "duration": 1230,
    "start_time": "2024-07-03T12:03:55.993Z"
   },
   {
    "duration": 1626,
    "start_time": "2024-07-03T12:12:19.261Z"
   },
   {
    "duration": 1491,
    "start_time": "2024-07-03T12:14:00.508Z"
   },
   {
    "duration": 1585,
    "start_time": "2024-07-03T12:14:44.576Z"
   },
   {
    "duration": 1620,
    "start_time": "2024-07-03T12:14:54.133Z"
   },
   {
    "duration": 18,
    "start_time": "2024-07-03T12:15:38.485Z"
   },
   {
    "duration": 16,
    "start_time": "2024-07-03T12:15:51.131Z"
   },
   {
    "duration": 1571,
    "start_time": "2024-07-03T12:16:01.095Z"
   },
   {
    "duration": 1683,
    "start_time": "2024-07-03T12:16:10.212Z"
   },
   {
    "duration": 1569,
    "start_time": "2024-07-03T12:16:26.169Z"
   },
   {
    "duration": 1875,
    "start_time": "2024-07-03T12:16:34.724Z"
   },
   {
    "duration": 1876,
    "start_time": "2024-07-03T12:17:02.260Z"
   },
   {
    "duration": 43,
    "start_time": "2024-07-03T12:17:41.998Z"
   },
   {
    "duration": 159,
    "start_time": "2024-07-03T12:19:21.545Z"
   },
   {
    "duration": 226,
    "start_time": "2024-07-03T12:19:52.558Z"
   },
   {
    "duration": 225,
    "start_time": "2024-07-03T12:20:03.558Z"
   },
   {
    "duration": 230,
    "start_time": "2024-07-03T12:20:34.186Z"
   },
   {
    "duration": 225,
    "start_time": "2024-07-03T12:23:34.961Z"
   },
   {
    "duration": 233,
    "start_time": "2024-07-03T12:24:01.557Z"
   },
   {
    "duration": 200,
    "start_time": "2024-07-03T12:24:19.287Z"
   },
   {
    "duration": 148,
    "start_time": "2024-07-03T12:24:30.631Z"
   },
   {
    "duration": 213,
    "start_time": "2024-07-03T12:24:55.326Z"
   },
   {
    "duration": 215,
    "start_time": "2024-07-03T12:25:38.564Z"
   },
   {
    "duration": 201,
    "start_time": "2024-07-03T12:25:54.189Z"
   },
   {
    "duration": 387,
    "start_time": "2024-07-03T12:26:02.839Z"
   },
   {
    "duration": 219,
    "start_time": "2024-07-03T12:26:06.463Z"
   },
   {
    "duration": 222,
    "start_time": "2024-07-03T12:26:10.292Z"
   },
   {
    "duration": 214,
    "start_time": "2024-07-03T12:26:12.800Z"
   },
   {
    "duration": 267,
    "start_time": "2024-07-03T12:27:10.745Z"
   },
   {
    "duration": 296,
    "start_time": "2024-07-03T12:27:18.138Z"
   },
   {
    "duration": 281,
    "start_time": "2024-07-03T12:27:29.808Z"
   },
   {
    "duration": 9,
    "start_time": "2024-07-03T12:28:02.315Z"
   },
   {
    "duration": 6,
    "start_time": "2024-07-03T12:28:04.331Z"
   },
   {
    "duration": 285,
    "start_time": "2024-07-03T12:28:13.335Z"
   },
   {
    "duration": 48,
    "start_time": "2024-07-03T12:29:35.248Z"
   },
   {
    "duration": 49,
    "start_time": "2024-07-03T12:29:40.365Z"
   },
   {
    "duration": 45,
    "start_time": "2024-07-03T12:29:46.079Z"
   },
   {
    "duration": 341,
    "start_time": "2024-07-03T12:31:52.549Z"
   },
   {
    "duration": 753,
    "start_time": "2024-07-03T12:32:18.865Z"
   },
   {
    "duration": 9,
    "start_time": "2024-07-03T12:32:42.536Z"
   },
   {
    "duration": 27,
    "start_time": "2024-07-03T12:32:44.750Z"
   },
   {
    "duration": 20,
    "start_time": "2024-07-03T12:33:08.243Z"
   },
   {
    "duration": 9,
    "start_time": "2024-07-03T12:33:10.718Z"
   },
   {
    "duration": 12,
    "start_time": "2024-07-03T12:33:13.118Z"
   },
   {
    "duration": 19,
    "start_time": "2024-07-03T12:33:15.205Z"
   },
   {
    "duration": 13,
    "start_time": "2024-07-03T12:33:18.889Z"
   },
   {
    "duration": 7,
    "start_time": "2024-07-03T12:33:22.927Z"
   },
   {
    "duration": 7,
    "start_time": "2024-07-03T12:33:27.959Z"
   },
   {
    "duration": 21,
    "start_time": "2024-07-03T12:33:30.863Z"
   },
   {
    "duration": 8,
    "start_time": "2024-07-03T12:33:33.470Z"
   },
   {
    "duration": 38,
    "start_time": "2024-07-03T12:33:36.520Z"
   },
   {
    "duration": 7,
    "start_time": "2024-07-03T12:33:39.762Z"
   },
   {
    "duration": 716,
    "start_time": "2024-07-03T12:33:58.994Z"
   },
   {
    "duration": 794,
    "start_time": "2024-07-03T12:34:11.856Z"
   },
   {
    "duration": 2291,
    "start_time": "2024-07-03T12:34:13.730Z"
   },
   {
    "duration": 7067,
    "start_time": "2024-07-03T12:34:24.393Z"
   },
   {
    "duration": 212,
    "start_time": "2024-07-03T12:38:54.717Z"
   },
   {
    "duration": 126,
    "start_time": "2024-07-03T12:39:14.969Z"
   },
   {
    "duration": 128,
    "start_time": "2024-07-03T12:39:27.728Z"
   },
   {
    "duration": 212,
    "start_time": "2024-07-03T12:44:08.960Z"
   },
   {
    "duration": 239,
    "start_time": "2024-07-03T12:44:11.890Z"
   },
   {
    "duration": 46,
    "start_time": "2024-07-03T12:47:56.609Z"
   },
   {
    "duration": 70,
    "start_time": "2024-07-03T12:48:01.452Z"
   },
   {
    "duration": 5,
    "start_time": "2024-07-03T12:52:01.436Z"
   },
   {
    "duration": 2,
    "start_time": "2024-07-03T12:52:15.850Z"
   },
   {
    "duration": 10,
    "start_time": "2024-07-03T12:53:27.702Z"
   },
   {
    "duration": 4,
    "start_time": "2024-07-03T12:54:14.336Z"
   },
   {
    "duration": 6,
    "start_time": "2024-07-03T12:54:19.562Z"
   },
   {
    "duration": 6,
    "start_time": "2024-07-03T12:54:54.815Z"
   },
   {
    "duration": 8,
    "start_time": "2024-07-03T12:54:59.363Z"
   },
   {
    "duration": 8,
    "start_time": "2024-07-03T12:55:08.012Z"
   },
   {
    "duration": 2,
    "start_time": "2024-07-03T13:00:55.631Z"
   },
   {
    "duration": 1407,
    "start_time": "2024-07-03T13:01:13.165Z"
   },
   {
    "duration": 57,
    "start_time": "2024-07-03T13:04:01.171Z"
   },
   {
    "duration": 1437,
    "start_time": "2024-07-03T13:09:01.215Z"
   },
   {
    "duration": 48,
    "start_time": "2024-07-03T13:09:28.190Z"
   },
   {
    "duration": 10,
    "start_time": "2024-07-03T13:09:45.115Z"
   },
   {
    "duration": 10,
    "start_time": "2024-07-03T13:10:47.995Z"
   },
   {
    "duration": 14,
    "start_time": "2024-07-03T13:11:08.421Z"
   },
   {
    "duration": 17,
    "start_time": "2024-07-03T13:11:14.741Z"
   },
   {
    "duration": 24,
    "start_time": "2024-07-03T13:11:33.755Z"
   },
   {
    "duration": 416,
    "start_time": "2024-07-03T13:11:40.388Z"
   },
   {
    "duration": 10,
    "start_time": "2024-07-03T13:11:48.149Z"
   },
   {
    "duration": 17,
    "start_time": "2024-07-03T13:11:58.494Z"
   },
   {
    "duration": 169,
    "start_time": "2024-07-03T13:12:32.464Z"
   },
   {
    "duration": 32,
    "start_time": "2024-07-03T13:12:37.343Z"
   },
   {
    "duration": 469,
    "start_time": "2024-07-03T13:12:52.384Z"
   },
   {
    "duration": 33,
    "start_time": "2024-07-03T13:13:31.244Z"
   },
   {
    "duration": 2821,
    "start_time": "2024-07-03T13:13:47.813Z"
   },
   {
    "duration": 2811,
    "start_time": "2024-07-03T13:13:50.636Z"
   },
   {
    "duration": 3208,
    "start_time": "2024-07-03T13:13:53.449Z"
   },
   {
    "duration": 1579,
    "start_time": "2024-07-03T13:13:56.658Z"
   },
   {
    "duration": 2,
    "start_time": "2024-07-03T13:13:58.239Z"
   },
   {
    "duration": 60,
    "start_time": "2024-07-03T13:13:58.243Z"
   },
   {
    "duration": 28,
    "start_time": "2024-07-03T13:13:58.305Z"
   },
   {
    "duration": 26,
    "start_time": "2024-07-03T13:13:58.335Z"
   },
   {
    "duration": 37,
    "start_time": "2024-07-03T13:13:58.363Z"
   },
   {
    "duration": 33,
    "start_time": "2024-07-03T13:13:58.401Z"
   },
   {
    "duration": 11,
    "start_time": "2024-07-03T13:13:58.436Z"
   },
   {
    "duration": 26,
    "start_time": "2024-07-03T13:13:58.449Z"
   },
   {
    "duration": 15,
    "start_time": "2024-07-03T13:13:58.476Z"
   },
   {
    "duration": 38,
    "start_time": "2024-07-03T13:13:58.495Z"
   },
   {
    "duration": 1064,
    "start_time": "2024-07-03T13:13:58.534Z"
   },
   {
    "duration": 5,
    "start_time": "2024-07-03T13:13:59.600Z"
   },
   {
    "duration": 126,
    "start_time": "2024-07-03T13:13:59.607Z"
   },
   {
    "duration": 1776,
    "start_time": "2024-07-03T13:13:59.735Z"
   },
   {
    "duration": 254,
    "start_time": "2024-07-03T13:14:01.513Z"
   },
   {
    "duration": 293,
    "start_time": "2024-07-03T13:14:01.770Z"
   },
   {
    "duration": 8,
    "start_time": "2024-07-03T13:14:02.064Z"
   },
   {
    "duration": 638,
    "start_time": "2024-07-03T13:14:02.074Z"
   },
   {
    "duration": 232,
    "start_time": "2024-07-03T13:14:02.714Z"
   },
   {
    "duration": 16,
    "start_time": "2024-07-03T13:14:02.948Z"
   },
   {
    "duration": 14,
    "start_time": "2024-07-03T13:14:02.965Z"
   },
   {
    "duration": 132,
    "start_time": "2024-07-03T13:14:02.981Z"
   },
   {
    "duration": 118,
    "start_time": "2024-07-03T13:14:03.120Z"
   },
   {
    "duration": 14,
    "start_time": "2024-07-03T13:14:03.240Z"
   },
   {
    "duration": 127,
    "start_time": "2024-07-03T13:14:03.256Z"
   },
   {
    "duration": 323,
    "start_time": "2024-07-03T13:14:03.385Z"
   },
   {
    "duration": 12,
    "start_time": "2024-07-03T13:14:03.709Z"
   },
   {
    "duration": 598,
    "start_time": "2024-07-03T13:14:03.722Z"
   },
   {
    "duration": 10,
    "start_time": "2024-07-03T13:14:04.321Z"
   },
   {
    "duration": 53,
    "start_time": "2024-07-03T13:14:04.333Z"
   },
   {
    "duration": 19,
    "start_time": "2024-07-03T13:14:04.387Z"
   },
   {
    "duration": 33,
    "start_time": "2024-07-03T13:14:04.421Z"
   },
   {
    "duration": 28,
    "start_time": "2024-07-03T13:14:04.457Z"
   },
   {
    "duration": 37,
    "start_time": "2024-07-03T13:14:04.487Z"
   },
   {
    "duration": 19,
    "start_time": "2024-07-03T13:14:04.525Z"
   },
   {
    "duration": 11,
    "start_time": "2024-07-03T13:14:04.546Z"
   },
   {
    "duration": 71,
    "start_time": "2024-07-03T13:14:04.561Z"
   },
   {
    "duration": 53,
    "start_time": "2024-07-03T13:14:04.634Z"
   },
   {
    "duration": 7,
    "start_time": "2024-07-03T13:14:04.689Z"
   },
   {
    "duration": 122,
    "start_time": "2024-07-03T13:14:04.698Z"
   },
   {
    "duration": 10,
    "start_time": "2024-07-03T13:14:04.822Z"
   },
   {
    "duration": 745,
    "start_time": "2024-07-03T13:14:04.833Z"
   },
   {
    "duration": 2266,
    "start_time": "2024-07-03T13:14:05.580Z"
   },
   {
    "duration": 7002,
    "start_time": "2024-07-03T13:14:07.847Z"
   },
   {
    "duration": 21,
    "start_time": "2024-07-03T13:14:14.851Z"
   },
   {
    "duration": 505,
    "start_time": "2024-07-03T13:14:14.874Z"
   },
   {
    "duration": 6,
    "start_time": "2024-07-03T13:14:15.380Z"
   },
   {
    "duration": 49,
    "start_time": "2024-07-03T13:14:15.388Z"
   },
   {
    "duration": 29,
    "start_time": "2024-07-03T13:14:15.438Z"
   },
   {
    "duration": 1445,
    "start_time": "2024-07-03T13:14:15.468Z"
   },
   {
    "duration": 172,
    "start_time": "2024-07-03T13:14:16.915Z"
   },
   {
    "duration": 36,
    "start_time": "2024-07-03T13:14:17.089Z"
   },
   {
    "duration": 500,
    "start_time": "2024-07-03T13:14:17.127Z"
   },
   {
    "duration": 42,
    "start_time": "2024-07-03T13:14:17.629Z"
   },
   {
    "duration": 0,
    "start_time": "2024-07-03T13:14:17.673Z"
   },
   {
    "duration": 0,
    "start_time": "2024-07-03T13:14:17.674Z"
   },
   {
    "duration": 0,
    "start_time": "2024-07-03T13:14:17.676Z"
   },
   {
    "duration": 0,
    "start_time": "2024-07-03T13:14:17.677Z"
   },
   {
    "duration": 0,
    "start_time": "2024-07-03T13:14:17.678Z"
   },
   {
    "duration": 0,
    "start_time": "2024-07-03T13:14:17.680Z"
   },
   {
    "duration": 0,
    "start_time": "2024-07-03T13:14:17.681Z"
   },
   {
    "duration": 0,
    "start_time": "2024-07-03T13:14:17.682Z"
   },
   {
    "duration": 30,
    "start_time": "2024-07-03T13:19:08.021Z"
   },
   {
    "duration": 749,
    "start_time": "2024-07-03T13:19:40.224Z"
   },
   {
    "duration": 2858,
    "start_time": "2024-07-03T13:19:52.686Z"
   },
   {
    "duration": 3260,
    "start_time": "2024-07-03T13:19:55.546Z"
   },
   {
    "duration": 3315,
    "start_time": "2024-07-03T13:19:58.809Z"
   },
   {
    "duration": 1653,
    "start_time": "2024-07-03T13:20:02.127Z"
   },
   {
    "duration": 3,
    "start_time": "2024-07-03T13:20:03.781Z"
   },
   {
    "duration": 97,
    "start_time": "2024-07-03T13:20:03.785Z"
   },
   {
    "duration": 28,
    "start_time": "2024-07-03T13:20:03.883Z"
   },
   {
    "duration": 27,
    "start_time": "2024-07-03T13:20:03.913Z"
   },
   {
    "duration": 35,
    "start_time": "2024-07-03T13:20:03.941Z"
   },
   {
    "duration": 25,
    "start_time": "2024-07-03T13:20:03.978Z"
   },
   {
    "duration": 9,
    "start_time": "2024-07-03T13:20:04.004Z"
   },
   {
    "duration": 21,
    "start_time": "2024-07-03T13:20:04.014Z"
   },
   {
    "duration": 33,
    "start_time": "2024-07-03T13:20:04.036Z"
   },
   {
    "duration": 26,
    "start_time": "2024-07-03T13:20:04.071Z"
   },
   {
    "duration": 1075,
    "start_time": "2024-07-03T13:20:04.099Z"
   },
   {
    "duration": 5,
    "start_time": "2024-07-03T13:20:05.176Z"
   },
   {
    "duration": 118,
    "start_time": "2024-07-03T13:20:05.182Z"
   },
   {
    "duration": 1798,
    "start_time": "2024-07-03T13:20:05.301Z"
   },
   {
    "duration": 248,
    "start_time": "2024-07-03T13:20:07.101Z"
   },
   {
    "duration": 293,
    "start_time": "2024-07-03T13:20:07.351Z"
   },
   {
    "duration": 7,
    "start_time": "2024-07-03T13:20:07.645Z"
   },
   {
    "duration": 345,
    "start_time": "2024-07-03T13:20:07.653Z"
   },
   {
    "duration": 239,
    "start_time": "2024-07-03T13:20:08.000Z"
   },
   {
    "duration": 16,
    "start_time": "2024-07-03T13:20:08.240Z"
   },
   {
    "duration": 9,
    "start_time": "2024-07-03T13:20:08.257Z"
   },
   {
    "duration": 134,
    "start_time": "2024-07-03T13:20:08.267Z"
   },
   {
    "duration": 118,
    "start_time": "2024-07-03T13:20:08.403Z"
   },
   {
    "duration": 15,
    "start_time": "2024-07-03T13:20:08.525Z"
   },
   {
    "duration": 115,
    "start_time": "2024-07-03T13:20:08.542Z"
   },
   {
    "duration": 337,
    "start_time": "2024-07-03T13:20:08.659Z"
   },
   {
    "duration": 7,
    "start_time": "2024-07-03T13:20:08.998Z"
   },
   {
    "duration": 623,
    "start_time": "2024-07-03T13:20:09.006Z"
   },
   {
    "duration": 9,
    "start_time": "2024-07-03T13:20:09.631Z"
   },
   {
    "duration": 31,
    "start_time": "2024-07-03T13:20:09.642Z"
   },
   {
    "duration": 21,
    "start_time": "2024-07-03T13:20:09.674Z"
   },
   {
    "duration": 30,
    "start_time": "2024-07-03T13:20:09.697Z"
   },
   {
    "duration": 14,
    "start_time": "2024-07-03T13:20:09.729Z"
   },
   {
    "duration": 20,
    "start_time": "2024-07-03T13:20:09.744Z"
   },
   {
    "duration": 12,
    "start_time": "2024-07-03T13:20:09.766Z"
   },
   {
    "duration": 8,
    "start_time": "2024-07-03T13:20:09.779Z"
   },
   {
    "duration": 33,
    "start_time": "2024-07-03T13:20:09.788Z"
   },
   {
    "duration": 129,
    "start_time": "2024-07-03T13:20:09.823Z"
   },
   {
    "duration": 7,
    "start_time": "2024-07-03T13:20:09.953Z"
   },
   {
    "duration": 35,
    "start_time": "2024-07-03T13:20:09.961Z"
   },
   {
    "duration": 6,
    "start_time": "2024-07-03T13:20:09.997Z"
   },
   {
    "duration": 754,
    "start_time": "2024-07-03T13:20:10.004Z"
   },
   {
    "duration": 2392,
    "start_time": "2024-07-03T13:20:10.759Z"
   },
   {
    "duration": 7340,
    "start_time": "2024-07-03T13:20:13.153Z"
   },
   {
    "duration": 44,
    "start_time": "2024-07-03T13:20:20.495Z"
   },
   {
    "duration": 271,
    "start_time": "2024-07-03T13:20:20.540Z"
   },
   {
    "duration": 5,
    "start_time": "2024-07-03T13:20:20.813Z"
   },
   {
    "duration": 23,
    "start_time": "2024-07-03T13:20:20.820Z"
   },
   {
    "duration": 48,
    "start_time": "2024-07-03T13:20:20.845Z"
   },
   {
    "duration": 1384,
    "start_time": "2024-07-03T13:20:20.894Z"
   },
   {
    "duration": 191,
    "start_time": "2024-07-03T13:20:22.280Z"
   },
   {
    "duration": 31,
    "start_time": "2024-07-03T13:20:22.473Z"
   },
   {
    "duration": 529,
    "start_time": "2024-07-03T13:20:22.505Z"
   },
   {
    "duration": 726,
    "start_time": "2024-07-03T13:20:23.035Z"
   },
   {
    "duration": 1121,
    "start_time": "2024-07-03T13:20:23.762Z"
   },
   {
    "duration": 0,
    "start_time": "2024-07-03T13:20:24.884Z"
   },
   {
    "duration": 0,
    "start_time": "2024-07-03T13:20:24.886Z"
   },
   {
    "duration": 0,
    "start_time": "2024-07-03T13:20:24.887Z"
   },
   {
    "duration": 0,
    "start_time": "2024-07-03T13:20:24.888Z"
   },
   {
    "duration": 0,
    "start_time": "2024-07-03T13:20:24.889Z"
   },
   {
    "duration": 1010,
    "start_time": "2024-07-03T13:23:00.526Z"
   },
   {
    "duration": 2831,
    "start_time": "2024-07-03T15:08:20.723Z"
   },
   {
    "duration": 2763,
    "start_time": "2024-07-03T15:08:23.556Z"
   },
   {
    "duration": 3230,
    "start_time": "2024-07-03T15:08:26.321Z"
   },
   {
    "duration": 1611,
    "start_time": "2024-07-03T15:08:29.553Z"
   },
   {
    "duration": 2,
    "start_time": "2024-07-03T15:08:31.166Z"
   },
   {
    "duration": 95,
    "start_time": "2024-07-03T15:08:31.170Z"
   },
   {
    "duration": 40,
    "start_time": "2024-07-03T15:08:31.267Z"
   },
   {
    "duration": 48,
    "start_time": "2024-07-03T15:08:31.309Z"
   },
   {
    "duration": 104,
    "start_time": "2024-07-03T15:08:31.358Z"
   },
   {
    "duration": 31,
    "start_time": "2024-07-03T15:08:31.463Z"
   },
   {
    "duration": 30,
    "start_time": "2024-07-03T15:08:31.495Z"
   },
   {
    "duration": 65,
    "start_time": "2024-07-03T15:08:31.527Z"
   },
   {
    "duration": 45,
    "start_time": "2024-07-03T15:08:31.594Z"
   },
   {
    "duration": 122,
    "start_time": "2024-07-03T15:08:31.641Z"
   },
   {
    "duration": 1275,
    "start_time": "2024-07-03T15:08:31.764Z"
   },
   {
    "duration": 7,
    "start_time": "2024-07-03T15:08:33.041Z"
   },
   {
    "duration": 125,
    "start_time": "2024-07-03T15:08:33.049Z"
   },
   {
    "duration": 1736,
    "start_time": "2024-07-03T15:08:33.175Z"
   },
   {
    "duration": 250,
    "start_time": "2024-07-03T15:08:34.913Z"
   },
   {
    "duration": 292,
    "start_time": "2024-07-03T15:08:35.164Z"
   },
   {
    "duration": 6,
    "start_time": "2024-07-03T15:08:35.458Z"
   },
   {
    "duration": 353,
    "start_time": "2024-07-03T15:08:35.466Z"
   },
   {
    "duration": 245,
    "start_time": "2024-07-03T15:08:35.820Z"
   },
   {
    "duration": 17,
    "start_time": "2024-07-03T15:08:36.066Z"
   },
   {
    "duration": 27,
    "start_time": "2024-07-03T15:08:36.085Z"
   },
   {
    "duration": 122,
    "start_time": "2024-07-03T15:08:36.114Z"
   },
   {
    "duration": 126,
    "start_time": "2024-07-03T15:08:36.237Z"
   },
   {
    "duration": 16,
    "start_time": "2024-07-03T15:08:36.365Z"
   },
   {
    "duration": 118,
    "start_time": "2024-07-03T15:08:36.383Z"
   },
   {
    "duration": 346,
    "start_time": "2024-07-03T15:08:36.503Z"
   },
   {
    "duration": 7,
    "start_time": "2024-07-03T15:08:36.850Z"
   },
   {
    "duration": 620,
    "start_time": "2024-07-03T15:08:36.859Z"
   },
   {
    "duration": 10,
    "start_time": "2024-07-03T15:08:37.481Z"
   },
   {
    "duration": 48,
    "start_time": "2024-07-03T15:08:37.492Z"
   },
   {
    "duration": 18,
    "start_time": "2024-07-03T15:08:37.541Z"
   },
   {
    "duration": 8,
    "start_time": "2024-07-03T15:08:37.560Z"
   },
   {
    "duration": 14,
    "start_time": "2024-07-03T15:08:37.570Z"
   },
   {
    "duration": 36,
    "start_time": "2024-07-03T15:08:37.586Z"
   },
   {
    "duration": 13,
    "start_time": "2024-07-03T15:08:37.624Z"
   },
   {
    "duration": 20,
    "start_time": "2024-07-03T15:08:37.639Z"
   },
   {
    "duration": 7,
    "start_time": "2024-07-03T15:08:37.663Z"
   },
   {
    "duration": 22,
    "start_time": "2024-07-03T15:08:37.671Z"
   },
   {
    "duration": 27,
    "start_time": "2024-07-03T15:08:37.694Z"
   },
   {
    "duration": 123,
    "start_time": "2024-07-03T15:08:37.722Z"
   },
   {
    "duration": 5,
    "start_time": "2024-07-03T15:08:37.847Z"
   },
   {
    "duration": 735,
    "start_time": "2024-07-03T15:08:37.854Z"
   },
   {
    "duration": 2260,
    "start_time": "2024-07-03T15:08:38.591Z"
   },
   {
    "duration": 7157,
    "start_time": "2024-07-03T15:08:40.853Z"
   },
   {
    "duration": 27,
    "start_time": "2024-07-03T15:08:48.011Z"
   },
   {
    "duration": 250,
    "start_time": "2024-07-03T15:08:48.039Z"
   },
   {
    "duration": 5,
    "start_time": "2024-07-03T15:08:48.291Z"
   },
   {
    "duration": 33,
    "start_time": "2024-07-03T15:08:48.298Z"
   },
   {
    "duration": 6,
    "start_time": "2024-07-03T15:08:48.333Z"
   },
   {
    "duration": 1392,
    "start_time": "2024-07-03T15:08:48.340Z"
   },
   {
    "duration": 163,
    "start_time": "2024-07-03T15:08:49.733Z"
   },
   {
    "duration": 41,
    "start_time": "2024-07-03T15:08:49.897Z"
   },
   {
    "duration": 506,
    "start_time": "2024-07-03T15:08:49.940Z"
   },
   {
    "duration": 714,
    "start_time": "2024-07-03T15:08:50.447Z"
   },
   {
    "duration": 979,
    "start_time": "2024-07-03T15:08:51.162Z"
   },
   {
    "duration": 6,
    "start_time": "2024-07-03T15:08:52.142Z"
   },
   {
    "duration": 38,
    "start_time": "2024-07-03T15:08:52.150Z"
   },
   {
    "duration": 899,
    "start_time": "2024-07-03T15:08:52.189Z"
   },
   {
    "duration": 0,
    "start_time": "2024-07-03T15:08:53.090Z"
   },
   {
    "duration": 0,
    "start_time": "2024-07-03T15:08:53.091Z"
   },
   {
    "duration": 1417,
    "start_time": "2024-07-03T15:17:40.539Z"
   },
   {
    "duration": 9,
    "start_time": "2024-07-03T15:17:42.397Z"
   },
   {
    "duration": 15,
    "start_time": "2024-07-03T15:18:19.337Z"
   },
   {
    "duration": 29,
    "start_time": "2024-07-03T15:18:24.146Z"
   },
   {
    "duration": 28,
    "start_time": "2024-07-03T15:18:57.086Z"
   },
   {
    "duration": 23,
    "start_time": "2024-07-03T15:19:26.085Z"
   },
   {
    "duration": 18,
    "start_time": "2024-07-03T15:19:40.369Z"
   },
   {
    "duration": 22,
    "start_time": "2024-07-03T15:19:44.950Z"
   },
   {
    "duration": 12,
    "start_time": "2024-07-03T15:22:43.028Z"
   },
   {
    "duration": 7,
    "start_time": "2024-07-03T15:23:13.439Z"
   },
   {
    "duration": 4,
    "start_time": "2024-07-03T15:23:30.729Z"
   },
   {
    "duration": 42,
    "start_time": "2024-07-03T15:24:49.505Z"
   },
   {
    "duration": 23,
    "start_time": "2024-07-03T15:25:22.044Z"
   },
   {
    "duration": 8,
    "start_time": "2024-07-03T15:25:47.001Z"
   },
   {
    "duration": 46,
    "start_time": "2024-07-03T15:26:27.687Z"
   },
   {
    "duration": 26,
    "start_time": "2024-07-03T15:26:33.284Z"
   },
   {
    "duration": 31,
    "start_time": "2024-07-03T15:26:41.822Z"
   },
   {
    "duration": 25,
    "start_time": "2024-07-03T15:27:03.213Z"
   },
   {
    "duration": 27,
    "start_time": "2024-07-03T15:27:40.127Z"
   },
   {
    "duration": 8,
    "start_time": "2024-07-03T15:28:41.605Z"
   },
   {
    "duration": 6,
    "start_time": "2024-07-03T15:28:46.165Z"
   },
   {
    "duration": 6,
    "start_time": "2024-07-03T15:29:23.344Z"
   },
   {
    "duration": 10,
    "start_time": "2024-07-03T15:30:11.418Z"
   },
   {
    "duration": 41,
    "start_time": "2024-07-03T15:30:37.895Z"
   },
   {
    "duration": 9,
    "start_time": "2024-07-03T15:31:47.881Z"
   },
   {
    "duration": 13,
    "start_time": "2024-07-03T15:32:07.912Z"
   },
   {
    "duration": 23,
    "start_time": "2024-07-03T15:32:20.753Z"
   },
   {
    "duration": 14,
    "start_time": "2024-07-03T15:32:24.746Z"
   },
   {
    "duration": 9,
    "start_time": "2024-07-03T15:32:34.916Z"
   },
   {
    "duration": 2792,
    "start_time": "2024-07-03T15:36:39.715Z"
   },
   {
    "duration": 2774,
    "start_time": "2024-07-03T15:36:42.509Z"
   },
   {
    "duration": 3310,
    "start_time": "2024-07-03T15:36:45.284Z"
   },
   {
    "duration": 1652,
    "start_time": "2024-07-03T15:36:48.596Z"
   },
   {
    "duration": 3,
    "start_time": "2024-07-03T15:36:50.250Z"
   },
   {
    "duration": 62,
    "start_time": "2024-07-03T15:36:50.254Z"
   },
   {
    "duration": 29,
    "start_time": "2024-07-03T15:36:50.318Z"
   },
   {
    "duration": 27,
    "start_time": "2024-07-03T15:36:50.348Z"
   },
   {
    "duration": 36,
    "start_time": "2024-07-03T15:36:50.376Z"
   },
   {
    "duration": 27,
    "start_time": "2024-07-03T15:36:50.413Z"
   },
   {
    "duration": 14,
    "start_time": "2024-07-03T15:36:50.441Z"
   },
   {
    "duration": 17,
    "start_time": "2024-07-03T15:36:50.457Z"
   },
   {
    "duration": 13,
    "start_time": "2024-07-03T15:36:50.476Z"
   },
   {
    "duration": 47,
    "start_time": "2024-07-03T15:36:50.493Z"
   },
   {
    "duration": 1071,
    "start_time": "2024-07-03T15:36:50.542Z"
   },
   {
    "duration": 5,
    "start_time": "2024-07-03T15:36:51.620Z"
   },
   {
    "duration": 121,
    "start_time": "2024-07-03T15:36:51.626Z"
   },
   {
    "duration": 1747,
    "start_time": "2024-07-03T15:36:51.748Z"
   },
   {
    "duration": 247,
    "start_time": "2024-07-03T15:36:53.497Z"
   },
   {
    "duration": 281,
    "start_time": "2024-07-03T15:36:53.746Z"
   },
   {
    "duration": 7,
    "start_time": "2024-07-03T15:36:54.028Z"
   },
   {
    "duration": 358,
    "start_time": "2024-07-03T15:36:54.036Z"
   },
   {
    "duration": 243,
    "start_time": "2024-07-03T15:36:54.396Z"
   },
   {
    "duration": 16,
    "start_time": "2024-07-03T15:36:54.640Z"
   },
   {
    "duration": 17,
    "start_time": "2024-07-03T15:36:54.658Z"
   },
   {
    "duration": 125,
    "start_time": "2024-07-03T15:36:54.676Z"
   },
   {
    "duration": 122,
    "start_time": "2024-07-03T15:36:54.803Z"
   },
   {
    "duration": 17,
    "start_time": "2024-07-03T15:36:54.926Z"
   },
   {
    "duration": 116,
    "start_time": "2024-07-03T15:36:54.945Z"
   },
   {
    "duration": 329,
    "start_time": "2024-07-03T15:36:55.063Z"
   },
   {
    "duration": 7,
    "start_time": "2024-07-03T15:36:55.394Z"
   },
   {
    "duration": 608,
    "start_time": "2024-07-03T15:36:55.402Z"
   },
   {
    "duration": 13,
    "start_time": "2024-07-03T15:36:56.012Z"
   },
   {
    "duration": 27,
    "start_time": "2024-07-03T15:36:56.026Z"
   },
   {
    "duration": 20,
    "start_time": "2024-07-03T15:36:56.055Z"
   },
   {
    "duration": 13,
    "start_time": "2024-07-03T15:36:56.076Z"
   },
   {
    "duration": 38,
    "start_time": "2024-07-03T15:36:56.091Z"
   },
   {
    "duration": 46,
    "start_time": "2024-07-03T15:36:56.131Z"
   },
   {
    "duration": 14,
    "start_time": "2024-07-03T15:36:56.178Z"
   },
   {
    "duration": 9,
    "start_time": "2024-07-03T15:36:56.194Z"
   },
   {
    "duration": 7,
    "start_time": "2024-07-03T15:36:56.208Z"
   },
   {
    "duration": 25,
    "start_time": "2024-07-03T15:36:56.216Z"
   },
   {
    "duration": 7,
    "start_time": "2024-07-03T15:36:56.243Z"
   },
   {
    "duration": 130,
    "start_time": "2024-07-03T15:36:56.251Z"
   },
   {
    "duration": 6,
    "start_time": "2024-07-03T15:36:56.382Z"
   },
   {
    "duration": 725,
    "start_time": "2024-07-03T15:36:56.390Z"
   },
   {
    "duration": 2252,
    "start_time": "2024-07-03T15:36:57.116Z"
   },
   {
    "duration": 7193,
    "start_time": "2024-07-03T15:36:59.369Z"
   },
   {
    "duration": 21,
    "start_time": "2024-07-03T15:37:06.564Z"
   },
   {
    "duration": 265,
    "start_time": "2024-07-03T15:37:06.586Z"
   },
   {
    "duration": 6,
    "start_time": "2024-07-03T15:37:06.853Z"
   },
   {
    "duration": 28,
    "start_time": "2024-07-03T15:37:06.860Z"
   },
   {
    "duration": 4,
    "start_time": "2024-07-03T15:37:06.889Z"
   },
   {
    "duration": 1429,
    "start_time": "2024-07-03T15:37:06.895Z"
   },
   {
    "duration": 18,
    "start_time": "2024-07-03T15:37:08.326Z"
   },
   {
    "duration": 176,
    "start_time": "2024-07-03T15:37:08.346Z"
   },
   {
    "duration": 31,
    "start_time": "2024-07-03T15:37:08.524Z"
   },
   {
    "duration": 477,
    "start_time": "2024-07-03T15:37:08.557Z"
   },
   {
    "duration": 758,
    "start_time": "2024-07-03T15:37:09.036Z"
   },
   {
    "duration": 1039,
    "start_time": "2024-07-03T15:37:09.796Z"
   },
   {
    "duration": 7,
    "start_time": "2024-07-03T15:37:10.837Z"
   },
   {
    "duration": 32,
    "start_time": "2024-07-03T15:37:10.845Z"
   },
   {
    "duration": 9,
    "start_time": "2024-07-03T15:37:10.879Z"
   },
   {
    "duration": 147,
    "start_time": "2024-07-03T15:37:10.889Z"
   },
   {
    "duration": 0,
    "start_time": "2024-07-03T15:37:11.038Z"
   },
   {
    "duration": 15,
    "start_time": "2024-07-03T15:38:06.106Z"
   },
   {
    "duration": 14,
    "start_time": "2024-07-03T15:39:32.250Z"
   },
   {
    "duration": 1680,
    "start_time": "2024-07-03T15:39:39.430Z"
   },
   {
    "duration": 241,
    "start_time": "2024-07-03T15:40:10.387Z"
   },
   {
    "duration": 1958,
    "start_time": "2024-07-03T15:40:59.870Z"
   },
   {
    "duration": 1325,
    "start_time": "2024-07-03T15:41:20.439Z"
   },
   {
    "duration": 958,
    "start_time": "2024-07-03T15:41:46.844Z"
   },
   {
    "duration": 270,
    "start_time": "2024-07-03T15:43:28.792Z"
   },
   {
    "duration": 308,
    "start_time": "2024-07-03T15:43:41.740Z"
   },
   {
    "duration": 1001,
    "start_time": "2024-07-03T15:46:28.353Z"
   },
   {
    "duration": 946,
    "start_time": "2024-07-03T15:46:44.325Z"
   },
   {
    "duration": 245,
    "start_time": "2024-07-03T15:46:52.018Z"
   },
   {
    "duration": 47,
    "start_time": "2024-07-03T15:47:50.255Z"
   },
   {
    "duration": 1059,
    "start_time": "2024-07-03T15:48:02.103Z"
   },
   {
    "duration": 505,
    "start_time": "2024-07-03T15:48:36.936Z"
   },
   {
    "duration": 40,
    "start_time": "2024-07-03T15:48:46.320Z"
   },
   {
    "duration": 402,
    "start_time": "2024-07-03T15:48:49.033Z"
   },
   {
    "duration": 380,
    "start_time": "2024-07-03T15:49:04.487Z"
   },
   {
    "duration": 303,
    "start_time": "2024-07-03T15:49:49.355Z"
   },
   {
    "duration": 11,
    "start_time": "2024-07-03T15:51:17.411Z"
   },
   {
    "duration": 1094,
    "start_time": "2024-07-03T15:51:48.944Z"
   },
   {
    "duration": 991,
    "start_time": "2024-07-03T15:53:08.403Z"
   },
   {
    "duration": 1008,
    "start_time": "2024-07-03T15:53:32.854Z"
   },
   {
    "duration": 1154,
    "start_time": "2024-07-03T15:53:48.121Z"
   },
   {
    "duration": 1005,
    "start_time": "2024-07-03T15:53:58.538Z"
   },
   {
    "duration": 994,
    "start_time": "2024-07-03T15:54:03.451Z"
   },
   {
    "duration": 1114,
    "start_time": "2024-07-03T15:54:13.416Z"
   },
   {
    "duration": 980,
    "start_time": "2024-07-03T15:54:19.208Z"
   },
   {
    "duration": 1005,
    "start_time": "2024-07-03T15:54:34.913Z"
   },
   {
    "duration": 1081,
    "start_time": "2024-07-03T15:55:10.830Z"
   },
   {
    "duration": 919,
    "start_time": "2024-07-03T15:55:18.669Z"
   },
   {
    "duration": 7,
    "start_time": "2024-07-03T15:55:51.622Z"
   },
   {
    "duration": 11,
    "start_time": "2024-07-03T15:56:00.687Z"
   },
   {
    "duration": 28,
    "start_time": "2024-07-03T15:56:04.277Z"
   },
   {
    "duration": 1137,
    "start_time": "2024-07-03T15:56:09.989Z"
   },
   {
    "duration": 1000,
    "start_time": "2024-07-03T15:56:25.295Z"
   },
   {
    "duration": 1024,
    "start_time": "2024-07-03T15:56:42.307Z"
   },
   {
    "duration": 180,
    "start_time": "2024-07-03T15:59:24.342Z"
   },
   {
    "duration": 1207,
    "start_time": "2024-07-03T15:59:56.061Z"
   },
   {
    "duration": 1278,
    "start_time": "2024-07-03T16:00:31.668Z"
   },
   {
    "duration": 1172,
    "start_time": "2024-07-03T16:01:17.909Z"
   },
   {
    "duration": 181,
    "start_time": "2024-07-03T16:10:37.663Z"
   },
   {
    "duration": 236,
    "start_time": "2024-07-03T16:11:12.426Z"
   },
   {
    "duration": 4150,
    "start_time": "2024-07-04T14:53:02.789Z"
   },
   {
    "duration": 3206,
    "start_time": "2024-07-04T14:53:06.941Z"
   },
   {
    "duration": 6594,
    "start_time": "2024-07-04T14:53:10.148Z"
   },
   {
    "duration": 1985,
    "start_time": "2024-07-04T14:53:16.745Z"
   },
   {
    "duration": 3,
    "start_time": "2024-07-04T14:53:18.732Z"
   },
   {
    "duration": 103,
    "start_time": "2024-07-04T14:53:18.737Z"
   },
   {
    "duration": 75,
    "start_time": "2024-07-04T14:53:18.842Z"
   },
   {
    "duration": 77,
    "start_time": "2024-07-04T14:53:18.920Z"
   },
   {
    "duration": 84,
    "start_time": "2024-07-04T14:53:18.999Z"
   },
   {
    "duration": 42,
    "start_time": "2024-07-04T14:53:19.085Z"
   },
   {
    "duration": 9,
    "start_time": "2024-07-04T14:53:19.129Z"
   },
   {
    "duration": 41,
    "start_time": "2024-07-04T14:53:19.139Z"
   },
   {
    "duration": 17,
    "start_time": "2024-07-04T14:53:19.182Z"
   },
   {
    "duration": 29,
    "start_time": "2024-07-04T14:53:19.203Z"
   },
   {
    "duration": 1261,
    "start_time": "2024-07-04T14:53:19.234Z"
   },
   {
    "duration": 6,
    "start_time": "2024-07-04T14:53:20.498Z"
   },
   {
    "duration": 131,
    "start_time": "2024-07-04T14:53:20.506Z"
   },
   {
    "duration": 2098,
    "start_time": "2024-07-04T14:53:20.638Z"
   },
   {
    "duration": 282,
    "start_time": "2024-07-04T14:53:22.738Z"
   },
   {
    "duration": 354,
    "start_time": "2024-07-04T14:53:23.022Z"
   },
   {
    "duration": 7,
    "start_time": "2024-07-04T14:53:23.378Z"
   },
   {
    "duration": 390,
    "start_time": "2024-07-04T14:53:23.386Z"
   },
   {
    "duration": 265,
    "start_time": "2024-07-04T14:53:23.777Z"
   },
   {
    "duration": 29,
    "start_time": "2024-07-04T14:53:24.044Z"
   },
   {
    "duration": 46,
    "start_time": "2024-07-04T14:53:24.075Z"
   },
   {
    "duration": 123,
    "start_time": "2024-07-04T14:53:24.123Z"
   },
   {
    "duration": 125,
    "start_time": "2024-07-04T14:53:24.248Z"
   },
   {
    "duration": 18,
    "start_time": "2024-07-04T14:53:24.374Z"
   },
   {
    "duration": 132,
    "start_time": "2024-07-04T14:53:24.395Z"
   },
   {
    "duration": 372,
    "start_time": "2024-07-04T14:53:24.528Z"
   },
   {
    "duration": 8,
    "start_time": "2024-07-04T14:53:24.903Z"
   },
   {
    "duration": 717,
    "start_time": "2024-07-04T14:53:24.913Z"
   },
   {
    "duration": 11,
    "start_time": "2024-07-04T14:53:25.632Z"
   },
   {
    "duration": 52,
    "start_time": "2024-07-04T14:53:25.646Z"
   },
   {
    "duration": 21,
    "start_time": "2024-07-04T14:53:25.700Z"
   },
   {
    "duration": 8,
    "start_time": "2024-07-04T14:53:25.723Z"
   },
   {
    "duration": 40,
    "start_time": "2024-07-04T14:53:25.733Z"
   },
   {
    "duration": 81,
    "start_time": "2024-07-04T14:53:25.775Z"
   },
   {
    "duration": 13,
    "start_time": "2024-07-04T14:53:25.858Z"
   },
   {
    "duration": 8,
    "start_time": "2024-07-04T14:53:25.873Z"
   },
   {
    "duration": 17,
    "start_time": "2024-07-04T14:53:25.885Z"
   },
   {
    "duration": 23,
    "start_time": "2024-07-04T14:53:25.904Z"
   },
   {
    "duration": 8,
    "start_time": "2024-07-04T14:53:25.929Z"
   },
   {
    "duration": 160,
    "start_time": "2024-07-04T14:53:25.938Z"
   },
   {
    "duration": 7,
    "start_time": "2024-07-04T14:53:26.100Z"
   },
   {
    "duration": 849,
    "start_time": "2024-07-04T14:53:26.109Z"
   },
   {
    "duration": 2749,
    "start_time": "2024-07-04T14:53:26.960Z"
   },
   {
    "duration": 8217,
    "start_time": "2024-07-04T14:53:29.711Z"
   },
   {
    "duration": 43,
    "start_time": "2024-07-04T14:53:37.930Z"
   },
   {
    "duration": 263,
    "start_time": "2024-07-04T14:53:37.975Z"
   },
   {
    "duration": 6,
    "start_time": "2024-07-04T14:53:38.240Z"
   },
   {
    "duration": 26,
    "start_time": "2024-07-04T14:53:38.248Z"
   },
   {
    "duration": 4,
    "start_time": "2024-07-04T14:53:38.276Z"
   },
   {
    "duration": 1594,
    "start_time": "2024-07-04T14:53:38.282Z"
   },
   {
    "duration": 20,
    "start_time": "2024-07-04T14:53:39.878Z"
   },
   {
    "duration": 210,
    "start_time": "2024-07-04T14:53:39.900Z"
   },
   {
    "duration": 40,
    "start_time": "2024-07-04T14:53:40.111Z"
   },
   {
    "duration": 546,
    "start_time": "2024-07-04T14:53:40.164Z"
   },
   {
    "duration": 978,
    "start_time": "2024-07-04T14:53:40.711Z"
   },
   {
    "duration": 1176,
    "start_time": "2024-07-04T14:53:41.692Z"
   },
   {
    "duration": 6,
    "start_time": "2024-07-04T14:53:42.870Z"
   },
   {
    "duration": 20,
    "start_time": "2024-07-04T14:53:42.878Z"
   },
   {
    "duration": 11,
    "start_time": "2024-07-04T14:53:42.900Z"
   },
   {
    "duration": 15,
    "start_time": "2024-07-04T14:53:42.912Z"
   },
   {
    "duration": 1364,
    "start_time": "2024-07-04T14:53:42.928Z"
   },
   {
    "duration": 245,
    "start_time": "2024-07-04T14:53:44.293Z"
   },
   {
    "duration": 443,
    "start_time": "2024-07-04T14:53:44.540Z"
   },
   {
    "duration": 323,
    "start_time": "2024-07-04T14:53:44.985Z"
   },
   {
    "duration": 1209,
    "start_time": "2024-07-04T14:53:45.310Z"
   },
   {
    "duration": 2027,
    "start_time": "2024-07-04T14:56:57.126Z"
   },
   {
    "duration": 14,
    "start_time": "2024-07-04T15:01:21.077Z"
   },
   {
    "duration": 85,
    "start_time": "2024-07-04T15:01:32.562Z"
   },
   {
    "duration": 97,
    "start_time": "2024-07-04T15:01:39.678Z"
   },
   {
    "duration": 85,
    "start_time": "2024-07-04T15:02:16.634Z"
   },
   {
    "duration": 67,
    "start_time": "2024-07-04T15:02:42.046Z"
   },
   {
    "duration": 76,
    "start_time": "2024-07-04T15:16:03.864Z"
   },
   {
    "duration": 64,
    "start_time": "2024-07-04T15:22:21.551Z"
   },
   {
    "duration": 20,
    "start_time": "2024-07-04T15:26:17.759Z"
   }
  ],
  "colab": {
   "provenance": []
  },
  "kernelspec": {
   "display_name": "Python 3 (ipykernel)",
   "language": "python",
   "name": "python3"
  },
  "language_info": {
   "codemirror_mode": {
    "name": "ipython",
    "version": 3
   },
   "file_extension": ".py",
   "mimetype": "text/x-python",
   "name": "python",
   "nbconvert_exporter": "python",
   "pygments_lexer": "ipython3",
   "version": "3.11.5"
  },
  "toc": {
   "base_numbering": 1,
   "nav_menu": {},
   "number_sections": true,
   "sideBar": true,
   "skip_h1_title": true,
   "title_cell": "Table of Contents",
   "title_sidebar": "Contents",
   "toc_cell": false,
   "toc_position": {
    "height": "calc(100% - 180px)",
    "left": "10px",
    "top": "150px",
    "width": "188.391px"
   },
   "toc_section_display": true,
   "toc_window_display": true
  }
 },
 "nbformat": 4,
 "nbformat_minor": 1
}
